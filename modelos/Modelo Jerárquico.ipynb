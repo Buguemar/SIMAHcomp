{
 "cells": [
  {
   "cell_type": "code",
   "execution_count": 153,
   "metadata": {},
   "outputs": [],
   "source": [
    "import sys\n",
    "import warnings\n",
    "#from torchtext import data\n",
    "\n",
    "if not sys.warnoptions:\n",
    "    warnings.simplefilter(\"ignore\")\n",
    "    \n",
    "import numpy as np\n",
    "import torch\n",
    "import torch.nn as nn\n",
    "import torch.nn.functional as F\n",
    "import math, copy, time\n",
    "from torch.autograd import Variable\n",
    "import matplotlib.pyplot as plt\n",
    "import seaborn as sns\n",
    "sns.set_context(context=\"talk\")\n",
    "%matplotlib inline\n",
    "\n",
    "from keras.models import load_model\n",
    "from keras import backend as K\n",
    "import keras\n",
    "import os, re, sys\n",
    "import pandas as pd\n",
    "from keras.utils import to_categorical\n",
    "import ast\n",
    "from sklearn.utils import class_weight\n",
    "from keras.preprocessing import sequence\n",
    "from keras.models import load_model\n",
    "import torch.nn.functional as F\n",
    "from sklearn.metrics import accuracy_score, f1_score, precision_score, recall_score\n",
    "\n",
    "from nltk.corpus import stopwords\n",
    "from bs4 import BeautifulSoup\n",
    "from nltk import WordNetLemmatizer\n",
    "import itertools\n",
    "from collections import Counter\n",
    "from os import listdir\n",
    "from os.path import isfile, join\n",
    "import  json\n",
    "from sklearn.utils import class_weight\n",
    "\n",
    "\n",
    "from  keras.models import Sequential\n",
    "from keras.layers import Dense, Dropout, Activation, Flatten, BatchNormalization\n",
    "from keras.layers import Conv2D, MaxPooling2D\n",
    "from keras.layers import Embedding\n",
    "from keras.layers import Conv1D, MaxPooling1D, Input\n",
    "from keras.preprocessing import sequence\n",
    "from keras.models import Model\n",
    "from keras.layers import LSTM,GRU,Dense\n",
    "from keras.utils import Sequence,to_categorical\n",
    "\n",
    "from keras import backend as K\n",
    "import keras\n",
    "'''\n",
    "Compatible with tensorflow backend\n",
    "gamma entre más alto más tolerante (queremos un gamma chico pero no demasiado! 0.25 - 5)\n",
    "alpha pesos por clase (weights)\n",
    "'''\n",
    "def focal_loss(gamma=2., weights=1):   #weights np.asarray()\n",
    "    weights= K.variable(weights)\n",
    "    def focal_loss_fixed(y_true, y_pred):\n",
    "        y_true = K.clip(y_true, K.epsilon(),1)\n",
    "        y_pred = K.clip(y_pred,K.epsilon(),1)\n",
    "        return - K.sum(weights* K.pow(1. - y_pred, gamma)* y_true * K.log(y_pred), axis=-1) \n",
    "    return focal_loss_fixed\n",
    "\n",
    "keras.losses.focal_loss=keras.losses.MSE\n",
    "keras.losses.focal_loss_fixed=keras.losses.MSE"
   ]
  },
  {
   "cell_type": "code",
   "execution_count": 154,
   "metadata": {},
   "outputs": [],
   "source": [
    "stoplist = stopwords.words('english')\n",
    "lemmatizer=WordNetLemmatizer()\n",
    "\n",
    "emoji_pattern = re.compile(\"[\"\n",
    "        u\"\\U0001F600-\\U0001F64F\"  # emoticons\n",
    "        u\"\\U0001F300-\\U0001F5FF\"  # symbols & pictographs\n",
    "        u\"\\U0001F680-\\U0001F6FF\"  # transport & map symbols\n",
    "        u\"\\U0001F1E0-\\U0001F1FF\"  # flags (iOS)\n",
    "                           \"]+\", flags=re.UNICODE)\n",
    "\n",
    "def cleaner(post):       \n",
    "    s= re.sub(r\"http\\S+\", \" <url> \", post)   ##########elimina http    \n",
    "    s= re.sub(r'#\\w+ ?', \" <hashtag> \", s) ########3\n",
    "    s= re.sub(r'@\\w+ ?', \" <user> \", s)##############    \n",
    "    s= s.lower()\n",
    "    s = re.sub(r\"-\", \" - \", s)\n",
    "    s = re.sub(r\"\\(\", \" \", s)\n",
    "    s = re.sub(r\"\\)\", \" \", s)\n",
    "    s = re.sub(r\"\\?\", \" ? \", s)    \n",
    "    s = re.sub(r\"\\/\", \" \", s)\n",
    "    s = re.sub(r\"' \", \" ' \", s)\n",
    "    s = re.sub(r\" '\", \" ' \", s)\n",
    "    s = re.sub(r\"\\!\", \" ! \", s)\n",
    "    s=re.sub(\"[\\.]+\", \" . \", s)\n",
    "    s=re.sub(\"[\\,]+\", \" , \", s)\n",
    "    s=re.sub(\"[\\;]+\", \" ; \", s)\n",
    "    s=re.sub(\"[\\:]+\", \" : \", s)\n",
    "    s=re.sub('[\\\"]+', ' \" ', s)\n",
    "    s=re.sub(r'\\b[0-9]\\b', \" <number> \",  s)\n",
    "    s=re.sub(r'\\b[0-9][0-9]\\b', \" <number> \",  s)\n",
    "    s=re.sub(r'\\b[0-9][0-9][0-9]\\b', \" <number> \",  s)\n",
    "    s=re.sub(r'\\b[0-9][0-9][0-9][0-9]\\b', \" <number> \",  s)\n",
    "    s=emoji_pattern.sub(r'', s)\n",
    "    s= list(s.split())\n",
    "    s=[lemmatizer.lemmatize(token) for token in s]\n",
    "        \n",
    "    return s"
   ]
  },
  {
   "cell_type": "code",
   "execution_count": 155,
   "metadata": {},
   "outputs": [
    {
     "data": {
      "text/html": [
       "<div>\n",
       "<style scoped>\n",
       "    .dataframe tbody tr th:only-of-type {\n",
       "        vertical-align: middle;\n",
       "    }\n",
       "\n",
       "    .dataframe tbody tr th {\n",
       "        vertical-align: top;\n",
       "    }\n",
       "\n",
       "    .dataframe thead th {\n",
       "        text-align: right;\n",
       "    }\n",
       "</style>\n",
       "<table border=\"1\" class=\"dataframe\">\n",
       "  <thead>\n",
       "    <tr style=\"text-align: right;\">\n",
       "      <th></th>\n",
       "      <th>Unnamed: 0</th>\n",
       "      <th>tweet_content</th>\n",
       "      <th>harassment</th>\n",
       "      <th>IndirectH</th>\n",
       "      <th>PhysicalH</th>\n",
       "      <th>SexualH</th>\n",
       "    </tr>\n",
       "  </thead>\n",
       "  <tbody>\n",
       "    <tr>\n",
       "      <th>0</th>\n",
       "      <td>0</td>\n",
       "      <td>pics mexican school girl naked melanie safka f...</td>\n",
       "      <td>1</td>\n",
       "      <td>0</td>\n",
       "      <td>0</td>\n",
       "      <td>1</td>\n",
       "    </tr>\n",
       "    <tr>\n",
       "      <th>1</th>\n",
       "      <td>1</td>\n",
       "      <td>RT shereiqns Having curly hair is a gotdamn ch...</td>\n",
       "      <td>0</td>\n",
       "      <td>0</td>\n",
       "      <td>0</td>\n",
       "      <td>0</td>\n",
       "    </tr>\n",
       "    <tr>\n",
       "      <th>2</th>\n",
       "      <td>2</td>\n",
       "      <td>BreakingNews 7 Unexplained Prisoners Deaths M...</td>\n",
       "      <td>0</td>\n",
       "      <td>0</td>\n",
       "      <td>0</td>\n",
       "      <td>0</td>\n",
       "    </tr>\n",
       "    <tr>\n",
       "      <th>3</th>\n",
       "      <td>3</td>\n",
       "      <td>girl dirty quarterback latino pokemon young h...</td>\n",
       "      <td>1</td>\n",
       "      <td>0</td>\n",
       "      <td>0</td>\n",
       "      <td>1</td>\n",
       "    </tr>\n",
       "    <tr>\n",
       "      <th>4</th>\n",
       "      <td>4</td>\n",
       "      <td>miliondollameat sexting n ngirl daddy n nme l...</td>\n",
       "      <td>1</td>\n",
       "      <td>0</td>\n",
       "      <td>0</td>\n",
       "      <td>1</td>\n",
       "    </tr>\n",
       "  </tbody>\n",
       "</table>\n",
       "</div>"
      ],
      "text/plain": [
       "   Unnamed: 0                                      tweet_content  harassment  \\\n",
       "0           0  pics mexican school girl naked melanie safka f...           1   \n",
       "1           1  RT shereiqns Having curly hair is a gotdamn ch...           0   \n",
       "2           2   BreakingNews 7 Unexplained Prisoners Deaths M...           0   \n",
       "3           3   girl dirty quarterback latino pokemon young h...           1   \n",
       "4           4   miliondollameat sexting n ngirl daddy n nme l...           1   \n",
       "\n",
       "   IndirectH  PhysicalH  SexualH  \n",
       "0          0          0        1  \n",
       "1          0          0        0  \n",
       "2          0          0        0  \n",
       "3          0          0        1  \n",
       "4          0          0        1  "
      ]
     },
     "execution_count": 155,
     "metadata": {},
     "output_type": "execute_result"
    }
   ],
   "source": [
    "df_train=pd.read_csv(\"../Train_data_compeition.csv\")\n",
    "df_val=pd.read_csv(\"../Validation_data_competition.csv\")\n",
    "df_test=pd.read_csv(\"../testset-competition.csv\")\n",
    "df_train.head()"
   ]
  },
  {
   "cell_type": "code",
   "execution_count": 208,
   "metadata": {},
   "outputs": [],
   "source": [
    "def return_hars(pred, objetos):   #[0,1,0...]\n",
    "    bol=np.asarray(pred).astype('bool')\n",
    "    print (bol[:5])\n",
    "    return bol#objetos[bol]\n",
    "\n",
    "def return_objs_fase2(dataframe, objs_hars, testing=False):\n",
    "    mini_df=dataframe.values[objs_hars]\n",
    "    if testing:\n",
    "        textos=mini_df[:,0]\n",
    "        return textos, None\n",
    "    else: \n",
    "        textos=mini_df[:,1]\n",
    "        indices= mini_df[:,0]\n",
    "        labels=mini_df[:,2:]\n",
    "        return textos, labels, indices"
   ]
  },
  {
   "cell_type": "code",
   "execution_count": 157,
   "metadata": {},
   "outputs": [],
   "source": [
    "X_train= np.load('matrices/X_train_max.npy') #fase 1\n",
    "X_train_f2= np.load('matrices/X_train_f2_max.npy')  #fase 2\n",
    "X_train_rnn= np.load('matrices/X_train_rnn_max.npy')  #fase 2\n",
    "X_val_ig= np.load('matrices/X_val_ig_max.npy')\n",
    "X_val_rnn_ig= np.load('matrices/X_val_rnn_ig.npy')\n",
    "\n",
    "y_train_bi= np.load('matrices/y_train_bi_max.npy')\n",
    "y_train_bic= np.load('matrices/y_train_bic_max.npy')\n",
    "y_train_mul= np.load('matrices/y_train_mul_max.npy')\n",
    "\n",
    "y_val_bic= np.load('matrices/y_val_bic_max.npy')\n",
    "y_val_bin= np.load('matrices/y_val_bin_max.npy')\n",
    "y_val_mu= np.load('matrices/y_val_mu_max.npy')\n",
    "y_val_mul= np.load('matrices/y_val_mul_max.npy')\n",
    "\n",
    "X_val_ig_bin=np.load('matrices/X_val_ig_binario.npy')"
   ]
  },
  {
   "cell_type": "code",
   "execution_count": 158,
   "metadata": {},
   "outputs": [
    {
     "name": "stdout",
     "output_type": "stream",
     "text": [
      "Counter({0: 3661, 1: 2713})\n",
      "[0.87052718 1.17471434]\n"
     ]
    }
   ],
   "source": [
    "print (Counter(y_train_bi))\n",
    "class_weights = class_weight.compute_class_weight('balanced', np.unique(y_train_bi), y_train_bi)#{0: 3.,   1: 6.,   2: 5.,  3: 3.}\n",
    "print (class_weights)\n"
   ]
  },
  {
   "cell_type": "code",
   "execution_count": 159,
   "metadata": {},
   "outputs": [
    {
     "data": {
      "text/plain": [
       "(6374, 76)"
      ]
     },
     "execution_count": 159,
     "metadata": {},
     "output_type": "execute_result"
    }
   ],
   "source": [
    "max_input_lenght=76\n",
    "X_train.shape"
   ]
  },
  {
   "cell_type": "code",
   "execution_count": 160,
   "metadata": {},
   "outputs": [],
   "source": [
    "from sklearn.model_selection import KFold\n",
    "from sklearn.metrics import accuracy_score,f1_score, confusion_matrix\n",
    "from sklearn.preprocessing import normalize\n",
    "import time\n",
    "\n",
    "def plot_confusion_matrix(cm, target_names, title='Confusion matrix (f1-score)',cmap=None, normalize=True):\n",
    "    \n",
    "    import itertools\n",
    "    accuracy = np.trace(cm) / float(np.sum(cm))\n",
    "    misclass = 1 - accuracy\n",
    "    if cmap is None:\n",
    "        cmap = plt.get_cmap('Blues')\n",
    "\n",
    "    plt.figure(figsize=(8, 6))\n",
    "    plt.imshow(cm, interpolation='nearest', cmap=cmap)\n",
    "    plt.title(title)\n",
    "    plt.colorbar()\n",
    "\n",
    "    if target_names is not None:\n",
    "        tick_marks = np.arange(len(target_names))\n",
    "        plt.xticks(tick_marks, target_names, rotation=45)\n",
    "        plt.yticks(tick_marks, target_names)\n",
    "\n",
    "    if normalize:\n",
    "        cm = cm.astype('float') / cm.sum(axis=1)[:, np.newaxis]\n",
    "    thresh = cm.max() / 1.5 if normalize else cm.max() / 2\n",
    "    for i, j in itertools.product(range(cm.shape[0]), range(cm.shape[1])):\n",
    "        if normalize:\n",
    "            plt.text(j, i, \"{:0.4f}\".format(cm[i, j]),\n",
    "                     horizontalalignment=\"center\",\n",
    "                     color=\"white\" if cm[i, j] > thresh else \"black\")\n",
    "        else:\n",
    "            plt.text(j, i, \"{:,}\".format(cm[i, j]),\n",
    "                     horizontalalignment=\"center\",\n",
    "                     color=\"white\" if cm[i, j] > thresh else \"black\")\n",
    "\n",
    "\n",
    "    plt.tight_layout()\n",
    "    plt.ylabel('True label')\n",
    "    plt.xlabel('Predicted label\\naccuracy={:0.4f}; misclass={:0.4f}'.format(accuracy, misclass))\n",
    "    plt.show()"
   ]
  },
  {
   "cell_type": "code",
   "execution_count": 161,
   "metadata": {},
   "outputs": [],
   "source": [
    "from keras import backend as K\n",
    "\n",
    "def focal_loss(gamma=2., weights=1):   #weights np.asarray()\n",
    "    weights= K.variable(weights)\n",
    "    def focal_loss_fixed(y_true, y_pred):\n",
    "        y_true = K.clip(y_true, K.epsilon(),1)\n",
    "        y_pred = K.clip(y_pred,K.epsilon(),1)\n",
    "        return - K.sum(weights* K.pow(1. - y_pred, gamma)* y_true * K.log(y_pred), axis=-1) \n",
    "    return focal_loss_fixed"
   ]
  },
  {
   "cell_type": "code",
   "execution_count": 162,
   "metadata": {},
   "outputs": [
    {
     "data": {
      "text/plain": [
       "array([0, 0, 1, 0, 1])"
      ]
     },
     "execution_count": 162,
     "metadata": {},
     "output_type": "execute_result"
    }
   ],
   "source": [
    "y_val_bin[:5]"
   ]
  },
  {
   "cell_type": "code",
   "execution_count": 163,
   "metadata": {},
   "outputs": [
    {
     "name": "stdout",
     "output_type": "stream",
     "text": [
      "Accuracy sobre validacion: 0.900235294117647\n",
      "F1-score None sobre validación: [0.93089961 0.82064298]\n",
      "F1-score macro sobre validación: 0.8757712934345474\n",
      "Precision None sobre validación: [0.90666667 0.88181818]\n",
      "Recall None sobre validación: [0.9564635  0.76740506]\n"
     ]
    },
    {
     "data": {
      "image/png": "[encoded data removed]",
      "text/plain": [
       "<matplotlib.figure.Figure at 0x7fe89a4c15f8>"
      ]
     },
     "metadata": {},
     "output_type": "display_data"
    }
   ],
   "source": [
    "#### cargar modelo binario\n",
    "\n",
    "modelo_binario = load_model('baselines/cnn1_binary_ce10_100.h5')\n",
    "\n",
    "trainPredict = modelo_binario.predict(X_val_ig_bin, batch_size=64)\n",
    "trainPredict=[np.round(pred) for pred in trainPredict]\n",
    "acc_val= accuracy_score(y_val_bin, trainPredict)\n",
    "f1_val=f1_score(y_val_bin, trainPredict, average=None)  # labels=np.unique(trainPredict)\n",
    "f1_val_ma=f1_score(y_val_bin, trainPredict, average='macro')  # labels=np.unique(trainPredict)\n",
    "rec=recall_score(y_val_bin, trainPredict, average=None) \n",
    "pre=precision_score(y_val_bin, trainPredict, average=None) \n",
    "matriz_val=confusion_matrix(y_val_bin, trainPredict)\n",
    "\n",
    "print (\"Accuracy sobre validacion:\",acc_val)  \n",
    "print (\"F1-score None sobre validación:\",f1_val)\n",
    "print (\"F1-score macro sobre validación:\",f1_val_ma)\n",
    "print (\"Precision None sobre validación:\",pre)\n",
    "print (\"Recall None sobre validación:\",rec)\n",
    "\n",
    "plot_confusion_matrix(normalize(matriz_val,axis=1,norm='l1'),[\"NonH\",\"H\"],\"Confusion Matrix Caso Binario 100dim\")"
   ]
  },
  {
   "cell_type": "code",
   "execution_count": 276,
   "metadata": {},
   "outputs": [
    {
     "data": {
      "text/plain": [
       "0.35614719"
      ]
     },
     "execution_count": 276,
     "metadata": {},
     "output_type": "execute_result"
    }
   ],
   "source": [
    "0.8757*0.4067"
   ]
  },
  {
   "cell_type": "code",
   "execution_count": 165,
   "metadata": {},
   "outputs": [
    {
     "data": {
      "text/plain": [
       "array([0., 0., 1., 0., 1., 0., 0., 1., 0., 1., 1., 1., 0., 1., 0., 0., 0.,\n",
       "       0., 1., 1.], dtype=float32)"
      ]
     },
     "execution_count": 165,
     "metadata": {},
     "output_type": "execute_result"
    }
   ],
   "source": [
    "predichos=np.asarray(trainPredict)[:,0]\n",
    "predichos[:20]"
   ]
  },
  {
   "cell_type": "code",
   "execution_count": 209,
   "metadata": {},
   "outputs": [
    {
     "name": "stdout",
     "output_type": "stream",
     "text": [
      "<class 'numpy.ndarray'> [0. 0. 1. 0. 1.]\n",
      "[False False  True False  True]\n"
     ]
    }
   ],
   "source": [
    "objetos_binario=df_val['Unnamed: 0'].values\n",
    "print (type(objetos_binario), predichos[:5])\n",
    "ind_for_ph2=return_hars(predichos, objetos_binario )"
   ]
  },
  {
   "cell_type": "code",
   "execution_count": 212,
   "metadata": {},
   "outputs": [
    {
     "data": {
      "text/plain": [
       "<matplotlib.axes._subplots.AxesSubplot at 0x7fe89a2ad208>"
      ]
     },
     "execution_count": 212,
     "metadata": {},
     "output_type": "execute_result"
    },
    {
     "data": {
      "image/png": "[encoded data removed]",
      "text/plain": [
       "<matplotlib.figure.Figure at 0x7fe879b2dc50>"
      ]
     },
     "metadata": {},
     "output_type": "display_data"
    }
   ],
   "source": [
    "sns.countplot(predichos)"
   ]
  },
  {
   "cell_type": "code",
   "execution_count": 211,
   "metadata": {},
   "outputs": [
    {
     "data": {
      "text/plain": [
       "<matplotlib.axes._subplots.AxesSubplot at 0x7fe89a29e898>"
      ]
     },
     "execution_count": 211,
     "metadata": {},
     "output_type": "execute_result"
    },
    {
     "data": {
      "image/png": "[encoded data removed]",
      "text/plain": [
       "<matplotlib.figure.Figure at 0x7fe89a1b1c50>"
      ]
     },
     "metadata": {},
     "output_type": "display_data"
    }
   ],
   "source": [
    "sns.countplot(y_val_bin)"
   ]
  },
  {
   "cell_type": "code",
   "execution_count": 213,
   "metadata": {},
   "outputs": [],
   "source": [
    "new_objs, etiq, indx_pre= return_objs_fase2(df_val, ind_for_ph2)"
   ]
  },
  {
   "cell_type": "code",
   "execution_count": 216,
   "metadata": {},
   "outputs": [
    {
     "name": "stdout",
     "output_type": "stream",
     "text": [
      "[False False  True False  True]\n"
     ]
    }
   ],
   "source": [
    "ind_for_ph21=return_hars(y_val_bin, objetos_binario)\n",
    "new_objs1, etiq1, indx_true= return_objs_fase2(df_val, ind_for_ph21)"
   ]
  },
  {
   "cell_type": "code",
   "execution_count": 217,
   "metadata": {},
   "outputs": [],
   "source": [
    "indx_p2=list(set(indx_true).intersection(set(indx_pre)))"
   ]
  },
  {
   "cell_type": "markdown",
   "metadata": {},
   "source": [
    "## Con los filtrados por fase 1"
   ]
  },
  {
   "cell_type": "code",
   "execution_count": 219,
   "metadata": {},
   "outputs": [
    {
     "data": {
      "text/plain": [
       "array([6376, 6378, 6381, 6383, 6384, 6385, 6386, 6392, 6393, 6396, 6397,\n",
       "       6399, 6401, 6403, 6405, 6406, 6407, 6413, 6418, 6419], dtype=object)"
      ]
     },
     "execution_count": 219,
     "metadata": {},
     "output_type": "execute_result"
    }
   ],
   "source": [
    "indx_true[:20]"
   ]
  },
  {
   "cell_type": "code",
   "execution_count": 175,
   "metadata": {},
   "outputs": [
    {
     "data": {
      "text/plain": [
       "632"
      ]
     },
     "execution_count": 175,
     "metadata": {},
     "output_type": "execute_result"
    }
   ],
   "source": [
    "len(y_val_mu)"
   ]
  },
  {
   "cell_type": "code",
   "execution_count": 234,
   "metadata": {},
   "outputs": [],
   "source": [
    "def new_matrices(indx_pre, indx_true, X_train, y_train):\n",
    "    cont=0\n",
    "    new_indx= []\n",
    "    for value in indx_true:\n",
    "        if value in indx_pre:\n",
    "            new_indx.append(cont)\n",
    "        cont+=1\n",
    "    print (cont)\n",
    "    new_y_train=y_train[[new_indx]]\n",
    "    new_X_train=X_train[[new_indx]]#[[indx_p2]])\n",
    "\n",
    "    return new_indx, new_X_train, new_y_train\n",
    "\n",
    "def to_original(predichos, new_indx_p2, y_true):\n",
    "    predichos=[tp+1 for tp in predichos]\n",
    "    \n",
    "    all_val=np.zeros(len(y_true),dtype='int32')\n",
    "    all_true_val=np.zeros(len(y_true),dtype='int32')\n",
    "    print (all_val.shape)\n",
    "    y_true_adj=[tp+1 for tp in y_true]\n",
    "    cont=0\n",
    "    for i in new_indx_p2:\n",
    "        all_val[i]=predichos[cont]\n",
    "        all_true_val[i]=y_true_adj[cont]\n",
    "        cont+=1\n",
    "       \n",
    "    return all_val, all_true_val"
   ]
  },
  {
   "cell_type": "code",
   "execution_count": 220,
   "metadata": {},
   "outputs": [
    {
     "name": "stdout",
     "output_type": "stream",
     "text": [
      "632\n"
     ]
    }
   ],
   "source": [
    "new_indx_p2, new_X_val_ig, new_y_val_mu= new_matrices(indx_pre, indx_true, X_val_ig, y_val_mu)"
   ]
  },
  {
   "cell_type": "code",
   "execution_count": 199,
   "metadata": {},
   "outputs": [
    {
     "data": {
      "text/plain": [
       "0.7674050632911392"
      ]
     },
     "execution_count": 199,
     "metadata": {},
     "output_type": "execute_result"
    }
   ],
   "source": [
    "len(new_indx_p2)/len(indx1)"
   ]
  },
  {
   "cell_type": "code",
   "execution_count": 222,
   "metadata": {},
   "outputs": [],
   "source": [
    "modelo_multi = load_model('baselines/cnn1_100_multi_focal20_100.h5')"
   ]
  },
  {
   "cell_type": "code",
   "execution_count": 275,
   "metadata": {},
   "outputs": [
    {
     "name": "stdout",
     "output_type": "stream",
     "text": [
      "(632,)\n",
      "Accuracy sobre validacion: 0.8591772151898734\n",
      "F1-score None sobre validación: [0.08510638 0.04       0.90034364]\n",
      "F1-score macro sobre validación: 0.3418166751968024\n",
      "Precision None sobre validación: [0.08       0.03030303 0.92037471]\n",
      "Recall None sobre validación: [0.09090909 0.05882353 0.88116592]\n"
     ]
    },
    {
     "data": {
      "image/png": "[encoded data removed]",
      "text/plain": [
       "<matplotlib.figure.Figure at 0x7fe8782525c0>"
      ]
     },
     "metadata": {},
     "output_type": "display_data"
    }
   ],
   "source": [
    "trainPredict = modelo_multi.predict(new_X_val_ig, batch_size=64).argmax(axis=-1)\n",
    "new_pred, new_y_val= to_original(trainPredict, new_indx_p2, y_val_mu)\n",
    "f1_val=f1_score(new_y_val, new_pred, average=None, labels=[1,2,3])  # labels=np.unique(trainPredict)\n",
    "f1_val_ma=f1_score(new_y_val, new_pred, average='macro',labels=[1,2,3])  # labels=np.unique(trainPredict)\n",
    "acc_val= accuracy_score(new_y_val, new_pred)#,labels=[1,2,3])\n",
    "rec=recall_score(new_y_val, new_pred, average=None,labels=[1,2,3]) \n",
    "pre=precision_score(new_y_val, new_pred, average=None,labels=[1,2,3]) \n",
    "matriz_val=confusion_matrix(new_y_val, new_pred,labels=[1,2,3])\n",
    "\n",
    "print (\"Accuracy sobre validacion:\",acc_val)  \n",
    "print (\"F1-score None sobre validación:\",f1_val)\n",
    "print (\"F1-score macro sobre validación:\",f1_val_ma)\n",
    "print (\"Precision None sobre validación:\",pre)\n",
    "print (\"Recall None sobre validación:\",rec)\n",
    "\n",
    "plot_confusion_matrix(normalize(matriz_val,axis=1,norm='l1'),['Indirect','Physical','Sexual'],\"Confusion Matrix Caso Multiclass + Focal Loss 100dim\")"
   ]
  },
  {
   "cell_type": "code",
   "execution_count": 264,
   "metadata": {},
   "outputs": [
    {
     "name": "stdout",
     "output_type": "stream",
     "text": [
      "Accuracy sobre validacion: 0.843298969072165\n",
      "F1-score None sobre validación: [0.15789474 0.14545455 0.91676169]\n",
      "F1-score macro sobre validación: 0.4067036566226388\n",
      "Precision None sobre validación: [0.12       0.12121212 0.94145199]\n",
      "Recall None sobre validación: [0.23076923 0.18181818 0.89333333]\n"
     ]
    },
    {
     "data": {
      "image/png": "[encoded data removed]",
      "text/plain": [
       "<matplotlib.figure.Figure at 0x7fe87837e978>"
      ]
     },
     "metadata": {},
     "output_type": "display_data"
    }
   ],
   "source": [
    "trainPredict = modelo_multi.predict(new_X_val_ig, batch_size=64).argmax(axis=-1)\n",
    "f1_val=f1_score(new_y_val_mu, trainPredict, average=None)#, labels=[1,2,3])  # labels=np.unique(trainPredict)\n",
    "f1_val_ma=f1_score(new_y_val_mu, trainPredict, average='macro')#,labels=[1,2,3])  # labels=np.unique(trainPredict)\n",
    "acc_val= accuracy_score(new_y_val_mu, trainPredict)\n",
    "rec=recall_score(new_y_val_mu, trainPredict, average=None) \n",
    "pre=precision_score(new_y_val_mu, trainPredict, average=None) \n",
    "matriz_val=confusion_matrix(new_y_val_mu, trainPredict)\n",
    "\n",
    "print (\"Accuracy sobre validacion:\",acc_val)  \n",
    "print (\"F1-score None sobre validación:\",f1_val)\n",
    "print (\"F1-score macro sobre validación:\",f1_val_ma)\n",
    "print (\"Precision None sobre validación:\",pre)\n",
    "print (\"Recall None sobre validación:\",rec)\n",
    "\n",
    "plot_confusion_matrix(normalize(matriz_val,axis=1,norm='l1'),['Indirect','Physical','Sexual'],\"Confusion Matrix Caso Multiclass + Focal Loss 100dim\")"
   ]
  },
  {
   "cell_type": "code",
   "execution_count": 270,
   "metadata": {},
   "outputs": [
    {
     "name": "stdout",
     "output_type": "stream",
     "text": [
      "485\n",
      "485\n"
     ]
    },
    {
     "data": {
      "text/plain": [
       "array([0.15789474, 0.14545455, 0.91676169])"
      ]
     },
     "execution_count": 270,
     "metadata": {},
     "output_type": "execute_result"
    }
   ],
   "source": [
    "print (len(trainPredict))\n",
    "print (len(new_y_val_mu))\n",
    "f1_score(new_y_val_mu, trainPredict, average=None)"
   ]
  },
  {
   "cell_type": "markdown",
   "metadata": {},
   "source": [
    "### Con todos los datos"
   ]
  },
  {
   "cell_type": "code",
   "execution_count": 76,
   "metadata": {},
   "outputs": [
    {
     "name": "stdout",
     "output_type": "stream",
     "text": [
      "Accuracy sobre validacion: 0.7753164556962026\n",
      "F1-score None sobre validación: [0.38167939 0.19565217 0.87608069]\n",
      "F1-score macro sobre validación: 0.4844707516228906\n",
      "Precision None sobre validación: [0.41666667 0.16071429 0.88372093]\n",
      "Recall None sobre validación: [0.35211268 0.25       0.86857143]\n"
     ]
    },
    {
     "data": {
      "image/png": "[encoded data removed]",
      "text/plain": [
       "<matplotlib.figure.Figure at 0x7fe88866d5f8>"
      ]
     },
     "metadata": {},
     "output_type": "display_data"
    }
   ],
   "source": [
    "modelo_binario = load_model('baselines/cnn1_100_multi_focal20_100.h5')\n",
    "\n",
    "trainPredict = modelo_binario.predict(X_val_ig, batch_size=64).argmax(axis=-1)\n",
    "acc_val= accuracy_score(y_val_mu, trainPredict)\n",
    "f1_val=f1_score(y_val_mu, trainPredict, average=None)  # labels=np.unique(trainPredict)\n",
    "f1_val_ma=f1_score(y_val_mu, trainPredict, average='macro')  # labels=np.unique(trainPredict)\n",
    "rec=recall_score(y_val_mu, trainPredict, average=None) \n",
    "pre=precision_score(y_val_mu, trainPredict, average=None) \n",
    "matriz_val=confusion_matrix(y_val_mu, trainPredict)\n",
    "\n",
    "print (\"Accuracy sobre validacion:\",acc_val)  \n",
    "print (\"F1-score None sobre validación:\",f1_val)\n",
    "print (\"F1-score macro sobre validación:\",f1_val_ma)\n",
    "print (\"Precision None sobre validación:\",pre)\n",
    "print (\"Recall None sobre validación:\",rec)\n",
    "\n",
    "plot_confusion_matrix(normalize(matriz_val,axis=1,norm='l1'),['Indirect','Physical','Sexual'],\"Confusion Matrix Caso Multiclass + Focal Loss 100dim\")"
   ]
  },
  {
   "cell_type": "code",
   "execution_count": 66,
   "metadata": {},
   "outputs": [
    {
     "data": {
      "text/plain": [
       "(632, 32)"
      ]
     },
     "execution_count": 66,
     "metadata": {},
     "output_type": "execute_result"
    }
   ],
   "source": [
    "X_val_ig.shape"
   ]
  },
  {
   "cell_type": "code",
   "execution_count": null,
   "metadata": {},
   "outputs": [],
   "source": []
  },
  {
   "cell_type": "code",
   "execution_count": null,
   "metadata": {},
   "outputs": [],
   "source": []
  },
  {
   "cell_type": "code",
   "execution_count": null,
   "metadata": {},
   "outputs": [],
   "source": []
  },
  {
   "cell_type": "code",
   "execution_count": null,
   "metadata": {},
   "outputs": [],
   "source": []
  }
 ],
 "metadata": {
  "kernelspec": {
   "display_name": "Python 3",
   "language": "python",
   "name": "python3"
  },
  "language_info": {
   "codemirror_mode": {
    "name": "ipython",
    "version": 3
   },
   "file_extension": ".py",
   "mimetype": "text/x-python",
   "name": "python",
   "nbconvert_exporter": "python",
   "pygments_lexer": "ipython3",
   "version": "3.6.4"
  }
 },
 "nbformat": 4,
 "nbformat_minor": 2
}
