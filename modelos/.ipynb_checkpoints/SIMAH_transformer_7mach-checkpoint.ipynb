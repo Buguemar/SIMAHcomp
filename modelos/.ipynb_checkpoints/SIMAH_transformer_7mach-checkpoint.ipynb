{
 "cells": [
  {
   "cell_type": "code",
   "execution_count": 100,
   "metadata": {
    "collapsed": true
   },
   "outputs": [],
   "source": [
    "import sys\n",
    "import warnings\n",
    "\n",
    "if not sys.warnoptions:\n",
    "    warnings.simplefilter(\"ignore\")\n",
    "    \n",
    "import numpy as np\n",
    "import torch\n",
    "import torch.nn as nn\n",
    "import torch.nn.functional as F\n",
    "from collections import Counter\n",
    "import math, copy, time\n",
    "from torch.autograd import Variable\n",
    "import matplotlib.pyplot as plt\n",
    "import seaborn as sns\n",
    "from sklearn.utils import class_weight\n",
    "sns.set_context(context=\"talk\")\n",
    "%matplotlib inline\n",
    "\n",
    "from keras import backend as K\n",
    "import keras\n",
    "import os, re, sys\n",
    "import pandas as pd\n",
    "from keras.utils import to_categorical\n",
    "import ast\n",
    "from sklearn.utils import class_weight\n",
    "from keras.preprocessing import sequence\n",
    "from keras.models import load_model\n",
    "import torch.nn.functional as F\n",
    "from sklearn.metrics import accuracy_score, f1_score\n",
    "from sklearn.model_selection import KFold\n",
    "from sklearn.metrics import accuracy_score,f1_score, confusion_matrix\n",
    "from sklearn.preprocessing import normalize\n",
    "import time\n",
    "from keras.models import load_model\n",
    "from keras import backend as K\n",
    "import keras\n",
    "'''\n",
    "Compatible with tensorflow backend\n",
    "gamma entre más alto más tolerante (queremos un gamma chico pero no demasiado! 0.25 - 5)\n",
    "alpha pesos por clase (weights)\n",
    "'''\n",
    "def focal_loss(gamma=2., weights=1):   #weights np.asarray()\n",
    "    weights= K.variable(weights)\n",
    "    def focal_loss_fixed(y_true, y_pred):\n",
    "        y_true = K.clip(y_true, K.epsilon(),1)\n",
    "        y_pred = K.clip(y_pred,K.epsilon(),1)\n",
    "        return - K.sum(weights* K.pow(1. - y_pred, gamma)* y_true * K.log(y_pred), axis=-1) \n",
    "    return focal_loss_fixed\n",
    "\n",
    "keras.losses.focal_loss=keras.losses.MSE\n",
    "keras.losses.focal_loss_fixed=keras.losses.MSE\n"
   ]
  },
  {
   "cell_type": "code",
   "execution_count": 8,
   "metadata": {},
   "outputs": [
    {
     "name": "stdout",
     "output_type": "stream",
     "text": [
      "Nh\t\t| IH\t\t| PH\t\t| SH\t\t| F-Macro\n",
      "0.92792793 \t 0.0 \t\t 0.0 \t\t 0.84057971 \t 0.4421269095182139\n",
      "0.78674791 \t 0.13793103 \t 0.09756098 \t 0.56389987 \t 0.396534945974999\n",
      "0.9197861 \t 0.10884354 \t 0.0729927 \t 0.78439425 \t 0.47150414622873116\n",
      "0.92418033 \t 0.14876033 \t 0.17073171 \t 0.85254692 \t 0.5240548206636296\n",
      "0.9054658 \t 0.13714286 \t 0.10909091 \t 0.74418605 \t 0.47397140213787825\n",
      "0.78454333 \t 0.10327022 \t 0.10362694 \t 0.71553611 \t 0.42674414932927196\n",
      "0.91473851 \t 0.0 \t\t 0.09386282 \t 0.52150538 \t 0.38252667563241805\n"
     ]
    }
   ],
   "source": [
    "#'baselines_4/cnn1_ce10_100.h5'\n",
    "print (\"Nh\\t\\t| IH\\t\\t| PH\\t\\t| SH\\t\\t| F-Macro\")\n",
    "print (0.92792793 ,'\\t',0. ,'\\t\\t',        0.,'\\t\\t',         0.84057971,'\\t',    0.4421269095182139)\n",
    "#('baselines_4/cnn1_focal10_100.h5')\n",
    "print (0.78674791,'\\t', 0.13793103 ,'\\t',0.09756098 ,'\\t',0.56389987,'\\t',   0.396534945974999  )\n",
    "#('baselines_4/rnn_simple_100_focal15.h5')\n",
    "print (0.9197861  ,'\\t',0.10884354 ,'\\t',0.0729927  ,'\\t',0.78439425,'\\t',  0.47150414622873116)\n",
    "#('baselines_4/rnn1_100_focal15.h5')\n",
    "print (0.92418033,'\\t', 0.14876033 ,'\\t',0.17073171 ,'\\t',0.85254692,'\\t',  0.5240548206636296)\n",
    "#('baselines_4/rnn2_100_focal15.h5')\n",
    "print (0.9054658 ,'\\t', 0.13714286 ,'\\t',0.10909091 ,'\\t',0.74418605,'\\t',  0.47397140213787825)\n",
    "#('baselines_4/rnn3_100_focal15.h5')\n",
    "print (0.78454333 ,'\\t',0.10327022,'\\t', 0.10362694 ,'\\t',0.71553611,'\\t', 0.42674414932927196)\n",
    "#('baselines_4/cnn1_focal10_100_g3_100.h5')\n",
    "print (0.91473851 ,'\\t',0. ,'\\t\\t',   0.09386282 ,'\\t',0.52150538,'\\t',    0.38252667563241805)\n",
    "\n",
    "#pasan a transformer: 1,2,7,8,9,10,12"
   ]
  },
  {
   "cell_type": "code",
   "execution_count": 9,
   "metadata": {
    "collapsed": true
   },
   "outputs": [],
   "source": [
    "cnn_100_c = load_model('baselines_4/cnn1_ce10_100.h5')\n",
    "cnn_100_f = load_model('baselines_4/cnn1_focal10_100.h5')\n",
    "gru_s = load_model('baselines_4/rnn_simple_100_focal15.h5')\n",
    "gru1 = load_model('baselines_4/rnn1_100_focal15.h5')\n",
    "gru2 = load_model('baselines_4/rnn2_100_focal15.h5')\n",
    "gru3 = load_model('baselines_4/rnn3_100_focal15.h5')\n",
    "cnn_100_f3 = load_model('baselines_4/cnn1_focal10_100_g3_100.h5')\n",
    "\n",
    "\n",
    "list_models=['cnn_100_c', 'cnn_100_f', 'gru_s', 'gru1', 'gru2', 'gru3', 'cnn_100_f3']\n",
    "index_models=np.arange(7)\n",
    "dict_models=dict((key, value) for (key, value) in zip(index_models,list_models))\n",
    "modelos=[cnn_100_c, cnn_100_f, gru_s, gru1, gru2, gru3, cnn_100_f3]\n",
    "ind=np.arange(7)\n",
    "dict_trainingModel=dict((key, value) for (key, value) in zip(ind,modelos))"
   ]
  },
  {
   "cell_type": "code",
   "execution_count": 13,
   "metadata": {},
   "outputs": [
    {
     "name": "stdout",
     "output_type": "stream",
     "text": [
      "Agregando predicciones del modelo cnn_100_c\n",
      "Agregando predicciones del modelo cnn_100_f\n",
      "Agregando predicciones del modelo gru_s\n",
      "Agregando predicciones del modelo gru1\n",
      "Agregando predicciones del modelo gru2\n",
      "Agregando predicciones del modelo gru3\n",
      "Agregando predicciones del modelo cnn_100_f3\n",
      "Agregando predicciones val del modelo cnn_100_c\n",
      "Agregando predicciones val del modelo cnn_100_f\n",
      "Agregando predicciones val del modelo gru_s\n",
      "Agregando predicciones val del modelo gru1\n",
      "Agregando predicciones val del modelo gru2\n",
      "Agregando predicciones val del modelo gru3\n",
      "Agregando predicciones val del modelo cnn_100_f3\n"
     ]
    }
   ],
   "source": [
    "predicciones_all=[]\n",
    "X_train=np.load(\"matrices/X_train_4.npy\")\n",
    "X_train_rnn=np.load(\"matrices/X_train_rnn_4.npy\")\n",
    "\n",
    "bs=32\n",
    "for i in dict_trainingModel.keys(): \n",
    "    print (\"Agregando predicciones del modelo\", dict_models[i])\n",
    "    a_evaluar=dict_models[i]\n",
    "    if a_evaluar[:3]!='gru':\n",
    "        predicciones_all.append(dict_trainingModel[i].predict(X_train, batch_size=bs))\n",
    "    else:\n",
    "        predicciones_all.append(dict_trainingModel[i].predict(X_train_rnn, batch_size=bs))\n",
    "        \n",
    "predicciones_all_val=[]\n",
    "X_val=np.load(\"matrices/X_val_ig_4.npy\")\n",
    "X_val_rnn=np.load(\"matrices/X_val_rnn_ig_4.npy\")\n",
    "\n",
    "bs=32\n",
    "for i in dict_trainingModel.keys(): \n",
    "    print (\"Agregando predicciones val del modelo\", dict_models[i])\n",
    "    a_evaluar=dict_models[i]\n",
    "    if a_evaluar[:3]!='gru':\n",
    "        predicciones_all_val.append(dict_trainingModel[i].predict(X_val, batch_size=bs))\n",
    "    else:\n",
    "        predicciones_all_val.append(dict_trainingModel[i].predict(X_val_rnn, batch_size=bs))\n",
    "        "
   ]
  },
  {
   "cell_type": "code",
   "execution_count": 14,
   "metadata": {},
   "outputs": [
    {
     "name": "stdout",
     "output_type": "stream",
     "text": [
      "Agregando predicciones test del modelo cnn_100_c\n",
      "Agregando predicciones test del modelo cnn_100_f\n",
      "Agregando predicciones test del modelo gru_s\n",
      "Agregando predicciones test del modelo gru1\n",
      "Agregando predicciones test del modelo gru2\n",
      "Agregando predicciones test del modelo gru3\n",
      "Agregando predicciones test del modelo cnn_100_f3\n"
     ]
    }
   ],
   "source": [
    "predicciones_all_test=[]\n",
    "X_test=np.load(\"matrices/X_test_ig_4.npy\")\n",
    "X_test_rnn=np.load(\"matrices/X_test_rnn_4.npy\")\n",
    "\n",
    "bs=32\n",
    "for i in dict_trainingModel.keys(): \n",
    "    print (\"Agregando predicciones test del modelo\", dict_models[i])\n",
    "    a_evaluar=dict_models[i]\n",
    "    if a_evaluar[:3]!='gru':\n",
    "        predicciones_all_test.append(dict_trainingModel[i].predict(X_test, batch_size=bs))\n",
    "    else:\n",
    "        predicciones_all_test.append(dict_trainingModel[i].predict(X_test_rnn, batch_size=bs))"
   ]
  },
  {
   "cell_type": "code",
   "execution_count": 15,
   "metadata": {},
   "outputs": [
    {
     "name": "stdout",
     "output_type": "stream",
     "text": [
      "(7, 6374, 4)\n",
      "(7, 2125, 4)\n",
      "(7, 2123, 4)\n"
     ]
    }
   ],
   "source": [
    "matrix=np.asarray(predicciones_all)\n",
    "print (matrix.shape)\n",
    "matrix_val=np.asarray(predicciones_all_val)\n",
    "print (matrix_val.shape)\n",
    "matrix_test=np.asarray(predicciones_all_test)\n",
    "print (matrix_test.shape)"
   ]
  },
  {
   "cell_type": "code",
   "execution_count": 16,
   "metadata": {},
   "outputs": [
    {
     "data": {
      "text/plain": [
       "(7, 10622, 4)"
      ]
     },
     "execution_count": 16,
     "metadata": {},
     "output_type": "execute_result"
    }
   ],
   "source": [
    "new_matrix=np.concatenate([matrix,matrix_val,matrix_test], axis=1)\n",
    "new_matrix.shape"
   ]
  },
  {
   "cell_type": "code",
   "execution_count": 67,
   "metadata": {
    "collapsed": true
   },
   "outputs": [],
   "source": [
    "class Dummy_Embeddings(nn.Module):\n",
    "    def __init__(self, d_model, dummy_vectors): \n",
    "        super(Dummy_Embeddings, self).__init__()\n",
    "        aux = torch.from_numpy(dummy_vectors)#, dtype='float32'))\n",
    "        self.index2dummy = nn.Embedding(aux.size()[0], d_model)\n",
    "        self.index2dummy.weigth=nn.Parameter(aux)\n",
    "        self.index2dummy.weigth.requires_grad=False\n",
    "        self.d_model = d_model\n",
    "        \n",
    "    def forward(self, x):\n",
    "        aux=x.numpy()\n",
    "        #print (\"aux_size en dummy emb\", aux.shape, aux)\n",
    "        new_x= aux - np.ones(aux.shape)#cambiar aqui! (ver hojita de cuaderno)\n",
    "        new_x= torch.from_numpy(new_x)\n",
    "        #print (\"nuevo aux con el menos 1s (clase 1 en ind 0 y los ids desde 5 ind)\", aux)\n",
    "        return self.index2dummy(new_x.long()) * math.sqrt(self.d_model) #debiese retornar matriz de batch_size x [ind_tw, k1,k2,k3,k4,k5,k6] (si son 6 modelos)\n",
    "    \n",
    "def match(objetos,ejemplo):\n",
    "    i=0\n",
    "    for obj in objetos:\n",
    "        if obj==ejemplo:\n",
    "            return i\n",
    "        i+=1\n",
    "        \n",
    "class EncoderDecoderLogSoft(nn.Module):\n",
    "    def __init__(self, encoder, src_embed, sequential):\n",
    "        super(EncoderDecoderLogSoft, self).__init__()\n",
    "        self.encoder = encoder\n",
    "        self.linearSoft = sequential\n",
    "        self.src_embed = src_embed\n",
    "        \n",
    "    def forward(self, src, src_mask):\n",
    "        out=self.encode(src, src_mask)\n",
    "        retorno=self.toSoftmax(out)\n",
    "        return retorno\n",
    "    \n",
    "    def encode(self, src, src_mask):\n",
    "        return self.encoder(self.src_embed(src), src_mask)\n",
    "    \n",
    "    def toSoftmax(self, tensor):\n",
    "        a=tensor.size()[0]\n",
    "        b=tensor.size()[-1]\n",
    "        c=tensor.size()[-2]\n",
    "        new_tensor= np.zeros((a, b))\n",
    "        ini=True\n",
    "        for ai in range(a):\n",
    "            for ci in range(c):\n",
    "                if ini:\n",
    "                    new_tensor[ai]=tensor.data[ai][ci].numpy()\n",
    "                    ini=False\n",
    "                else: \n",
    "                    new_tensor[ai]*=tensor.data[ai][ci].numpy()\n",
    "            ini=True\n",
    "        new_tensor=torch.from_numpy(new_tensor)\n",
    "        lineal=self.linearSoft(new_tensor.float())\n",
    "        return F.log_softmax(lineal, dim = -1)\n",
    "    \n",
    "    def decode(self, memory, src_mask, tgt, tgt_mask):\n",
    "        return self.decoder(self.tgt_embed(tgt), memory, src_mask, tgt_mask)\n",
    "    \n",
    "def clones(module, N):\n",
    "    return nn.ModuleList([copy.deepcopy(module) for _ in range(N)])\n",
    "\n",
    "\n",
    "class EncoderDecoderSoft(nn.Module):\n",
    "    def __init__(self, encoder, src_embed, sequential):\n",
    "        super(EncoderDecoderSoft, self).__init__()\n",
    "        self.encoder = encoder\n",
    "        self.linearSoft = sequential\n",
    "        self.src_embed = src_embed\n",
    "        \n",
    "    def forward(self, src, src_mask):\n",
    "        out=self.encode(src, src_mask)\n",
    "        retorno=self.toSoftmax(out)\n",
    "        return retorno\n",
    "    \n",
    "    def encode(self, src, src_mask):\n",
    "        return self.encoder(self.src_embed(src), src_mask)\n",
    "    \n",
    "    def toSoftmax(self, tensor):\n",
    "        a=tensor.size()[0]\n",
    "        b=tensor.size()[-1]\n",
    "        c=tensor.size()[-2]\n",
    "        new_tensor= np.zeros((a, b))\n",
    "        ini=True\n",
    "        for ai in range(a):\n",
    "            for ci in range(c):\n",
    "                if ini:\n",
    "                    new_tensor[ai]=tensor.data[ai][ci].numpy()\n",
    "                    ini=False\n",
    "                else: \n",
    "                    new_tensor[ai]*=tensor.data[ai][ci].numpy()\n",
    "            ini=True\n",
    "            \n",
    "        new_tensor=torch.from_numpy(new_tensor)\n",
    "        lineal=self.linearSoft(new_tensor.float())\n",
    "        return F.softmax(lineal, dim = -1)\n",
    "    \n",
    "    def decode(self, memory, src_mask, tgt, tgt_mask):\n",
    "        return self.decoder(self.tgt_embed(tgt), memory, src_mask, tgt_mask)\n",
    "    \n",
    "def clones(module, N):\n",
    "    return nn.ModuleList([copy.deepcopy(module) for _ in range(N)])\n",
    "\n",
    "class EncoderDecoder(nn.Module):\n",
    "    def __init__(self, encoder, src_embed, generator):\n",
    "        super(EncoderDecoder, self).__init__()\n",
    "        self.encoder = encoder\n",
    "        self.src_embed = src_embed\n",
    "        self.generator = generator\n",
    "        \n",
    "    def forward(self, src, src_mask):\n",
    "        return  self.encode(src, src_mask)\n",
    "\n",
    "    def encode(self, src, src_mask):\n",
    "        return self.encoder(self.src_embed(src), src_mask)\n",
    "    \n",
    "    def decode(self, memory, src_mask, tgt, tgt_mask):\n",
    "        return self.decoder(self.tgt_embed(tgt), memory, src_mask, tgt_mask)\n",
    "    \n",
    "class Encoder(nn.Module):\n",
    "    def __init__(self, layer, N):\n",
    "        super(Encoder, self).__init__()\n",
    "        self.layers = clones(layer, N)\n",
    "        self.norm = LayerNorm(layer.size)\n",
    "        \n",
    "    def forward(self, x, mask):\n",
    "        for layer in self.layers:\n",
    "            x = layer(x, mask)\n",
    "        return self.norm(x)\n",
    "    \n",
    "class LayerNorm(nn.Module):\n",
    "    def __init__(self, features, eps=1e-6):\n",
    "        super(LayerNorm, self).__init__()\n",
    "        self.a_2 = nn.Parameter(torch.ones(features))\n",
    "        self.b_2 = nn.Parameter(torch.zeros(features))\n",
    "        self.eps = eps\n",
    "\n",
    "    def forward(self, x):\n",
    "        mean = x.mean(-1, keepdim=True)\n",
    "        std = x.std(-1, keepdim=True)\n",
    "        return self.a_2 * (x - mean) / (std + self.eps) + self.b_2\n",
    "    \n",
    "class SublayerConnection(nn.Module):\n",
    "    def __init__(self, size, dropout):\n",
    "        super(SublayerConnection, self).__init__()\n",
    "        self.norm = LayerNorm(size)\n",
    "        self.dropout = nn.Dropout(dropout)\n",
    "\n",
    "    def forward(self, x, sublayer):\n",
    "        return x + self.dropout(sublayer(self.norm(x)))    \n",
    "    \n",
    "class EncoderLayer(nn.Module):\n",
    "    def __init__(self, size, self_attn, feed_forward, dropout):\n",
    "        super(EncoderLayer, self).__init__()\n",
    "        self.self_attn = self_attn\n",
    "        self.feed_forward = feed_forward\n",
    "        self.sublayer = clones(SublayerConnection(size, dropout), 2)\n",
    "        self.size = size\n",
    "\n",
    "    def forward(self, x, mask):\n",
    "        x = self.sublayer[0](x, lambda x: self.self_attn(x, x, x, mask))\n",
    "        return self.sublayer[1](x, self.feed_forward)\n",
    "    \n",
    "def subsequent_mask(size):\n",
    "    attn_shape = (1, size, size)\n",
    "    subsequent_mask = np.triu(np.ones(attn_shape), k=1).astype('uint8')\n",
    "    return torch.from_numpy(subsequent_mask) == 0\n",
    "\n",
    "class Generator(nn.Module):\n",
    "    def __init__(self, d_model, vocab):\n",
    "        super(Generator, self).__init__()\n",
    "        self.proj = nn.Linear(d_model, vocab)\n",
    "\n",
    "    def forward(self, x):\n",
    "        return F.log_softmax(self.proj(x), dim=-1)\n",
    "    \n",
    "def attention(query, key, value, mask=None, dropout=None):\n",
    "    d_k = query.size(-1)\n",
    "    scores = torch.matmul(query, key.transpose(-2, -1)) \\\n",
    "             / math.sqrt(d_k)\n",
    "    if mask is not None:\n",
    "        scores = scores.masked_fill(mask == 0, -1e9)\n",
    "    p_attn = F.softmax(scores, dim = -1)\n",
    "    if dropout is not None:\n",
    "        p_attn = dropout(p_attn)\n",
    "    return torch.matmul(p_attn, value), p_attn\n",
    "\n",
    "class MultiHeadedAttention(nn.Module):\n",
    "    def __init__(self, h, d_model, dropout=0.1):\n",
    "        super(MultiHeadedAttention, self).__init__()\n",
    "        assert d_model % h == 0\n",
    "        self.d_k = d_model // h\n",
    "        self.h = h\n",
    "        self.linears = clones(nn.Linear(d_model, d_model), 4)\n",
    "        self.attn = None\n",
    "        self.dropout = nn.Dropout(p=dropout)\n",
    "        \n",
    "    def forward(self, query, key, value, mask=None):\n",
    "        if mask is not None:\n",
    "            mask = mask.unsqueeze(1)\n",
    "        nbatches = query.size(0)\n",
    "        \n",
    "        query, key, value = \\\n",
    "            [l(x).view(nbatches, -1, self.h, self.d_k).transpose(1, 2)\n",
    "             for l, x in zip(self.linears, (query, key, value))]\n",
    "         \n",
    "        x, self.attn = attention(query, key, value, mask=mask, \n",
    "                                 dropout=self.dropout)\n",
    "        \n",
    "        x = x.transpose(1, 2).contiguous() \\\n",
    "             .view(nbatches, -1, self.h * self.d_k)\n",
    "        return self.linears[-1](x)\n",
    "    \n",
    "class PositionalText(nn.Module):\n",
    "    def __init__(self, d_model, dropout, max_len=5):\n",
    "        super(PositionalText, self).__init__()\n",
    "        self.dropout = nn.Dropout(p=dropout)\n",
    "        \n",
    "    def forward(self, x):\n",
    "        x_text=x.data[:,0][:,None,:]\n",
    "        x_machines=x.data[:,1:]\n",
    "        \n",
    "        x_return = x_machines* x_text\n",
    "        return self.dropout(x_return)\n",
    "    \n",
    "class PositionalText_concat(nn.Module):\n",
    "    def __init__(self, d_model, dropout, max_len=5):\n",
    "        super(PositionalText_concat, self).__init__()\n",
    "        self.dropout = nn.Dropout(p=dropout)\n",
    "        \n",
    "    def forward(self, x):\n",
    "        return self.dropout(x)"
   ]
  },
  {
   "cell_type": "code",
   "execution_count": 90,
   "metadata": {
    "collapsed": true
   },
   "outputs": [],
   "source": [
    "def data_gen(batch_size,mode,n_machines,new_matrix):  \n",
    "    \"\"\"ESTA FUNCION DEBERÁ RETORNAR MATRICES DE TAMAÑO BATCH_SIZE * TW,M1,M2,M3,M4,M5,M6\n",
    "    CADA EJEMPLO DEBERÁ SER ESTILO [ID_T, 1,2,1,2,1,2] SIENDO 1 CUANDO LA CLASE PREDICHA ES LA 0\n",
    "    2 PARA CLASE PREDICHA 1, ETC. ID_T DEBEŔA INICIAR EN 5 PARA REFERIRSE AL PRIMER TW (EL PRIMERO DE TRAIN)\"\"\"\n",
    "    x_data=[] \n",
    "    y_data=[]\n",
    "    if mode=='Train':\n",
    "        max_objs=matrix.shape[1]\n",
    "        x_list=np.arange(max_objs)\n",
    "        np.random.shuffle(x_list)\n",
    "        objs=df_train['Unnamed: 0'].values\n",
    "        objs=[obj+5 for obj in objs]\n",
    "        labels=np.load(\"../../forSIMAH/y_train_num_4.npy\")\n",
    "        labels=labels+ np.ones(labels.shape)       \n",
    "    if mode=='Val':\n",
    "        max_objs=matrix_val.shape[1] \n",
    "        x_list=np.arange(max_objs)\n",
    "        x_list=[x+matrix.shape[1] for x in x_list]\n",
    "        np.random.shuffle(x_list)\n",
    "        objs=df_val['Unnamed: 0'].values        \n",
    "        objs=[obj+5 for obj in objs]\n",
    "        labels=np.load(\"../../forSIMAH/y_val_num_4.npy\")\n",
    "        labels=labels+ np.ones(labels.shape) \n",
    "    if mode=='Test':\n",
    "        max_objs=matrix_test.shape[1] \n",
    "        x_list=np.arange(max_objs)\n",
    "        x_list=[x+matrix.shape[1]+matrix_val.shape[1] for x in x_list]\n",
    "        #np.random.shuffle(x_list)\n",
    "        #print (\"X LIST SIN SHUFFLE\", x_list)\n",
    "        total=matrix.shape[1]+matrix_val.shape[1]\n",
    "        objs=np.arange(total, total+max_objs)\n",
    "        objs=[obj+5 for obj in objs]\n",
    "        \n",
    "    if len(x_list)%batch_size==0:\n",
    "        n_batches=len(x_list)/batch_size\n",
    "        for nb in range(n_batches): \n",
    "            x_data.append(x_list[nb*batch_size:(nb+1)*batch_size])\n",
    "    else:\n",
    "        n_batches=int(len(x_list)/batch_size)\n",
    "        resto=int(len(x_list)-n_batches*batch_size)\n",
    "        to_repeat=batch_size-resto        \n",
    "        for nb in range(n_batches): \n",
    "            x_data.append(x_list[nb*batch_size:(nb+1)*batch_size])\n",
    "        cola=list(x_list[(nb+1)*batch_size:])\n",
    "        for i in range(to_repeat):\n",
    "            indice= np.random.randint(len(x_list))\n",
    "            cola.append(x_list[indice])\n",
    "        x_data.append(np.asarray(cola))\n",
    "        if mode=='Test':\n",
    "            print (\"SE TUVIERON QUE REPETIR\", to_repeat, \"EJEMPLOS\")\n",
    "    \n",
    "    new_x_data=[] \n",
    "    for batch in x_data:\n",
    "        temp=[]\n",
    "        for exam in batch:\n",
    "            if mode=='Train':\n",
    "                temp2=[objs[exam]] ### obj evaluado en maquinas\n",
    "            elif mode=='Val':\n",
    "                temp2=[objs[exam-matrix.shape[1]]] \n",
    "            else:\n",
    "                temp2=[objs[exam-matrix.shape[1]-matrix_val.shape[1]]]                \n",
    "            for m in range(n_machines): \n",
    "                temp2= temp2 + [np.argmax(new_matrix[m][exam])+1] \n",
    "            temp.append(temp2)\n",
    "        new_x_data.append(temp)   \n",
    "\n",
    "    if mode=='Train' or mode=='Val':    \n",
    "        y_data=[]\n",
    "        for batch in new_x_data:\n",
    "            temp_y=[]\n",
    "            for exam in batch:\n",
    "                q=exam[0]\n",
    "                indice=match(objs, q)    \n",
    "                temp_y.append([labels[indice]])       \n",
    "            y_data.append(temp_y)\n",
    "        y_data=np.asarray(y_data)\n",
    "        \n",
    "    new_x_data=np.asarray(new_x_data)\n",
    "    \n",
    "    if mode=='Train' or mode=='Val':\n",
    "        for x,y in zip(new_x_data, y_data):\n",
    "            src = Variable(torch.from_numpy(np.asarray(x)), requires_grad=False)\n",
    "            har = Variable(torch.from_numpy(np.asarray(y)), requires_grad=False)\n",
    "            yield Batch(src, har, 0)\n",
    "    else:\n",
    "        for x in new_x_data:\n",
    "            src = Variable(torch.from_numpy(np.asarray(x)), requires_grad=False)\n",
    "            yield Batch(src, None, 0)"
   ]
  },
  {
   "cell_type": "code",
   "execution_count": 18,
   "metadata": {},
   "outputs": [
    {
     "data": {
      "text/html": [
       "<div>\n",
       "<style scoped>\n",
       "    .dataframe tbody tr th:only-of-type {\n",
       "        vertical-align: middle;\n",
       "    }\n",
       "\n",
       "    .dataframe tbody tr th {\n",
       "        vertical-align: top;\n",
       "    }\n",
       "\n",
       "    .dataframe thead th {\n",
       "        text-align: right;\n",
       "    }\n",
       "</style>\n",
       "<table border=\"1\" class=\"dataframe\">\n",
       "  <thead>\n",
       "    <tr style=\"text-align: right;\">\n",
       "      <th></th>\n",
       "      <th>Unnamed: 0</th>\n",
       "      <th>tweet_content</th>\n",
       "      <th>harassment</th>\n",
       "      <th>IndirectH</th>\n",
       "      <th>PhysicalH</th>\n",
       "      <th>SexualH</th>\n",
       "    </tr>\n",
       "  </thead>\n",
       "  <tbody>\n",
       "    <tr>\n",
       "      <th>0</th>\n",
       "      <td>0</td>\n",
       "      <td>pics mexican school girl naked melanie safka f...</td>\n",
       "      <td>1</td>\n",
       "      <td>0</td>\n",
       "      <td>0</td>\n",
       "      <td>1</td>\n",
       "    </tr>\n",
       "    <tr>\n",
       "      <th>1</th>\n",
       "      <td>1</td>\n",
       "      <td>RT shereiqns Having curly hair is a gotdamn ch...</td>\n",
       "      <td>0</td>\n",
       "      <td>0</td>\n",
       "      <td>0</td>\n",
       "      <td>0</td>\n",
       "    </tr>\n",
       "    <tr>\n",
       "      <th>2</th>\n",
       "      <td>2</td>\n",
       "      <td>BreakingNews 7 Unexplained Prisoners Deaths M...</td>\n",
       "      <td>0</td>\n",
       "      <td>0</td>\n",
       "      <td>0</td>\n",
       "      <td>0</td>\n",
       "    </tr>\n",
       "    <tr>\n",
       "      <th>3</th>\n",
       "      <td>3</td>\n",
       "      <td>girl dirty quarterback latino pokemon young h...</td>\n",
       "      <td>1</td>\n",
       "      <td>0</td>\n",
       "      <td>0</td>\n",
       "      <td>1</td>\n",
       "    </tr>\n",
       "    <tr>\n",
       "      <th>4</th>\n",
       "      <td>4</td>\n",
       "      <td>miliondollameat sexting n ngirl daddy n nme l...</td>\n",
       "      <td>1</td>\n",
       "      <td>0</td>\n",
       "      <td>0</td>\n",
       "      <td>1</td>\n",
       "    </tr>\n",
       "  </tbody>\n",
       "</table>\n",
       "</div>"
      ],
      "text/plain": [
       "   Unnamed: 0                                      tweet_content  harassment  \\\n",
       "0           0  pics mexican school girl naked melanie safka f...           1   \n",
       "1           1  RT shereiqns Having curly hair is a gotdamn ch...           0   \n",
       "2           2   BreakingNews 7 Unexplained Prisoners Deaths M...           0   \n",
       "3           3   girl dirty quarterback latino pokemon young h...           1   \n",
       "4           4   miliondollameat sexting n ngirl daddy n nme l...           1   \n",
       "\n",
       "   IndirectH  PhysicalH  SexualH  \n",
       "0          0          0        1  \n",
       "1          0          0        0  \n",
       "2          0          0        0  \n",
       "3          0          0        1  \n",
       "4          0          0        1  "
      ]
     },
     "execution_count": 18,
     "metadata": {},
     "output_type": "execute_result"
    }
   ],
   "source": [
    "df_train=pd.read_csv(\"../Train_data_compeition.csv\")\n",
    "df_val=pd.read_csv(\"../Validation_data_competition.csv\")\n",
    "df_test=pd.read_csv(\"../testset-competition.csv\")\n",
    "df_train.head()"
   ]
  },
  {
   "cell_type": "code",
   "execution_count": 50,
   "metadata": {},
   "outputs": [
    {
     "name": "stdout",
     "output_type": "stream",
     "text": [
      "(768, 768)\n",
      "(4, 768)\n"
     ]
    },
    {
     "data": {
      "text/plain": [
       "4"
      ]
     },
     "execution_count": 50,
     "metadata": {},
     "output_type": "execute_result"
    }
   ],
   "source": [
    "Ks=np.load(\"../Orthogonals_768.npy\")\n",
    "print (Ks.shape)\n",
    "random=np.random.randint(Ks.shape[0], size=4)\n",
    "K_list=[Ks[k] for k in random]\n",
    "print (np.asarray(K_list).shape)\n",
    "len(K_list)"
   ]
  },
  {
   "cell_type": "markdown",
   "metadata": {},
   "source": [
    "# por qué parte en 5?"
   ]
  },
  {
   "cell_type": "code",
   "execution_count": 51,
   "metadata": {},
   "outputs": [
    {
     "name": "stdout",
     "output_type": "stream",
     "text": [
      "(6374,)\n",
      "(2125,)\n",
      "2123\n"
     ]
    },
    {
     "data": {
      "text/plain": [
       "10622"
      ]
     },
     "execution_count": 51,
     "metadata": {},
     "output_type": "execute_result"
    }
   ],
   "source": [
    "K_list_ext=K_list\n",
    "objs_train=df_train['Unnamed: 0'].values\n",
    "objs_val=df_val['Unnamed: 0'].values\n",
    "objs_test=np.arange(df_test.shape[0])\n",
    "tope=len(objs_train)+len(objs_val)\n",
    "objs_test=[elem+tope for elem in objs_test]\n",
    "print (objs_train.shape)\n",
    "print (objs_val.shape)\n",
    "print (len(objs_test))\n",
    "#print (objs_test.shape)\n",
    "llaves=np.concatenate([objs_train,objs_val,objs_test])\n",
    "#valores=np.arange(5, len(objs_train)+len(objs_val)+len(objs_test)+5)\n",
    "len(llaves)"
   ]
  },
  {
   "cell_type": "code",
   "execution_count": 52,
   "metadata": {
    "collapsed": true
   },
   "outputs": [],
   "source": [
    "#dict_IDObj=dict((key, value) for (key, value) in zip(llaves,valores))\n",
    "#dict_ObjID=dict((key, value) for (key, value) in zip(valores,llaves))\n",
    "#len(dict_ObjID)"
   ]
  },
  {
   "cell_type": "code",
   "execution_count": 53,
   "metadata": {},
   "outputs": [
    {
     "name": "stdout",
     "output_type": "stream",
     "text": [
      "largo de lista de vectores bert (considerando dummy clases) 10626\n"
     ]
    }
   ],
   "source": [
    "contador=0\n",
    "for i in range(tope):\n",
    "    vector=np.load(\"../../vectors/\"+str(i)+\".npy\")\n",
    "    K_list_ext.append(vector[0])\n",
    "for i in range(len(objs_test)):\n",
    "    vector=np.load(\"../../test_vectors/\"+str(i)+\".npy\")\n",
    "    K_list_ext.append(vector[0])\n",
    "print (\"largo de lista de vectores bert (considerando dummy clases)\", len(K_list_ext))\n",
    "    "
   ]
  },
  {
   "cell_type": "code",
   "execution_count": 54,
   "metadata": {},
   "outputs": [
    {
     "data": {
      "text/plain": [
       "10626"
      ]
     },
     "execution_count": 54,
     "metadata": {},
     "output_type": "execute_result"
    }
   ],
   "source": [
    "len(K_list_ext)"
   ]
  },
  {
   "cell_type": "code",
   "execution_count": 55,
   "metadata": {},
   "outputs": [
    {
     "data": {
      "text/plain": [
       "(10626, 768)"
      ]
     },
     "execution_count": 55,
     "metadata": {},
     "output_type": "execute_result"
    }
   ],
   "source": [
    "K_list_new= np.asarray(K_list_ext, dtype='float32')\n",
    "K_list_new.shape"
   ]
  },
  {
   "cell_type": "code",
   "execution_count": 102,
   "metadata": {
    "collapsed": true
   },
   "outputs": [],
   "source": [
    "def make_model_concat(target, N=2, d_model=768, d_ff=1024, h=4, dropout=0.3, soft=True):  #recibir src_vocab si lo utiliza dummy_Emb\n",
    "    c = copy.deepcopy\n",
    "    attn = MultiHeadedAttention(h, d_model)\n",
    "    ff = PositionwiseFeedForward(d_model, d_ff, dropout)\n",
    "    position = PositionalText_concat(d_model, dropout)\n",
    "    if soft:\n",
    "        print (\"Creando modelo con salida Softmax\")\n",
    "        model = EncoderDecoderSoft(\n",
    "            Encoder(EncoderLayer(d_model, c(attn), c(ff), dropout), N),\n",
    "            nn.Sequential(Dummy_Embeddings(768, K_list_new), c(position)),\n",
    "            nn.Linear(d_model, 4))\n",
    "    else:\n",
    "        print (\"\")\n",
    "        print (\"Creando modelo con salida Log_softmax\")\n",
    "        model = EncoderDecoderLogSoft(\n",
    "            Encoder(EncoderLayer(d_model, c(attn), c(ff), dropout), N),\n",
    "            nn.Sequential(Dummy_Embeddings(768, K_list_new), c(position)),\n",
    "            nn.Linear(d_model, 4))\n",
    "\n",
    "    for p in model.parameters():\n",
    "        if p.dim() > 1:\n",
    "            nn.init.xavier_uniform(p)\n",
    "    return model\n",
    "\n",
    "class Batch:\n",
    "    def __init__(self, src, trg=None, pad=0):\n",
    "        self.src = src\n",
    "        self.src_mask = (src != pad).unsqueeze(-2)\n",
    "        if trg is not None:\n",
    "            self.trg = trg[:, :]\n",
    "            self.trg_y = trg[:, 0:]\n",
    "            self.trg_mask = \\\n",
    "                self.make_std_mask(self.trg, pad)\n",
    "            self.ntokens = (self.trg_y != pad).data.sum()\n",
    "            \n",
    "    @staticmethod\n",
    "    def make_std_mask(tgt, pad):\n",
    "        tgt_mask = (tgt != pad).unsqueeze(-2)\n",
    "        tgt_mask = tgt_mask & Variable(\n",
    "            subsequent_mask(tgt.size(-1)).type_as(tgt_mask.data))\n",
    "        return tgt_mask\n",
    "    \n",
    "def run_epoch(data_iter, model, loss_compute, mode):\n",
    "    if mode=='Test':\n",
    "        with torch.no_grad():\n",
    "            start = time.time()\n",
    "            total_datos = 0\n",
    "            total_loss = 0\n",
    "            total_acc=0\n",
    "            total_fm1=0\n",
    "            total_fs=0\n",
    "            n_batches = 0\n",
    "            cm_last=np.zeros((4,4))\n",
    "            pred_classes=[]\n",
    "            for i, batch in enumerate(data_iter):\n",
    "                out = model.forward(batch.src, batch.src_mask)\n",
    "                pred_classes.append(out.argmax(dim=-1).numpy())\n",
    "                #la loss del batch es sobre todos los ejemplos o es promedio en batch?\n",
    "                \n",
    "            return pred_classes\n",
    "    \n",
    "    else:\n",
    "        start = time.time()\n",
    "        total_learners = 0\n",
    "        total_datos = 0\n",
    "        total_loss = 0\n",
    "        total_acc=0\n",
    "        total_fm1=0\n",
    "        total_fs=0\n",
    "        n_batches = 0\n",
    "        cm_last=np.zeros((4,4))\n",
    "        for i, batch in enumerate(data_iter):\n",
    "            out = model.forward(batch.src, batch.src_mask)\n",
    "            loss,acc,f1,cm = loss_compute(out, batch.trg_y, batch.ntokens, mode)\n",
    "            cm_last+=cm\n",
    "            f_ma=np.mean(f1)\n",
    "            total_loss += loss\n",
    "            total_acc += np.array(acc)\n",
    "            total_fm1 += np.sum(f1)/4.0\n",
    "            total_fs += f1  \n",
    "            total_datos += batch.ntokens\n",
    "            n_batches += 1\n",
    "        return total_loss/n_batches, torch.from_numpy(np.array(total_acc))/n_batches, torch.from_numpy(np.array(total_fm1))/n_batches, torch.from_numpy(np.array(total_fs))/n_batches, cm_last"
   ]
  },
  {
   "cell_type": "code",
   "execution_count": 31,
   "metadata": {
    "collapsed": true
   },
   "outputs": [],
   "source": [
    "global max_src_in_batch, max_tgt_in_batch\n",
    "def batch_size_fn(new, count, sofar):\n",
    "    \"Keep augmenting batch and calculate total number of learners + padding.\"\n",
    "    global max_src_in_batch, max_tgt_in_batch\n",
    "    if count == 1:\n",
    "        max_src_in_batch = 0\n",
    "        max_tgt_in_batch = 0\n",
    "    max_src_in_batch = max(max_src_in_batch,  len(new.src))\n",
    "    max_tgt_in_batch = max(max_tgt_in_batch,  len(new.trg) + 2)\n",
    "    src_elements = count * max_src_in_batch\n",
    "    tgt_elements = count * max_tgt_in_batch\n",
    "    maximo=max(src_elements, tgt_elements)\n",
    "    return maximo\n",
    "\n",
    "class NoamOpt:\n",
    "    \"Optim wrapper that implements rate.\"\n",
    "    def __init__(self, model_size, factor, warmup, optimizer):\n",
    "        self.optimizer = optimizer\n",
    "        self._step = 0\n",
    "        self.warmup = warmup\n",
    "        self.factor = factor\n",
    "        self.model_size = model_size\n",
    "        self._rate = 0\n",
    "        \n",
    "    def step(self):\n",
    "        \"Update parameters and rate\"\n",
    "        self._step += 1\n",
    "        rate = self.rate()\n",
    "        for p in self.optimizer.param_groups:\n",
    "            p['lr'] = rate\n",
    "        self._rate = rate\n",
    "        #print (\"Rate de Noam_opt\", self._rate, self._step)\n",
    "        self.optimizer.step()\n",
    "        \n",
    "    def rate(self, step = None):\n",
    "        \"Implement `lrate` above\"\n",
    "        if step is None:\n",
    "            step = self._step\n",
    "        return self.factor * \\\n",
    "            (self.model_size ** (-0.5) *\n",
    "            min(step ** (-0.5), step * self.warmup ** (-1.5)))\n",
    "        \n",
    "def get_std_opt(model):\n",
    "    return NoamOpt(model.src_embed[0].d_model, 2, 4000,\n",
    "            torch.optim.Adam(model.parameters(), lr=0, betas=(0.9, 0.98), eps=1e-9))\n",
    "\n",
    "class LabelSmoothing(nn.Module):\n",
    "    \"Implement label smoothing.\"\n",
    "    def __init__(self, size, padding_idx, smoothing=0.0):\n",
    "        super(LabelSmoothing, self).__init__()\n",
    "        self.criterion = nn.KLDivLoss(size_average=False)\n",
    "        self.padding_idx = padding_idx\n",
    "        self.confidence = 1.0 - smoothing\n",
    "        self.smoothing = smoothing\n",
    "        self.size = size\n",
    "        self.true_dist = None\n",
    "        \n",
    "    def forward(self, x, target):\n",
    "        assert x.size(1) == self.size\n",
    "        true_dist = x.data.clone()\n",
    "        true_dist.fill_(self.smoothing / (self.size - 2))\n",
    "        true_dist.scatter_(1, target.data.unsqueeze(1), self.confidence)\n",
    "        mask = torch.nonzero(target.data == self.padding_idx)\n",
    "        self.true_dist = true_dist\n",
    "        return self.criterion(x, Variable(true_dist, requires_grad=False))\n",
    "    \n",
    "class LabelCCE(nn.Module):\n",
    "    def __init__(self, class_weights):\n",
    "        super(LabelCCE, self).__init__()\n",
    "        self.criterion = nn.CrossEntropyLoss(weight=class_weights)\n",
    "                       \n",
    "    def forward(self, x, target):\n",
    "        return self.criterion(x, target)\n",
    "    \n",
    "class FocalLoss(nn.Module):\n",
    "    def __init__(self, weights, gamma=2.0, reduce=True):#, logits=False, reduce=True):\n",
    "        super(FocalLoss, self).__init__()\n",
    "        self.weights = weights\n",
    "        self.gamma = gamma\n",
    "        #self.logits = logits\n",
    "        self.reduce = reduce\n",
    "\n",
    "    def forward(self, x, y):\n",
    "        tensors = []\n",
    "        for l in y:\n",
    "            tensors.append(torch.zeros(4).scatter_(0, torch.tensor(l), 1))\n",
    "        result = torch.stack(tensors, 0)\n",
    "        \n",
    "        CCE_loss = F.cross_entropy(x, result.long().argmax(dim=-1), reduction='none', weight=self.weights.float())\n",
    "        pt = torch.exp(-CCE_loss)\n",
    "        factor= (1-pt)**self.gamma * CCE_loss\n",
    "        \n",
    "        F_loss = factor  #*self.weights.float()-- peso esta dentro de la funcion\n",
    "\n",
    "        if self.reduce:\n",
    "            return torch.mean(F_loss)\n",
    "        else:\n",
    "            return F_loss\n",
    "        \n",
    "class SimpleLossComputeFL:\n",
    "    \"A simple loss compute and train function.\"\n",
    "    def __init__(self, criterion, opt=None):\n",
    "        self.criterion = criterion\n",
    "        self.opt = opt\n",
    "        \n",
    "    def __call__(self, x, y, norm, mode):        \n",
    "        y_new=(y.float()-torch.ones((y.shape[0],y.shape[1]))).int()\n",
    "        ac=accuracy_scorer(x, y_new)\n",
    "        f1=f_scorer(x, y_new)\n",
    "        cm=compute_confusion_matrix(x, y_new)\n",
    "        tempa= x.contiguous().view(-1, x.size(-1))\n",
    "        tempb= y_new.long().contiguous().view(-1)\n",
    "        loss = self.criterion(tempa, tempb) #/ norm\n",
    "        if mode!='Test':\n",
    "            loss.backward()\n",
    "        if self.opt is not None:\n",
    "            self.opt.step()\n",
    "            self.opt.optimizer.zero_grad()\n",
    "        return [loss.data, ac ,f1, cm] #*norm #[0] * norm\n",
    "    \n",
    "class PositionwiseFeedForward(nn.Module):\n",
    "    \"Implements FFN equation.\"\n",
    "    def __init__(self, d_model, d_ff, dropout=0.1):\n",
    "        super(PositionwiseFeedForward, self).__init__()\n",
    "        self.w_1 = nn.Linear(d_model, d_ff)\n",
    "        self.w_2 = nn.Linear(d_ff, d_model)\n",
    "        self.dropout = nn.Dropout(dropout)\n",
    "\n",
    "    def forward(self, x):\n",
    "        return self.w_2(self.dropout(F.relu(self.w_1(x))))\n",
    "    "
   ]
  },
  {
   "cell_type": "markdown",
   "metadata": {},
   "source": [
    "# DESDE ACA"
   ]
  },
  {
   "cell_type": "code",
   "execution_count": 32,
   "metadata": {},
   "outputs": [
    {
     "name": "stdout",
     "output_type": "stream",
     "text": [
      "[3 0 0 3 3 0 3 3 0 0]\n",
      "[ 0.43526359 28.97272727 20.96710526  0.61715724]\n"
     ]
    }
   ],
   "source": [
    "def accuracy_scorer(predicho, target):\n",
    "    predicho= torch.argmax(predicho, dim=1)\n",
    "    return accuracy_score(target.numpy(),predicho.numpy())\n",
    "\n",
    "def f_scorer(predicho, target):\n",
    "    predicho= torch.argmax(predicho, dim=1)\n",
    "    return f1_score(target.numpy(),predicho.numpy(), average=None, labels=[0,1,2,3])\n",
    "\n",
    "def compute_confusion_matrix(predicho, target):\n",
    "    predicho= torch.argmax(predicho, dim=1)\n",
    "    return confusion_matrix(target.numpy(), predicho.numpy(), labels=[0,1,2,3])\n",
    "\n",
    "y_train_har=np.load(\"matrices/y_train_num_4.npy\")\n",
    "print (y_train_har[:10])\n",
    "class_weights = class_weight.compute_class_weight('balanced', np.unique(y_train_har), y_train_har)\n",
    "print (class_weights)\n",
    "\n",
    "if not sys.warnoptions:\n",
    "    warnings.simplefilter(\"ignore\")"
   ]
  },
  {
   "cell_type": "markdown",
   "metadata": {},
   "source": [
    "## Modelos"
   ]
  },
  {
   "cell_type": "code",
   "execution_count": null,
   "metadata": {
    "collapsed": true
   },
   "outputs": [],
   "source": [
    "### Mejor caso a superar: \n",
    "print (\"Nh\\t\\t| IH\\t\\t| PH\\t\\t| SH\\t\\t| F-Macro\")\n",
    "#('baselines_4/rnn1_100_focal15.h5')\n",
    "print (0.92418033,'\\t', 0.14876033 ,'\\t',0.17073171 ,'\\t',0.85254692,'\\t',  0.5240548206636296)\n",
    "#('baselines_4/rnn2_100_focal15.h5')\n",
    "print (0.9054658 ,'\\t', 0.13714286 ,'\\t',0.10909091 ,'\\t',0.74418605,'\\t',  0.47397140213787825)"
   ]
  },
  {
   "cell_type": "code",
   "execution_count": null,
   "metadata": {
    "collapsed": true
   },
   "outputs": [],
   "source": []
  },
  {
   "cell_type": "code",
   "execution_count": 116,
   "metadata": {
    "scrolled": true
   },
   "outputs": [
    {
     "name": "stdout",
     "output_type": "stream",
     "text": [
      "tensor([ 0.4353, 28.9727, 20.9671,  0.6172])\n",
      "Creando modelo con salida Softmax\n",
      "\n",
      "\n",
      "Validando Epoch 0\n",
      "loss_val: tensor(2.1057)\n",
      "Acc_val: tensor(0.6459, dtype=torch.float64)\n",
      "f_score_val: tensor(0.3720, dtype=torch.float64)\n",
      "f_score_val: tensor([0.7519, 0.0977, 0.0109, 0.6275], dtype=torch.float64)\n",
      "\n",
      "\n",
      "Validando Epoch 1\n",
      "loss_val: tensor(2.2617)\n",
      "Acc_val: tensor(0.8511, dtype=torch.float64)\n",
      "f_score_val: tensor(0.4461, dtype=torch.float64)\n",
      "f_score_val: tensor([0.9099, 0.0650, 0.0000, 0.8095], dtype=torch.float64)\n",
      "\n",
      "\n",
      "Validando Epoch 2\n",
      "loss_val: tensor(2.2568)\n",
      "Acc_val: tensor(0.8679, dtype=torch.float64)\n",
      "f_score_val: tensor(0.4519, dtype=torch.float64)\n",
      "f_score_val: tensor([0.9213, 0.0675, 0.0000, 0.8189], dtype=torch.float64)\n",
      "\n",
      "\n",
      "Validando Epoch 3\n",
      "loss_val: tensor(2.2170)\n",
      "Acc_val: tensor(0.8614, dtype=torch.float64)\n",
      "f_score_val: tensor(0.4629, dtype=torch.float64)\n",
      "f_score_val: tensor([0.9172, 0.1049, 0.0000, 0.8294], dtype=torch.float64)\n",
      "\n",
      "\n",
      "Validando Epoch 4\n",
      "loss_val: tensor(2.1896)\n",
      "Acc_val: tensor(0.8632, dtype=torch.float64)\n",
      "f_score_val: tensor(0.4618, dtype=torch.float64)\n",
      "f_score_val: tensor([0.9192, 0.0962, 0.0000, 0.8318], dtype=torch.float64)\n",
      "\n",
      "\n",
      "Validando Epoch 5\n",
      "loss_val: tensor(2.1529)\n",
      "Acc_val: tensor(0.8604, dtype=torch.float64)\n",
      "f_score_val: tensor(0.4716, dtype=torch.float64)\n",
      "f_score_val: tensor([0.9175, 0.1339, 0.0000, 0.8352], dtype=torch.float64)\n",
      "\n",
      "\n",
      "Validando Epoch 6\n",
      "loss_val: tensor(2.1676)\n",
      "Acc_val: tensor(0.8628, dtype=torch.float64)\n",
      "f_score_val: tensor(0.4691, dtype=torch.float64)\n",
      "f_score_val: tensor([0.9190, 0.1251, 0.0000, 0.8323], dtype=torch.float64)\n",
      "\n",
      "\n",
      "Validando Epoch 7\n",
      "loss_val: tensor(1.9968)\n",
      "Acc_val: tensor(0.8370, dtype=torch.float64)\n",
      "f_score_val: tensor(0.4752, dtype=torch.float64)\n",
      "f_score_val: tensor([0.9002, 0.1541, 0.0082, 0.8382], dtype=torch.float64)\n",
      "\n",
      "\n",
      "Validando Epoch 8\n",
      "loss_val: tensor(2.0099)\n",
      "Acc_val: tensor(0.8365, dtype=torch.float64)\n",
      "f_score_val: tensor(0.4761, dtype=torch.float64)\n",
      "f_score_val: tensor([0.8985, 0.1594, 0.0109, 0.8356], dtype=torch.float64)\n",
      "\n",
      "\n",
      "Validando Epoch 9\n",
      "loss_val: tensor(2.0707)\n",
      "Acc_val: tensor(0.8515, dtype=torch.float64)\n",
      "f_score_val: tensor(0.4741, dtype=torch.float64)\n",
      "f_score_val: tensor([0.9089, 0.1262, 0.0164, 0.8449], dtype=torch.float64)\n",
      "\n",
      "\n",
      "Validando Epoch 10\n",
      "loss_val: tensor(2.1955)\n",
      "Acc_val: tensor(0.8642, dtype=torch.float64)\n",
      "f_score_val: tensor(0.4690, dtype=torch.float64)\n",
      "f_score_val: tensor([0.9187, 0.1109, 0.0082, 0.8384], dtype=torch.float64)\n",
      "\n",
      "\n",
      "Validando Epoch 11\n",
      "loss_val: tensor(2.1216)\n",
      "Acc_val: tensor(0.8679, dtype=torch.float64)\n",
      "f_score_val: tensor(0.4862, dtype=torch.float64)\n",
      "f_score_val: tensor([0.9209, 0.1574, 0.0164, 0.8499], dtype=torch.float64)\n",
      "\n",
      "\n",
      "Validando Epoch 12\n",
      "loss_val: tensor(2.1285)\n",
      "Acc_val: tensor(0.8689, dtype=torch.float64)\n",
      "f_score_val: tensor(0.4760, dtype=torch.float64)\n",
      "f_score_val: tensor([0.9215, 0.1262, 0.0109, 0.8455], dtype=torch.float64)\n",
      "\n",
      "\n",
      "Validando Epoch 13\n",
      "loss_val: tensor(2.1551)\n",
      "Acc_val: tensor(0.8754, dtype=torch.float64)\n",
      "f_score_val: tensor(0.4795, dtype=torch.float64)\n",
      "f_score_val: tensor([0.9253, 0.1197, 0.0328, 0.8401], dtype=torch.float64)\n",
      "\n",
      "\n",
      "Validando Epoch 14\n",
      "loss_val: tensor(2.1426)\n",
      "Acc_val: tensor(0.8693, dtype=torch.float64)\n",
      "f_score_val: tensor(0.4907, dtype=torch.float64)\n",
      "f_score_val: tensor([0.9235, 0.1791, 0.0219, 0.8385], dtype=torch.float64)\n",
      "\n",
      "\n",
      "Validando Epoch 15\n",
      "loss_val: tensor(2.1387)\n",
      "Acc_val: tensor(0.8712, dtype=torch.float64)\n",
      "f_score_val: tensor(0.4806, dtype=torch.float64)\n",
      "f_score_val: tensor([0.9241, 0.1460, 0.0131, 0.8392], dtype=torch.float64)\n",
      "\n",
      "\n",
      "Validando Epoch 16\n",
      "loss_val: tensor(2.1161)\n",
      "Acc_val: tensor(0.8698, dtype=torch.float64)\n",
      "f_score_val: tensor(0.4845, dtype=torch.float64)\n",
      "f_score_val: tensor([0.9255, 0.1301, 0.0328, 0.8496], dtype=torch.float64)\n",
      "\n",
      "\n",
      "Validando Epoch 17\n",
      "loss_val: tensor(2.1762)\n",
      "Acc_val: tensor(0.8726, dtype=torch.float64)\n",
      "f_score_val: tensor(0.4848, dtype=torch.float64)\n",
      "f_score_val: tensor([0.9263, 0.1085, 0.0492, 0.8553], dtype=torch.float64)\n",
      "\n",
      "\n",
      "Validando Epoch 18\n",
      "loss_val: tensor(2.1296)\n",
      "Acc_val: tensor(0.8703, dtype=torch.float64)\n",
      "f_score_val: tensor(0.4870, dtype=torch.float64)\n",
      "f_score_val: tensor([0.9238, 0.1328, 0.0437, 0.8476], dtype=torch.float64)\n",
      "\n",
      "\n",
      "Validando Epoch 19\n",
      "loss_val: tensor(2.1296)\n",
      "Acc_val: tensor(0.8731, dtype=torch.float64)\n",
      "f_score_val: tensor(0.4849, dtype=torch.float64)\n",
      "f_score_val: tensor([0.9276, 0.1162, 0.0464, 0.8494], dtype=torch.float64)\n",
      "\n",
      "\n",
      "Validando Epoch 20\n",
      "loss_val: tensor(2.1200)\n",
      "Acc_val: tensor(0.8698, dtype=torch.float64)\n",
      "f_score_val: tensor(0.4846, dtype=torch.float64)\n",
      "f_score_val: tensor([0.9255, 0.1284, 0.0355, 0.8489], dtype=torch.float64)\n",
      "\n",
      "\n",
      "Validando Epoch 21\n",
      "loss_val: tensor(2.1163)\n",
      "Acc_val: tensor(0.8689, dtype=torch.float64)\n",
      "f_score_val: tensor(0.4785, dtype=torch.float64)\n",
      "f_score_val: tensor([0.9255, 0.1230, 0.0240, 0.8416], dtype=torch.float64)\n",
      "\n",
      "\n",
      "Validando Epoch 22\n",
      "loss_val: tensor(2.0858)\n",
      "Acc_val: tensor(0.8731, dtype=torch.float64)\n",
      "f_score_val: tensor(0.4973, dtype=torch.float64)\n",
      "f_score_val: tensor([0.9260, 0.1457, 0.0628, 0.8547], dtype=torch.float64)\n",
      "\n",
      "\n",
      "Validando Epoch 23\n",
      "loss_val: tensor(2.1526)\n",
      "Acc_val: tensor(0.8712, dtype=torch.float64)\n",
      "f_score_val: tensor(0.4857, dtype=torch.float64)\n",
      "f_score_val: tensor([0.9259, 0.1383, 0.0355, 0.8432], dtype=torch.float64)\n",
      "\n",
      "\n",
      "Validando Epoch 24\n",
      "loss_val: tensor(2.1596)\n",
      "Acc_val: tensor(0.8749, dtype=torch.float64)\n",
      "f_score_val: tensor(0.4806, dtype=torch.float64)\n",
      "f_score_val: tensor([0.9268, 0.1235, 0.0230, 0.8493], dtype=torch.float64)\n",
      "\n",
      "\n",
      "Validando Epoch 25\n",
      "loss_val: tensor(2.1390)\n",
      "Acc_val: tensor(0.8707, dtype=torch.float64)\n",
      "f_score_val: tensor(0.4842, dtype=torch.float64)\n",
      "f_score_val: tensor([0.9254, 0.1354, 0.0328, 0.8431], dtype=torch.float64)\n",
      "\n",
      "\n",
      "Validando Epoch 26\n",
      "loss_val: tensor(2.1625)\n",
      "Acc_val: tensor(0.8712, dtype=torch.float64)\n",
      "f_score_val: tensor(0.4827, dtype=torch.float64)\n",
      "f_score_val: tensor([0.9258, 0.1332, 0.0246, 0.8471], dtype=torch.float64)\n",
      "\n",
      "\n",
      "Validando Epoch 27\n",
      "loss_val: tensor(2.1149)\n",
      "Acc_val: tensor(0.8731, dtype=torch.float64)\n",
      "f_score_val: tensor(0.4888, dtype=torch.float64)\n",
      "f_score_val: tensor([0.9262, 0.1454, 0.0273, 0.8563], dtype=torch.float64)\n",
      "\n",
      "\n",
      "Validando Epoch 28\n",
      "loss_val: tensor(2.1148)\n",
      "Acc_val: tensor(0.8731, dtype=torch.float64)\n",
      "f_score_val: tensor(0.4832, dtype=torch.float64)\n",
      "f_score_val: tensor([0.9267, 0.1427, 0.0175, 0.8458], dtype=torch.float64)\n",
      "\n",
      "\n",
      "Validando Epoch 29\n",
      "loss_val: tensor(2.1150)\n",
      "Acc_val: tensor(0.8745, dtype=torch.float64)\n",
      "f_score_val: tensor(0.4902, dtype=torch.float64)\n",
      "f_score_val: tensor([0.9265, 0.1407, 0.0410, 0.8525], dtype=torch.float64)\n"
     ]
    }
   ],
   "source": [
    "V = 4\n",
    "pesos = torch.from_numpy(class_weights).float()\n",
    "print (pesos)\n",
    "criterion = FocalLoss(weights=pesos)\n",
    "model = make_model_concat(4, N=2,d_model=768, d_ff=128, h=4, dropout=0.3)\n",
    "model_opt = NoamOpt(model.src_embed[0].d_model, 1, 500, torch.optim.Adam(model.parameters(), lr=0, betas=(0.9, 0.98), eps=1e-5))\n",
    "\n",
    "hist_train_loss=[]\n",
    "hist_train_acc=[]\n",
    "hist_train_fma=[]\n",
    "hist_val_loss=[]\n",
    "hist_val_acc=[]\n",
    "hist_val_fma=[]\n",
    "\n",
    "for epoch in range(30):\n",
    "    print (\"\")\n",
    "    print (\"\")\n",
    "    model.train()\n",
    "    DATA=data_gen(35, 'Train', 7, new_matrix)\n",
    "    loss_train, acc_train,fma_train, f_none, cm_train=run_epoch(DATA, model, SimpleLossComputeFL(criterion, model_opt), 'Train')\n",
    "    hist_train_loss.append(loss_train)\n",
    "    hist_train_acc.append(acc_train)\n",
    "    hist_train_fma.append(fma_train)\n",
    "\n",
    "    model.eval()\n",
    "    loss_val, acc_val,fma_val, f_val_none, cm_val=run_epoch(data_gen(35, 'Val', 7, new_matrix), model, SimpleLossComputeFL(criterion, None),'Val')\n",
    "    print (\"Validando Epoch\",epoch)\n",
    "    print (\"loss_val:\",loss_val)\n",
    "    print (\"Acc_val:\",acc_val)\n",
    "    print (\"f_score_val:\",fma_val)\n",
    "    print (\"f_score_val:\",f_val_none)\n",
    "    hist_val_loss.append(loss_val)\n",
    "    hist_val_acc.append(acc_val)\n",
    "    hist_val_fma.append(fma_val)"
   ]
  },
  {
   "cell_type": "code",
   "execution_count": 117,
   "metadata": {},
   "outputs": [
    {
     "data": {
      "image/png": "[encoded data removed]",
      "text/plain": [
       "<matplotlib.figure.Figure at 0x7f849690c940>"
      ]
     },
     "metadata": {},
     "output_type": "display_data"
    },
    {
     "data": {
      "image/png": "[encoded data removed]",
      "text/plain": [
       "<matplotlib.figure.Figure at 0x7f848ca85198>"
      ]
     },
     "metadata": {},
     "output_type": "display_data"
    },
    {
     "data": {
      "image/png": "[encoded data removed]",
      "text/plain": [
       "<matplotlib.figure.Figure at 0x7f848c7ff470>"
      ]
     },
     "metadata": {},
     "output_type": "display_data"
    }
   ],
   "source": [
    "plt.plot(hist_train_loss, label='loss train')\n",
    "plt.plot(hist_val_loss,label='loss val')\n",
    "plt.legend(loc='upper left')\n",
    "plt.title(\"Loss vs epoch\")\n",
    "plt.show()\n",
    "\n",
    "plt.plot(hist_train_acc, label='Acc train')\n",
    "plt.plot(hist_val_acc, label='Acc val')\n",
    "plt.legend(loc='upper left')\n",
    "plt.title(\"Accuracy vs epoch\")\n",
    "plt.show()\n",
    "\n",
    "plt.plot(hist_train_fma, label='f_ma train')\n",
    "plt.plot(hist_val_fma, label='f_ma val')\n",
    "plt.legend(loc='upper left')\n",
    "plt.title(\"F-score macro vs epoch\")\n",
    "plt.show()"
   ]
  },
  {
   "cell_type": "code",
   "execution_count": null,
   "metadata": {
    "collapsed": true
   },
   "outputs": [],
   "source": [
    "probar factor 5000 con 50 epochs y 0.4 dropout"
   ]
  },
  {
   "cell_type": "markdown",
   "metadata": {},
   "source": [
    "### Testing model"
   ]
  },
  {
   "cell_type": "code",
   "execution_count": 118,
   "metadata": {},
   "outputs": [
    {
     "name": "stdout",
     "output_type": "stream",
     "text": [
      "Testing\n",
      "SE TUVIERON QUE REPETIR 12 EJEMPLOS\n"
     ]
    }
   ],
   "source": [
    "model.eval()\n",
    "print (\"Testing\")\n",
    "predicciones = run_epoch(data_gen(35, 'Test', 5, new_matrix), model, SimpleLossComputeFL(criterion, None),'Test')\n"
   ]
  },
  {
   "cell_type": "code",
   "execution_count": 119,
   "metadata": {},
   "outputs": [
    {
     "data": {
      "text/plain": [
       "61"
      ]
     },
     "execution_count": 119,
     "metadata": {},
     "output_type": "execute_result"
    }
   ],
   "source": [
    "len(predicciones)"
   ]
  },
  {
   "cell_type": "code",
   "execution_count": 120,
   "metadata": {},
   "outputs": [
    {
     "data": {
      "text/plain": [
       "(61, 35)"
      ]
     },
     "execution_count": 120,
     "metadata": {},
     "output_type": "execute_result"
    }
   ],
   "source": [
    "np.asarray(predicciones).shape"
   ]
  },
  {
   "cell_type": "code",
   "execution_count": 121,
   "metadata": {},
   "outputs": [
    {
     "data": {
      "text/plain": [
       "(2135,)"
      ]
     },
     "execution_count": 121,
     "metadata": {},
     "output_type": "execute_result"
    }
   ],
   "source": [
    "todo=np.concatenate(predicciones, axis=-1)\n",
    "todo.shape\n"
   ]
  },
  {
   "cell_type": "code",
   "execution_count": 122,
   "metadata": {},
   "outputs": [
    {
     "data": {
      "text/plain": [
       "2135"
      ]
     },
     "execution_count": 122,
     "metadata": {},
     "output_type": "execute_result"
    }
   ],
   "source": [
    "2123 + 12"
   ]
  },
  {
   "cell_type": "code",
   "execution_count": 113,
   "metadata": {},
   "outputs": [
    {
     "name": "stdout",
     "output_type": "stream",
     "text": [
      "Counter({0: 1674, 3: 376, 1: 51, 2: 34})\n"
     ]
    },
    {
     "data": {
      "text/plain": [
       "<matplotlib.axes._subplots.AxesSubplot at 0x7f8481ccb518>"
      ]
     },
     "execution_count": 113,
     "metadata": {},
     "output_type": "execute_result"
    },
    {
     "data": {
      "image/png": "[encoded data removed]",
      "text/plain": [
       "<matplotlib.figure.Figure at 0x7f8496e25fd0>"
      ]
     },
     "metadata": {},
     "output_type": "display_data"
    }
   ],
   "source": [
    "print (Counter(todo))\n",
    "sns.countplot(todo)"
   ]
  },
  {
   "cell_type": "code",
   "execution_count": 123,
   "metadata": {},
   "outputs": [
    {
     "name": "stdout",
     "output_type": "stream",
     "text": [
      "Counter({0: 3661, 3: 2582, 2: 76, 1: 55})\n"
     ]
    },
    {
     "data": {
      "text/plain": [
       "<matplotlib.axes._subplots.AxesSubplot at 0x7f84821f1ba8>"
      ]
     },
     "execution_count": 123,
     "metadata": {},
     "output_type": "execute_result"
    },
    {
     "data": {
      "image/png": "[encoded data removed]",
      "text/plain": [
       "<matplotlib.figure.Figure at 0x7f848c0d1b70>"
      ]
     },
     "metadata": {},
     "output_type": "display_data"
    }
   ],
   "source": [
    "print (Counter(y_train_har))\n",
    "sns.countplot(y_train_har)"
   ]
  },
  {
   "cell_type": "code",
   "execution_count": 115,
   "metadata": {},
   "outputs": [
    {
     "name": "stdout",
     "output_type": "stream",
     "text": [
      "Counter({0: 1493, 3: 525, 1: 71, 2: 36})\n"
     ]
    },
    {
     "data": {
      "text/plain": [
       "<matplotlib.axes._subplots.AxesSubplot at 0x7f848c7b97b8>"
      ]
     },
     "execution_count": 115,
     "metadata": {},
     "output_type": "execute_result"
    },
    {
     "data": {
      "image/png": "[encoded data removed]",
      "text/plain": [
       "<matplotlib.figure.Figure at 0x7f848225cba8>"
      ]
     },
     "metadata": {},
     "output_type": "display_data"
    }
   ],
   "source": [
    "y_val_har=np.load(\"matrices/y_val_num_4.npy\")\n",
    "print (Counter(y_val_har))\n",
    "sns.countplot(y_val_har)"
   ]
  },
  {
   "cell_type": "code",
   "execution_count": null,
   "metadata": {
    "collapsed": true
   },
   "outputs": [],
   "source": []
  }
 ],
 "metadata": {
  "kernelspec": {
   "display_name": "Python [conda env:py3]",
   "language": "python",
   "name": "conda-env-py3-py"
  },
  "language_info": {
   "codemirror_mode": {
    "name": "ipython",
    "version": 3
   },
   "file_extension": ".py",
   "mimetype": "text/x-python",
   "name": "python",
   "nbconvert_exporter": "python",
   "pygments_lexer": "ipython3",
   "version": "3.5.5"
  }
 },
 "nbformat": 4,
 "nbformat_minor": 2
}
