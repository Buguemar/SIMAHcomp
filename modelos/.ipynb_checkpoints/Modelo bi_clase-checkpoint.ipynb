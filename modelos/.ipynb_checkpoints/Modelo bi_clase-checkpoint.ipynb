{
 "cells": [
  {
   "cell_type": "code",
   "execution_count": 2,
   "metadata": {},
   "outputs": [
    {
     "name": "stderr",
     "output_type": "stream",
     "text": [
      "Using TensorFlow backend.\n"
     ]
    }
   ],
   "source": [
    "import sys\n",
    "import warnings\n",
    "#from torchtext import data\n",
    "\n",
    "if not sys.warnoptions:\n",
    "    warnings.simplefilter(\"ignore\")\n",
    "    \n",
    "import numpy as np\n",
    "import torch\n",
    "import torch.nn as nn\n",
    "import torch.nn.functional as F\n",
    "import math, copy, time\n",
    "from torch.autograd import Variable\n",
    "import matplotlib.pyplot as plt\n",
    "import seaborn\n",
    "seaborn.set_context(context=\"talk\")\n",
    "%matplotlib inline\n",
    "\n",
    "from keras import backend as K\n",
    "import keras\n",
    "import os, re, sys\n",
    "import pandas as pd\n",
    "from keras.utils import to_categorical\n",
    "import ast\n",
    "from sklearn.utils import class_weight\n",
    "from keras.preprocessing import sequence\n",
    "from keras.models import load_model\n",
    "import torch.nn.functional as F\n",
    "from sklearn.metrics import accuracy_score, f1_score, precision_score, recall_score\n",
    "\n",
    "from nltk.corpus import stopwords\n",
    "from bs4 import BeautifulSoup\n",
    "from nltk import WordNetLemmatizer\n",
    "import itertools\n",
    "from collections import Counter\n",
    "from os import listdir\n",
    "from os.path import isfile, join\n",
    "import  json\n",
    "\n",
    "\n",
    "from  keras.models import Sequential\n",
    "from keras.layers import Dense, Dropout, Activation, Flatten, BatchNormalization\n",
    "from keras.layers import Conv2D, MaxPooling2D\n",
    "from keras.layers import Embedding\n",
    "from keras.layers import Conv1D, MaxPooling1D, Input\n",
    "from keras.preprocessing import sequence\n",
    "from keras.models import Model\n",
    "from keras.layers import LSTM,GRU,Dense\n",
    "from keras.utils import Sequence,to_categorical\n"
   ]
  },
  {
   "cell_type": "markdown",
   "metadata": {},
   "source": [
    "## Generación de data Train/Val/test"
   ]
  },
  {
   "cell_type": "code",
   "execution_count": 3,
   "metadata": {
    "collapsed": true
   },
   "outputs": [],
   "source": [
    "stoplist = stopwords.words('english')\n",
    "lemmatizer=WordNetLemmatizer()\n",
    "\n",
    "emoji_pattern = re.compile(\"[\"\n",
    "        u\"\\U0001F600-\\U0001F64F\"  # emoticons\n",
    "        u\"\\U0001F300-\\U0001F5FF\"  # symbols & pictographs\n",
    "        u\"\\U0001F680-\\U0001F6FF\"  # transport & map symbols\n",
    "        u\"\\U0001F1E0-\\U0001F1FF\"  # flags (iOS)\n",
    "                           \"]+\", flags=re.UNICODE)\n",
    "\n",
    "def cleaner(post):       \n",
    "    s= re.sub(r\"http\\S+\", \" <url> \", post)   ##########elimina http    \n",
    "    s= re.sub(r'#\\w+ ?', \" <hashtag> \", s) ########3\n",
    "    s= re.sub(r'@\\w+ ?', \" <user> \", s)##############    \n",
    "    s= s.lower()\n",
    "    s = re.sub(r\"-\", \" - \", s)\n",
    "    s = re.sub(r\"\\(\", \" \", s)\n",
    "    s = re.sub(r\"\\)\", \" \", s)\n",
    "    s = re.sub(r\"\\?\", \" ? \", s)    \n",
    "    s = re.sub(r\"\\/\", \" \", s)\n",
    "    s = re.sub(r\"' \", \" ' \", s)\n",
    "    s = re.sub(r\" '\", \" ' \", s)\n",
    "    s = re.sub(r\"\\!\", \" ! \", s)\n",
    "    s=re.sub(\"[\\.]+\", \" . \", s)\n",
    "    s=re.sub(\"[\\,]+\", \" , \", s)\n",
    "    s=re.sub(\"[\\;]+\", \" ; \", s)\n",
    "    s=re.sub(\"[\\:]+\", \" : \", s)\n",
    "    s=re.sub('[\\\"]+', ' \" ', s)\n",
    "    s=re.sub(r'\\b[0-9]\\b', \" <number> \",  s)\n",
    "    s=re.sub(r'\\b[0-9][0-9]\\b', \" <number> \",  s)\n",
    "    s=re.sub(r'\\b[0-9][0-9][0-9]\\b', \" <number> \",  s)\n",
    "    s=re.sub(r'\\b[0-9][0-9][0-9][0-9]\\b', \" <number> \",  s)\n",
    "    s=emoji_pattern.sub(r'', s)\n",
    "    s= list(s.split())\n",
    "    s=[lemmatizer.lemmatize(token) for token in s]\n",
    "        \n",
    "    return s"
   ]
  },
  {
   "cell_type": "code",
   "execution_count": 7,
   "metadata": {},
   "outputs": [
    {
     "data": {
      "text/html": [
       "<div>\n",
       "<style>\n",
       "    .dataframe thead tr:only-child th {\n",
       "        text-align: right;\n",
       "    }\n",
       "\n",
       "    .dataframe thead th {\n",
       "        text-align: left;\n",
       "    }\n",
       "\n",
       "    .dataframe tbody tr th {\n",
       "        vertical-align: top;\n",
       "    }\n",
       "</style>\n",
       "<table border=\"1\" class=\"dataframe\">\n",
       "  <thead>\n",
       "    <tr style=\"text-align: right;\">\n",
       "      <th></th>\n",
       "      <th>Unnamed: 0</th>\n",
       "      <th>tweet_content</th>\n",
       "      <th>harassment</th>\n",
       "      <th>IndirectH</th>\n",
       "      <th>PhysicalH</th>\n",
       "      <th>SexualH</th>\n",
       "    </tr>\n",
       "  </thead>\n",
       "  <tbody>\n",
       "    <tr>\n",
       "      <th>0</th>\n",
       "      <td>0</td>\n",
       "      <td>pics mexican school girl naked melanie safka f...</td>\n",
       "      <td>1</td>\n",
       "      <td>0</td>\n",
       "      <td>0</td>\n",
       "      <td>1</td>\n",
       "    </tr>\n",
       "    <tr>\n",
       "      <th>1</th>\n",
       "      <td>1</td>\n",
       "      <td>RT shereiqns Having curly hair is a gotdamn ch...</td>\n",
       "      <td>0</td>\n",
       "      <td>0</td>\n",
       "      <td>0</td>\n",
       "      <td>0</td>\n",
       "    </tr>\n",
       "    <tr>\n",
       "      <th>2</th>\n",
       "      <td>2</td>\n",
       "      <td>BreakingNews 7 Unexplained Prisoners Deaths M...</td>\n",
       "      <td>0</td>\n",
       "      <td>0</td>\n",
       "      <td>0</td>\n",
       "      <td>0</td>\n",
       "    </tr>\n",
       "    <tr>\n",
       "      <th>3</th>\n",
       "      <td>3</td>\n",
       "      <td>girl dirty quarterback latino pokemon young h...</td>\n",
       "      <td>1</td>\n",
       "      <td>0</td>\n",
       "      <td>0</td>\n",
       "      <td>1</td>\n",
       "    </tr>\n",
       "    <tr>\n",
       "      <th>4</th>\n",
       "      <td>4</td>\n",
       "      <td>miliondollameat sexting n ngirl daddy n nme l...</td>\n",
       "      <td>1</td>\n",
       "      <td>0</td>\n",
       "      <td>0</td>\n",
       "      <td>1</td>\n",
       "    </tr>\n",
       "  </tbody>\n",
       "</table>\n",
       "</div>"
      ],
      "text/plain": [
       "   Unnamed: 0                                      tweet_content  harassment  \\\n",
       "0           0  pics mexican school girl naked melanie safka f...           1   \n",
       "1           1  RT shereiqns Having curly hair is a gotdamn ch...           0   \n",
       "2           2   BreakingNews 7 Unexplained Prisoners Deaths M...           0   \n",
       "3           3   girl dirty quarterback latino pokemon young h...           1   \n",
       "4           4   miliondollameat sexting n ngirl daddy n nme l...           1   \n",
       "\n",
       "   IndirectH  PhysicalH  SexualH  \n",
       "0          0          0        1  \n",
       "1          0          0        0  \n",
       "2          0          0        0  \n",
       "3          0          0        1  \n",
       "4          0          0        1  "
      ]
     },
     "execution_count": 7,
     "metadata": {},
     "output_type": "execute_result"
    }
   ],
   "source": [
    "df_train=pd.read_csv(\"../Train_data_compeition.csv\")\n",
    "df_val=pd.read_csv(\"../Validation_data_competition.csv\")\n",
    "df_test=pd.read_csv(\"../testset-competition.csv\")\n",
    "df_train.head()"
   ]
  },
  {
   "cell_type": "code",
   "execution_count": 8,
   "metadata": {},
   "outputs": [
    {
     "data": {
      "text/html": [
       "<div>\n",
       "<style>\n",
       "    .dataframe thead tr:only-child th {\n",
       "        text-align: right;\n",
       "    }\n",
       "\n",
       "    .dataframe thead th {\n",
       "        text-align: left;\n",
       "    }\n",
       "\n",
       "    .dataframe tbody tr th {\n",
       "        vertical-align: top;\n",
       "    }\n",
       "</style>\n",
       "<table border=\"1\" class=\"dataframe\">\n",
       "  <thead>\n",
       "    <tr style=\"text-align: right;\">\n",
       "      <th></th>\n",
       "      <th>Unnamed: 0</th>\n",
       "      <th>harassment</th>\n",
       "      <th>IndirectH</th>\n",
       "      <th>PhysicalH</th>\n",
       "      <th>SexualH</th>\n",
       "    </tr>\n",
       "  </thead>\n",
       "  <tbody>\n",
       "    <tr>\n",
       "      <th>count</th>\n",
       "      <td>6374.00000</td>\n",
       "      <td>6374.000000</td>\n",
       "      <td>6374.000000</td>\n",
       "      <td>6374.000000</td>\n",
       "      <td>6374.000000</td>\n",
       "    </tr>\n",
       "    <tr>\n",
       "      <th>mean</th>\n",
       "      <td>3186.50000</td>\n",
       "      <td>0.425635</td>\n",
       "      <td>0.008629</td>\n",
       "      <td>0.011923</td>\n",
       "      <td>0.405083</td>\n",
       "    </tr>\n",
       "    <tr>\n",
       "      <th>std</th>\n",
       "      <td>1840.15964</td>\n",
       "      <td>0.494478</td>\n",
       "      <td>0.092497</td>\n",
       "      <td>0.108550</td>\n",
       "      <td>0.490947</td>\n",
       "    </tr>\n",
       "    <tr>\n",
       "      <th>min</th>\n",
       "      <td>0.00000</td>\n",
       "      <td>0.000000</td>\n",
       "      <td>0.000000</td>\n",
       "      <td>0.000000</td>\n",
       "      <td>0.000000</td>\n",
       "    </tr>\n",
       "    <tr>\n",
       "      <th>25%</th>\n",
       "      <td>1593.25000</td>\n",
       "      <td>0.000000</td>\n",
       "      <td>0.000000</td>\n",
       "      <td>0.000000</td>\n",
       "      <td>0.000000</td>\n",
       "    </tr>\n",
       "    <tr>\n",
       "      <th>50%</th>\n",
       "      <td>3186.50000</td>\n",
       "      <td>0.000000</td>\n",
       "      <td>0.000000</td>\n",
       "      <td>0.000000</td>\n",
       "      <td>0.000000</td>\n",
       "    </tr>\n",
       "    <tr>\n",
       "      <th>75%</th>\n",
       "      <td>4779.75000</td>\n",
       "      <td>1.000000</td>\n",
       "      <td>0.000000</td>\n",
       "      <td>0.000000</td>\n",
       "      <td>1.000000</td>\n",
       "    </tr>\n",
       "    <tr>\n",
       "      <th>max</th>\n",
       "      <td>6373.00000</td>\n",
       "      <td>1.000000</td>\n",
       "      <td>1.000000</td>\n",
       "      <td>1.000000</td>\n",
       "      <td>1.000000</td>\n",
       "    </tr>\n",
       "  </tbody>\n",
       "</table>\n",
       "</div>"
      ],
      "text/plain": [
       "       Unnamed: 0   harassment    IndirectH    PhysicalH      SexualH\n",
       "count  6374.00000  6374.000000  6374.000000  6374.000000  6374.000000\n",
       "mean   3186.50000     0.425635     0.008629     0.011923     0.405083\n",
       "std    1840.15964     0.494478     0.092497     0.108550     0.490947\n",
       "min       0.00000     0.000000     0.000000     0.000000     0.000000\n",
       "25%    1593.25000     0.000000     0.000000     0.000000     0.000000\n",
       "50%    3186.50000     0.000000     0.000000     0.000000     0.000000\n",
       "75%    4779.75000     1.000000     0.000000     0.000000     1.000000\n",
       "max    6373.00000     1.000000     1.000000     1.000000     1.000000"
      ]
     },
     "execution_count": 8,
     "metadata": {},
     "output_type": "execute_result"
    }
   ],
   "source": [
    "df_train.describe()"
   ]
  },
  {
   "cell_type": "code",
   "execution_count": 9,
   "metadata": {},
   "outputs": [
    {
     "name": "stdout",
     "output_type": "stream",
     "text": [
      "conteo de tweets clase Harassment Counter({0: 3661, 1: 2713})\n",
      "conteo de tweets clase IndirectH Counter({0: 6319, 1: 55})\n",
      "conteo de tweets clase PhysicalH Counter({0: 6298, 1: 76})\n",
      "conteo de tweets clase SexualH Counter({0: 3792, 1: 2582})\n"
     ]
    }
   ],
   "source": [
    "from collections import Counter\n",
    "print (\"conteo de tweets clase Harassment\",Counter(df_train['harassment']))\n",
    "print (\"conteo de tweets clase IndirectH\",Counter(df_train['IndirectH']))\n",
    "print (\"conteo de tweets clase PhysicalH\",Counter(df_train['PhysicalH']))\n",
    "print (\"conteo de tweets clase SexualH\",Counter(df_train['SexualH']))"
   ]
  },
  {
   "cell_type": "code",
   "execution_count": 10,
   "metadata": {},
   "outputs": [
    {
     "data": {
      "text/plain": [
       "array([1, 0, 0, 1, 1, 0, 1, 1, 0, 0, 0, 1, 0, 1, 1, 0, 0, 1, 0, 0])"
      ]
     },
     "execution_count": 10,
     "metadata": {},
     "output_type": "execute_result"
    }
   ],
   "source": [
    "y_train_bi=df_train['harassment'].values\n",
    "y_train_bi[:20]\n",
    "#labels_mul= 0:non-harassment, 1:harassment, 2:IndirectH, 3:PhysicalH, 4:SexualH\n"
   ]
  },
  {
   "cell_type": "code",
   "execution_count": 11,
   "metadata": {},
   "outputs": [
    {
     "data": {
      "text/plain": [
       "numpy.ndarray"
      ]
     },
     "execution_count": 11,
     "metadata": {},
     "output_type": "execute_result"
    }
   ],
   "source": [
    "type(y_train_bi)"
   ]
  },
  {
   "cell_type": "code",
   "execution_count": 12,
   "metadata": {},
   "outputs": [
    {
     "name": "stdout",
     "output_type": "stream",
     "text": [
      "[[ 0.  1.]\n",
      " [ 1.  0.]\n",
      " [ 1.  0.]\n",
      " [ 0.  1.]\n",
      " [ 0.  1.]\n",
      " [ 1.  0.]\n",
      " [ 0.  1.]\n",
      " [ 0.  1.]\n",
      " [ 1.  0.]\n",
      " [ 1.  0.]]\n"
     ]
    },
    {
     "data": {
      "text/plain": [
       "(6374, 2)"
      ]
     },
     "execution_count": 12,
     "metadata": {},
     "output_type": "execute_result"
    }
   ],
   "source": [
    "y_train_bic=to_categorical(y_train_bi,num_classes=2)\n",
    "print (y_train_bic[0:10])\n",
    "y_train_bic.shape"
   ]
  },
  {
   "cell_type": "code",
   "execution_count": 13,
   "metadata": {},
   "outputs": [
    {
     "data": {
      "text/plain": [
       "array([[ 0.,  0.,  0.,  0.,  1.],\n",
       "       [ 1.,  0.,  0.,  0.,  0.],\n",
       "       [ 1.,  0.,  0.,  0.,  0.],\n",
       "       ..., \n",
       "       [ 0.,  0.,  0.,  0.,  1.],\n",
       "       [ 1.,  0.,  0.,  0.,  0.],\n",
       "       [ 0.,  0.,  0.,  0.,  1.]])"
      ]
     },
     "execution_count": 13,
     "metadata": {},
     "output_type": "execute_result"
    }
   ],
   "source": [
    "ys=df_train.values[:,2:]\n",
    "\n",
    "y_train_mul=np.zeros((df_train.shape[0],5))\n",
    "i=0\n",
    "for label in ys:\n",
    "    if np.sum(label)==0:\n",
    "        y_train_mul[i][0]=1\n",
    "    else: \n",
    "        y_train_mul[i]=np.concatenate([[0,0],label[1:]])\n",
    "    i+=1\n",
    "y_train_mul"
   ]
  },
  {
   "cell_type": "code",
   "execution_count": 14,
   "metadata": {
    "scrolled": true
   },
   "outputs": [
    {
     "data": {
      "text/plain": [
       "array([[ 0.,  0.,  0.,  0.,  1.],\n",
       "       [ 1.,  0.,  0.,  0.,  0.],\n",
       "       [ 1.,  0.,  0.,  0.,  0.],\n",
       "       [ 0.,  0.,  0.,  0.,  1.],\n",
       "       [ 0.,  0.,  0.,  0.,  1.],\n",
       "       [ 1.,  0.,  0.,  0.,  0.],\n",
       "       [ 0.,  0.,  0.,  0.,  1.],\n",
       "       [ 0.,  0.,  0.,  0.,  1.],\n",
       "       [ 1.,  0.,  0.,  0.,  0.],\n",
       "       [ 1.,  0.,  0.,  0.,  0.],\n",
       "       [ 1.,  0.,  0.,  0.,  0.],\n",
       "       [ 0.,  0.,  0.,  0.,  1.],\n",
       "       [ 1.,  0.,  0.,  0.,  0.],\n",
       "       [ 0.,  0.,  0.,  0.,  1.],\n",
       "       [ 0.,  0.,  0.,  0.,  1.],\n",
       "       [ 1.,  0.,  0.,  0.,  0.],\n",
       "       [ 1.,  0.,  0.,  0.,  0.],\n",
       "       [ 0.,  0.,  0.,  0.,  1.],\n",
       "       [ 1.,  0.,  0.,  0.,  0.],\n",
       "       [ 1.,  0.,  0.,  0.,  0.]])"
      ]
     },
     "execution_count": 14,
     "metadata": {},
     "output_type": "execute_result"
    }
   ],
   "source": [
    "y_train_mul[:20]"
   ]
  },
  {
   "cell_type": "code",
   "execution_count": 15,
   "metadata": {},
   "outputs": [
    {
     "name": "stdout",
     "output_type": "stream",
     "text": [
      "[['pic', 'mexican', 'school', 'girl', 'naked', 'melanie', 'safka', 'fake', 'nude', 'photo', 'hardcore', 'slut', 'movie', 'alicia', 'moore', 'porn', 'star', 'toon', 'love'], ['rt', 'shereiqns', 'having', 'curly', 'hair', 'is', 'a', 'gotdamn', 'chore', 'do', 'not', 'let', 'the', 'internet', 'fool', 'you', 'ok'], ['breakingnews', '<number>', 'unexplained', 'prisoner', 'death', 'murder', 'amp', '<number>', 'attempted', 'suicide', 'samswey', 'shacking', 'sifill', 'ldf'], ['girl', 'dirty', 'quarterback', 'latino', 'pokemon', 'young', 'handjob', 'kissing', 'gangbang', 'w', 'x89', 't', 'co', 'wrm4xo00vj'], ['miliondollameat', 'sexting', 'n', 'ngirl', 'daddy', 'n', 'nme', 'listen', 'bitch', 'gonna', 'watch', 'these', 'what']]\n"
     ]
    }
   ],
   "source": [
    "data_train=[]\n",
    "for tw in df_train['tweet_content']:\n",
    "    data_train.append(cleaner(tw))\n",
    "print (data_train[:5])"
   ]
  },
  {
   "cell_type": "code",
   "execution_count": 16,
   "metadata": {},
   "outputs": [
    {
     "name": "stdout",
     "output_type": "stream",
     "text": [
      "Se encontraron 1193514 terminos con sus vectores de embedding.\n"
     ]
    }
   ],
   "source": [
    "embeddings_index = {}\n",
    "f = open(os.path.join(\"../../glove.twitter.27B/glove.twitter.27B.200d.txt\"))#'glove.twitter.27B.100d.txt'))\n",
    "for line in f:\n",
    "    values = line.split()\n",
    "    word = values[0]\n",
    "    coefs = np.asarray(values[1:], dtype='float32')\n",
    "    embeddings_index[word] = coefs\n",
    "f.close()\n",
    "\n",
    "print('Se encontraron %s terminos con sus vectores de embedding.' % len(embeddings_index))"
   ]
  },
  {
   "cell_type": "code",
   "execution_count": 17,
   "metadata": {},
   "outputs": [
    {
     "data": {
      "text/plain": [
       "16188"
      ]
     },
     "execution_count": 17,
     "metadata": {},
     "output_type": "execute_result"
    }
   ],
   "source": [
    "word_index=dict()\n",
    "j=1\n",
    "for frase in data_train:\n",
    "    for term in frase:\n",
    "        if term not in word_index.keys():\n",
    "            word_index[term]=j\n",
    "            j+=1\n",
    "    \n",
    "len(word_index.keys())"
   ]
  },
  {
   "cell_type": "code",
   "execution_count": 18,
   "metadata": {
    "collapsed": true
   },
   "outputs": [],
   "source": [
    "embedding_vector=200\n",
    "embedding_matrix = np.zeros((len(word_index.keys())+1, embedding_vector))   #puede probar otra inicialización\n",
    "\n",
    "for word, i in word_index.items():\n",
    "    embedding_vector = embeddings_index.get(word)\n",
    "    if embedding_vector is not None:\n",
    "        embedding_matrix[i] = embedding_vector\n",
    "\n"
   ]
  },
  {
   "cell_type": "code",
   "execution_count": 19,
   "metadata": {},
   "outputs": [
    {
     "data": {
      "text/plain": [
       "Counter({0: 3661, 1: 2713})"
      ]
     },
     "execution_count": 19,
     "metadata": {},
     "output_type": "execute_result"
    }
   ],
   "source": [
    "Counter(y_train_bi)"
   ]
  },
  {
   "cell_type": "code",
   "execution_count": 20,
   "metadata": {},
   "outputs": [
    {
     "name": "stdout",
     "output_type": "stream",
     "text": [
      "[ 0.87052718  1.17471434]\n"
     ]
    }
   ],
   "source": [
    "from sklearn.utils import class_weight\n",
    "\n",
    "class_weights = class_weight.compute_class_weight('balanced', np.unique(y_train_bi), y_train_bi)#{0: 3.,   1: 6.,   2: 5.,  3: 3.}\n",
    "print (class_weights)"
   ]
  },
  {
   "cell_type": "code",
   "execution_count": 21,
   "metadata": {},
   "outputs": [
    {
     "name": "stdout",
     "output_type": "stream",
     "text": [
      "[[1, 2, 3, 4, 5, 6, 7, 8, 9, 10, 11, 12, 13, 14, 15, 16, 17, 18, 19], [20, 21, 22, 23, 24, 25, 26, 27, 28, 29, 30, 31, 32, 33, 34, 35, 36]]\n",
      "['pic', 'mexican', 'school', 'girl', 'naked', 'melanie', 'safka', 'fake', 'nude', 'photo', 'hardcore', 'slut', 'movie', 'alicia', 'moore', 'porn', 'star', 'toon', 'love']\n",
      "['rt', 'shereiqns', 'having', 'curly', 'hair', 'is', 'a', 'gotdamn', 'chore', 'do', 'not', 'let', 'the', 'internet', 'fool', 'you', 'ok']\n"
     ]
    }
   ],
   "source": [
    "from keras.preprocessing import sequence\n",
    "\n",
    "x_new_train = [[word_index[word] for word in text] for text in data_train]\n",
    "print(x_new_train[0:2])\n",
    "\n",
    "print (data_train[0])\n",
    "print (data_train[1])"
   ]
  },
  {
   "cell_type": "code",
   "execution_count": 22,
   "metadata": {},
   "outputs": [
    {
     "data": {
      "text/plain": [
       "<matplotlib.axes._subplots.AxesSubplot at 0x7f506bb3e748>"
      ]
     },
     "execution_count": 22,
     "metadata": {},
     "output_type": "execute_result"
    },
    {
     "data": {
      "image/png": "[encoded data removed]",
      "text/plain": [
       "<matplotlib.figure.Figure at 0x7f506bac69b0>"
      ]
     },
     "metadata": {},
     "output_type": "display_data"
    }
   ],
   "source": [
    "import seaborn as sns\n",
    "sns.boxplot(list(map(len,x_new_train)))"
   ]
  },
  {
   "cell_type": "code",
   "execution_count": 23,
   "metadata": {},
   "outputs": [
    {
     "name": "stdout",
     "output_type": "stream",
     "text": [
      "76\n"
     ]
    },
    {
     "data": {
      "text/plain": [
       "(6374, 76)"
      ]
     },
     "execution_count": 23,
     "metadata": {},
     "output_type": "execute_result"
    }
   ],
   "source": [
    "max_input_lenght = max(list(map(len,x_new_train))) #modificar este valor en base a su experimentación\n",
    "X_train = sequence.pad_sequences(x_new_train,maxlen=max_input_lenght,padding='post',value=0)\n",
    "print (max_input_lenght) \n",
    "X_train.shape"
   ]
  },
  {
   "cell_type": "markdown",
   "metadata": {},
   "source": [
    "#### Carga data Validación"
   ]
  },
  {
   "cell_type": "code",
   "execution_count": 24,
   "metadata": {},
   "outputs": [
    {
     "name": "stdout",
     "output_type": "stream",
     "text": [
      "conteo de tweets clase Harassment Counter({0: 1493, 1: 632})\n",
      "conteo de tweets clase IndirectH Counter({0: 2054, 1: 71})\n",
      "conteo de tweets clase PhysicalH Counter({0: 2089, 1: 36})\n",
      "conteo de tweets clase SexualH Counter({0: 1600, 1: 525})\n"
     ]
    },
    {
     "data": {
      "text/plain": [
       "array([0, 0, 1, 0, 1, 0, 0, 1, 0, 1, 1, 1, 1, 0, 0, 0, 0, 0, 1, 1])"
      ]
     },
     "execution_count": 24,
     "metadata": {},
     "output_type": "execute_result"
    }
   ],
   "source": [
    "print (\"conteo de tweets clase Harassment\",Counter(df_val['harassment']))\n",
    "print (\"conteo de tweets clase IndirectH\",Counter(df_val['IndirectH']))\n",
    "print (\"conteo de tweets clase PhysicalH\",Counter(df_val['PhysicalH']))\n",
    "print (\"conteo de tweets clase SexualH\",Counter(df_val['SexualH']))\n",
    "y_val_bin=df_val['harassment'].values\n",
    "y_val_bin[:20]"
   ]
  },
  {
   "cell_type": "code",
   "execution_count": 25,
   "metadata": {},
   "outputs": [
    {
     "data": {
      "text/plain": [
       "array([[ 1.,  0.,  0.,  0.,  0.],\n",
       "       [ 1.,  0.,  0.,  0.,  0.],\n",
       "       [ 0.,  0.,  0.,  0.,  1.],\n",
       "       ..., \n",
       "       [ 1.,  0.,  0.,  0.,  0.],\n",
       "       [ 1.,  0.,  0.,  0.,  0.],\n",
       "       [ 1.,  0.,  0.,  0.,  0.]])"
      ]
     },
     "execution_count": 25,
     "metadata": {},
     "output_type": "execute_result"
    }
   ],
   "source": [
    "ys_v=df_val.values[:,2:]\n",
    "\n",
    "y_val_mul=np.zeros((df_val.shape[0],5))\n",
    "i=0\n",
    "for label in ys_v:\n",
    "    if np.sum(label)==0:\n",
    "        y_val_mul[i][0]=1\n",
    "    else: \n",
    "        y_val_mul[i]=np.concatenate([[0,0],label[1:]])\n",
    "    i+=1\n",
    "y_val_mul"
   ]
  },
  {
   "cell_type": "code",
   "execution_count": 26,
   "metadata": {},
   "outputs": [
    {
     "name": "stdout",
     "output_type": "stream",
     "text": [
      "[['rt', 'glossphoenix', 'some', 'of', 'y', 'all', 'never', 'watched', 'collected', 'and', 'fucked', 'with', 'the', 'bratz', 'movie', 'and', 'it', 'show'], ['omg', 'can', 't', 'believe', 'i', 'm', 'doing', 'this', 'selling', 'my', 'dropbox', 'folder', 'w', '<number>', 'nude', 'amp', '<number>', 'video', 'amp', 'dming', 'a', 'live', 'nude', 'f'], ['asa', 'akira', 'ava', 'lauren', 'beach', 'sex', 'free', 'porn', 'video', 'french', 'anal', 'ftm', 'porn', 'fuck', 'me', 'hard', 'mature', 'sex', 'milf', 'anal', 'pokemon', 'hent'], ['anyone', 'sassy', 'smart', 'mouth', 'cuuuuteeee', 'old', 'favorite', 'word', 'x89', 'x89', 'amp', 'x89', 'boo', 'x89', 'x9d', 'y', 'x89', 'all', 'sh', 'x89', 't', 'co', 'aqxguisj2x'], ['this', 'is', 'why', 'you', 're', 'scared', 'of', 'karma', 'you', 'got', 'to', 'know', 'it', 's', 'gonna', 'be', 'a', 'bitch', 'what', 'you', 'do', 'to', 'our', 'baby', 'will', 'happen']]\n"
     ]
    }
   ],
   "source": [
    "data_val=[]\n",
    "for tw in df_val['tweet_content']:\n",
    "    data_val.append(cleaner(tw))\n",
    "print (data_val[:5])"
   ]
  },
  {
   "cell_type": "code",
   "execution_count": 27,
   "metadata": {},
   "outputs": [
    {
     "data": {
      "text/plain": [
       "Counter({0: 1493, 1: 632})"
      ]
     },
     "execution_count": 27,
     "metadata": {},
     "output_type": "execute_result"
    }
   ],
   "source": [
    "Counter(y_val_bin)"
   ]
  },
  {
   "cell_type": "code",
   "execution_count": 28,
   "metadata": {
    "collapsed": true
   },
   "outputs": [],
   "source": [
    "Vec_train=[]\n",
    "tweets_c_a=data_train\n",
    "vocab_train=[]\n",
    "vocab=list(embeddings_index.keys())\n",
    "for post in tweets_c_a:\n",
    "    posteo=[]\n",
    "    for term in post:   #para todos los terminos de un tweet \n",
    "        vector=embeddings_index.get(term)\n",
    "        if vector is None:       \n",
    "            posteo.append(np.zeros(200))\n",
    "        else:\n",
    "            posteo.append(np.asarray(vector))\n",
    "            vocab_train.append(term)\n",
    "    Vec_train.append(np.asarray(posteo))"
   ]
  },
  {
   "cell_type": "code",
   "execution_count": 29,
   "metadata": {
    "collapsed": true
   },
   "outputs": [],
   "source": [
    "Vec_val_ig=[]\n",
    "tweets_l_vali=data_val\n",
    "vocab=list(embeddings_index.keys())\n",
    "for post in tweets_l_vali:\n",
    "    temp=[]\n",
    "    for term in post:  \n",
    "        if term in vocab_train:\n",
    "            vector=embeddings_index.get(term)\n",
    "            if vector is None:       \n",
    "                temp.append(np.zeros(200))\n",
    "            else:\n",
    "                temp.append(np.asarray(vector))\n",
    "    Vec_val_ig.append(temp)"
   ]
  },
  {
   "cell_type": "code",
   "execution_count": 30,
   "metadata": {},
   "outputs": [
    {
     "data": {
      "text/plain": [
       "(2125, 6)"
      ]
     },
     "execution_count": 30,
     "metadata": {},
     "output_type": "execute_result"
    }
   ],
   "source": [
    "df_val.shape"
   ]
  },
  {
   "cell_type": "code",
   "execution_count": 31,
   "metadata": {},
   "outputs": [
    {
     "data": {
      "text/plain": [
       "(2125,)"
      ]
     },
     "execution_count": 31,
     "metadata": {},
     "output_type": "execute_result"
    }
   ],
   "source": [
    "np.asarray(Vec_val_ig).shape"
   ]
  },
  {
   "cell_type": "code",
   "execution_count": 32,
   "metadata": {
    "collapsed": true
   },
   "outputs": [],
   "source": [
    "all_val=[]\n",
    "for text in data_val:\n",
    "    temp=[]\n",
    "    for word in text:\n",
    "        try:\n",
    "            temp.append(word_index[word])\n",
    "        except:\n",
    "            continue\n",
    "    all_val.append(temp)"
   ]
  },
  {
   "cell_type": "code",
   "execution_count": 33,
   "metadata": {},
   "outputs": [
    {
     "name": "stdout",
     "output_type": "stream",
     "text": [
      "[[20, 1526, 422, 438, 393, 664, 159, 12417, 142, 367, 318, 32, 13, 142, 95, 192], [3413, 94, 60, 521, 97, 143, 122, 117, 1407, 113, 1408, 58, 38, 9, 43, 38, 443, 43, 1976, 26, 111, 9, 282]]\n",
      "[['rt', 'glossphoenix', 'some', 'of', 'y', 'all', 'never', 'watched', 'collected', 'and', 'fucked', 'with', 'the', 'bratz', 'movie', 'and', 'it', 'show'], ['omg', 'can', 't', 'believe', 'i', 'm', 'doing', 'this', 'selling', 'my', 'dropbox', 'folder', 'w', '<number>', 'nude', 'amp', '<number>', 'video', 'amp', 'dming', 'a', 'live', 'nude', 'f']]\n"
     ]
    },
    {
     "data": {
      "text/plain": [
       "2125"
      ]
     },
     "execution_count": 33,
     "metadata": {},
     "output_type": "execute_result"
    }
   ],
   "source": [
    "x_new_val=all_val\n",
    "\n",
    "print(x_new_val[0:2])\n",
    "print (data_val[:2])\n",
    "len(all_val)\n"
   ]
  },
  {
   "cell_type": "code",
   "execution_count": 34,
   "metadata": {},
   "outputs": [
    {
     "name": "stdout",
     "output_type": "stream",
     "text": [
      "(2125, 76)\n"
     ]
    }
   ],
   "source": [
    "X_val_ig = sequence.pad_sequences(x_new_val,maxlen=max_input_lenght,padding='post',value=0)\n",
    "print (np.asarray(X_val_ig).shape)"
   ]
  },
  {
   "cell_type": "code",
   "execution_count": 35,
   "metadata": {},
   "outputs": [
    {
     "data": {
      "text/plain": [
       "array([0, 0, 1, 0, 1])"
      ]
     },
     "execution_count": 35,
     "metadata": {},
     "output_type": "execute_result"
    }
   ],
   "source": [
    "y_val_bin[:5]"
   ]
  },
  {
   "cell_type": "code",
   "execution_count": 36,
   "metadata": {},
   "outputs": [
    {
     "name": "stdout",
     "output_type": "stream",
     "text": [
      "[[ 1.  0.]\n",
      " [ 1.  0.]\n",
      " [ 0.  1.]\n",
      " [ 1.  0.]\n",
      " [ 0.  1.]\n",
      " [ 1.  0.]\n",
      " [ 1.  0.]\n",
      " [ 0.  1.]\n",
      " [ 1.  0.]\n",
      " [ 0.  1.]]\n"
     ]
    },
    {
     "data": {
      "text/plain": [
       "(2125, 2)"
      ]
     },
     "execution_count": 36,
     "metadata": {},
     "output_type": "execute_result"
    }
   ],
   "source": [
    "y_val_bic=to_categorical(y_val_bin,num_classes=2)\n",
    "print (y_val_bic[0:10])\n",
    "y_val_bic.shape"
   ]
  },
  {
   "cell_type": "code",
   "execution_count": null,
   "metadata": {
    "collapsed": true
   },
   "outputs": [],
   "source": []
  },
  {
   "cell_type": "code",
   "execution_count": 37,
   "metadata": {
    "collapsed": true
   },
   "outputs": [],
   "source": [
    "from sklearn.model_selection import KFold\n",
    "from sklearn.metrics import accuracy_score,f1_score, confusion_matrix\n",
    "from sklearn.preprocessing import normalize\n",
    "import time\n",
    "\n",
    "def plot_confusion_matrix(cm, target_names, title='Confusion matrix (f1-score)',cmap=None, normalize=True):\n",
    "    \n",
    "    import itertools\n",
    "    accuracy = np.trace(cm) / float(np.sum(cm))\n",
    "    misclass = 1 - accuracy\n",
    "    if cmap is None:\n",
    "        cmap = plt.get_cmap('Blues')\n",
    "\n",
    "    plt.figure(figsize=(8, 6))\n",
    "    plt.imshow(cm, interpolation='nearest', cmap=cmap)\n",
    "    plt.title(title)\n",
    "    plt.colorbar()\n",
    "\n",
    "    if target_names is not None:\n",
    "        tick_marks = np.arange(len(target_names))\n",
    "        plt.xticks(tick_marks, target_names, rotation=45)\n",
    "        plt.yticks(tick_marks, target_names)\n",
    "\n",
    "    if normalize:\n",
    "        cm = cm.astype('float') / cm.sum(axis=1)[:, np.newaxis]\n",
    "    thresh = cm.max() / 1.5 if normalize else cm.max() / 2\n",
    "    for i, j in itertools.product(range(cm.shape[0]), range(cm.shape[1])):\n",
    "        if normalize:\n",
    "            plt.text(j, i, \"{:0.4f}\".format(cm[i, j]),\n",
    "                     horizontalalignment=\"center\",\n",
    "                     color=\"white\" if cm[i, j] > thresh else \"black\")\n",
    "        else:\n",
    "            plt.text(j, i, \"{:,}\".format(cm[i, j]),\n",
    "                     horizontalalignment=\"center\",\n",
    "                     color=\"white\" if cm[i, j] > thresh else \"black\")\n",
    "\n",
    "\n",
    "    plt.tight_layout()\n",
    "    plt.ylabel('True label')\n",
    "    plt.xlabel('Predicted label\\naccuracy={:0.4f}; misclass={:0.4f}'.format(accuracy, misclass))\n",
    "    plt.show()"
   ]
  },
  {
   "cell_type": "markdown",
   "metadata": {},
   "source": [
    "### Modelo Conv\n"
   ]
  },
  {
   "cell_type": "code",
   "execution_count": 38,
   "metadata": {},
   "outputs": [
    {
     "data": {
      "text/plain": [
       "<matplotlib.axes._subplots.AxesSubplot at 0x7f506533a550>"
      ]
     },
     "execution_count": 38,
     "metadata": {},
     "output_type": "execute_result"
    },
    {
     "data": {
      "image/png": "[encoded data removed]",
      "text/plain": [
       "<matplotlib.figure.Figure at 0x7f50653320b8>"
      ]
     },
     "metadata": {},
     "output_type": "display_data"
    }
   ],
   "source": [
    "sns.countplot(y_train_bi)"
   ]
  },
  {
   "cell_type": "code",
   "execution_count": 39,
   "metadata": {
    "collapsed": true
   },
   "outputs": [],
   "source": [
    "from keras import backend as K\n",
    "\n",
    "def focal_loss(gamma=2., weights=1):   #weights np.asarray()\n",
    "    weights= K.variable(weights)\n",
    "    def focal_loss_fixed(y_true, y_pred):\n",
    "        y_true = K.clip(y_true, K.epsilon(),1)\n",
    "        y_pred = K.clip(y_pred,K.epsilon(),1)\n",
    "        return - K.sum(weights* K.pow(1. - y_pred, gamma)* y_true * K.log(y_pred), axis=-1) \n",
    "    return focal_loss_fixed"
   ]
  },
  {
   "cell_type": "code",
   "execution_count": 40,
   "metadata": {},
   "outputs": [
    {
     "name": "stdout",
     "output_type": "stream",
     "text": [
      "_________________________________________________________________\n",
      "Layer (type)                 Output Shape              Param #   \n",
      "=================================================================\n",
      "input_1 (InputLayer)         (None, 76)                0         \n",
      "_________________________________________________________________\n",
      "embedding_1 (Embedding)      (None, 76, 200)           3237800   \n",
      "_________________________________________________________________\n",
      "batch_normalization_1 (Batch (None, 76, 200)           800       \n",
      "_________________________________________________________________\n",
      "conv1d_1 (Conv1D)            (None, 76, 128)           128128    \n",
      "_________________________________________________________________\n",
      "max_pooling1d_1 (MaxPooling1 (None, 25, 128)           0         \n",
      "_________________________________________________________________\n",
      "batch_normalization_2 (Batch (None, 25, 128)           512       \n",
      "_________________________________________________________________\n",
      "dropout_1 (Dropout)          (None, 25, 128)           0         \n",
      "_________________________________________________________________\n",
      "conv1d_2 (Conv1D)            (None, 25, 64)            41024     \n",
      "_________________________________________________________________\n",
      "max_pooling1d_2 (MaxPooling1 (None, 8, 64)             0         \n",
      "_________________________________________________________________\n",
      "batch_normalization_3 (Batch (None, 8, 64)             256       \n",
      "_________________________________________________________________\n",
      "dropout_2 (Dropout)          (None, 8, 64)             0         \n",
      "_________________________________________________________________\n",
      "flatten_1 (Flatten)          (None, 512)               0         \n",
      "_________________________________________________________________\n",
      "dense_1 (Dense)              (None, 64)                32832     \n",
      "_________________________________________________________________\n",
      "batch_normalization_4 (Batch (None, 64)                256       \n",
      "_________________________________________________________________\n",
      "dense_2 (Dense)              (None, 1)                 65        \n",
      "=================================================================\n",
      "Total params: 3,441,673\n",
      "Trainable params: 202,961\n",
      "Non-trainable params: 3,238,712\n",
      "_________________________________________________________________\n"
     ]
    }
   ],
   "source": [
    "embedding_vector=200\n",
    "embedding_layer = Embedding(input_dim=len(word_index.keys())+1,output_dim=embedding_vector,weights=[embedding_matrix],\n",
    "                     input_length=max_input_lenght,trainable=False)\n",
    "\n",
    "sequence_input = Input(shape=(max_input_lenght,))\n",
    "embedded_sequences = embedding_layer(sequence_input)\n",
    "batch = BatchNormalization()(embedded_sequences)\n",
    "cov1= Conv1D(128, 5, activation='relu',padding='same')(batch)\n",
    "pool = MaxPooling1D(pool_size=3)(cov1)    \n",
    "batch = BatchNormalization()(pool)\n",
    "drop = Dropout(0.65)(batch)\n",
    "cov1= Conv1D(64, 5, activation='relu',padding='same')(drop)\n",
    "pool = MaxPooling1D(pool_size=3)(cov1)\n",
    "batch = BatchNormalization()(pool)\n",
    "drop = Dropout(0.65)(batch)\n",
    "flat = Flatten()(drop)\n",
    "preds = Dense(64, activation='relu')(flat)\n",
    "preds = BatchNormalization()(preds)\n",
    "preds = Dense(1, activation='sigmoid')(preds)\n",
    "model = Model(sequence_input, preds)\n",
    "#model.compile(loss=focal_loss(2,weights=class_weights),optimizer='adam',metrics=['acc'])\n",
    "model.compile(loss='binary_crossentropy',optimizer='adam',metrics=['acc'])\n",
    "model.summary()"
   ]
  },
  {
   "cell_type": "code",
   "execution_count": 41,
   "metadata": {},
   "outputs": [
    {
     "data": {
      "text/plain": [
       "(6374, 76)"
      ]
     },
     "execution_count": 41,
     "metadata": {},
     "output_type": "execute_result"
    }
   ],
   "source": [
    "X_train.shape"
   ]
  },
  {
   "cell_type": "code",
   "execution_count": 42,
   "metadata": {},
   "outputs": [
    {
     "data": {
      "text/plain": [
       "(6374,)"
      ]
     },
     "execution_count": 42,
     "metadata": {},
     "output_type": "execute_result"
    }
   ],
   "source": [
    "y_train_bi.shape"
   ]
  },
  {
   "cell_type": "code",
   "execution_count": 43,
   "metadata": {},
   "outputs": [
    {
     "data": {
      "text/plain": [
       "(2125, 76)"
      ]
     },
     "execution_count": 43,
     "metadata": {},
     "output_type": "execute_result"
    }
   ],
   "source": [
    "X_val_ig.shape"
   ]
  },
  {
   "cell_type": "code",
   "execution_count": 44,
   "metadata": {},
   "outputs": [
    {
     "data": {
      "text/plain": [
       "(2125, 2)"
      ]
     },
     "execution_count": 44,
     "metadata": {},
     "output_type": "execute_result"
    }
   ],
   "source": [
    "y_val_bic.shape"
   ]
  },
  {
   "cell_type": "code",
   "execution_count": 45,
   "metadata": {
    "scrolled": true
   },
   "outputs": [
    {
     "name": "stdout",
     "output_type": "stream",
     "text": [
      "Train on 6374 samples, validate on 2125 samples\n",
      "Epoch 1/10\n",
      "6374/6374 [==============================] - 7s 1ms/step - loss: 0.5598 - acc: 0.7176 - val_loss: 0.3159 - val_acc: 0.8682\n",
      "Epoch 2/10\n",
      "6374/6374 [==============================] - 6s 885us/step - loss: 0.3836 - acc: 0.8415 - val_loss: 0.2896 - val_acc: 0.8861\n",
      "Epoch 3/10\n",
      "6374/6374 [==============================] - 6s 896us/step - loss: 0.3416 - acc: 0.8640 - val_loss: 0.2876 - val_acc: 0.8955\n",
      "Epoch 4/10\n",
      "6374/6374 [==============================] - 6s 894us/step - loss: 0.3193 - acc: 0.8762 - val_loss: 0.3359 - val_acc: 0.8809\n",
      "Epoch 5/10\n",
      "6374/6374 [==============================] - 6s 884us/step - loss: 0.3009 - acc: 0.8906 - val_loss: 0.3142 - val_acc: 0.8922\n",
      "Epoch 6/10\n",
      "6374/6374 [==============================] - 6s 916us/step - loss: 0.2841 - acc: 0.8905 - val_loss: 0.2842 - val_acc: 0.9007\n",
      "Epoch 7/10\n",
      "6374/6374 [==============================] - 6s 959us/step - loss: 0.2714 - acc: 0.8947 - val_loss: 0.2918 - val_acc: 0.8988\n",
      "Epoch 8/10\n",
      "6374/6374 [==============================] - 6s 910us/step - loss: 0.2509 - acc: 0.9046 - val_loss: 0.2919 - val_acc: 0.9002\n",
      "Epoch 9/10\n",
      "6374/6374 [==============================] - 5s 804us/step - loss: 0.2432 - acc: 0.9107 - val_loss: 0.2976 - val_acc: 0.9040\n",
      "Epoch 10/10\n",
      "6374/6374 [==============================] - 5s 775us/step - loss: 0.2319 - acc: 0.9137 - val_loss: 0.3013 - val_acc: 0.9021\n"
     ]
    }
   ],
   "source": [
    "history = model.fit(X_train, y_train_bi,batch_size=64,epochs=10,verbose=1,validation_data=(X_val_ig,y_val_bin),class_weight=class_weights)"
   ]
  },
  {
   "cell_type": "code",
   "execution_count": 46,
   "metadata": {},
   "outputs": [
    {
     "data": {
      "text/plain": [
       "array([[ 1.,  0.],\n",
       "       [ 1.,  0.],\n",
       "       [ 0.,  1.],\n",
       "       [ 1.,  0.]], dtype=float32)"
      ]
     },
     "execution_count": 46,
     "metadata": {},
     "output_type": "execute_result"
    }
   ],
   "source": [
    "y_val_bic[:4]"
   ]
  },
  {
   "cell_type": "code",
   "execution_count": 47,
   "metadata": {},
   "outputs": [
    {
     "name": "stdout",
     "output_type": "stream",
     "text": [
      "[[ 0.03495258]\n",
      " [ 0.12959157]\n",
      " [ 0.95789135]\n",
      " [ 0.0021408 ]\n",
      " [ 0.82644999]]\n",
      "[array([ 0.], dtype=float32), array([ 0.], dtype=float32), array([ 1.], dtype=float32), array([ 0.], dtype=float32), array([ 1.], dtype=float32)]\n",
      "Accuracy sobre validacion: 0.902117647059\n",
      "F1-score None sobre validación: [ 0.93272962  0.82037997]\n",
      "F1-score macro sobre validación: 0.876554795148\n",
      "Precision None sobre validación: [ 0.90181363  0.90304183]\n",
      "Recall None sobre validación: [ 0.96584059  0.75158228]\n"
     ]
    }
   ],
   "source": [
    "trainPredict = model.predict(X_val_ig, batch_size=64)\n",
    "print (trainPredict[:5])\n",
    "trainPredict=[np.round(pred) for pred in trainPredict]\n",
    "print (trainPredict[:5])\n",
    "acc_val= accuracy_score(y_val_bin, trainPredict)\n",
    "f1_val=f1_score(y_val_bin, trainPredict, average=None)  # labels=np.unique(trainPredict)\n",
    "f1_val_ma=f1_score(y_val_bin, trainPredict, average='macro')  # labels=np.unique(trainPredict)\n",
    "rec=recall_score(y_val_bin, trainPredict, average=None) \n",
    "pre=precision_score(y_val_bin, trainPredict, average=None) \n",
    "matriz_val=confusion_matrix(y_val_bin, trainPredict)\n",
    "\n",
    "print (\"Accuracy sobre validacion:\",acc_val)  \n",
    "print (\"F1-score None sobre validación:\",f1_val)\n",
    "print (\"F1-score macro sobre validación:\",f1_val_ma)\n",
    "print (\"Precision None sobre validación:\",pre)\n",
    "print (\"Recall None sobre validación:\",rec)"
   ]
  },
  {
   "cell_type": "code",
   "execution_count": 48,
   "metadata": {},
   "outputs": [
    {
     "data": {
      "image/png": "[encoded data removed]",
      "text/plain": [
       "<matplotlib.figure.Figure at 0x7f5056a0c898>"
      ]
     },
     "metadata": {},
     "output_type": "display_data"
    }
   ],
   "source": [
    "plot_confusion_matrix(normalize(matriz_val,axis=1,norm='l1'),[\"NonH\",\"H\"],\"Confusion Matrix Caso Binario\")"
   ]
  },
  {
   "cell_type": "markdown",
   "metadata": {},
   "source": [
    "#.91129547 0.88351254]\n",
    "#Recall None sobre validación: [0.9564635  0.780063\n",
    "(0.8835+0.7800)/2"
   ]
  },
  {
   "cell_type": "code",
   "execution_count": 49,
   "metadata": {},
   "outputs": [
    {
     "name": "stdout",
     "output_type": "stream",
     "text": [
      "_________________________________________________________________\n",
      "Layer (type)                 Output Shape              Param #   \n",
      "=================================================================\n",
      "input_2 (InputLayer)         (None, 76)                0         \n",
      "_________________________________________________________________\n",
      "embedding_2 (Embedding)      (None, 76, 200)           3237800   \n",
      "_________________________________________________________________\n",
      "batch_normalization_5 (Batch (None, 76, 200)           800       \n",
      "_________________________________________________________________\n",
      "conv1d_3 (Conv1D)            (None, 76, 128)           128128    \n",
      "_________________________________________________________________\n",
      "max_pooling1d_3 (MaxPooling1 (None, 25, 128)           0         \n",
      "_________________________________________________________________\n",
      "batch_normalization_6 (Batch (None, 25, 128)           512       \n",
      "_________________________________________________________________\n",
      "dropout_3 (Dropout)          (None, 25, 128)           0         \n",
      "_________________________________________________________________\n",
      "conv1d_4 (Conv1D)            (None, 25, 64)            41024     \n",
      "_________________________________________________________________\n",
      "max_pooling1d_4 (MaxPooling1 (None, 8, 64)             0         \n",
      "_________________________________________________________________\n",
      "batch_normalization_7 (Batch (None, 8, 64)             256       \n",
      "_________________________________________________________________\n",
      "dropout_4 (Dropout)          (None, 8, 64)             0         \n",
      "_________________________________________________________________\n",
      "flatten_2 (Flatten)          (None, 512)               0         \n",
      "_________________________________________________________________\n",
      "dense_3 (Dense)              (None, 64)                32832     \n",
      "_________________________________________________________________\n",
      "batch_normalization_8 (Batch (None, 64)                256       \n",
      "_________________________________________________________________\n",
      "dense_4 (Dense)              (None, 2)                 130       \n",
      "=================================================================\n",
      "Total params: 3,441,738\n",
      "Trainable params: 203,026\n",
      "Non-trainable params: 3,238,712\n",
      "_________________________________________________________________\n"
     ]
    }
   ],
   "source": [
    "# lo mismo con focal \n",
    "embedding_vector=200\n",
    "embedding_layer = Embedding(input_dim=len(word_index.keys())+1,output_dim=embedding_vector,weights=[embedding_matrix],\n",
    "                     input_length=max_input_lenght,trainable=False)\n",
    "\n",
    "sequence_input = Input(shape=(max_input_lenght,))\n",
    "embedded_sequences = embedding_layer(sequence_input)\n",
    "batch = BatchNormalization()(embedded_sequences)\n",
    "cov1= Conv1D(128, 5, activation='relu',padding='same')(batch)\n",
    "pool = MaxPooling1D(pool_size=3)(cov1)    \n",
    "batch = BatchNormalization()(pool)\n",
    "drop = Dropout(0.65)(batch)\n",
    "cov1= Conv1D(64, 5, activation='relu',padding='same')(drop)\n",
    "pool = MaxPooling1D(pool_size=3)(cov1)\n",
    "batch = BatchNormalization()(pool)\n",
    "drop = Dropout(0.65)(batch)\n",
    "flat = Flatten()(drop)\n",
    "preds = Dense(64, activation='relu')(flat)\n",
    "preds = BatchNormalization()(preds)\n",
    "preds = Dense(2, activation='softmax')(preds)\n",
    "model = Model(sequence_input, preds)\n",
    "model.compile(loss=focal_loss(2),optimizer='adam',metrics=['acc'])\n",
    "#model.compile(loss='binary_crossentropy',optimizer='adam',metrics=['acc'])\n",
    "model.summary()"
   ]
  },
  {
   "cell_type": "code",
   "execution_count": 50,
   "metadata": {},
   "outputs": [
    {
     "name": "stdout",
     "output_type": "stream",
     "text": [
      "Train on 6374 samples, validate on 2125 samples\n",
      "Epoch 1/10\n",
      "6374/6374 [==============================] - 7s 1ms/step - loss: 0.2825 - acc: 0.6723 - val_loss: 0.1134 - val_acc: 0.8089\n",
      "Epoch 2/10\n",
      "6374/6374 [==============================] - 6s 896us/step - loss: 0.1425 - acc: 0.7830 - val_loss: 0.0965 - val_acc: 0.8485\n",
      "Epoch 3/10\n",
      "6374/6374 [==============================] - 6s 920us/step - loss: 0.1167 - acc: 0.8105 - val_loss: 0.0934 - val_acc: 0.8555\n",
      "Epoch 4/10\n",
      "6374/6374 [==============================] - 6s 976us/step - loss: 0.1064 - acc: 0.8335 - val_loss: 0.0810 - val_acc: 0.8729\n",
      "Epoch 5/10\n",
      "6374/6374 [==============================] - 6s 945us/step - loss: 0.0963 - acc: 0.8543 - val_loss: 0.0771 - val_acc: 0.8786\n",
      "Epoch 6/10\n",
      "6374/6374 [==============================] - 6s 953us/step - loss: 0.0953 - acc: 0.8580 - val_loss: 0.0809 - val_acc: 0.8795\n",
      "Epoch 7/10\n",
      "6374/6374 [==============================] - 6s 937us/step - loss: 0.0893 - acc: 0.8657 - val_loss: 0.0758 - val_acc: 0.8885\n",
      "Epoch 8/10\n",
      "6374/6374 [==============================] - 6s 906us/step - loss: 0.0866 - acc: 0.8655 - val_loss: 0.0716 - val_acc: 0.8988\n",
      "Epoch 9/10\n",
      "6374/6374 [==============================] - 6s 875us/step - loss: 0.0827 - acc: 0.8797 - val_loss: 0.0757 - val_acc: 0.8880\n",
      "Epoch 10/10\n",
      "6374/6374 [==============================] - 6s 910us/step - loss: 0.0799 - acc: 0.8808 - val_loss: 0.0773 - val_acc: 0.8861\n"
     ]
    }
   ],
   "source": [
    "history = model.fit(X_train, y_train_bic,batch_size=64,epochs=10,verbose=1,validation_data=(X_val_ig,y_val_bic),class_weight=class_weights)"
   ]
  },
  {
   "cell_type": "code",
   "execution_count": 51,
   "metadata": {},
   "outputs": [
    {
     "name": "stdout",
     "output_type": "stream",
     "text": [
      "[0 0 1 0 0]\n",
      "Accuracy sobre validacion: 0.886117647059\n",
      "F1-score None sobre validación: [ 0.92283163  0.78276481]\n",
      "F1-score macro sobre validación: 0.852798222072\n",
      "Precision None sobre validación: [ 0.88070603  0.90456432]\n",
      "Recall None sobre validación: [ 0.96918955  0.68987342]\n"
     ]
    }
   ],
   "source": [
    "trainPredict = model.predict(X_val_ig, batch_size=64).argmax(axis=-1)\n",
    "print (trainPredict[:5])\n",
    "acc_val= accuracy_score(y_val_bin, trainPredict)\n",
    "f1_val=f1_score(y_val_bin, trainPredict, average=None)  # labels=np.unique(trainPredict)\n",
    "f1_val_ma=f1_score(y_val_bin, trainPredict, average='macro')  # labels=np.unique(trainPredict)\n",
    "rec=recall_score(y_val_bin, trainPredict, average=None) \n",
    "pre=precision_score(y_val_bin, trainPredict, average=None) \n",
    "matriz_val=confusion_matrix(y_val_bin, trainPredict)\n",
    "\n",
    "print (\"Accuracy sobre validacion:\",acc_val)  \n",
    "print (\"F1-score None sobre validación:\",f1_val)\n",
    "print (\"F1-score macro sobre validación:\",f1_val_ma)\n",
    "print (\"Precision None sobre validación:\",pre)\n",
    "print (\"Recall None sobre validación:\",rec)"
   ]
  },
  {
   "cell_type": "code",
   "execution_count": 52,
   "metadata": {},
   "outputs": [
    {
     "data": {
      "image/png": "[encoded data removed]",
      "text/plain": [
       "<matplotlib.figure.Figure at 0x7f50569368d0>"
      ]
     },
     "metadata": {},
     "output_type": "display_data"
    }
   ],
   "source": [
    "plot_confusion_matrix(normalize(matriz_val,axis=1,norm='l1'),[\"NonH\",\"H\"],\"Confusion Matrix Caso Binario + Focal Loss\")"
   ]
  },
  {
   "cell_type": "code",
   "execution_count": 53,
   "metadata": {},
   "outputs": [
    {
     "name": "stdout",
     "output_type": "stream",
     "text": [
      "_________________________________________________________________\n",
      "Layer (type)                 Output Shape              Param #   \n",
      "=================================================================\n",
      "input_3 (InputLayer)         (None, 76)                0         \n",
      "_________________________________________________________________\n",
      "embedding_3 (Embedding)      (None, 76, 200)           3237800   \n",
      "_________________________________________________________________\n",
      "batch_normalization_9 (Batch (None, 76, 200)           800       \n",
      "_________________________________________________________________\n",
      "conv1d_5 (Conv1D)            (None, 76, 128)           128128    \n",
      "_________________________________________________________________\n",
      "max_pooling1d_5 (MaxPooling1 (None, 25, 128)           0         \n",
      "_________________________________________________________________\n",
      "batch_normalization_10 (Batc (None, 25, 128)           512       \n",
      "_________________________________________________________________\n",
      "dropout_5 (Dropout)          (None, 25, 128)           0         \n",
      "_________________________________________________________________\n",
      "conv1d_6 (Conv1D)            (None, 25, 64)            41024     \n",
      "_________________________________________________________________\n",
      "max_pooling1d_6 (MaxPooling1 (None, 8, 64)             0         \n",
      "_________________________________________________________________\n",
      "batch_normalization_11 (Batc (None, 8, 64)             256       \n",
      "_________________________________________________________________\n",
      "dropout_6 (Dropout)          (None, 8, 64)             0         \n",
      "_________________________________________________________________\n",
      "flatten_3 (Flatten)          (None, 512)               0         \n",
      "_________________________________________________________________\n",
      "dense_5 (Dense)              (None, 128)               65664     \n",
      "_________________________________________________________________\n",
      "batch_normalization_12 (Batc (None, 128)               512       \n",
      "_________________________________________________________________\n",
      "dropout_7 (Dropout)          (None, 128)               0         \n",
      "_________________________________________________________________\n",
      "dense_6 (Dense)              (None, 2)                 258       \n",
      "=================================================================\n",
      "Total params: 3,474,954\n",
      "Trainable params: 236,114\n",
      "Non-trainable params: 3,238,840\n",
      "_________________________________________________________________\n"
     ]
    }
   ],
   "source": [
    "embedding_vector=200\n",
    "embedding_layer = Embedding(input_dim=len(word_index.keys())+1,output_dim=embedding_vector,weights=[embedding_matrix],\n",
    "                     input_length=max_input_lenght,trainable=False)\n",
    "\n",
    "sequence_input = Input(shape=(max_input_lenght,))\n",
    "embedded_sequences = embedding_layer(sequence_input)\n",
    "batch = BatchNormalization()(embedded_sequences)\n",
    "cov1= Conv1D(128, 5, activation='relu',padding='same')(batch)\n",
    "pool = MaxPooling1D(pool_size=3)(cov1)    \n",
    "\n",
    "batch = BatchNormalization()(pool)\n",
    "drop = Dropout(0.65)(batch)\n",
    "cov1= Conv1D(64, 5, activation='relu',padding='same')(drop)\n",
    "pool = MaxPooling1D(pool_size=3)(cov1)\n",
    "batch = BatchNormalization()(pool)\n",
    "drop = Dropout(0.65)(batch)\n",
    "flat = Flatten()(drop)\n",
    "preds = Dense(128, activation='relu')(flat)\n",
    "preds = BatchNormalization()(preds)\n",
    "preds= Dropout(0.3)(preds)\n",
    "preds = Dense(2, activation='softmax')(preds)\n",
    "model2 = Model(sequence_input, preds)\n",
    "model2.compile(loss=focal_loss(2, weights=class_weights),optimizer='adam',metrics=['acc'])  #ESTE LLEVA CLASS WEIGHTS\n",
    "model2.summary()"
   ]
  },
  {
   "cell_type": "code",
   "execution_count": 54,
   "metadata": {},
   "outputs": [
    {
     "name": "stdout",
     "output_type": "stream",
     "text": [
      "Train on 6374 samples, validate on 2125 samples\n",
      "Epoch 1/10\n",
      "6374/6374 [==============================] - 7s 1ms/step - loss: 0.4394 - acc: 0.6354 - val_loss: 0.1075 - val_acc: 0.8584\n",
      "Epoch 2/10\n",
      "6374/6374 [==============================] - 6s 867us/step - loss: 0.2095 - acc: 0.7458 - val_loss: 0.0881 - val_acc: 0.8814\n",
      "Epoch 3/10\n",
      "6374/6374 [==============================] - 6s 881us/step - loss: 0.1511 - acc: 0.7840 - val_loss: 0.0917 - val_acc: 0.8706\n",
      "Epoch 4/10\n",
      "6374/6374 [==============================] - 6s 868us/step - loss: 0.1190 - acc: 0.8226 - val_loss: 0.0828 - val_acc: 0.8875\n",
      "Epoch 5/10\n",
      "6374/6374 [==============================] - 6s 867us/step - loss: 0.1074 - acc: 0.8324 - val_loss: 0.0844 - val_acc: 0.8852\n",
      "Epoch 6/10\n",
      "6374/6374 [==============================] - 6s 951us/step - loss: 0.0976 - acc: 0.8514 - val_loss: 0.0816 - val_acc: 0.8899\n",
      "Epoch 7/10\n",
      "6374/6374 [==============================] - 8s 1ms/step - loss: 0.0956 - acc: 0.8566 - val_loss: 0.0788 - val_acc: 0.8951\n",
      "Epoch 8/10\n",
      "6374/6374 [==============================] - 7s 1ms/step - loss: 0.0929 - acc: 0.8660 - val_loss: 0.0974 - val_acc: 0.8800\n",
      "Epoch 9/10\n",
      "6374/6374 [==============================] - 6s 884us/step - loss: 0.0875 - acc: 0.8745 - val_loss: 0.0885 - val_acc: 0.8880\n",
      "Epoch 10/10\n",
      "6374/6374 [==============================] - 6s 982us/step - loss: 0.0852 - acc: 0.8772 - val_loss: 0.0891 - val_acc: 0.8904\n"
     ]
    }
   ],
   "source": [
    "history = model2.fit(X_train, y_train_bic,batch_size=64,epochs=10,verbose=1,validation_data=(X_val_ig,y_val_bic),class_weight=class_weights)"
   ]
  },
  {
   "cell_type": "code",
   "execution_count": 55,
   "metadata": {},
   "outputs": [
    {
     "name": "stdout",
     "output_type": "stream",
     "text": [
      "[0 0 1 0 1]\n",
      "Accuracy sobre validacion: 0.890352941176\n",
      "F1-score None sobre validación: [ 0.92553531  0.79214987]\n",
      "F1-score macro sobre validación: 0.858842590494\n",
      "Precision None sobre validación: [ 0.88508557  0.90797546]\n",
      "Recall None sobre validación: [ 0.96985934  0.70253165]\n"
     ]
    },
    {
     "data": {
      "image/png": "[encoded data removed]",
      "text/plain": [
       "<matplotlib.figure.Figure at 0x7f505470f5c0>"
      ]
     },
     "metadata": {},
     "output_type": "display_data"
    }
   ],
   "source": [
    "trainPredict = model2.predict(X_val_ig, batch_size=64).argmax(axis=-1)\n",
    "print (trainPredict[:5])\n",
    "acc_val= accuracy_score(y_val_bin, trainPredict)\n",
    "f1_val=f1_score(y_val_bin, trainPredict, average=None)  # labels=np.unique(trainPredict)\n",
    "f1_val_ma=f1_score(y_val_bin, trainPredict, average='macro')  # labels=np.unique(trainPredict)\n",
    "rec=recall_score(y_val_bin, trainPredict, average=None) \n",
    "pre=precision_score(y_val_bin, trainPredict, average=None) \n",
    "matriz_val=confusion_matrix(y_val_bin, trainPredict)\n",
    "\n",
    "print (\"Accuracy sobre validacion:\",acc_val)  \n",
    "print (\"F1-score None sobre validación:\",f1_val)\n",
    "print (\"F1-score macro sobre validación:\",f1_val_ma)\n",
    "print (\"Precision None sobre validación:\",pre)\n",
    "print (\"Recall None sobre validación:\",rec)\n",
    "\n",
    "plot_confusion_matrix(normalize(matriz_val,axis=1,norm='l1'),[\"NonH\",\"H\"],\"Confusion Matrix Caso Binario + Focal Loss\")"
   ]
  },
  {
   "cell_type": "markdown",
   "metadata": {},
   "source": [
    "Mejor modelo para la fase uno (caso bibnario) corresponde a la evaluación en focal loss con 10 epochs"
   ]
  },
  {
   "cell_type": "markdown",
   "metadata": {},
   "source": [
    "### Caso multiclass"
   ]
  },
  {
   "cell_type": "code",
   "execution_count": 56,
   "metadata": {},
   "outputs": [
    {
     "data": {
      "text/plain": [
       "2713"
      ]
     },
     "execution_count": 56,
     "metadata": {},
     "output_type": "execute_result"
    }
   ],
   "source": [
    "unnamed_har=np.where(df_train['harassment']== 1)[0]\n",
    "len(unnamed_har)"
   ]
  },
  {
   "cell_type": "code",
   "execution_count": 57,
   "metadata": {},
   "outputs": [
    {
     "data": {
      "text/plain": [
       "632"
      ]
     },
     "execution_count": 57,
     "metadata": {},
     "output_type": "execute_result"
    }
   ],
   "source": [
    "unnamed_har_val=np.where(df_val['harassment']== 1)[0]\n",
    "len(unnamed_har_val)"
   ]
  },
  {
   "cell_type": "code",
   "execution_count": 58,
   "metadata": {},
   "outputs": [
    {
     "data": {
      "text/plain": [
       "(2713, 6)"
      ]
     },
     "execution_count": 58,
     "metadata": {},
     "output_type": "execute_result"
    }
   ],
   "source": [
    "df_train.values[unnamed_har].shape"
   ]
  },
  {
   "cell_type": "code",
   "execution_count": 59,
   "metadata": {},
   "outputs": [
    {
     "data": {
      "text/html": [
       "<div>\n",
       "<style>\n",
       "    .dataframe thead tr:only-child th {\n",
       "        text-align: right;\n",
       "    }\n",
       "\n",
       "    .dataframe thead th {\n",
       "        text-align: left;\n",
       "    }\n",
       "\n",
       "    .dataframe tbody tr th {\n",
       "        vertical-align: top;\n",
       "    }\n",
       "</style>\n",
       "<table border=\"1\" class=\"dataframe\">\n",
       "  <thead>\n",
       "    <tr style=\"text-align: right;\">\n",
       "      <th></th>\n",
       "      <th>unnamed_har</th>\n",
       "      <th>tweet</th>\n",
       "      <th>harassment</th>\n",
       "      <th>IndirectH</th>\n",
       "      <th>PhysicalH</th>\n",
       "      <th>SexualH</th>\n",
       "    </tr>\n",
       "  </thead>\n",
       "  <tbody>\n",
       "    <tr>\n",
       "      <th>0</th>\n",
       "      <td>0</td>\n",
       "      <td>pics mexican school girl naked melanie safka f...</td>\n",
       "      <td>1</td>\n",
       "      <td>0</td>\n",
       "      <td>0</td>\n",
       "      <td>1</td>\n",
       "    </tr>\n",
       "    <tr>\n",
       "      <th>1</th>\n",
       "      <td>3</td>\n",
       "      <td>girl dirty quarterback latino pokemon young h...</td>\n",
       "      <td>1</td>\n",
       "      <td>0</td>\n",
       "      <td>0</td>\n",
       "      <td>1</td>\n",
       "    </tr>\n",
       "    <tr>\n",
       "      <th>2</th>\n",
       "      <td>4</td>\n",
       "      <td>miliondollameat sexting n ngirl daddy n nme l...</td>\n",
       "      <td>1</td>\n",
       "      <td>0</td>\n",
       "      <td>0</td>\n",
       "      <td>1</td>\n",
       "    </tr>\n",
       "    <tr>\n",
       "      <th>3</th>\n",
       "      <td>6</td>\n",
       "      <td>museum slut If you know somewhere we can do i...</td>\n",
       "      <td>1</td>\n",
       "      <td>0</td>\n",
       "      <td>0</td>\n",
       "      <td>1</td>\n",
       "    </tr>\n",
       "    <tr>\n",
       "      <th>4</th>\n",
       "      <td>7</td>\n",
       "      <td>RT sp00kybitchhhh I have spots open Sissy Slut...</td>\n",
       "      <td>1</td>\n",
       "      <td>0</td>\n",
       "      <td>0</td>\n",
       "      <td>1</td>\n",
       "    </tr>\n",
       "  </tbody>\n",
       "</table>\n",
       "</div>"
      ],
      "text/plain": [
       "  unnamed_har                                              tweet harassment  \\\n",
       "0           0  pics mexican school girl naked melanie safka f...          1   \n",
       "1           3   girl dirty quarterback latino pokemon young h...          1   \n",
       "2           4   miliondollameat sexting n ngirl daddy n nme l...          1   \n",
       "3           6   museum slut If you know somewhere we can do i...          1   \n",
       "4           7  RT sp00kybitchhhh I have spots open Sissy Slut...          1   \n",
       "\n",
       "  IndirectH PhysicalH SexualH  \n",
       "0         0         0       1  \n",
       "1         0         0       1  \n",
       "2         0         0       1  \n",
       "3         0         0       1  \n",
       "4         0         0       1  "
      ]
     },
     "execution_count": 59,
     "metadata": {},
     "output_type": "execute_result"
    }
   ],
   "source": [
    "df_train_f2=pd.DataFrame(df_train.values[unnamed_har], columns=['unnamed_har', 'tweet','harassment','IndirectH','PhysicalH','SexualH'])\n",
    "df_train_f2.head()"
   ]
  },
  {
   "cell_type": "code",
   "execution_count": 60,
   "metadata": {},
   "outputs": [
    {
     "data": {
      "text/html": [
       "<div>\n",
       "<style>\n",
       "    .dataframe thead tr:only-child th {\n",
       "        text-align: right;\n",
       "    }\n",
       "\n",
       "    .dataframe thead th {\n",
       "        text-align: left;\n",
       "    }\n",
       "\n",
       "    .dataframe tbody tr th {\n",
       "        vertical-align: top;\n",
       "    }\n",
       "</style>\n",
       "<table border=\"1\" class=\"dataframe\">\n",
       "  <thead>\n",
       "    <tr style=\"text-align: right;\">\n",
       "      <th></th>\n",
       "      <th>Unnamed: 0</th>\n",
       "      <th>tweet_content</th>\n",
       "      <th>harassment</th>\n",
       "      <th>IndirectH</th>\n",
       "      <th>PhysicalH</th>\n",
       "      <th>SexualH</th>\n",
       "    </tr>\n",
       "  </thead>\n",
       "  <tbody>\n",
       "    <tr>\n",
       "      <th>0</th>\n",
       "      <td>6374</td>\n",
       "      <td>RT GLOSSPHOENIX some of y all never watched co...</td>\n",
       "      <td>0</td>\n",
       "      <td>0</td>\n",
       "      <td>0</td>\n",
       "      <td>0</td>\n",
       "    </tr>\n",
       "    <tr>\n",
       "      <th>1</th>\n",
       "      <td>6375</td>\n",
       "      <td>OMG CAN T BELIEVE I M DOING THIS Selling my Dr...</td>\n",
       "      <td>0</td>\n",
       "      <td>0</td>\n",
       "      <td>0</td>\n",
       "      <td>0</td>\n",
       "    </tr>\n",
       "    <tr>\n",
       "      <th>2</th>\n",
       "      <td>6376</td>\n",
       "      <td>asa akira ava lauren beach sex free porn video...</td>\n",
       "      <td>1</td>\n",
       "      <td>0</td>\n",
       "      <td>0</td>\n",
       "      <td>1</td>\n",
       "    </tr>\n",
       "    <tr>\n",
       "      <th>3</th>\n",
       "      <td>6377</td>\n",
       "      <td>Anyone sassy smart mouth cuuuuteeee old favor...</td>\n",
       "      <td>0</td>\n",
       "      <td>0</td>\n",
       "      <td>0</td>\n",
       "      <td>0</td>\n",
       "    </tr>\n",
       "    <tr>\n",
       "      <th>4</th>\n",
       "      <td>6378</td>\n",
       "      <td>This is why you re scared of Karma you got to ...</td>\n",
       "      <td>1</td>\n",
       "      <td>0</td>\n",
       "      <td>0</td>\n",
       "      <td>1</td>\n",
       "    </tr>\n",
       "  </tbody>\n",
       "</table>\n",
       "</div>"
      ],
      "text/plain": [
       "   Unnamed: 0                                      tweet_content  harassment  \\\n",
       "0        6374  RT GLOSSPHOENIX some of y all never watched co...           0   \n",
       "1        6375  OMG CAN T BELIEVE I M DOING THIS Selling my Dr...           0   \n",
       "2        6376  asa akira ava lauren beach sex free porn video...           1   \n",
       "3        6377   Anyone sassy smart mouth cuuuuteeee old favor...           0   \n",
       "4        6378  This is why you re scared of Karma you got to ...           1   \n",
       "\n",
       "   IndirectH  PhysicalH  SexualH  \n",
       "0          0          0        0  \n",
       "1          0          0        0  \n",
       "2          0          0        1  \n",
       "3          0          0        0  \n",
       "4          0          0        1  "
      ]
     },
     "execution_count": 60,
     "metadata": {},
     "output_type": "execute_result"
    }
   ],
   "source": [
    "df_val.head()"
   ]
  },
  {
   "cell_type": "code",
   "execution_count": 61,
   "metadata": {},
   "outputs": [
    {
     "data": {
      "text/html": [
       "<div>\n",
       "<style>\n",
       "    .dataframe thead tr:only-child th {\n",
       "        text-align: right;\n",
       "    }\n",
       "\n",
       "    .dataframe thead th {\n",
       "        text-align: left;\n",
       "    }\n",
       "\n",
       "    .dataframe tbody tr th {\n",
       "        vertical-align: top;\n",
       "    }\n",
       "</style>\n",
       "<table border=\"1\" class=\"dataframe\">\n",
       "  <thead>\n",
       "    <tr style=\"text-align: right;\">\n",
       "      <th></th>\n",
       "      <th>unnamed_har</th>\n",
       "      <th>tweet</th>\n",
       "      <th>harassment</th>\n",
       "      <th>IndirectH</th>\n",
       "      <th>PhysicalH</th>\n",
       "      <th>SexualH</th>\n",
       "    </tr>\n",
       "  </thead>\n",
       "  <tbody>\n",
       "    <tr>\n",
       "      <th>0</th>\n",
       "      <td>6376</td>\n",
       "      <td>asa akira ava lauren beach sex free porn video...</td>\n",
       "      <td>1</td>\n",
       "      <td>0</td>\n",
       "      <td>0</td>\n",
       "      <td>1</td>\n",
       "    </tr>\n",
       "    <tr>\n",
       "      <th>1</th>\n",
       "      <td>6378</td>\n",
       "      <td>This is why you re scared of Karma you got to ...</td>\n",
       "      <td>1</td>\n",
       "      <td>0</td>\n",
       "      <td>0</td>\n",
       "      <td>1</td>\n",
       "    </tr>\n",
       "    <tr>\n",
       "      <th>2</th>\n",
       "      <td>6381</td>\n",
       "      <td>tit mouth office lesbians elegant creampie ea...</td>\n",
       "      <td>1</td>\n",
       "      <td>0</td>\n",
       "      <td>0</td>\n",
       "      <td>1</td>\n",
       "    </tr>\n",
       "    <tr>\n",
       "      <th>3</th>\n",
       "      <td>6383</td>\n",
       "      <td>But heard homeless woman twelve x89 she x89 s...</td>\n",
       "      <td>1</td>\n",
       "      <td>0</td>\n",
       "      <td>0</td>\n",
       "      <td>1</td>\n",
       "    </tr>\n",
       "    <tr>\n",
       "      <th>4</th>\n",
       "      <td>6384</td>\n",
       "      <td>love you bby RT and Like for more single girl...</td>\n",
       "      <td>1</td>\n",
       "      <td>0</td>\n",
       "      <td>0</td>\n",
       "      <td>1</td>\n",
       "    </tr>\n",
       "  </tbody>\n",
       "</table>\n",
       "</div>"
      ],
      "text/plain": [
       "  unnamed_har                                              tweet harassment  \\\n",
       "0        6376  asa akira ava lauren beach sex free porn video...          1   \n",
       "1        6378  This is why you re scared of Karma you got to ...          1   \n",
       "2        6381   tit mouth office lesbians elegant creampie ea...          1   \n",
       "3        6383   But heard homeless woman twelve x89 she x89 s...          1   \n",
       "4        6384   love you bby RT and Like for more single girl...          1   \n",
       "\n",
       "  IndirectH PhysicalH SexualH  \n",
       "0         0         0       1  \n",
       "1         0         0       1  \n",
       "2         0         0       1  \n",
       "3         0         0       1  \n",
       "4         0         0       1  "
      ]
     },
     "execution_count": 61,
     "metadata": {},
     "output_type": "execute_result"
    }
   ],
   "source": [
    "df_val_f2=pd.DataFrame(df_val.values[unnamed_har_val], columns=['unnamed_har', 'tweet','harassment','IndirectH','PhysicalH','SexualH'])\n",
    "df_val_f2.head()"
   ]
  },
  {
   "cell_type": "code",
   "execution_count": 62,
   "metadata": {},
   "outputs": [
    {
     "name": "stdout",
     "output_type": "stream",
     "text": [
      "[['pic', 'mexican', 'school', 'girl', 'naked', 'melanie', 'safka', 'fake', 'nude', 'photo', 'hardcore', 'slut', 'movie', 'alicia', 'moore', 'porn', 'star', 'toon', 'love'], ['girl', 'dirty', 'quarterback', 'latino', 'pokemon', 'young', 'handjob', 'kissing', 'gangbang', 'w', 'x89', 't', 'co', 'wrm4xo00vj'], ['miliondollameat', 'sexting', 'n', 'ngirl', 'daddy', 'n', 'nme', 'listen', 'bitch', 'gonna', 'watch', 'these', 'what'], ['museum', 'slut', 'if', 'you', 'know', 'somewhere', 'we', 'can', 'do', 'it', 'then', 'i', 'am', 'game'], ['rt', 'sp00kybitchhhh', 'i', 'have', 'spot', 'open', 'sissy', 'slut', 'intox', 'bitch', 'human', 'atm', 'amazon', 'boy', 'do', 'you', 'have', 'what', 'it', 'take', 'can', 'you', 'live', 'up', 'to', 'my']]\n"
     ]
    }
   ],
   "source": [
    "data_train_f2=[]\n",
    "for tw in df_train_f2['tweet']:\n",
    "    data_train_f2.append(cleaner(tw))\n",
    "print (data_train_f2[:5])\n"
   ]
  },
  {
   "cell_type": "code",
   "execution_count": 63,
   "metadata": {},
   "outputs": [
    {
     "data": {
      "text/plain": [
       "7615"
      ]
     },
     "execution_count": 63,
     "metadata": {},
     "output_type": "execute_result"
    }
   ],
   "source": [
    "word_index_f2=dict()\n",
    "j=1\n",
    "for frase in data_train_f2:\n",
    "    for term in frase:\n",
    "        if term not in word_index_f2.keys():\n",
    "            word_index_f2[term]=j\n",
    "            j+=1\n",
    "    \n",
    "len(word_index_f2.keys())"
   ]
  },
  {
   "cell_type": "code",
   "execution_count": 64,
   "metadata": {
    "collapsed": true
   },
   "outputs": [],
   "source": [
    "embedding_vector=200\n",
    "embedding_matrix_f2 = np.zeros((len(word_index_f2.keys())+1, embedding_vector))   #puede probar otra inicialización\n",
    "\n",
    "for word, i in word_index_f2.items():\n",
    "    embedding_vector = embeddings_index.get(word)\n",
    "    if embedding_vector is not None:\n",
    "        embedding_matrix_f2[i] = embedding_vector\n"
   ]
  },
  {
   "cell_type": "code",
   "execution_count": 65,
   "metadata": {},
   "outputs": [
    {
     "data": {
      "text/plain": [
       "array([[ 0.,  0.,  1.],\n",
       "       [ 0.,  0.,  1.],\n",
       "       [ 0.,  0.,  1.],\n",
       "       [ 0.,  0.,  1.],\n",
       "       [ 0.,  0.,  1.],\n",
       "       [ 0.,  0.,  1.],\n",
       "       [ 0.,  0.,  1.],\n",
       "       [ 0.,  0.,  1.],\n",
       "       [ 0.,  0.,  1.],\n",
       "       [ 0.,  0.,  1.],\n",
       "       [ 0.,  0.,  1.],\n",
       "       [ 0.,  0.,  1.],\n",
       "       [ 0.,  0.,  1.],\n",
       "       [ 0.,  0.,  1.],\n",
       "       [ 0.,  0.,  1.],\n",
       "       [ 0.,  0.,  1.],\n",
       "       [ 0.,  0.,  1.],\n",
       "       [ 0.,  0.,  1.],\n",
       "       [ 0.,  0.,  1.],\n",
       "       [ 0.,  0.,  1.]], dtype=float32)"
      ]
     },
     "execution_count": 65,
     "metadata": {},
     "output_type": "execute_result"
    }
   ],
   "source": [
    "y_train_f2=np.asarray(np.asarray(df_train_f2.values)[:,-3:],dtype='float32')\n",
    "y_train_f2[:20]"
   ]
  },
  {
   "cell_type": "code",
   "execution_count": 66,
   "metadata": {},
   "outputs": [
    {
     "data": {
      "text/plain": [
       "(2713, 3)"
      ]
     },
     "execution_count": 66,
     "metadata": {},
     "output_type": "execute_result"
    }
   ],
   "source": [
    "y_train_mu=[] #123\n",
    "for array in y_train_f2:\n",
    "    y_train_mu.append(np.argmax(array))\n",
    "y_train_mul=to_categorical(y_train_mu,num_classes=3)\n",
    "#print (y_train_mul[:10])\n",
    "y_train_mul.shape#one hot"
   ]
  },
  {
   "cell_type": "code",
   "execution_count": 102,
   "metadata": {},
   "outputs": [
    {
     "data": {
      "text/plain": [
       "array([[ 0.,  0.,  1.],\n",
       "       [ 0.,  0.,  1.],\n",
       "       [ 0.,  0.,  1.],\n",
       "       [ 0.,  0.,  1.],\n",
       "       [ 0.,  0.,  1.]], dtype=float32)"
      ]
     },
     "execution_count": 102,
     "metadata": {},
     "output_type": "execute_result"
    }
   ],
   "source": [
    "y_train_mul[:5]"
   ]
  },
  {
   "cell_type": "code",
   "execution_count": 67,
   "metadata": {},
   "outputs": [
    {
     "name": "stdout",
     "output_type": "stream",
     "text": [
      "[ 16.44242424  11.89912281   0.35024529]\n"
     ]
    }
   ],
   "source": [
    "class_weights_f2 = class_weight.compute_class_weight('balanced', np.unique(y_train_mu), y_train_mu)\n",
    "print (class_weights_f2)"
   ]
  },
  {
   "cell_type": "code",
   "execution_count": 68,
   "metadata": {},
   "outputs": [
    {
     "name": "stdout",
     "output_type": "stream",
     "text": [
      "[(0, 55), (1, 76), (2, 2582)]\n"
     ]
    }
   ],
   "source": [
    "c = Counter(y_train_mu)\n",
    "c = sorted(c.items())\n",
    "print (c)\n",
    "clases=['Indirect','Physical','Sexual']\n",
    "class_num = [i[0] for i in c]\n",
    "class_names = [clases[i[0]-1] for i in c]\n",
    "freq = [i[1] for i in c]\n",
    "#plt.bar(y_train_mu)"
   ]
  },
  {
   "cell_type": "code",
   "execution_count": 69,
   "metadata": {},
   "outputs": [
    {
     "data": {
      "image/png": "[encoded data removed]",
      "text/plain": [
       "<matplotlib.figure.Figure at 0x7f505431a860>"
      ]
     },
     "metadata": {},
     "output_type": "display_data"
    }
   ],
   "source": [
    "f, ax = plt.subplots(figsize=(8,5))\n",
    "plt.bar(class_num, freq)\n",
    "plt.title(\"# ataques por clase de acoso\")\n",
    "plt.xlabel(\"Tipo de acoso\")\n",
    "plt.ylabel(\"Frequencia\")\n",
    "ax.set_xticks(range(0, 3))\n",
    "ax.set_xticklabels(clases)\n",
    "\n",
    "plt.show()"
   ]
  },
  {
   "cell_type": "code",
   "execution_count": 70,
   "metadata": {},
   "outputs": [
    {
     "name": "stdout",
     "output_type": "stream",
     "text": [
      "[[1, 2, 3, 4, 5, 6, 7, 8, 9, 10, 11, 12, 13, 14, 15, 16, 17, 18, 19], [4, 20, 21, 22, 23, 24, 25, 26, 27, 28, 29, 30, 31, 32]]\n",
      "[ 'pics mexican school girl naked melanie safka fake nude photos hardcore slut movies alicia moore porn star toon love '\n",
      " ' girl dirty quarterback latino pokemon young handjob kissing gangbang w x89 t co Wrm4xo00vJ ']\n"
     ]
    }
   ],
   "source": [
    "from keras.preprocessing import sequence\n",
    "\n",
    "x_new_train = [[word_index_f2[word] for word in cleaner(text)] for text in df_train_f2[\"tweet\"].values]\n",
    "print(x_new_train[0:2])\n",
    "\n",
    "print (df_train_f2[\"tweet\"].values[:2])\n",
    "#print (df_train_f2[\"tweet\"].values[1])"
   ]
  },
  {
   "cell_type": "code",
   "execution_count": 71,
   "metadata": {},
   "outputs": [
    {
     "data": {
      "text/plain": [
       "<matplotlib.axes._subplots.AxesSubplot at 0x7f505431a748>"
      ]
     },
     "execution_count": 71,
     "metadata": {},
     "output_type": "execute_result"
    },
    {
     "data": {
      "image/png": "[encoded data removed]",
      "text/plain": [
       "<matplotlib.figure.Figure at 0x7f505431a240>"
      ]
     },
     "metadata": {},
     "output_type": "display_data"
    }
   ],
   "source": [
    "sns.boxplot(list(map(len,x_new_train)))"
   ]
  },
  {
   "cell_type": "code",
   "execution_count": 72,
   "metadata": {
    "collapsed": true
   },
   "outputs": [],
   "source": [
    "max_input_lenght = max(list(map(len,x_new_train))) #modificar este valor en base a su experimentación\n",
    "X_train_f2 = sequence.pad_sequences(x_new_train,maxlen=max_input_lenght,padding='post',value=0)"
   ]
  },
  {
   "cell_type": "code",
   "execution_count": 73,
   "metadata": {},
   "outputs": [
    {
     "data": {
      "text/plain": [
       "(2713, 32)"
      ]
     },
     "execution_count": 73,
     "metadata": {},
     "output_type": "execute_result"
    }
   ],
   "source": [
    "X_train_f2.shape"
   ]
  },
  {
   "cell_type": "code",
   "execution_count": 74,
   "metadata": {
    "collapsed": true
   },
   "outputs": [],
   "source": [
    "from sklearn.model_selection import KFold\n",
    "from sklearn.metrics import accuracy_score,f1_score, confusion_matrix\n",
    "from sklearn.preprocessing import normalize\n",
    "import time\n",
    "\n",
    "def plot_confusion_matrix(cm, target_names, title='Confusion matrix (f1-score)',cmap=None, normalize=True):\n",
    "    \n",
    "    import itertools\n",
    "    accuracy = np.trace(cm) / float(np.sum(cm))\n",
    "    misclass = 1 - accuracy\n",
    "    if cmap is None:\n",
    "        cmap = plt.get_cmap('Blues')\n",
    "\n",
    "    plt.figure(figsize=(8, 6))\n",
    "    plt.imshow(cm, interpolation='nearest', cmap=cmap)\n",
    "    plt.title(title)\n",
    "    plt.colorbar()\n",
    "\n",
    "    if target_names is not None:\n",
    "        tick_marks = np.arange(len(target_names))\n",
    "        plt.xticks(tick_marks, target_names, rotation=45)\n",
    "        plt.yticks(tick_marks, target_names)\n",
    "\n",
    "    if normalize:\n",
    "        cm = cm.astype('float') / cm.sum(axis=1)[:, np.newaxis]\n",
    "    thresh = cm.max() / 1.5 if normalize else cm.max() / 2\n",
    "    for i, j in itertools.product(range(cm.shape[0]), range(cm.shape[1])):\n",
    "        if normalize:\n",
    "            plt.text(j, i, \"{:0.4f}\".format(cm[i, j]),\n",
    "                     horizontalalignment=\"center\",\n",
    "                     color=\"white\" if cm[i, j] > thresh else \"black\")\n",
    "        else:\n",
    "            plt.text(j, i, \"{:,}\".format(cm[i, j]),\n",
    "                     horizontalalignment=\"center\",\n",
    "                     color=\"white\" if cm[i, j] > thresh else \"black\")\n",
    "\n",
    "\n",
    "    plt.tight_layout()\n",
    "    plt.ylabel('True label')\n",
    "    plt.xlabel('Predicted label\\naccuracy={:0.4f}; misclass={:0.4f}'.format(accuracy, misclass))\n",
    "    plt.show()"
   ]
  },
  {
   "cell_type": "code",
   "execution_count": 75,
   "metadata": {},
   "outputs": [
    {
     "name": "stdout",
     "output_type": "stream",
     "text": [
      "2713\n"
     ]
    }
   ],
   "source": [
    "list_posts=[cleaner(text) for text in df_train_f2[\"tweet\"].values]  #train\n",
    "print (len(list_posts))\n",
    "\n",
    "Vec_train=[]\n",
    "tweets_c_a=list_posts\n",
    "vocab_train_f2=[]\n",
    "vocab=list(embeddings_index.keys())\n",
    "for post in list_posts:\n",
    "    posteo=[]\n",
    "    for term in post:   #para todos los terminos de un tweet \n",
    "        vector=embeddings_index.get(term)\n",
    "        if vector is None:       \n",
    "            posteo.append(np.zeros(200))\n",
    "        else:\n",
    "            posteo.append(np.asarray(vector))\n",
    "            vocab_train_f2.append(term)\n",
    "    Vec_train.append(np.asarray(posteo))"
   ]
  },
  {
   "cell_type": "code",
   "execution_count": 76,
   "metadata": {},
   "outputs": [
    {
     "name": "stdout",
     "output_type": "stream",
     "text": [
      "632\n"
     ]
    }
   ],
   "source": [
    "list_posts_val=[cleaner(text) for text in df_val_f2[\"tweet\"].values]  #train\n",
    "print (len(list_posts_val))\n",
    "\n",
    "Vec_val_ig=[]\n",
    "vocab=list(embeddings_index.keys())\n",
    "for post in list_posts_val:\n",
    "    temp=[]\n",
    "    for term in post:   #para todos los terminos de un tweet \n",
    "        if term in vocab_train_f2:\n",
    "            vector=embeddings_index.get(term)\n",
    "            if vector is None:       \n",
    "                temp.append(np.zeros(200))\n",
    "            else:\n",
    "                temp.append(np.asarray(vector))\n",
    "    Vec_val_ig.append(temp)"
   ]
  },
  {
   "cell_type": "code",
   "execution_count": 77,
   "metadata": {
    "collapsed": true
   },
   "outputs": [],
   "source": [
    "word_index_f2_val=dict()\n",
    "j=1\n",
    "for frase in list_posts_val:\n",
    "    for term in frase:\n",
    "        if term not in word_index_f2_val.keys():\n",
    "            word_index_f2_val[term]=j\n",
    "            j+=1\n",
    "            \n",
    "all_val_dif=[]\n",
    "for text in list_posts_val:\n",
    "    temp=[]\n",
    "    for word in text:\n",
    "        try:\n",
    "            temp.append(word_index_f2_val[word])\n",
    "        except:\n",
    "            continue\n",
    "    all_val_dif.append(temp)\n",
    "\n",
    "all_val=[]\n",
    "for text in list_posts_val:\n",
    "    temp=[]\n",
    "    for word in text:\n",
    "        try:\n",
    "            temp.append(word_index_f2[word])\n",
    "        except:\n",
    "            continue\n",
    "    all_val.append(temp)\n"
   ]
  },
  {
   "cell_type": "code",
   "execution_count": 78,
   "metadata": {},
   "outputs": [
    {
     "name": "stdout",
     "output_type": "stream",
     "text": [
      "[[326, 877, 3106, 319, 674, 16, 254, 1709, 469, 16, 211, 87, 1254, 467, 319, 903, 469, 23], [282, 202, 852, 47, 151, 2037, 255, 2400, 47, 596, 72, 48, 53, 79, 41, 157, 159, 40, 44, 47, 52, 72, 2307, 960, 113, 1217]]\n",
      "[['asa', 'akira', 'ava', 'lauren', 'beach', 'sex', 'free', 'porn', 'video', 'french', 'anal', 'ftm', 'porn', 'fuck', 'me', 'hard', 'mature', 'sex', 'milf', 'anal', 'pokemon', 'hent'], ['this', 'is', 'why', 'you', 're', 'scared', 'of', 'karma', 'you', 'got', 'to', 'know', 'it', 's', 'gonna', 'be', 'a', 'bitch', 'what', 'you', 'do', 'to', 'our', 'baby', 'will', 'happen']]\n"
     ]
    }
   ],
   "source": [
    "x_new_val=all_val#.copy()\n",
    "print(x_new_val[0:2])\n",
    "print (list_posts_val[:2])"
   ]
  },
  {
   "cell_type": "code",
   "execution_count": 79,
   "metadata": {},
   "outputs": [
    {
     "name": "stdout",
     "output_type": "stream",
     "text": [
      "(632, 32)\n"
     ]
    }
   ],
   "source": [
    "X_val_ig = sequence.pad_sequences(x_new_val,maxlen=max_input_lenght,padding='post',value=0)\n",
    "print (np.asarray(X_val_ig).shape)"
   ]
  },
  {
   "cell_type": "code",
   "execution_count": 80,
   "metadata": {},
   "outputs": [
    {
     "data": {
      "text/plain": [
       "(632, 3)"
      ]
     },
     "execution_count": 80,
     "metadata": {},
     "output_type": "execute_result"
    }
   ],
   "source": [
    "y_val_f2=np.asarray(np.asarray(df_val_f2.values)[:,-3:],dtype='float32')\n",
    "y_val_mu=[] #123\n",
    "for array in y_val_f2:\n",
    "    y_val_mu.append(np.argmax(array))\n",
    "y_val_mul=to_categorical(y_val_mu,num_classes=3)\n",
    "y_val_mul.shape#one hot"
   ]
  },
  {
   "cell_type": "code",
   "execution_count": 81,
   "metadata": {},
   "outputs": [
    {
     "name": "stdout",
     "output_type": "stream",
     "text": [
      "[(0, 71), (1, 36), (2, 525)]\n"
     ]
    },
    {
     "data": {
      "image/png": "[encoded data removed]",
      "text/plain": [
       "<matplotlib.figure.Figure at 0x7f5065307f98>"
      ]
     },
     "metadata": {},
     "output_type": "display_data"
    }
   ],
   "source": [
    "c = Counter(y_val_mu)\n",
    "c = sorted(c.items())\n",
    "print (c)\n",
    "clases=['Indirect','Physical','Sexual']\n",
    "class_num = [i[0] for i in c]\n",
    "class_names = [clases[i[0]-1] for i in c]\n",
    "freq = [i[1] for i in c]\n",
    "#plt.bar(y_train_mu)\n",
    "\n",
    "f, ax = plt.subplots(figsize=(8,5))\n",
    "plt.bar(class_num, freq)\n",
    "plt.title(\"# ataques por clase de acoso VAL SET\")\n",
    "plt.xlabel(\"Tipo de acoso\")\n",
    "plt.ylabel(\"Frequencia\")\n",
    "ax.set_xticks(range(0, 3))\n",
    "ax.set_xticklabels(clases)\n",
    "\n",
    "plt.show()"
   ]
  },
  {
   "cell_type": "code",
   "execution_count": 82,
   "metadata": {},
   "outputs": [
    {
     "data": {
      "text/plain": [
       "<matplotlib.axes._subplots.AxesSubplot at 0x7f5065307080>"
      ]
     },
     "execution_count": 82,
     "metadata": {},
     "output_type": "execute_result"
    },
    {
     "data": {
      "image/png": "[encoded data removed]",
      "text/plain": [
       "<matplotlib.figure.Figure at 0x7f504ff9c240>"
      ]
     },
     "metadata": {},
     "output_type": "display_data"
    }
   ],
   "source": [
    "sns.countplot(y_train_f2.argmax(axis=1))"
   ]
  },
  {
   "cell_type": "code",
   "execution_count": 83,
   "metadata": {},
   "outputs": [
    {
     "data": {
      "text/plain": [
       "<matplotlib.axes._subplots.AxesSubplot at 0x7f50653678d0>"
      ]
     },
     "execution_count": 83,
     "metadata": {},
     "output_type": "execute_result"
    },
    {
     "data": {
      "image/png": "[encoded data removed]",
      "text/plain": [
       "<matplotlib.figure.Figure at 0x7f504ff7cc88>"
      ]
     },
     "metadata": {},
     "output_type": "display_data"
    }
   ],
   "source": [
    "sns.countplot(y_val_f2.argmax(axis=1))"
   ]
  },
  {
   "cell_type": "markdown",
   "metadata": {},
   "source": [
    "### Conv 1"
   ]
  },
  {
   "cell_type": "code",
   "execution_count": 91,
   "metadata": {
    "scrolled": true
   },
   "outputs": [
    {
     "name": "stdout",
     "output_type": "stream",
     "text": [
      "Train on 2713 samples, validate on 632 samples\n",
      "Epoch 1/20\n",
      "2713/2713 [==============================] - 3s 1ms/step - loss: 1.0625 - acc: 0.3317 - val_loss: 1.7661 - val_acc: 0.2405\n",
      "Epoch 2/20\n",
      "2713/2713 [==============================] - 1s 391us/step - loss: 0.7771 - acc: 0.3738 - val_loss: 1.6154 - val_acc: 0.3386\n",
      "Epoch 3/20\n",
      "2713/2713 [==============================] - 1s 391us/step - loss: 0.6640 - acc: 0.3881 - val_loss: 1.2540 - val_acc: 0.3972\n",
      "Epoch 4/20\n",
      "2713/2713 [==============================] - 1s 392us/step - loss: 0.6232 - acc: 0.4191 - val_loss: 1.2901 - val_acc: 0.4778\n",
      "Epoch 5/20\n",
      "2713/2713 [==============================] - 1s 391us/step - loss: 0.5549 - acc: 0.4302 - val_loss: 1.1628 - val_acc: 0.4335\n",
      "Epoch 6/20\n",
      "2713/2713 [==============================] - 1s 471us/step - loss: 0.5203 - acc: 0.4353 - val_loss: 1.1687 - val_acc: 0.5079\n",
      "Epoch 7/20\n",
      "2713/2713 [==============================] - 1s 473us/step - loss: 0.4242 - acc: 0.4854 - val_loss: 1.3081 - val_acc: 0.5744\n",
      "Epoch 8/20\n",
      "2713/2713 [==============================] - 1s 428us/step - loss: 0.4400 - acc: 0.4803 - val_loss: 1.2550 - val_acc: 0.5934\n",
      "Epoch 9/20\n",
      "2713/2713 [==============================] - 1s 397us/step - loss: 0.4115 - acc: 0.5002 - val_loss: 1.1573 - val_acc: 0.6820\n",
      "Epoch 10/20\n",
      "2713/2713 [==============================] - 1s 406us/step - loss: 0.3571 - acc: 0.5278 - val_loss: 1.3443 - val_acc: 0.6851\n",
      "Epoch 11/20\n",
      "2713/2713 [==============================] - 1s 413us/step - loss: 0.3015 - acc: 0.5477 - val_loss: 1.4879 - val_acc: 0.6930\n",
      "Epoch 12/20\n",
      "2713/2713 [==============================] - 1s 425us/step - loss: 0.2791 - acc: 0.5702 - val_loss: 1.7000 - val_acc: 0.7769\n",
      "Epoch 13/20\n",
      "2713/2713 [==============================] - 1s 400us/step - loss: 0.2858 - acc: 0.5783 - val_loss: 1.5978 - val_acc: 0.7231\n",
      "Epoch 14/20\n",
      "2713/2713 [==============================] - 1s 448us/step - loss: 0.2895 - acc: 0.5912 - val_loss: 1.7492 - val_acc: 0.7848\n",
      "Epoch 15/20\n",
      "2713/2713 [==============================] - 1s 430us/step - loss: 0.2487 - acc: 0.6170 - val_loss: 1.5707 - val_acc: 0.7532\n",
      "Epoch 16/20\n",
      "2713/2713 [==============================] - 1s 425us/step - loss: 0.2267 - acc: 0.6115 - val_loss: 1.7923 - val_acc: 0.7848\n",
      "Epoch 17/20\n",
      "2713/2713 [==============================] - 1s 426us/step - loss: 0.2214 - acc: 0.6332 - val_loss: 1.9635 - val_acc: 0.7595\n",
      "Epoch 18/20\n",
      "2713/2713 [==============================] - 1s 442us/step - loss: 0.1834 - acc: 0.6473 - val_loss: 2.0504 - val_acc: 0.8038\n",
      "Epoch 19/20\n",
      "2713/2713 [==============================] - 1s 450us/step - loss: 0.1751 - acc: 0.6966 - val_loss: 2.4495 - val_acc: 0.7975\n",
      "Epoch 20/20\n",
      "2713/2713 [==============================] - 1s 427us/step - loss: 0.1706 - acc: 0.6837 - val_loss: 2.2886 - val_acc: 0.7627\n"
     ]
    }
   ],
   "source": [
    "embedding_vector=200\n",
    "embedding_layer = Embedding(input_dim=len(word_index_f2.keys())+1,output_dim=embedding_vector,weights=[embedding_matrix_f2],\n",
    "                     input_length=max_input_lenght,trainable=False)\n",
    "\n",
    "sequence_input = Input(shape=(max_input_lenght,))\n",
    "embedded_sequences = embedding_layer(sequence_input)\n",
    "batch = BatchNormalization()(embedded_sequences)\n",
    "cov1= Conv1D(128, 5, activation='relu',padding='same')(batch)\n",
    "pool = MaxPooling1D(pool_size=3)(cov1)    \n",
    "batch = BatchNormalization()(pool)\n",
    "drop = Dropout(0.65)(batch)\n",
    "cov1= Conv1D(64, 5, activation='relu',padding='same')(drop)\n",
    "pool = MaxPooling1D(pool_size=3)(cov1)\n",
    "batch = BatchNormalization()(pool)\n",
    "drop = Dropout(0.65)(batch)\n",
    "flat = Flatten()(drop)\n",
    "preds = Dense(100, activation='relu')(flat)\n",
    "preds = BatchNormalization()(preds)\n",
    "preds = Dense(3, activation='softmax')(preds)\n",
    "model = Model(sequence_input, preds)\n",
    "model.compile(loss=focal_loss(2,weights=class_weights_f2),optimizer='adam',metrics=['acc'])\n",
    "history = model.fit(X_train_f2, y_train_mul,batch_size=64,epochs=20,verbose=1,validation_data=(X_val_ig,y_val_mul),class_weight=class_weights_f2)   \n",
    "\n"
   ]
  },
  {
   "cell_type": "code",
   "execution_count": 92,
   "metadata": {},
   "outputs": [
    {
     "name": "stdout",
     "output_type": "stream",
     "text": [
      "[2 1 2 2 1]\n",
      "Accuracy sobre validacion: 0.762658227848\n",
      "F1-score None sobre validación: [ 0.32307692  0.12195122  0.86692015]\n",
      "F1-score macro sobre validación: 0.437316098227\n",
      "Precision None sobre validación: [ 0.3559322   0.10869565  0.86527514]\n",
      "Recall None sobre validación: [ 0.29577465  0.13888889  0.86857143]\n"
     ]
    },
    {
     "data": {
      "image/png": "[encoded data removed]",
      "text/plain": [
       "<matplotlib.figure.Figure at 0x7f504de09e80>"
      ]
     },
     "metadata": {},
     "output_type": "display_data"
    }
   ],
   "source": [
    "trainPredict = model.predict(X_val_ig, batch_size=64).argmax(axis=-1)\n",
    "print (trainPredict[:5])\n",
    "acc_val= accuracy_score(y_val_mu, trainPredict)\n",
    "f1_val=f1_score(y_val_mu, trainPredict, average=None)  # labels=np.unique(trainPredict)\n",
    "f1_val_ma=f1_score(y_val_mu, trainPredict, average='macro')  # labels=np.unique(trainPredict)\n",
    "rec=recall_score(y_val_mu, trainPredict, average=None) \n",
    "pre=precision_score(y_val_mu, trainPredict, average=None) \n",
    "matriz_val=confusion_matrix(y_val_mu, trainPredict)\n",
    "\n",
    "print (\"Accuracy sobre validacion:\",acc_val)  \n",
    "print (\"F1-score None sobre validación:\",f1_val)\n",
    "print (\"F1-score macro sobre validación:\",f1_val_ma)\n",
    "print (\"Precision None sobre validación:\",pre)\n",
    "print (\"Recall None sobre validación:\",rec)\n",
    "\n",
    "plot_confusion_matrix(normalize(matriz_val,axis=1,norm='l1'),['Indirect','Physical','Sexual'],\"Confusion Matrix Caso Multiclass + Focal Loss\")"
   ]
  },
  {
   "cell_type": "code",
   "execution_count": 93,
   "metadata": {
    "collapsed": true
   },
   "outputs": [],
   "source": [
    "embedding_vector=200\n",
    "embedding_layer = Embedding(input_dim=len(word_index_f2.keys())+1,output_dim=embedding_vector,weights=[embedding_matrix_f2],\n",
    "                     input_length=max_input_lenght,trainable=False)\n",
    "\n",
    "sequence_input = Input(shape=(max_input_lenght,))\n",
    "embedded_sequences = embedding_layer(sequence_input)\n",
    "\n",
    "batch = BatchNormalization()(embedded_sequences)\n",
    "cov1= Conv1D(128, 5, activation='relu',padding='same')(batch)\n",
    "pool = MaxPooling1D(pool_size=3)(cov1)    \n",
    "batch = BatchNormalization()(pool)\n",
    "drop = Dropout(0.65)(batch)\n",
    "cov1= Conv1D(64, 5, activation='relu',padding='same')(drop)\n",
    "pool = MaxPooling1D(pool_size=3)(cov1)\n",
    "batch = BatchNormalization()(pool)\n",
    "drop = Dropout(0.65)(batch)\n",
    "flat = Flatten()(drop)\n",
    "preds = Dense(128, activation='relu')(flat)\n",
    "preds = BatchNormalization()(preds)\n",
    "preds= Dropout(0.3)(preds)\n",
    "preds = Dense(3, activation='softmax')(preds)\n",
    "model2 = Model(sequence_input, preds)\n",
    "model2.compile(loss=focal_loss(2,weights=class_weights_f2),optimizer='adam',metrics=['acc'])"
   ]
  },
  {
   "cell_type": "code",
   "execution_count": 94,
   "metadata": {
    "scrolled": true
   },
   "outputs": [
    {
     "name": "stdout",
     "output_type": "stream",
     "text": [
      "Train on 2713 samples, validate on 632 samples\n",
      "Epoch 1/20\n",
      "2713/2713 [==============================] - 4s 2ms/step - loss: 1.3826 - acc: 0.3483 - val_loss: 1.5493 - val_acc: 0.5823\n",
      "Epoch 2/20\n",
      "2713/2713 [==============================] - 1s 482us/step - loss: 1.1082 - acc: 0.3616 - val_loss: 1.3238 - val_acc: 0.5206\n",
      "Epoch 3/20\n",
      "2713/2713 [==============================] - 1s 489us/step - loss: 0.8612 - acc: 0.3575 - val_loss: 1.4618 - val_acc: 0.5585\n",
      "Epoch 4/20\n",
      "2713/2713 [==============================] - 1s 477us/step - loss: 0.8859 - acc: 0.3885 - val_loss: 1.5463 - val_acc: 0.6820\n",
      "Epoch 5/20\n",
      "2713/2713 [==============================] - 1s 459us/step - loss: 0.7612 - acc: 0.3896 - val_loss: 1.4087 - val_acc: 0.6661\n",
      "Epoch 6/20\n",
      "2713/2713 [==============================] - 1s 396us/step - loss: 0.6933 - acc: 0.3918 - val_loss: 1.2196 - val_acc: 0.5807\n",
      "Epoch 7/20\n",
      "2713/2713 [==============================] - 1s 396us/step - loss: 0.7343 - acc: 0.4139 - val_loss: 1.3259 - val_acc: 0.6661\n",
      "Epoch 8/20\n",
      "2713/2713 [==============================] - 1s 392us/step - loss: 0.6824 - acc: 0.4254 - val_loss: 1.3774 - val_acc: 0.6677\n",
      "Epoch 9/20\n",
      "2713/2713 [==============================] - 1s 391us/step - loss: 0.6008 - acc: 0.4375 - val_loss: 1.0975 - val_acc: 0.4953\n",
      "Epoch 10/20\n",
      "2713/2713 [==============================] - 1s 417us/step - loss: 0.6190 - acc: 0.4327 - val_loss: 1.0588 - val_acc: 0.5538\n",
      "Epoch 11/20\n",
      "2713/2713 [==============================] - 1s 507us/step - loss: 0.4681 - acc: 0.4607 - val_loss: 1.1801 - val_acc: 0.6377\n",
      "Epoch 12/20\n",
      "2713/2713 [==============================] - 1s 502us/step - loss: 0.4128 - acc: 0.4733 - val_loss: 1.2330 - val_acc: 0.6472\n",
      "Epoch 13/20\n",
      "2713/2713 [==============================] - 1s 509us/step - loss: 0.4435 - acc: 0.5057 - val_loss: 1.1646 - val_acc: 0.6756\n",
      "Epoch 14/20\n",
      "2713/2713 [==============================] - 1s 510us/step - loss: 0.4232 - acc: 0.4950 - val_loss: 1.2309 - val_acc: 0.7009\n",
      "Epoch 15/20\n",
      "2713/2713 [==============================] - 1s 471us/step - loss: 0.3780 - acc: 0.5149 - val_loss: 1.2156 - val_acc: 0.7294\n",
      "Epoch 16/20\n",
      "2713/2713 [==============================] - 1s 451us/step - loss: 0.3921 - acc: 0.5252 - val_loss: 1.1724 - val_acc: 0.7453\n",
      "Epoch 17/20\n",
      "2713/2713 [==============================] - 2s 568us/step - loss: 0.3036 - acc: 0.5485 - val_loss: 1.1692 - val_acc: 0.7199\n",
      "Epoch 18/20\n",
      "2713/2713 [==============================] - 1s 509us/step - loss: 0.2881 - acc: 0.5529 - val_loss: 1.2092 - val_acc: 0.7453\n",
      "Epoch 19/20\n",
      "2713/2713 [==============================] - 1s 508us/step - loss: 0.2755 - acc: 0.5466 - val_loss: 1.2432 - val_acc: 0.7532\n",
      "Epoch 20/20\n",
      "2713/2713 [==============================] - 1s 551us/step - loss: 0.2613 - acc: 0.5794 - val_loss: 1.3334 - val_acc: 0.7785\n"
     ]
    }
   ],
   "source": [
    "history = model2.fit(X_train_f2, y_train_mul,batch_size=64,epochs=20,verbose=1,validation_data=(X_val_ig,y_val_mul),class_weight=class_weights_f2)   "
   ]
  },
  {
   "cell_type": "code",
   "execution_count": 95,
   "metadata": {},
   "outputs": [
    {
     "name": "stdout",
     "output_type": "stream",
     "text": [
      "[2 2 2 2 2]\n",
      "Accuracy sobre validacion: 0.778481012658\n",
      "F1-score None sobre validación: [ 0.45652174  0.10909091  0.87219512]\n",
      "F1-score macro sobre validación: 0.479269256724\n",
      "Precision None sobre validación: [ 0.37168142  0.15789474  0.894     ]\n",
      "Recall None sobre validación: [ 0.5915493   0.08333333  0.85142857]\n"
     ]
    },
    {
     "data": {
      "image/png": "[encoded data removed]",
      "text/plain": [
       "<matplotlib.figure.Figure at 0x7f504dd6a518>"
      ]
     },
     "metadata": {},
     "output_type": "display_data"
    }
   ],
   "source": [
    "trainPredict = model2.predict(X_val_ig, batch_size=64).argmax(axis=-1)\n",
    "print (trainPredict[:5])\n",
    "acc_val= accuracy_score(y_val_mu, trainPredict)\n",
    "f1_val=f1_score(y_val_mu, trainPredict, average=None)  # labels=np.unique(trainPredict)\n",
    "f1_val_ma=f1_score(y_val_mu, trainPredict, average='macro')  # labels=np.unique(trainPredict)\n",
    "rec=recall_score(y_val_mu, trainPredict, average=None) \n",
    "pre=precision_score(y_val_mu, trainPredict, average=None) \n",
    "matriz_val=confusion_matrix(y_val_mu, trainPredict)\n",
    "\n",
    "print (\"Accuracy sobre validacion:\",acc_val)  \n",
    "print (\"F1-score None sobre validación:\",f1_val)\n",
    "print (\"F1-score macro sobre validación:\",f1_val_ma)\n",
    "print (\"Precision None sobre validación:\",pre)\n",
    "print (\"Recall None sobre validación:\",rec)\n",
    "\n",
    "plot_confusion_matrix(normalize(matriz_val,axis=1,norm='l1'),['Indirect','Physical','Sexual'],\"Confusion Matrix Caso Multiclass + Focal Loss\")"
   ]
  },
  {
   "cell_type": "markdown",
   "metadata": {},
   "source": [
    "### Utilizando recurrentes"
   ]
  },
  {
   "cell_type": "code",
   "execution_count": 96,
   "metadata": {},
   "outputs": [
    {
     "name": "stdout",
     "output_type": "stream",
     "text": [
      "32\n"
     ]
    },
    {
     "data": {
      "text/plain": [
       "(2713, 32, 200)"
      ]
     },
     "execution_count": 96,
     "metadata": {},
     "output_type": "execute_result"
    }
   ],
   "source": [
    "maximo_s=max(map(len,Vec_train)) #91 // probar con 60 (bigote mayor)\n",
    "print (maximo_s)\n",
    "\n",
    "X_train_rnn = sequence.pad_sequences(Vec_train,maxlen=maximo_s,padding='pre',truncating='post',value=np.zeros(200),dtype='float32') \n",
    "X_train_rnn.shape"
   ]
  },
  {
   "cell_type": "code",
   "execution_count": 97,
   "metadata": {},
   "outputs": [
    {
     "data": {
      "text/plain": [
       "(632, 32, 200)"
      ]
     },
     "execution_count": 97,
     "metadata": {},
     "output_type": "execute_result"
    }
   ],
   "source": [
    "X_val_rnn_ig = sequence.pad_sequences(Vec_val_ig,maxlen=maximo_s,padding='pre',truncating='post',value=np.zeros(200),dtype='float32') \n",
    "X_val_rnn_ig.shape"
   ]
  },
  {
   "cell_type": "code",
   "execution_count": 104,
   "metadata": {
    "collapsed": true
   },
   "outputs": [],
   "source": [
    "def create_complex_GRU(unidades,unidades2,opt,input_s):\n",
    "    model = Sequential()\n",
    "    model.add(GRU(units=unidades,return_sequences=True,input_shape=input_s))\n",
    "    model.add(Dropout(0.3))\n",
    "    #model.add(BatchNormalization())\n",
    "    model.add(GRU(units=unidades2,return_sequences=False,input_shape=input_s))\n",
    "    model.add(Dropout(0.2))\n",
    "    model.add(Dense(3, activation='softmax')) \n",
    "    model.compile(loss=focal_loss(2,weights=class_weights_f2), optimizer=opt, metrics=['accuracy'])\n",
    "    #history = model.fit(X_train, y_train, epochs=10, batch_size=128)\n",
    "    return model\n",
    "\n",
    "def create_complex_GRU_2(unidades,unidades2,opt,input_s):\n",
    "    #sgd=optimizers.SGD(lr=0.001, decay=1e-6, momentum=0.9)\n",
    "    model = Sequential()\n",
    "    model.add(GRU(units=unidades,return_sequences=True,input_shape=input_s))\n",
    "    model.add(Dropout(0.45))\n",
    "    model.add(BatchNormalization())\n",
    "    model.add(GRU(units=unidades2,return_sequences=False,input_shape=input_s ))#, recurrent_regularizer=regularizers.l1(0.01), kernel_regularizer=regularizers.l2(0.01) ))\n",
    "    model.add(Dropout(0.2))\n",
    "    model.add(BatchNormalization())\n",
    "    model.add(Dense(3, activation='softmax')) # kernel_regularizer=regularizers.l2(0.01),activity_regularizer=regularizers.l1(0.01))\n",
    "    model.compile(loss=focal_loss(2,weights=class_weights_f2), optimizer=opt, metrics=['accuracy'])\n",
    "    #history = model.fit(X_train, y_train, epochs=10, batch_size=128)\n",
    "    return model\n",
    "\n",
    "def create_complex_GRU_3(unidades,unidades2,unidades3,opt,input_s):\n",
    "    #256,128,64\n",
    "    model3 = Sequential()\n",
    "    model3.add(GRU(units=unidades,return_sequences=True,input_shape=input_s))\n",
    "    model3.add(Dropout(0.65))\n",
    "    model3.add(BatchNormalization())\n",
    "    model3.add(GRU(units=unidades2,return_sequences=True,input_shape=input_s ))#, recurrent_regularizer=regularizers.l1(0.01), kernel_regularizer=regularizers.l2(0.01) ))\n",
    "    model3.add(Dropout(0.45))\n",
    "    model3.add(BatchNormalization())\n",
    "    model3.add(GRU(units=unidades3,return_sequences=False,input_shape=input_s ))#,\n",
    "    model3.add(Dropout(0.35))\n",
    "    model3.add(BatchNormalization())\n",
    "    model3.add(Dense(3, activation='softmax')) # kernel_regularizer=regularizers.l2(0.01),activity_regularizer=regularizers.l1(0.01))\n",
    "    model3.compile(loss=focal_loss(2,weights=class_weights_f2), optimizer=opt, metrics=['accuracy'])\n",
    "    #model3.fit(X_train,y_train,epochs=20,batch_size=64,validation_split=0.25,class_weight=class_weights)\n",
    "    return model3"
   ]
  },
  {
   "cell_type": "code",
   "execution_count": 106,
   "metadata": {
    "scrolled": true
   },
   "outputs": [
    {
     "name": "stdout",
     "output_type": "stream",
     "text": [
      "Train on 2713 samples, validate on 632 samples\n",
      "Epoch 1/20\n",
      "2713/2713 [==============================] - 5s 2ms/step - loss: 0.5423 - acc: 0.4209 - val_loss: 0.9943 - val_acc: 0.4589\n",
      "Epoch 2/20\n",
      "2713/2713 [==============================] - 2s 858us/step - loss: 0.4241 - acc: 0.5101 - val_loss: 1.0810 - val_acc: 0.4509\n",
      "Epoch 3/20\n",
      "2713/2713 [==============================] - 2s 844us/step - loss: 0.3290 - acc: 0.6299 - val_loss: 1.2354 - val_acc: 0.6661\n",
      "Epoch 4/20\n",
      "2713/2713 [==============================] - 2s 836us/step - loss: 0.2458 - acc: 0.6889 - val_loss: 1.5142 - val_acc: 0.7563\n",
      "Epoch 5/20\n",
      "2713/2713 [==============================] - 2s 914us/step - loss: 0.1792 - acc: 0.7435 - val_loss: 2.1638 - val_acc: 0.6962\n",
      "Epoch 6/20\n",
      "2713/2713 [==============================] - 2s 836us/step - loss: 0.1669 - acc: 0.7589 - val_loss: 3.2140 - val_acc: 0.7832\n",
      "Epoch 7/20\n",
      "2713/2713 [==============================] - 2s 899us/step - loss: 0.1351 - acc: 0.8043 - val_loss: 2.4782 - val_acc: 0.6851\n",
      "Epoch 8/20\n",
      "2713/2713 [==============================] - 2s 914us/step - loss: 0.0988 - acc: 0.8363 - val_loss: 2.8856 - val_acc: 0.6123\n",
      "Epoch 9/20\n",
      "2713/2713 [==============================] - 2s 852us/step - loss: 0.0730 - acc: 0.8559 - val_loss: 3.6567 - val_acc: 0.7690\n",
      "Epoch 10/20\n",
      "2713/2713 [==============================] - 2s 861us/step - loss: 0.0504 - acc: 0.9064 - val_loss: 4.8049 - val_acc: 0.7801\n",
      "Epoch 11/20\n",
      "2713/2713 [==============================] - 2s 912us/step - loss: 0.0377 - acc: 0.9230 - val_loss: 5.1426 - val_acc: 0.8085\n",
      "Epoch 12/20\n",
      "2713/2713 [==============================] - 2s 851us/step - loss: 0.0329 - acc: 0.9340 - val_loss: 4.2298 - val_acc: 0.7453\n",
      "Epoch 13/20\n",
      "2713/2713 [==============================] - 2s 838us/step - loss: 0.0349 - acc: 0.9266 - val_loss: 3.9733 - val_acc: 0.7975\n",
      "Epoch 14/20\n",
      "2713/2713 [==============================] - 2s 903us/step - loss: 0.0310 - acc: 0.9370 - val_loss: 4.6466 - val_acc: 0.8228\n",
      "Epoch 15/20\n",
      "2713/2713 [==============================] - 2s 840us/step - loss: 0.0288 - acc: 0.9451 - val_loss: 4.6726 - val_acc: 0.8054\n",
      "Epoch 16/20\n",
      "2713/2713 [==============================] - 2s 880us/step - loss: 0.0199 - acc: 0.9690 - val_loss: 5.4294 - val_acc: 0.8133\n",
      "Epoch 17/20\n",
      "2713/2713 [==============================] - 2s 861us/step - loss: 0.0204 - acc: 0.9609 - val_loss: 5.5880 - val_acc: 0.8070\n",
      "Epoch 18/20\n",
      "2713/2713 [==============================] - 2s 838us/step - loss: 0.0150 - acc: 0.9731 - val_loss: 6.2557 - val_acc: 0.8354\n",
      "Epoch 19/20\n",
      "2713/2713 [==============================] - 2s 860us/step - loss: 0.0137 - acc: 0.9735 - val_loss: 6.0562 - val_acc: 0.8275\n",
      "Epoch 20/20\n",
      "2713/2713 [==============================] - 2s 853us/step - loss: 0.0099 - acc: 0.9838 - val_loss: 6.4112 - val_acc: 0.8307\n"
     ]
    }
   ],
   "source": [
    "model1 = create_complex_GRU(128,64,\"adam\",X_train_rnn[0].shape) #modificar post experimentación\n",
    "history1 = model1.fit(X_train_rnn, y_train_mul,epochs=20,batch_size=64,verbose=1, validation_data=(X_val_rnn_ig, y_val_mul))   \n",
    "#model1.save('Modelos_alt/rnn1_new_unbalanced_focal.h5')\n"
   ]
  },
  {
   "cell_type": "code",
   "execution_count": 107,
   "metadata": {},
   "outputs": [
    {
     "name": "stdout",
     "output_type": "stream",
     "text": [
      "[2 2 2 2 2]\n",
      "Accuracy sobre validacion: 0.830696202532\n",
      "F1-score None sobre validación: [ 0.3         0.125       0.90860215]\n",
      "F1-score macro sobre validación: 0.444534050179\n",
      "Precision None sobre validación: [ 0.51724138  0.25        0.85786802]\n",
      "Recall None sobre validación: [ 0.21126761  0.08333333  0.96571429]\n"
     ]
    },
    {
     "data": {
      "image/png": "[encoded data removed]",
      "text/plain": [
       "<matplotlib.figure.Figure at 0x7f5021d9b7b8>"
      ]
     },
     "metadata": {},
     "output_type": "display_data"
    }
   ],
   "source": [
    "trainPredict = model1.predict_classes(X_val_rnn_ig, batch_size=64)\n",
    "print (trainPredict[:5])\n",
    "acc_val= accuracy_score(y_val_mu, trainPredict)\n",
    "f1_val=f1_score(y_val_mu, trainPredict, average=None)  # labels=np.unique(trainPredict)\n",
    "f1_val_ma=f1_score(y_val_mu, trainPredict, average='macro')  # labels=np.unique(trainPredict)\n",
    "rec=recall_score(y_val_mu, trainPredict, average=None) \n",
    "pre=precision_score(y_val_mu, trainPredict, average=None) \n",
    "matriz_val=confusion_matrix(y_val_mu, trainPredict)\n",
    "\n",
    "print (\"Accuracy sobre validacion:\",acc_val)  \n",
    "print (\"F1-score None sobre validación:\",f1_val)\n",
    "print (\"F1-score macro sobre validación:\",f1_val_ma)\n",
    "print (\"Precision None sobre validación:\",pre)\n",
    "print (\"Recall None sobre validación:\",rec)\n",
    "\n",
    "plot_confusion_matrix(normalize(matriz_val,axis=1,norm='l1'),['Indirect','Physical','Sexual'],\"Confusion Matrix Caso Multiclass + Focal Loss RNN 1\")\n"
   ]
  },
  {
   "cell_type": "code",
   "execution_count": 109,
   "metadata": {},
   "outputs": [],
   "source": [
    "model2 = create_complex_GRU_2(128,64,\"adam\",X_train_rnn[0].shape) #modificar post experimentación\n",
    "history2 = model2.fit(X_train_rnn, y_train_mul,epochs=20,batch_size=64,verbose=0, validation_data=(X_val_rnn_ig, y_val_mul))   \n"
   ]
  },
  {
   "cell_type": "code",
   "execution_count": 112,
   "metadata": {},
   "outputs": [
    {
     "name": "stdout",
     "output_type": "stream",
     "text": [
      "[2 2 2 2 1]\n",
      "Accuracy sobre validacion: 0.743670886076\n",
      "F1-score None sobre validación: [ 0.42944785  0.13207547  0.86030151]\n",
      "F1-score macro sobre validación: 0.473941610666\n",
      "Precision None sobre validación: [ 0.38043478  0.1         0.9106383 ]\n",
      "Recall None sobre validación: [ 0.49295775  0.19444444  0.8152381 ]\n"
     ]
    },
    {
     "data": {
      "image/png": "[encoded data removed]",
      "text/plain": [
       "<matplotlib.figure.Figure at 0x7f5010a6c048>"
      ]
     },
     "metadata": {},
     "output_type": "display_data"
    }
   ],
   "source": [
    "trainPredict = model2.predict_classes(X_val_rnn_ig, batch_size=64)\n",
    "print (trainPredict[:5])\n",
    "acc_val= accuracy_score(y_val_mu, trainPredict)\n",
    "f1_val=f1_score(y_val_mu, trainPredict, average=None)  # labels=np.unique(trainPredict)\n",
    "f1_val_ma=f1_score(y_val_mu, trainPredict, average='macro')  # labels=np.unique(trainPredict)\n",
    "rec=recall_score(y_val_mu, trainPredict, average=None) \n",
    "pre=precision_score(y_val_mu, trainPredict, average=None) \n",
    "matriz_val=confusion_matrix(y_val_mu, trainPredict)\n",
    "\n",
    "print (\"Accuracy sobre validacion:\",acc_val)  \n",
    "print (\"F1-score None sobre validación:\",f1_val)\n",
    "print (\"F1-score macro sobre validación:\",f1_val_ma)\n",
    "print (\"Precision None sobre validación:\",pre)\n",
    "print (\"Recall None sobre validación:\",rec)\n",
    "\n",
    "plot_confusion_matrix(normalize(matriz_val,axis=1,norm='l1'),['Indirect','Physical','Sexual'],\"Confusion Matrix Caso Multiclass + Focal Loss RNN 2\")\n"
   ]
  },
  {
   "cell_type": "code",
   "execution_count": 120,
   "metadata": {},
   "outputs": [],
   "source": [
    "model3 = create_complex_GRU_3(256,128,64,\"adam\",X_train_rnn[0].shape) #modificar post experimentación\n",
    "history3 = model3.fit(X_train_rnn, y_train_mul,epochs=20,batch_size=64,verbose=0, validation_data=(X_val_rnn_ig, y_val_mul))   \n"
   ]
  },
  {
   "cell_type": "code",
   "execution_count": 121,
   "metadata": {},
   "outputs": [
    {
     "name": "stdout",
     "output_type": "stream",
     "text": [
      "[2 0 2 0 1]\n",
      "Accuracy sobre validacion: 0.772151898734\n",
      "F1-score None sobre validación: [ 0.5         0.11111111  0.87169043]\n",
      "F1-score macro sobre validación: 0.494267179603\n",
      "Precision None sobre validación: [ 0.36305732  0.16666667  0.93654267]\n",
      "Recall None sobre validación: [ 0.8028169   0.08333333  0.8152381 ]\n"
     ]
    },
    {
     "data": {
      "image/png": "[encoded data removed]",
      "text/plain": [
       "<matplotlib.figure.Figure at 0x7f5009eea940>"
      ]
     },
     "metadata": {},
     "output_type": "display_data"
    }
   ],
   "source": [
    "trainPredict = model3.predict_classes(X_val_rnn_ig, batch_size=64)\n",
    "print (trainPredict[:5])\n",
    "acc_val= accuracy_score(y_val_mu, trainPredict)\n",
    "f1_val=f1_score(y_val_mu, trainPredict, average=None)  # labels=np.unique(trainPredict)\n",
    "f1_val_ma=f1_score(y_val_mu, trainPredict, average='macro')  # labels=np.unique(trainPredict)\n",
    "rec=recall_score(y_val_mu, trainPredict, average=None) \n",
    "pre=precision_score(y_val_mu, trainPredict, average=None) \n",
    "matriz_val=confusion_matrix(y_val_mu, trainPredict)\n",
    "\n",
    "print (\"Accuracy sobre validacion:\",acc_val)  \n",
    "print (\"F1-score None sobre validación:\",f1_val)\n",
    "print (\"F1-score macro sobre validación:\",f1_val_ma)\n",
    "print (\"Precision None sobre validación:\",pre)\n",
    "print (\"Recall None sobre validación:\",rec)\n",
    "\n",
    "plot_confusion_matrix(normalize(matriz_val,axis=1,norm='l1'),['Indirect','Physical','Sexual'],\"Confusion Matrix Caso Multiclass + Focal Loss RNN 2\")\n"
   ]
  },
  {
   "cell_type": "code",
   "execution_count": null,
   "metadata": {
    "collapsed": true
   },
   "outputs": [],
   "source": []
  },
  {
   "cell_type": "code",
   "execution_count": 140,
   "metadata": {
    "scrolled": true
   },
   "outputs": [
    {
     "data": {
      "image/png": "[encoded data removed]",
      "text/plain": [
       "<matplotlib.figure.Figure at 0x7f5009a3a470>"
      ]
     },
     "metadata": {},
     "output_type": "display_data"
    }
   ],
   "source": [
    "factor = 1\n",
    "warmup = 100\n",
    "\n",
    "a = np.arange(0,1000)\n",
    "\n",
    "\n",
    "plt.plot(a, factor * (768 ** (-0.5) *  np.min([a ** (-0.5), a * warmup ** (-1.5)],axis=0)) )\n",
    "plt.show()"
   ]
  }
 ],
 "metadata": {
  "kernelspec": {
   "display_name": "Python 3",
   "language": "python",
   "name": "python3"
  },
  "language_info": {
   "codemirror_mode": {
    "name": "ipython",
    "version": 3
   },
   "file_extension": ".py",
   "mimetype": "text/x-python",
   "name": "python",
   "nbconvert_exporter": "python",
   "pygments_lexer": "ipython3",
   "version": "3.6.3"
  }
 },
 "nbformat": 4,
 "nbformat_minor": 2
}
