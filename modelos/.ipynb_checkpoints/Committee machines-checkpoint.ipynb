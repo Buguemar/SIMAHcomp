{
 "cells": [
  {
   "cell_type": "code",
   "execution_count": 2,
   "metadata": {},
   "outputs": [],
   "source": [
    "import sys\n",
    "import warnings\n",
    "\n",
    "if not sys.warnoptions:\n",
    "    warnings.simplefilter(\"ignore\")\n",
    "    \n",
    "import numpy as np\n",
    "import torch\n",
    "import torch.nn as nn\n",
    "import torch.nn.functional as F\n",
    "import math, copy, time\n",
    "from torch.autograd import Variable\n",
    "import matplotlib.pyplot as plt\n",
    "import seaborn\n",
    "seaborn.set_context(context=\"talk\")\n",
    "%matplotlib inline\n",
    "\n",
    "from keras import backend as K\n",
    "import keras\n",
    "import os, re, sys\n",
    "import pandas as pd\n",
    "from keras.utils import to_categorical\n",
    "import ast\n",
    "from sklearn.utils import class_weight\n",
    "from keras.preprocessing import sequence\n",
    "from keras.models import load_model\n",
    "import torch.nn.functional as F\n",
    "from sklearn.metrics import accuracy_score, f1_score\n",
    "from keras import backend as K\n",
    "import keras\n",
    "from sklearn.preprocessing import normalize\n",
    "\n",
    "from sklearn.metrics import *\n",
    "\n",
    "'''\n",
    "Compatible with tensorflow backend\n",
    "gamma entre más alto más tolerante (queremos un gamma chico pero no demasiado! 0.25 - 5)\n",
    "alpha pesos por clase (weights)\n",
    "'''\n",
    "def focal_loss(gamma=2., weights=1):   #weights np.asarray()\n",
    "    weights= K.variable(weights)\n",
    "    def focal_loss_fixed(y_true, y_pred):\n",
    "        y_true = K.clip(y_true, K.epsilon(),1)\n",
    "        y_pred = K.clip(y_pred,K.epsilon(),1)\n",
    "        return - K.sum(weights* K.pow(1. - y_pred, gamma)* y_true * K.log(y_pred), axis=-1) \n",
    "    return focal_loss_fixed\n",
    "\n",
    "keras.losses.focal_loss=keras.losses.MSE\n",
    "keras.losses.focal_loss_fixed=keras.losses.MSE"
   ]
  },
  {
   "cell_type": "code",
   "execution_count": 3,
   "metadata": {},
   "outputs": [],
   "source": [
    "from keras.models import load_model\n",
    "cnn1 = load_model('baselines/cnn1_100_multi_focal20_100.h5')  #0.38167939 0.19565217 0.87608069] 0.4844\n",
    "cnn2_64 = load_model('baselines/cnn2_64_multi_focal20_100.h5')  #0.38235294 0.16528926 0.84210526] 0.4632\n",
    "cnn2_128 = load_model('baselines/cnn2_128_multi_focal20_100.h5') #[0.37179487 0.19753086 0.74856487] 0.4392\n",
    "rnn_sim = load_model('baselines/rnn_simple_multi_focal20_100.h5') # [0.29850746 0.2        0.86346154] 0.4539\n",
    "rnn1 = load_model('baselines/rnn1_multi_focal20_100.h5')  #[0.23913043 0.19047619 0.91327434] 0.4476\n",
    "rnn2 = load_model('baselines/rnn2_multi_focal20_100.h5')  #[0.45238095 0.16091954 0.87215064] 0.4951\n",
    "rnn3 = load_model('baselines/rnn3_multi_focal20_100.h5')  # [0.43703704 0.14814815 0.79079956] 0.4586"
   ]
  },
  {
   "cell_type": "code",
   "execution_count": 4,
   "metadata": {},
   "outputs": [],
   "source": [
    "list_models=['cnn1', 'cnn2_64', 'cnn2_128', 'rnn_sim', 'rnn1', 'rnn2', 'rnn3']\n",
    "index_models=np.arange(7)\n",
    "dict_models=dict((key, value) for (key, value) in zip(index_models,list_models))\n",
    "modelos=[cnn1, cnn2_64, cnn2_128, rnn_sim, rnn1, rnn2, rnn3]\n",
    "ind=np.arange(7)\n",
    "dict_trainingModel=dict((key, value) for (key, value) in zip(ind,modelos))"
   ]
  },
  {
   "cell_type": "code",
   "execution_count": 5,
   "metadata": {},
   "outputs": [],
   "source": [
    "X_train_f2= np.load('matrices/X_train_f2_max.npy')  #fase 2\n",
    "X_train_rnn= np.load('matrices/X_train_rnn_max.npy')  #fase 2\n",
    "X_val_ig= np.load('matrices/X_val_ig_max.npy')\n",
    "X_val_rnn_ig= np.load('matrices/X_val_rnn_ig.npy')\n",
    "\n",
    "y_train_bi= np.load('matrices/y_train_bi_max.npy')\n",
    "y_train_bic= np.load('matrices/y_train_bic_max.npy')\n",
    "y_train_mul= np.load('matrices/y_train_mul_max.npy')\n",
    "\n",
    "y_val_bic= np.load('matrices/y_val_bic_max.npy')\n",
    "y_val_bin= np.load('matrices/y_val_bin_max.npy')\n",
    "y_val_mu= np.load('matrices/y_val_mu_max.npy')\n",
    "y_val_mul= np.load('matrices/y_val_mul_max.npy')\n",
    "\n",
    "X_val_ig_bin=np.load('matrices/X_val_ig_binario.npy')"
   ]
  },
  {
   "cell_type": "code",
   "execution_count": null,
   "metadata": {},
   "outputs": [],
   "source": []
  },
  {
   "cell_type": "code",
   "execution_count": 6,
   "metadata": {},
   "outputs": [
    {
     "name": "stdout",
     "output_type": "stream",
     "text": [
      "Agregando predicciones del modelo cnn1\n",
      "Agregando predicciones del modelo cnn2_64\n",
      "Agregando predicciones del modelo cnn2_128\n",
      "Agregando predicciones del modelo rnn_sim\n",
      "Agregando predicciones del modelo rnn1\n",
      "Agregando predicciones del modelo rnn2\n",
      "Agregando predicciones del modelo rnn3\n",
      "Agregando predicciones val del modelo cnn1\n",
      "Agregando predicciones val del modelo cnn2_64\n",
      "Agregando predicciones val del modelo cnn2_128\n",
      "Agregando predicciones val del modelo rnn_sim\n",
      "Agregando predicciones val del modelo rnn1\n",
      "Agregando predicciones val del modelo rnn2\n",
      "Agregando predicciones val del modelo rnn3\n"
     ]
    },
    {
     "data": {
      "text/plain": [
       "'predicciones_all_test=[]\\nX_test=np.load(\"x_test_models.npy\")\\nX_test_rnn=np.load(\"x_test_rnn_models.npy\")\\n\\nbs=32\\nfor i in dict_trainingModel.keys(): \\n    print (\"Agregando predicciones val del modelo\", dict_models[i])\\n    a_evaluar=dict_models[i]\\n    if a_evaluar[:3]!=\\'rnn\\':\\n        predicciones_all_test.append(dict_trainingModel[i].predict(X_test, batch_size=bs))\\n    else:\\n        predicciones_all_test.append(dict_trainingModel[i].predict(X_test_rnn, batch_size=bs))'"
      ]
     },
     "execution_count": 6,
     "metadata": {},
     "output_type": "execute_result"
    }
   ],
   "source": [
    "predicciones_all=[]\n",
    "X_train=X_train_f2.copy()\n",
    "X_train_rnn=X_train_rnn.copy()\n",
    "\n",
    "bs=32\n",
    "for i in dict_trainingModel.keys(): \n",
    "    print (\"Agregando predicciones del modelo\", dict_models[i])\n",
    "    a_evaluar=dict_models[i]\n",
    "    if a_evaluar[:3]!='rnn':\n",
    "        predicciones_all.append(dict_trainingModel[i].predict(X_train, batch_size=bs))\n",
    "    else:\n",
    "        predicciones_all.append(dict_trainingModel[i].predict(X_train_rnn, batch_size=bs))\n",
    "        \n",
    "predicciones_all_val=[]\n",
    "X_val=X_val_ig.copy()\n",
    "X_val_rnn=X_val_rnn_ig.copy()\n",
    "\n",
    "bs=32\n",
    "for i in dict_trainingModel.keys(): \n",
    "    print (\"Agregando predicciones val del modelo\", dict_models[i])\n",
    "    a_evaluar=dict_models[i]\n",
    "    if a_evaluar[:3]!='rnn':\n",
    "        predicciones_all_val.append(dict_trainingModel[i].predict(X_val, batch_size=bs))\n",
    "    else:\n",
    "        predicciones_all_val.append(dict_trainingModel[i].predict(X_val_rnn, batch_size=bs))\n",
    "        \n",
    "\"\"\"predicciones_all_test=[]\n",
    "X_test=np.load(\"x_test_models.npy\")\n",
    "X_test_rnn=np.load(\"x_test_rnn_models.npy\")\n",
    "\n",
    "bs=32\n",
    "for i in dict_trainingModel.keys(): \n",
    "    print (\"Agregando predicciones val del modelo\", dict_models[i])\n",
    "    a_evaluar=dict_models[i]\n",
    "    if a_evaluar[:3]!='rnn':\n",
    "        predicciones_all_test.append(dict_trainingModel[i].predict(X_test, batch_size=bs))\n",
    "    else:\n",
    "        predicciones_all_test.append(dict_trainingModel[i].predict(X_test_rnn, batch_size=bs))\"\"\""
   ]
  },
  {
   "cell_type": "code",
   "execution_count": 41,
   "metadata": {},
   "outputs": [],
   "source": [
    "def predecir_modelos(X_train,X_train_rnn,bs,predichos_all):\n",
    "    temp=predichos_all.copy()\n",
    "    final=[np.argmax(pred) for pred in temp]  #vectores de largo 60\n",
    "    confianzas=[temp[i][final[i]] for i in range(len(final))]\n",
    "    predichos_new=[]\n",
    "    for i in range(len(temp)):\n",
    "        if final[i]%3==0:\n",
    "            predichos_new.append(0)\n",
    "        if final[i]%3==1:\n",
    "            predichos_new.append(1)\n",
    "        if final[i]%3==2:\n",
    "            predichos_new.append(2)\n",
    "    return predichos_new,final,confianzas    \n",
    "\n",
    "def predecir_modelos_norm(X_train,X_train_rnn,bs,predichos_all):\n",
    "    temp=predichos_all.copy()\n",
    "    final=[]\n",
    "    confianzas=[]\n",
    "    for pred in temp:  #vectores de largo 60  \n",
    "        aux=np.ones(3)\n",
    "        #print (\"aux en norm\",aux)\n",
    "        for i in range(1,8):\n",
    "            sub=pred[(3*(i-1)):(3*i)]\n",
    "            #print (\"sub en norm\",sub)\n",
    "            aux=aux*np.asarray(sub)\n",
    "        #print (\"el sun es\", np.sum(aux), aux , aux/7.0, aux/np.sum(aux))    \n",
    "        aux=aux/np.sum(aux)\n",
    "        final.append(np.argmax(aux))\n",
    "        confianzas.append(aux[np.argmax(aux)])  \n",
    "           \n",
    "    predichos_new=[]\n",
    "    for i in range(len(temp)):\n",
    "        predichos_new.append(final[i])\n",
    "    return predichos_new,final,confianzas#, predichos_new_var\n",
    "    \n",
    "def predecir_modelos_average(X_train,X_train_rnn,bs,predichos_all):\n",
    "    temp=predichos_all.copy()\n",
    "    final=[]\n",
    "    confianzas=[]\n",
    "    for pred in temp:  #vectores de largo 60  \n",
    "        #print (\"pred es\", pred)\n",
    "        aux=np.ones(3)\n",
    "        for i in range(1,8):\n",
    "            sub=pred[(3*(i-1)):(3*i)]\n",
    "            aux=aux+np.asarray(sub)\n",
    "            #print (\"aux y sub son\", aux, sub)\n",
    "        #print (\"el sun es\", np.sum(aux), aux , aux/7.0, aux/np.sum(aux))   \n",
    "        aux=aux/np.sum(aux)\n",
    "        final.append(np.argmax(aux))\n",
    "        confianzas.append(aux[np.argmax(aux)])  \n",
    "           \n",
    "    predichos_new=[]\n",
    "    for i in range(len(temp)):\n",
    "        predichos_new.append(final[i])\n",
    "    return predichos_new,final,confianzas#, predichos_new_var"
   ]
  },
  {
   "cell_type": "code",
   "execution_count": 8,
   "metadata": {},
   "outputs": [
    {
     "name": "stdout",
     "output_type": "stream",
     "text": [
      "(632, 21)\n"
     ]
    }
   ],
   "source": [
    "predichos_all_val=np.concatenate(np.asarray(predicciones_all_val),axis=-1)\n",
    "print (predichos_all_val.shape)"
   ]
  },
  {
   "cell_type": "code",
   "execution_count": 9,
   "metadata": {},
   "outputs": [
    {
     "data": {
      "text/plain": [
       "632"
      ]
     },
     "execution_count": 9,
     "metadata": {},
     "output_type": "execute_result"
    }
   ],
   "source": [
    "new_y_val=y_val_mu.copy()\n",
    "len(new_y_val)"
   ]
  },
  {
   "cell_type": "code",
   "execution_count": 42,
   "metadata": {},
   "outputs": [
    {
     "name": "stdout",
     "output_type": "stream",
     "text": [
      "Accuracy test del comité: 0.8370253164556962\n",
      "F1-score weighted val del comité: 0.8260523332703571\n",
      "F1-score micro val del comité: 0.8370253164556962\n",
      "F1-score macro val del comité: 0.5564403335435499\n",
      "F1-score macro val del comité desagregado: [0.47887324 0.28       0.91044776]\n"
     ]
    }
   ],
   "source": [
    "batchSize=32\n",
    "trainPredicho, maxPredicho, confianzas = predecir_modelos(X_val,X_val_rnn, batchSize,predichos_all_val)\n",
    "acc_comite= accuracy_score(new_y_val, trainPredicho)  \n",
    "print(\"Accuracy test del comité:\",acc_comite)\n",
    "\n",
    "f1=f1_score(new_y_val, trainPredicho, average='weighted')  # labels=np.unique(trainPredict)\n",
    "print(\"F1-score weighted val del comité:\",f1)\n",
    "f1=f1_score(new_y_val, trainPredicho, average='micro')  # labels=np.unique(trainPredict)\n",
    "print(\"F1-score micro val del comité:\",f1)\n",
    "f1=f1_score(new_y_val, trainPredicho, average='macro')  # labels=np.unique(trainPredict)\n",
    "print(\"F1-score macro val del comité:\",f1)\n",
    "f1=f1_score(new_y_val, trainPredicho, average=None)  # labels=np.unique(trainPredict)\n",
    "print(\"F1-score macro val del comité desagregado:\",f1)"
   ]
  },
  {
   "cell_type": "code",
   "execution_count": 37,
   "metadata": {},
   "outputs": [
    {
     "name": "stdout",
     "output_type": "stream",
     "text": [
      "Accuracy test del comité: 0.8291139240506329\n",
      "F1-score weighted val del comité: 0.8172751365518147\n",
      "F1-score micro val del comité: 0.829113924050633\n",
      "F1-score macro val del comité: 0.5413521976621175\n",
      "F1-score macro val del comité desagregado: [0.46616541 0.25454545 0.90334572]\n"
     ]
    }
   ],
   "source": [
    "batchSize=32\n",
    "trainPredicho, maxPredicho, confianzas = predecir_modelos_norm(X_val,X_val_rnn, batchSize,predichos_all_val)\n",
    "acc_comite= accuracy_score(new_y_val, trainPredicho)  \n",
    "print(\"Accuracy test del comité:\",acc_comite)\n",
    "\n",
    "f1=f1_score(new_y_val, trainPredicho, average='weighted')  # labels=np.unique(trainPredict)\n",
    "print(\"F1-score weighted val del comité:\",f1)\n",
    "f1=f1_score(new_y_val, trainPredicho, average='micro')  # labels=np.unique(trainPredict)\n",
    "print(\"F1-score micro val del comité:\",f1)\n",
    "f1=f1_score(new_y_val, trainPredicho, average='macro')  # labels=np.unique(trainPredict)\n",
    "print(\"F1-score macro val del comité:\",f1)\n",
    "f1=f1_score(new_y_val, trainPredicho, average=None)  # labels=np.unique(trainPredict)\n",
    "print(\"F1-score macro val del comité desagregado:\",f1)"
   ]
  },
  {
   "cell_type": "code",
   "execution_count": 38,
   "metadata": {},
   "outputs": [
    {
     "name": "stdout",
     "output_type": "stream",
     "text": [
      "Accuracy test del comité: 0.8338607594936709\n",
      "F1-score weighted val del comité: 0.8249319340878152\n",
      "F1-score micro val del comité: 0.8338607594936709\n",
      "F1-score macro val del comité: 0.556884251828072\n",
      "F1-score macro val del comité desagregado: [0.51428571 0.25       0.90636704]\n"
     ]
    }
   ],
   "source": [
    "batchSize=32\n",
    "trainPredicho, maxPredicho, confianzas = predecir_modelos_average(X_val,X_val_rnn, batchSize,predichos_all_val)\n",
    "acc_comite= accuracy_score(new_y_val, trainPredicho)  \n",
    "print(\"Accuracy test del comité:\",acc_comite)\n",
    "\n",
    "f1=f1_score(new_y_val, trainPredicho, average='weighted')  # labels=np.unique(trainPredict)\n",
    "print(\"F1-score weighted val del comité:\",f1)\n",
    "f1=f1_score(new_y_val, trainPredicho, average='micro')  # labels=np.unique(trainPredict)\n",
    "print(\"F1-score micro val del comité:\",f1)\n",
    "f1=f1_score(new_y_val, trainPredicho, average='macro')  # labels=np.unique(trainPredict)\n",
    "print(\"F1-score macro val del comité:\",f1)\n",
    "f1=f1_score(new_y_val, trainPredicho, average=None)  # labels=np.unique(trainPredict)\n",
    "print(\"F1-score macro val del comité desagregado:\",f1)"
   ]
  },
  {
   "cell_type": "markdown",
   "metadata": {},
   "source": [
    "### Resultados por Baseline"
   ]
  },
  {
   "cell_type": "code",
   "execution_count": 15,
   "metadata": {},
   "outputs": [
    {
     "name": "stdout",
     "output_type": "stream",
     "text": [
      "\n",
      "Agregando predicciones val del modelo cnn1\n",
      "Accuracy sobre entrenamiento gru FOCAL: 0.7753164556962026\n",
      "F1-score macro sobre entrenamiento gru FOCAL: 0.4844707516228906\n",
      "F1-score none sobre entrenamiento gru FOCAL: [0.38167939 0.19565217 0.87608069]\n",
      "\n",
      "Agregando predicciones val del modelo cnn2_64\n",
      "Accuracy sobre entrenamiento gru FOCAL: 0.7278481012658228\n",
      "F1-score macro sobre entrenamiento gru FOCAL: 0.46324915351090407\n",
      "F1-score none sobre entrenamiento gru FOCAL: [0.38235294 0.16528926 0.84210526]\n",
      "\n",
      "Agregando predicciones val del modelo cnn2_128\n",
      "Accuracy sobre entrenamiento gru FOCAL: 0.620253164556962\n",
      "F1-score macro sobre entrenamiento gru FOCAL: 0.4392968679867519\n",
      "F1-score none sobre entrenamiento gru FOCAL: [0.37179487 0.19753086 0.74856487]\n",
      "\n",
      "Agregando predicciones val del modelo rnn_sim\n",
      "Accuracy sobre entrenamiento gru FOCAL: 0.7563291139240507\n",
      "F1-score macro sobre entrenamiento gru FOCAL: 0.45398966704936855\n",
      "F1-score none sobre entrenamiento gru FOCAL: [0.29850746 0.2        0.86346154]\n",
      "\n",
      "Agregando predicciones val del modelo rnn1\n",
      "Accuracy sobre entrenamiento gru FOCAL: 0.8401898734177216\n",
      "F1-score macro sobre entrenamiento gru FOCAL: 0.4476269871806617\n",
      "F1-score none sobre entrenamiento gru FOCAL: [0.23913043 0.19047619 0.91327434]\n",
      "\n",
      "Agregando predicciones val del modelo rnn2\n",
      "Accuracy sobre entrenamiento gru FOCAL: 0.7674050632911392\n",
      "F1-score macro sobre entrenamiento gru FOCAL: 0.49515037893767255\n",
      "F1-score none sobre entrenamiento gru FOCAL: [0.45238095 0.16091954 0.87215064]\n",
      "\n",
      "Agregando predicciones val del modelo rnn3\n",
      "Accuracy sobre entrenamiento gru FOCAL: 0.6740506329113924\n",
      "F1-score macro sobre entrenamiento gru FOCAL: 0.4586615823563615\n",
      "F1-score none sobre entrenamiento gru FOCAL: [0.43703704 0.14814815 0.79079956]\n"
     ]
    }
   ],
   "source": [
    "bs=32\n",
    "for i in dict_trainingModel.keys(): \n",
    "    print (\"\")\n",
    "    print (\"Agregando predicciones val del modelo\", dict_models[i])\n",
    "    a_evaluar=dict_models[i]\n",
    "    if a_evaluar[:3]!='rnn':\n",
    "        predicho=dict_trainingModel[i].predict(X_val, batch_size=bs)\n",
    "    else:\n",
    "        predicho=dict_trainingModel[i].predict(X_val_rnn, batch_size=bs)\n",
    "    \n",
    "    predicho=[np.argmax(pred) for pred in predicho]\n",
    "    acc_tr= accuracy_score(new_y_val, predicho)  \n",
    "    f1_ma=f1_score(new_y_val, predicho, average='macro')\n",
    "    f1_no=f1_score(new_y_val, predicho, average=None)\n",
    "\n",
    "    print (\"Accuracy sobre entrenamiento gru FOCAL:\",acc_tr)  \n",
    "    print (\"F1-score macro sobre entrenamiento gru FOCAL:\",f1_ma)\n",
    "    print (\"F1-score none sobre entrenamiento gru FOCAL:\",f1_no)"
   ]
  },
  {
   "cell_type": "code",
   "execution_count": null,
   "metadata": {},
   "outputs": [],
   "source": []
  }
 ],
 "metadata": {
  "kernelspec": {
   "display_name": "Python 3",
   "language": "python",
   "name": "python3"
  },
  "language_info": {
   "codemirror_mode": {
    "name": "ipython",
    "version": 3
   },
   "file_extension": ".py",
   "mimetype": "text/x-python",
   "name": "python",
   "nbconvert_exporter": "python",
   "pygments_lexer": "ipython3",
   "version": "3.6.4"
  }
 },
 "nbformat": 4,
 "nbformat_minor": 2
}
