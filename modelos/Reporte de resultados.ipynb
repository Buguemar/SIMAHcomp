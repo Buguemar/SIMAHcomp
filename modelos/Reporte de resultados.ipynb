{
 "cells": [
  {
   "cell_type": "markdown",
   "metadata": {},
   "source": [
    "# Reporte de resultados Train/Val set\n",
    "\n",
    "## Modelos 4 classes"
   ]
  },
  {
   "cell_type": "code",
   "execution_count": 12,
   "metadata": {},
   "outputs": [
    {
     "name": "stdout",
     "output_type": "stream",
     "text": [
      "Nh\t\t| IH\t\t| PH\t\t| SH\t\t| F-Macro\n",
      "0.929514 \t 0.0 \t\t 0.0 \t\t 0.84362934 \t 0.443285836068\n",
      "0.89635317 \t 0.1588785 \t 0.02941176 \t 0.67695962 \t 0.440400764079\n",
      "0.90495737 \t 0.16783217 \t 0.11510791 \t 0.64419476 \t 0.458023052741\n",
      "0.9201278 \t 0.0625 \t 0.05128205 \t 0.77563452 \t 0.452386091144\n",
      "0.8859146 \t 0.18723404 \t 0.08510638 \t 0.6746988 \t 0.458238453999\n",
      "0.89831566 \t 0.13836478 \t 0.06349206 \t 0.64720195 \t 0.436843611995\n",
      "0.87486554 \t 0.10218978 \t 0.11016949 \t 0.77602524 \t 0.465812513086\n",
      "0.88498746 \t 0.09722222 \t 0.13903743 \t 0.79787234 \t 0.479779863874\n",
      "0.8779625 \t 0.14334471 \t 0.08130081 \t 0.80635551 \t 0.477240884687\n",
      "0.84843982 \t 0.12787724 \t 0.09815951 \t 0.78486056 \t 0.464834281629\n",
      "0.87341338 \t 0.13031161 \t 0.06549118 \t 0.1982906 \t 0.316876693994\n",
      "0.90675039 \t 0.08163265 \t 0.09137056 \t 0.57662338 \t 0.414094245131\n"
     ]
    }
   ],
   "source": [
    "#'baselines_4/cnn1_ce10_100.h5'\n",
    "print (\"Nh\\t\\t| IH\\t\\t| PH\\t\\t| SH\\t\\t| F-Macro\")\n",
    "print (0.929514,'\\t',0.0000,'\\t\\t',0.0000,'\\t\\t',0.84362934,'\\t', 0.443285836068)\n",
    " \n",
    "#('baselines_4/cnn1_focal10_100.h5')\n",
    "print (0.89635317,'\\t',0.1588785,'\\t',0.02941176,'\\t',0.67695962,'\\t',0.440400764079)\n",
    "    \n",
    "#('baselines_4/cnn1_100_focal20_100.h5')\n",
    "print (0.90495737,'\\t',  0.16783217,'\\t',  0.11510791 ,'\\t', 0.64419476,'\\t',0.458023052741)\n",
    "\n",
    "#'baselines_4/cnn1_100_focal20_100_g2.h5'\n",
    "print (0.9201278,'\\t',   0.0625 ,'\\t',     0.05128205 ,'\\t', 0.77563452,'\\t', 0.452386091144)\n",
    "\n",
    "#'baselines_4/cnn1_100_focal20_100_g3.h5\n",
    "print (0.8859146 ,'\\t',  0.18723404  ,'\\t',0.08510638 ,'\\t', 0.6746988,'\\t',0.458238453999)\n",
    "\n",
    "#'baselines_4/cnn1_100_focal20_100_g4.h5\n",
    "print (0.89831566 ,'\\t', 0.13836478 ,'\\t', 0.06349206,'\\t',  0.64720195,'\\t', 0.436843611995)\n",
    "\n",
    "#('baselines_4/rnn_simple_100_focal15.h5')\n",
    "print (0.87486554,'\\t',  0.10218978 ,'\\t', 0.11016949  ,'\\t',0.77602524,'\\t', 0.465812513086)\n",
    "\n",
    "#('baselines_4/rnn1_100_focal15.h5')\n",
    "print (0.88498746 ,'\\t', 0.09722222,'\\t',  0.13903743 ,'\\t', 0.79787234,'\\t',  0.479779863874)\n",
    "\n",
    "#('baselines_4/rnn2_100_focal15.h5')\n",
    "print ( 0.8779625 ,'\\t',  0.14334471,'\\t',  0.08130081  ,'\\t',0.80635551,'\\t',0.477240884687)\n",
    "\n",
    "#('baselines_4/rnn3_100_focal15.h5')\n",
    "print ( 0.84843982,'\\t',  0.12787724,'\\t',  0.09815951,'\\t',  0.78486056,'\\t',0.464834281629)\n",
    "\n",
    "#('baselines_4/cnn1_focal10_100_g3_64.h5')\n",
    "print (0.87341338 ,'\\t', 0.13031161 ,'\\t', 0.06549118 ,'\\t', 0.1982906,'\\t',0.316876693994)\n",
    "\n",
    "#('baselines_4/cnn1_focal10_100_g3_100.h5')\n",
    "print (0.90675039,'\\t',  0.08163265 ,'\\t', 0.09137056 ,'\\t', 0.57662338,'\\t',0.414094245131)"
   ]
  },
  {
   "cell_type": "code",
   "execution_count": null,
   "metadata": {
    "collapsed": true
   },
   "outputs": [],
   "source": []
  },
  {
   "cell_type": "code",
   "execution_count": null,
   "metadata": {
    "collapsed": true
   },
   "outputs": [],
   "source": []
  },
  {
   "cell_type": "code",
   "execution_count": null,
   "metadata": {
    "collapsed": true
   },
   "outputs": [],
   "source": []
  },
  {
   "cell_type": "code",
   "execution_count": null,
   "metadata": {
    "collapsed": true
   },
   "outputs": [],
   "source": []
  },
  {
   "cell_type": "markdown",
   "metadata": {},
   "source": [
    "### binary + CNN1"
   ]
  },
  {
   "cell_type": "code",
   "execution_count": null,
   "metadata": {
    "collapsed": true
   },
   "outputs": [],
   "source": []
  },
  {
   "cell_type": "markdown",
   "metadata": {},
   "source": [
    "### binary + CNN2"
   ]
  },
  {
   "cell_type": "code",
   "execution_count": null,
   "metadata": {
    "collapsed": true
   },
   "outputs": [],
   "source": []
  },
  {
   "cell_type": "markdown",
   "metadata": {},
   "source": [
    "### binary + RNN1"
   ]
  },
  {
   "cell_type": "code",
   "execution_count": null,
   "metadata": {
    "collapsed": true
   },
   "outputs": [],
   "source": []
  },
  {
   "cell_type": "markdown",
   "metadata": {},
   "source": [
    "### binary + RNN2"
   ]
  },
  {
   "cell_type": "code",
   "execution_count": null,
   "metadata": {
    "collapsed": true
   },
   "outputs": [],
   "source": []
  },
  {
   "cell_type": "markdown",
   "metadata": {},
   "source": [
    "### binary + RNN3"
   ]
  },
  {
   "cell_type": "code",
   "execution_count": null,
   "metadata": {
    "collapsed": true
   },
   "outputs": [],
   "source": []
  },
  {
   "cell_type": "markdown",
   "metadata": {},
   "source": [
    "### Comité Best Fit"
   ]
  },
  {
   "cell_type": "code",
   "execution_count": null,
   "metadata": {
    "collapsed": true
   },
   "outputs": [],
   "source": []
  },
  {
   "cell_type": "markdown",
   "metadata": {},
   "source": [
    "### Comité Norm"
   ]
  },
  {
   "cell_type": "code",
   "execution_count": null,
   "metadata": {
    "collapsed": true
   },
   "outputs": [],
   "source": []
  },
  {
   "cell_type": "markdown",
   "metadata": {},
   "source": [
    "### Comité Average/Voting"
   ]
  },
  {
   "cell_type": "code",
   "execution_count": null,
   "metadata": {
    "collapsed": true
   },
   "outputs": [],
   "source": []
  },
  {
   "cell_type": "markdown",
   "metadata": {},
   "source": [
    "### Transformer CIARP"
   ]
  },
  {
   "cell_type": "code",
   "execution_count": null,
   "metadata": {
    "collapsed": true
   },
   "outputs": [],
   "source": []
  },
  {
   "cell_type": "markdown",
   "metadata": {},
   "source": [
    "### Transformer otros settings"
   ]
  },
  {
   "cell_type": "code",
   "execution_count": null,
   "metadata": {
    "collapsed": true
   },
   "outputs": [],
   "source": []
  },
  {
   "cell_type": "code",
   "execution_count": null,
   "metadata": {
    "collapsed": true
   },
   "outputs": [],
   "source": []
  },
  {
   "cell_type": "code",
   "execution_count": null,
   "metadata": {
    "collapsed": true
   },
   "outputs": [],
   "source": []
  }
 ],
 "metadata": {
  "kernelspec": {
   "display_name": "Python 3",
   "language": "python",
   "name": "python3"
  },
  "language_info": {
   "codemirror_mode": {
    "name": "ipython",
    "version": 3
   },
   "file_extension": ".py",
   "mimetype": "text/x-python",
   "name": "python",
   "nbconvert_exporter": "python",
   "pygments_lexer": "ipython3",
   "version": "3.6.3"
  }
 },
 "nbformat": 4,
 "nbformat_minor": 2
}
