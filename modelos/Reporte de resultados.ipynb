{
 "cells": [
  {
   "cell_type": "markdown",
   "metadata": {},
   "source": [
    "# Reporte de resultados Train/Val set\n",
    "\n",
    "## Modelos 4 classes"
   ]
  },
  {
   "cell_type": "code",
   "execution_count": 1,
   "metadata": {},
   "outputs": [
    {
     "name": "stdout",
     "output_type": "stream",
     "text": [
      "Nh\t\t| IH\t\t| PH\t\t| SH\t\t| F-Macro\n",
      "0.92792793 \t 0.0 \t\t 0.0 \t\t 0.84057971 \t 0.4421269095182139\n",
      "0.78674791 \t 0.13793103 \t 0.09756098 \t 0.56389987 \t 0.396534945974999\n",
      "0.90885585 \t 0.08 \t\t 0.08 \t\t 0.53174603 \t 0.40015047044458807\n",
      "0.91094148 \t 0.04255319 \t 0.07692308 \t 0.64953271 \t 0.41998761362994613\n",
      "0.90553955 \t 0.05517241 \t 0.07407407 \t 0.55874674 \t 0.3983831923671509\n",
      "0.82479584 \t 0.12264151 \t 0.05555556 \t 0.70242915 \t 0.4263555143500758\n",
      "0.9197861 \t 0.10884354 \t 0.0729927 \t 0.78439425 \t 0.47150414622873116\n",
      "0.92418033 \t 0.14876033 \t 0.17073171 \t 0.85254692 \t 0.5240548206636296\n",
      "0.9054658 \t 0.13714286 \t 0.10909091 \t 0.74418605 \t 0.47397140213787825\n",
      "0.78454333 \t 0.10327022 \t 0.10362694 \t 0.71553611 \t 0.42674414932927196\n",
      "0.83127273 \t 0.12668464 \t 0.07792208 \t 0.44346549 \t 0.3698362333092613\n",
      "0.91473851 \t 0.0 \t\t 0.09386282 \t 0.52150538 \t 0.38252667563241805\n"
     ]
    }
   ],
   "source": [
    "#'baselines_4/cnn1_ce10_100.h5'\n",
    "print (\"Nh\\t\\t| IH\\t\\t| PH\\t\\t| SH\\t\\t| F-Macro\")\n",
    "print (0.92792793 ,'\\t',0. ,'\\t\\t',        0.,'\\t\\t',         0.84057971,'\\t',    0.4421269095182139)\n",
    "#('baselines_4/cnn1_focal10_100.h5')\n",
    "print (0.78674791,'\\t', 0.13793103 ,'\\t',0.09756098 ,'\\t',0.56389987,'\\t',   0.396534945974999  )\n",
    "#('baselines_4/cnn1_100_focal20_100.h5')\n",
    "print (0.90885585 ,'\\t',0.08      ,'\\t\\t', 0.08 ,'\\t\\t',      0.53174603 ,'\\t',0.40015047044458807)\n",
    "#'baselines_4/cnn1_100_focal20_100_g2.h5'\n",
    "print (0.91094148,'\\t', 0.04255319,'\\t', 0.07692308,'\\t', 0.64953271,'\\t',   0.41998761362994613)\n",
    "#'baselines_4/cnn1_100_focal20_100_g3.h5\n",
    "print (0.90553955 ,'\\t',0.05517241,'\\t', 0.07407407,'\\t', 0.55874674,'\\t',  0.3983831923671509)\n",
    "#'baselines_4/cnn1_100_focal20_100_g4.h5\n",
    "print (0.82479584 ,'\\t',0.12264151 ,'\\t',0.05555556 ,'\\t',0.70242915,'\\t', 0.4263555143500758)\n",
    "#('baselines_4/rnn_simple_100_focal15.h5')\n",
    "print (0.9197861  ,'\\t',0.10884354 ,'\\t',0.0729927  ,'\\t',0.78439425,'\\t',  0.47150414622873116)\n",
    "#('baselines_4/rnn1_100_focal15.h5')\n",
    "print (0.92418033,'\\t', 0.14876033 ,'\\t',0.17073171 ,'\\t',0.85254692,'\\t',  0.5240548206636296)\n",
    "#('baselines_4/rnn2_100_focal15.h5')\n",
    "print (0.9054658 ,'\\t', 0.13714286 ,'\\t',0.10909091 ,'\\t',0.74418605,'\\t',  0.47397140213787825)\n",
    "#('baselines_4/rnn3_100_focal15.h5')\n",
    "print (0.78454333 ,'\\t',0.10327022,'\\t', 0.10362694 ,'\\t',0.71553611,'\\t', 0.42674414932927196)\n",
    "#('baselines_4/cnn1_focal10_100_g3_64.h5')\n",
    "print (0.83127273,'\\t', 0.12668464 ,'\\t',0.07792208 ,'\\t',0.44346549,'\\t',0.3698362333092613)\n",
    "#('baselines_4/cnn1_focal10_100_g3_100.h5')\n",
    "print (0.91473851 ,'\\t',0. ,'\\t\\t',        0.09386282 ,'\\t',0.52150538,'\\t',    0.38252667563241805)\n",
    "\n",
    "#pasan a transformer: 1,2,7,8,9,10,12"
   ]
  },
  {
   "cell_type": "code",
   "execution_count": null,
   "metadata": {
    "collapsed": true
   },
   "outputs": [],
   "source": []
  },
  {
   "cell_type": "code",
   "execution_count": null,
   "metadata": {
    "collapsed": true
   },
   "outputs": [],
   "source": []
  },
  {
   "cell_type": "code",
   "execution_count": null,
   "metadata": {
    "collapsed": true
   },
   "outputs": [],
   "source": []
  },
  {
   "cell_type": "code",
   "execution_count": null,
   "metadata": {
    "collapsed": true
   },
   "outputs": [],
   "source": []
  },
  {
   "cell_type": "markdown",
   "metadata": {},
   "source": [
    "### binary + CNN1"
   ]
  },
  {
   "cell_type": "code",
   "execution_count": null,
   "metadata": {
    "collapsed": true
   },
   "outputs": [],
   "source": []
  },
  {
   "cell_type": "markdown",
   "metadata": {},
   "source": [
    "### binary + CNN2"
   ]
  },
  {
   "cell_type": "code",
   "execution_count": null,
   "metadata": {
    "collapsed": true
   },
   "outputs": [],
   "source": []
  },
  {
   "cell_type": "markdown",
   "metadata": {},
   "source": [
    "### binary + RNN1"
   ]
  },
  {
   "cell_type": "code",
   "execution_count": null,
   "metadata": {
    "collapsed": true
   },
   "outputs": [],
   "source": []
  },
  {
   "cell_type": "markdown",
   "metadata": {},
   "source": [
    "### binary + RNN2"
   ]
  },
  {
   "cell_type": "code",
   "execution_count": null,
   "metadata": {
    "collapsed": true
   },
   "outputs": [],
   "source": []
  },
  {
   "cell_type": "markdown",
   "metadata": {},
   "source": [
    "### binary + RNN3"
   ]
  },
  {
   "cell_type": "code",
   "execution_count": null,
   "metadata": {
    "collapsed": true
   },
   "outputs": [],
   "source": []
  },
  {
   "cell_type": "markdown",
   "metadata": {},
   "source": [
    "### Comité Best Fit"
   ]
  },
  {
   "cell_type": "code",
   "execution_count": null,
   "metadata": {
    "collapsed": true
   },
   "outputs": [],
   "source": []
  },
  {
   "cell_type": "markdown",
   "metadata": {},
   "source": [
    "### Comité Norm"
   ]
  },
  {
   "cell_type": "code",
   "execution_count": null,
   "metadata": {
    "collapsed": true
   },
   "outputs": [],
   "source": []
  },
  {
   "cell_type": "markdown",
   "metadata": {},
   "source": [
    "### Comité Average/Voting"
   ]
  },
  {
   "cell_type": "code",
   "execution_count": null,
   "metadata": {
    "collapsed": true
   },
   "outputs": [],
   "source": []
  },
  {
   "cell_type": "markdown",
   "metadata": {},
   "source": [
    "### Transformer CIARP"
   ]
  },
  {
   "cell_type": "code",
   "execution_count": null,
   "metadata": {
    "collapsed": true
   },
   "outputs": [],
   "source": []
  },
  {
   "cell_type": "markdown",
   "metadata": {},
   "source": [
    "### Transformer otros settings"
   ]
  },
  {
   "cell_type": "code",
   "execution_count": null,
   "metadata": {
    "collapsed": true
   },
   "outputs": [],
   "source": []
  },
  {
   "cell_type": "code",
   "execution_count": null,
   "metadata": {
    "collapsed": true
   },
   "outputs": [],
   "source": []
  },
  {
   "cell_type": "code",
   "execution_count": null,
   "metadata": {
    "collapsed": true
   },
   "outputs": [],
   "source": []
  }
 ],
 "metadata": {
  "kernelspec": {
   "display_name": "Python 3",
   "language": "python",
   "name": "python3"
  },
  "language_info": {
   "codemirror_mode": {
    "name": "ipython",
    "version": 3
   },
   "file_extension": ".py",
   "mimetype": "text/x-python",
   "name": "python",
   "nbconvert_exporter": "python",
   "pygments_lexer": "ipython3",
   "version": "3.6.4"
  }
 },
 "nbformat": 4,
 "nbformat_minor": 2
}
