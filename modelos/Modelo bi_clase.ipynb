{
 "cells": [
  {
   "cell_type": "code",
   "execution_count": 148,
   "metadata": {},
   "outputs": [],
   "source": [
    "import sys\n",
    "import warnings\n",
    "#from torchtext import data\n",
    "\n",
    "if not sys.warnoptions:\n",
    "    warnings.simplefilter(\"ignore\")\n",
    "    \n",
    "import numpy as np\n",
    "import torch\n",
    "import torch.nn as nn\n",
    "import torch.nn.functional as F\n",
    "import math, copy, time\n",
    "from torch.autograd import Variable\n",
    "import matplotlib.pyplot as plt\n",
    "import seaborn\n",
    "seaborn.set_context(context=\"talk\")\n",
    "%matplotlib inline\n",
    "\n",
    "from keras import backend as K\n",
    "import keras\n",
    "import os, re, sys\n",
    "import pandas as pd\n",
    "from keras.utils import to_categorical\n",
    "import ast\n",
    "from sklearn.utils import class_weight\n",
    "from keras.preprocessing import sequence\n",
    "from keras.models import load_model\n",
    "import torch.nn.functional as F\n",
    "from sklearn.metrics import accuracy_score, f1_score, precision_score, recall_score\n",
    "\n",
    "from nltk.corpus import stopwords\n",
    "from bs4 import BeautifulSoup\n",
    "from nltk import WordNetLemmatizer\n",
    "import itertools\n",
    "from collections import Counter\n",
    "from os import listdir\n",
    "from os.path import isfile, join\n",
    "import  json\n",
    "\n",
    "\n",
    "from  keras.models import Sequential\n",
    "from keras.layers import Dense, Dropout, Activation, Flatten, BatchNormalization\n",
    "from keras.layers import Conv2D, MaxPooling2D\n",
    "from keras.layers import Embedding\n",
    "from keras.layers import Conv1D, MaxPooling1D, Input\n",
    "from keras.models import Model"
   ]
  },
  {
   "cell_type": "markdown",
   "metadata": {},
   "source": [
    "## Generación de data Train/Val/test"
   ]
  },
  {
   "cell_type": "code",
   "execution_count": 2,
   "metadata": {},
   "outputs": [],
   "source": [
    "stoplist = stopwords.words('english')\n",
    "lemmatizer=WordNetLemmatizer()\n",
    "\n",
    "emoji_pattern = re.compile(\"[\"\n",
    "        u\"\\U0001F600-\\U0001F64F\"  # emoticons\n",
    "        u\"\\U0001F300-\\U0001F5FF\"  # symbols & pictographs\n",
    "        u\"\\U0001F680-\\U0001F6FF\"  # transport & map symbols\n",
    "        u\"\\U0001F1E0-\\U0001F1FF\"  # flags (iOS)\n",
    "                           \"]+\", flags=re.UNICODE)\n",
    "\n",
    "def cleaner(post):       \n",
    "    s= re.sub(r\"http\\S+\", \" <url> \", post)   ##########elimina http    \n",
    "    s= re.sub(r'#\\w+ ?', \" <hashtag> \", s) ########3\n",
    "    s= re.sub(r'@\\w+ ?', \" <user> \", s)##############    \n",
    "    s= s.lower()\n",
    "    s = re.sub(r\"-\", \" - \", s)\n",
    "    s = re.sub(r\"\\(\", \" \", s)\n",
    "    s = re.sub(r\"\\)\", \" \", s)\n",
    "    s = re.sub(r\"\\?\", \" ? \", s)    \n",
    "    s = re.sub(r\"\\/\", \" \", s)\n",
    "    s = re.sub(r\"' \", \" ' \", s)\n",
    "    s = re.sub(r\" '\", \" ' \", s)\n",
    "    s = re.sub(r\"\\!\", \" ! \", s)\n",
    "    s=re.sub(\"[\\.]+\", \" . \", s)\n",
    "    s=re.sub(\"[\\,]+\", \" , \", s)\n",
    "    s=re.sub(\"[\\;]+\", \" ; \", s)\n",
    "    s=re.sub(\"[\\:]+\", \" : \", s)\n",
    "    s=re.sub('[\\\"]+', ' \" ', s)\n",
    "    s=re.sub(r'\\b[0-9]\\b', \" <number> \",  s)\n",
    "    s=re.sub(r'\\b[0-9][0-9]\\b', \" <number> \",  s)\n",
    "    s=re.sub(r'\\b[0-9][0-9][0-9]\\b', \" <number> \",  s)\n",
    "    s=re.sub(r'\\b[0-9][0-9][0-9][0-9]\\b', \" <number> \",  s)\n",
    "    s=emoji_pattern.sub(r'', s)\n",
    "    s= list(s.split())\n",
    "    s=[lemmatizer.lemmatize(token) for token in s]\n",
    "        \n",
    "    return s"
   ]
  },
  {
   "cell_type": "code",
   "execution_count": 3,
   "metadata": {},
   "outputs": [
    {
     "data": {
      "text/html": [
       "<div>\n",
       "<style scoped>\n",
       "    .dataframe tbody tr th:only-of-type {\n",
       "        vertical-align: middle;\n",
       "    }\n",
       "\n",
       "    .dataframe tbody tr th {\n",
       "        vertical-align: top;\n",
       "    }\n",
       "\n",
       "    .dataframe thead th {\n",
       "        text-align: right;\n",
       "    }\n",
       "</style>\n",
       "<table border=\"1\" class=\"dataframe\">\n",
       "  <thead>\n",
       "    <tr style=\"text-align: right;\">\n",
       "      <th></th>\n",
       "      <th>Unnamed: 0</th>\n",
       "      <th>tweet_content</th>\n",
       "      <th>harassment</th>\n",
       "      <th>IndirectH</th>\n",
       "      <th>PhysicalH</th>\n",
       "      <th>SexualH</th>\n",
       "    </tr>\n",
       "  </thead>\n",
       "  <tbody>\n",
       "    <tr>\n",
       "      <th>0</th>\n",
       "      <td>0</td>\n",
       "      <td>pics mexican school girl naked melanie safka f...</td>\n",
       "      <td>1</td>\n",
       "      <td>0</td>\n",
       "      <td>0</td>\n",
       "      <td>1</td>\n",
       "    </tr>\n",
       "    <tr>\n",
       "      <th>1</th>\n",
       "      <td>1</td>\n",
       "      <td>RT shereiqns Having curly hair is a gotdamn ch...</td>\n",
       "      <td>0</td>\n",
       "      <td>0</td>\n",
       "      <td>0</td>\n",
       "      <td>0</td>\n",
       "    </tr>\n",
       "    <tr>\n",
       "      <th>2</th>\n",
       "      <td>2</td>\n",
       "      <td>BreakingNews 7 Unexplained Prisoners Deaths M...</td>\n",
       "      <td>0</td>\n",
       "      <td>0</td>\n",
       "      <td>0</td>\n",
       "      <td>0</td>\n",
       "    </tr>\n",
       "    <tr>\n",
       "      <th>3</th>\n",
       "      <td>3</td>\n",
       "      <td>girl dirty quarterback latino pokemon young h...</td>\n",
       "      <td>1</td>\n",
       "      <td>0</td>\n",
       "      <td>0</td>\n",
       "      <td>1</td>\n",
       "    </tr>\n",
       "    <tr>\n",
       "      <th>4</th>\n",
       "      <td>4</td>\n",
       "      <td>miliondollameat sexting n ngirl daddy n nme l...</td>\n",
       "      <td>1</td>\n",
       "      <td>0</td>\n",
       "      <td>0</td>\n",
       "      <td>1</td>\n",
       "    </tr>\n",
       "  </tbody>\n",
       "</table>\n",
       "</div>"
      ],
      "text/plain": [
       "   Unnamed: 0                                      tweet_content  harassment  \\\n",
       "0           0  pics mexican school girl naked melanie safka f...           1   \n",
       "1           1  RT shereiqns Having curly hair is a gotdamn ch...           0   \n",
       "2           2   BreakingNews 7 Unexplained Prisoners Deaths M...           0   \n",
       "3           3   girl dirty quarterback latino pokemon young h...           1   \n",
       "4           4   miliondollameat sexting n ngirl daddy n nme l...           1   \n",
       "\n",
       "   IndirectH  PhysicalH  SexualH  \n",
       "0          0          0        1  \n",
       "1          0          0        0  \n",
       "2          0          0        0  \n",
       "3          0          0        1  \n",
       "4          0          0        1  "
      ]
     },
     "execution_count": 3,
     "metadata": {},
     "output_type": "execute_result"
    }
   ],
   "source": [
    "df_train=pd.read_csv(\"Train_data_compeition.csv\")\n",
    "df_val=pd.read_csv(\"Validation_data_competition.csv\")\n",
    "df_test=pd.read_csv(\"testset-competition.csv\")\n",
    "df_train.head()"
   ]
  },
  {
   "cell_type": "code",
   "execution_count": 4,
   "metadata": {},
   "outputs": [
    {
     "data": {
      "text/html": [
       "<div>\n",
       "<style scoped>\n",
       "    .dataframe tbody tr th:only-of-type {\n",
       "        vertical-align: middle;\n",
       "    }\n",
       "\n",
       "    .dataframe tbody tr th {\n",
       "        vertical-align: top;\n",
       "    }\n",
       "\n",
       "    .dataframe thead th {\n",
       "        text-align: right;\n",
       "    }\n",
       "</style>\n",
       "<table border=\"1\" class=\"dataframe\">\n",
       "  <thead>\n",
       "    <tr style=\"text-align: right;\">\n",
       "      <th></th>\n",
       "      <th>Unnamed: 0</th>\n",
       "      <th>harassment</th>\n",
       "      <th>IndirectH</th>\n",
       "      <th>PhysicalH</th>\n",
       "      <th>SexualH</th>\n",
       "    </tr>\n",
       "  </thead>\n",
       "  <tbody>\n",
       "    <tr>\n",
       "      <th>count</th>\n",
       "      <td>6374.00000</td>\n",
       "      <td>6374.000000</td>\n",
       "      <td>6374.000000</td>\n",
       "      <td>6374.000000</td>\n",
       "      <td>6374.000000</td>\n",
       "    </tr>\n",
       "    <tr>\n",
       "      <th>mean</th>\n",
       "      <td>3186.50000</td>\n",
       "      <td>0.425635</td>\n",
       "      <td>0.008629</td>\n",
       "      <td>0.011923</td>\n",
       "      <td>0.405083</td>\n",
       "    </tr>\n",
       "    <tr>\n",
       "      <th>std</th>\n",
       "      <td>1840.15964</td>\n",
       "      <td>0.494478</td>\n",
       "      <td>0.092497</td>\n",
       "      <td>0.108550</td>\n",
       "      <td>0.490947</td>\n",
       "    </tr>\n",
       "    <tr>\n",
       "      <th>min</th>\n",
       "      <td>0.00000</td>\n",
       "      <td>0.000000</td>\n",
       "      <td>0.000000</td>\n",
       "      <td>0.000000</td>\n",
       "      <td>0.000000</td>\n",
       "    </tr>\n",
       "    <tr>\n",
       "      <th>25%</th>\n",
       "      <td>1593.25000</td>\n",
       "      <td>0.000000</td>\n",
       "      <td>0.000000</td>\n",
       "      <td>0.000000</td>\n",
       "      <td>0.000000</td>\n",
       "    </tr>\n",
       "    <tr>\n",
       "      <th>50%</th>\n",
       "      <td>3186.50000</td>\n",
       "      <td>0.000000</td>\n",
       "      <td>0.000000</td>\n",
       "      <td>0.000000</td>\n",
       "      <td>0.000000</td>\n",
       "    </tr>\n",
       "    <tr>\n",
       "      <th>75%</th>\n",
       "      <td>4779.75000</td>\n",
       "      <td>1.000000</td>\n",
       "      <td>0.000000</td>\n",
       "      <td>0.000000</td>\n",
       "      <td>1.000000</td>\n",
       "    </tr>\n",
       "    <tr>\n",
       "      <th>max</th>\n",
       "      <td>6373.00000</td>\n",
       "      <td>1.000000</td>\n",
       "      <td>1.000000</td>\n",
       "      <td>1.000000</td>\n",
       "      <td>1.000000</td>\n",
       "    </tr>\n",
       "  </tbody>\n",
       "</table>\n",
       "</div>"
      ],
      "text/plain": [
       "       Unnamed: 0   harassment    IndirectH    PhysicalH      SexualH\n",
       "count  6374.00000  6374.000000  6374.000000  6374.000000  6374.000000\n",
       "mean   3186.50000     0.425635     0.008629     0.011923     0.405083\n",
       "std    1840.15964     0.494478     0.092497     0.108550     0.490947\n",
       "min       0.00000     0.000000     0.000000     0.000000     0.000000\n",
       "25%    1593.25000     0.000000     0.000000     0.000000     0.000000\n",
       "50%    3186.50000     0.000000     0.000000     0.000000     0.000000\n",
       "75%    4779.75000     1.000000     0.000000     0.000000     1.000000\n",
       "max    6373.00000     1.000000     1.000000     1.000000     1.000000"
      ]
     },
     "execution_count": 4,
     "metadata": {},
     "output_type": "execute_result"
    }
   ],
   "source": [
    "df_train.describe()"
   ]
  },
  {
   "cell_type": "code",
   "execution_count": 5,
   "metadata": {},
   "outputs": [
    {
     "name": "stdout",
     "output_type": "stream",
     "text": [
      "conteo de tweets clase Harassment Counter({0: 3661, 1: 2713})\n",
      "conteo de tweets clase IndirectH Counter({0: 6319, 1: 55})\n",
      "conteo de tweets clase PhysicalH Counter({0: 6298, 1: 76})\n",
      "conteo de tweets clase SexualH Counter({0: 3792, 1: 2582})\n"
     ]
    }
   ],
   "source": [
    "from collections import Counter\n",
    "print (\"conteo de tweets clase Harassment\",Counter(df_train['harassment']))\n",
    "print (\"conteo de tweets clase IndirectH\",Counter(df_train['IndirectH']))\n",
    "print (\"conteo de tweets clase PhysicalH\",Counter(df_train['PhysicalH']))\n",
    "print (\"conteo de tweets clase SexualH\",Counter(df_train['SexualH']))"
   ]
  },
  {
   "cell_type": "code",
   "execution_count": 6,
   "metadata": {},
   "outputs": [
    {
     "data": {
      "text/plain": [
       "array([1, 0, 0, 1, 1, 0, 1, 1, 0, 0, 0, 1, 0, 1, 1, 0, 0, 1, 0, 0])"
      ]
     },
     "execution_count": 6,
     "metadata": {},
     "output_type": "execute_result"
    }
   ],
   "source": [
    "y_train_bi=df_train['harassment'].values\n",
    "y_train_bi[:20]\n",
    "#labels_mul= 0:non-harassment, 1:harassment, 2:IndirectH, 3:PhysicalH, 4:SexualH\n"
   ]
  },
  {
   "cell_type": "code",
   "execution_count": 7,
   "metadata": {},
   "outputs": [
    {
     "data": {
      "text/plain": [
       "numpy.ndarray"
      ]
     },
     "execution_count": 7,
     "metadata": {},
     "output_type": "execute_result"
    }
   ],
   "source": [
    "type(y_train_bi)"
   ]
  },
  {
   "cell_type": "code",
   "execution_count": 8,
   "metadata": {},
   "outputs": [
    {
     "name": "stdout",
     "output_type": "stream",
     "text": [
      "[[0. 1.]\n",
      " [1. 0.]\n",
      " [1. 0.]\n",
      " [0. 1.]\n",
      " [0. 1.]\n",
      " [1. 0.]\n",
      " [0. 1.]\n",
      " [0. 1.]\n",
      " [1. 0.]\n",
      " [1. 0.]]\n"
     ]
    },
    {
     "data": {
      "text/plain": [
       "(6374, 2)"
      ]
     },
     "execution_count": 8,
     "metadata": {},
     "output_type": "execute_result"
    }
   ],
   "source": [
    "y_train_bic=to_categorical(y_train_bi,num_classes=2)\n",
    "print (y_train_bic[0:10])\n",
    "y_train_bic.shape"
   ]
  },
  {
   "cell_type": "code",
   "execution_count": 9,
   "metadata": {},
   "outputs": [
    {
     "data": {
      "text/plain": [
       "array([[0., 0., 0., 0., 1.],\n",
       "       [1., 0., 0., 0., 0.],\n",
       "       [1., 0., 0., 0., 0.],\n",
       "       ...,\n",
       "       [0., 0., 0., 0., 1.],\n",
       "       [1., 0., 0., 0., 0.],\n",
       "       [0., 0., 0., 0., 1.]])"
      ]
     },
     "execution_count": 9,
     "metadata": {},
     "output_type": "execute_result"
    }
   ],
   "source": [
    "ys=df_train.values[:,2:]\n",
    "\n",
    "y_train_mul=np.zeros((df_train.shape[0],5))\n",
    "i=0\n",
    "for label in ys:\n",
    "    if np.sum(label)==0:\n",
    "        y_train_mul[i][0]=1\n",
    "    else: \n",
    "        y_train_mul[i]=np.concatenate([[0,0],label[1:]])\n",
    "    i+=1\n",
    "y_train_mul"
   ]
  },
  {
   "cell_type": "code",
   "execution_count": 10,
   "metadata": {
    "scrolled": true
   },
   "outputs": [
    {
     "data": {
      "text/plain": [
       "array([[0., 0., 0., 0., 1.],\n",
       "       [1., 0., 0., 0., 0.],\n",
       "       [1., 0., 0., 0., 0.],\n",
       "       [0., 0., 0., 0., 1.],\n",
       "       [0., 0., 0., 0., 1.],\n",
       "       [1., 0., 0., 0., 0.],\n",
       "       [0., 0., 0., 0., 1.],\n",
       "       [0., 0., 0., 0., 1.],\n",
       "       [1., 0., 0., 0., 0.],\n",
       "       [1., 0., 0., 0., 0.],\n",
       "       [1., 0., 0., 0., 0.],\n",
       "       [0., 0., 0., 0., 1.],\n",
       "       [1., 0., 0., 0., 0.],\n",
       "       [0., 0., 0., 0., 1.],\n",
       "       [0., 0., 0., 0., 1.],\n",
       "       [1., 0., 0., 0., 0.],\n",
       "       [1., 0., 0., 0., 0.],\n",
       "       [0., 0., 0., 0., 1.],\n",
       "       [1., 0., 0., 0., 0.],\n",
       "       [1., 0., 0., 0., 0.]])"
      ]
     },
     "execution_count": 10,
     "metadata": {},
     "output_type": "execute_result"
    }
   ],
   "source": [
    "y_train_mul[:20]"
   ]
  },
  {
   "cell_type": "code",
   "execution_count": 11,
   "metadata": {},
   "outputs": [
    {
     "name": "stdout",
     "output_type": "stream",
     "text": [
      "[['pic', 'mexican', 'school', 'girl', 'naked', 'melanie', 'safka', 'fake', 'nude', 'photo', 'hardcore', 'slut', 'movie', 'alicia', 'moore', 'porn', 'star', 'toon', 'love'], ['rt', 'shereiqns', 'having', 'curly', 'hair', 'is', 'a', 'gotdamn', 'chore', 'do', 'not', 'let', 'the', 'internet', 'fool', 'you', 'ok'], ['breakingnews', '<number>', 'unexplained', 'prisoner', 'death', 'murder', 'amp', '<number>', 'attempted', 'suicide', 'samswey', 'shacking', 'sifill', 'ldf'], ['girl', 'dirty', 'quarterback', 'latino', 'pokemon', 'young', 'handjob', 'kissing', 'gangbang', 'w', 'x89', 't', 'co', 'wrm4xo00vj'], ['miliondollameat', 'sexting', 'n', 'ngirl', 'daddy', 'n', 'nme', 'listen', 'bitch', 'gonna', 'watch', 'these', 'what']]\n"
     ]
    }
   ],
   "source": [
    "data_train=[]\n",
    "for tw in df_train['tweet_content']:\n",
    "    data_train.append(cleaner(tw))\n",
    "print (data_train[:5])"
   ]
  },
  {
   "cell_type": "code",
   "execution_count": 12,
   "metadata": {},
   "outputs": [
    {
     "name": "stdout",
     "output_type": "stream",
     "text": [
      "Se encontraron 1193514 terminos con sus vectores de embedding.\n"
     ]
    }
   ],
   "source": [
    "embeddings_index = {}\n",
    "f = open(os.path.join(\"/home/cony/Documentos/Milenio/twitter15/glove.twitter.27B.200d.txt\"))#'glove.twitter.27B.100d.txt'))\n",
    "for line in f:\n",
    "    values = line.split()\n",
    "    word = values[0]\n",
    "    coefs = np.asarray(values[1:], dtype='float32')\n",
    "    embeddings_index[word] = coefs\n",
    "f.close()\n",
    "\n",
    "print('Se encontraron %s terminos con sus vectores de embedding.' % len(embeddings_index))"
   ]
  },
  {
   "cell_type": "code",
   "execution_count": 13,
   "metadata": {},
   "outputs": [
    {
     "data": {
      "text/plain": [
       "16188"
      ]
     },
     "execution_count": 13,
     "metadata": {},
     "output_type": "execute_result"
    }
   ],
   "source": [
    "word_index=dict()\n",
    "j=1\n",
    "for frase in data_train:\n",
    "    for term in frase:\n",
    "        if term not in word_index.keys():\n",
    "            word_index[term]=j\n",
    "            j+=1\n",
    "    \n",
    "len(word_index.keys())"
   ]
  },
  {
   "cell_type": "code",
   "execution_count": 14,
   "metadata": {},
   "outputs": [],
   "source": [
    "embedding_vector=200\n",
    "embedding_matrix = np.zeros((len(word_index.keys())+1, embedding_vector))   #puede probar otra inicialización\n",
    "\n",
    "for word, i in word_index.items():\n",
    "    embedding_vector = embeddings_index.get(word)\n",
    "    if embedding_vector is not None:\n",
    "        embedding_matrix[i] = embedding_vector\n",
    "\n"
   ]
  },
  {
   "cell_type": "code",
   "execution_count": 15,
   "metadata": {},
   "outputs": [
    {
     "data": {
      "text/plain": [
       "Counter({0: 3661, 1: 2713})"
      ]
     },
     "execution_count": 15,
     "metadata": {},
     "output_type": "execute_result"
    }
   ],
   "source": [
    "Counter(y_train_bi)"
   ]
  },
  {
   "cell_type": "code",
   "execution_count": 16,
   "metadata": {},
   "outputs": [
    {
     "name": "stdout",
     "output_type": "stream",
     "text": [
      "[0.87052718 1.17471434]\n"
     ]
    }
   ],
   "source": [
    "from sklearn.utils import class_weight\n",
    "\n",
    "class_weights = class_weight.compute_class_weight('balanced', np.unique(y_train_bi), y_train_bi)#{0: 3.,   1: 6.,   2: 5.,  3: 3.}\n",
    "print (class_weights)"
   ]
  },
  {
   "cell_type": "code",
   "execution_count": 17,
   "metadata": {},
   "outputs": [
    {
     "name": "stdout",
     "output_type": "stream",
     "text": [
      "[[1, 2, 3, 4, 5, 6, 7, 8, 9, 10, 11, 12, 13, 14, 15, 16, 17, 18, 19], [20, 21, 22, 23, 24, 25, 26, 27, 28, 29, 30, 31, 32, 33, 34, 35, 36]]\n",
      "['pic', 'mexican', 'school', 'girl', 'naked', 'melanie', 'safka', 'fake', 'nude', 'photo', 'hardcore', 'slut', 'movie', 'alicia', 'moore', 'porn', 'star', 'toon', 'love']\n",
      "['rt', 'shereiqns', 'having', 'curly', 'hair', 'is', 'a', 'gotdamn', 'chore', 'do', 'not', 'let', 'the', 'internet', 'fool', 'you', 'ok']\n"
     ]
    }
   ],
   "source": [
    "from keras.preprocessing import sequence\n",
    "\n",
    "x_new_train = [[word_index[word] for word in text] for text in data_train]\n",
    "print(x_new_train[0:2])\n",
    "\n",
    "print (data_train[0])\n",
    "print (data_train[1])"
   ]
  },
  {
   "cell_type": "code",
   "execution_count": 18,
   "metadata": {},
   "outputs": [
    {
     "data": {
      "text/plain": [
       "<matplotlib.axes._subplots.AxesSubplot at 0x7f577c357c50>"
      ]
     },
     "execution_count": 18,
     "metadata": {},
     "output_type": "execute_result"
    },
    {
     "data": {
      "image/png": "[encoded data removed]",
      "text/plain": [
       "<matplotlib.figure.Figure at 0x7f576991a668>"
      ]
     },
     "metadata": {},
     "output_type": "display_data"
    }
   ],
   "source": [
    "import seaborn as sns\n",
    "sns.boxplot(list(map(len,x_new_train)))"
   ]
  },
  {
   "cell_type": "code",
   "execution_count": 19,
   "metadata": {},
   "outputs": [
    {
     "name": "stdout",
     "output_type": "stream",
     "text": [
      "76\n"
     ]
    },
    {
     "data": {
      "text/plain": [
       "(6374, 76)"
      ]
     },
     "execution_count": 19,
     "metadata": {},
     "output_type": "execute_result"
    }
   ],
   "source": [
    "max_input_lenght = max(list(map(len,x_new_train))) #modificar este valor en base a su experimentación\n",
    "X_train = sequence.pad_sequences(x_new_train,maxlen=max_input_lenght,padding='post',value=0)\n",
    "print (max_input_lenght) \n",
    "X_train.shape"
   ]
  },
  {
   "cell_type": "markdown",
   "metadata": {},
   "source": [
    "#### Carga data Validación"
   ]
  },
  {
   "cell_type": "code",
   "execution_count": 20,
   "metadata": {},
   "outputs": [
    {
     "name": "stdout",
     "output_type": "stream",
     "text": [
      "conteo de tweets clase Harassment Counter({0: 1493, 1: 632})\n",
      "conteo de tweets clase IndirectH Counter({0: 2054, 1: 71})\n",
      "conteo de tweets clase PhysicalH Counter({0: 2089, 1: 36})\n",
      "conteo de tweets clase SexualH Counter({0: 1600, 1: 525})\n"
     ]
    },
    {
     "data": {
      "text/plain": [
       "array([0, 0, 1, 0, 1, 0, 0, 1, 0, 1, 1, 1, 1, 0, 0, 0, 0, 0, 1, 1])"
      ]
     },
     "execution_count": 20,
     "metadata": {},
     "output_type": "execute_result"
    }
   ],
   "source": [
    "print (\"conteo de tweets clase Harassment\",Counter(df_val['harassment']))\n",
    "print (\"conteo de tweets clase IndirectH\",Counter(df_val['IndirectH']))\n",
    "print (\"conteo de tweets clase PhysicalH\",Counter(df_val['PhysicalH']))\n",
    "print (\"conteo de tweets clase SexualH\",Counter(df_val['SexualH']))\n",
    "y_val_bin=df_val['harassment'].values\n",
    "y_val_bin[:20]"
   ]
  },
  {
   "cell_type": "code",
   "execution_count": 21,
   "metadata": {},
   "outputs": [
    {
     "data": {
      "text/plain": [
       "array([[1., 0., 0., 0., 0.],\n",
       "       [1., 0., 0., 0., 0.],\n",
       "       [0., 0., 0., 0., 1.],\n",
       "       ...,\n",
       "       [1., 0., 0., 0., 0.],\n",
       "       [1., 0., 0., 0., 0.],\n",
       "       [1., 0., 0., 0., 0.]])"
      ]
     },
     "execution_count": 21,
     "metadata": {},
     "output_type": "execute_result"
    }
   ],
   "source": [
    "ys_v=df_val.values[:,2:]\n",
    "\n",
    "y_val_mul=np.zeros((df_val.shape[0],5))\n",
    "i=0\n",
    "for label in ys_v:\n",
    "    if np.sum(label)==0:\n",
    "        y_val_mul[i][0]=1\n",
    "    else: \n",
    "        y_val_mul[i]=np.concatenate([[0,0],label[1:]])\n",
    "    i+=1\n",
    "y_val_mul"
   ]
  },
  {
   "cell_type": "code",
   "execution_count": 22,
   "metadata": {},
   "outputs": [
    {
     "name": "stdout",
     "output_type": "stream",
     "text": [
      "[['rt', 'glossphoenix', 'some', 'of', 'y', 'all', 'never', 'watched', 'collected', 'and', 'fucked', 'with', 'the', 'bratz', 'movie', 'and', 'it', 'show'], ['omg', 'can', 't', 'believe', 'i', 'm', 'doing', 'this', 'selling', 'my', 'dropbox', 'folder', 'w', '<number>', 'nude', 'amp', '<number>', 'video', 'amp', 'dming', 'a', 'live', 'nude', 'f'], ['asa', 'akira', 'ava', 'lauren', 'beach', 'sex', 'free', 'porn', 'video', 'french', 'anal', 'ftm', 'porn', 'fuck', 'me', 'hard', 'mature', 'sex', 'milf', 'anal', 'pokemon', 'hent'], ['anyone', 'sassy', 'smart', 'mouth', 'cuuuuteeee', 'old', 'favorite', 'word', 'x89', 'x89', 'amp', 'x89', 'boo', 'x89', 'x9d', 'y', 'x89', 'all', 'sh', 'x89', 't', 'co', 'aqxguisj2x'], ['this', 'is', 'why', 'you', 're', 'scared', 'of', 'karma', 'you', 'got', 'to', 'know', 'it', 's', 'gonna', 'be', 'a', 'bitch', 'what', 'you', 'do', 'to', 'our', 'baby', 'will', 'happen']]\n"
     ]
    }
   ],
   "source": [
    "data_val=[]\n",
    "for tw in df_val['tweet_content']:\n",
    "    data_val.append(cleaner(tw))\n",
    "print (data_val[:5])"
   ]
  },
  {
   "cell_type": "code",
   "execution_count": 23,
   "metadata": {},
   "outputs": [
    {
     "data": {
      "text/plain": [
       "Counter({0: 1493, 1: 632})"
      ]
     },
     "execution_count": 23,
     "metadata": {},
     "output_type": "execute_result"
    }
   ],
   "source": [
    "Counter(y_val_bin)"
   ]
  },
  {
   "cell_type": "code",
   "execution_count": 24,
   "metadata": {},
   "outputs": [],
   "source": [
    "Vec_train=[]\n",
    "tweets_c_a=data_train\n",
    "vocab_train=[]\n",
    "vocab=list(embeddings_index.keys())\n",
    "for post in tweets_c_a:\n",
    "    posteo=[]\n",
    "    for term in post:   #para todos los terminos de un tweet \n",
    "        vector=embeddings_index.get(term)\n",
    "        if vector is None:       \n",
    "            posteo.append(np.zeros(200))\n",
    "        else:\n",
    "            posteo.append(np.asarray(vector))\n",
    "            vocab_train.append(term)\n",
    "    Vec_train.append(np.asarray(posteo))"
   ]
  },
  {
   "cell_type": "code",
   "execution_count": 25,
   "metadata": {},
   "outputs": [],
   "source": [
    "Vec_val_ig=[]\n",
    "tweets_l_vali=data_val\n",
    "vocab=list(embeddings_index.keys())\n",
    "for post in tweets_l_vali:\n",
    "    temp=[]\n",
    "    for term in post:  \n",
    "        if term in vocab_train:\n",
    "            vector=embeddings_index.get(term)\n",
    "            if vector is None:       \n",
    "                temp.append(np.zeros(200))\n",
    "            else:\n",
    "                temp.append(np.asarray(vector))\n",
    "    Vec_val_ig.append(temp)"
   ]
  },
  {
   "cell_type": "code",
   "execution_count": 26,
   "metadata": {},
   "outputs": [
    {
     "data": {
      "text/plain": [
       "(2125, 6)"
      ]
     },
     "execution_count": 26,
     "metadata": {},
     "output_type": "execute_result"
    }
   ],
   "source": [
    "df_val.shape"
   ]
  },
  {
   "cell_type": "code",
   "execution_count": 27,
   "metadata": {},
   "outputs": [
    {
     "data": {
      "text/plain": [
       "(2125,)"
      ]
     },
     "execution_count": 27,
     "metadata": {},
     "output_type": "execute_result"
    }
   ],
   "source": [
    "np.asarray(Vec_val_ig).shape"
   ]
  },
  {
   "cell_type": "code",
   "execution_count": 28,
   "metadata": {},
   "outputs": [],
   "source": [
    "all_val=[]\n",
    "for text in data_val:\n",
    "    temp=[]\n",
    "    for word in text:\n",
    "        try:\n",
    "            temp.append(word_index[word])\n",
    "        except:\n",
    "            continue\n",
    "    all_val.append(temp)"
   ]
  },
  {
   "cell_type": "code",
   "execution_count": 29,
   "metadata": {},
   "outputs": [
    {
     "name": "stdout",
     "output_type": "stream",
     "text": [
      "[[20, 1526, 422, 438, 393, 664, 159, 12417, 142, 367, 318, 32, 13, 142, 95, 192], [3413, 94, 60, 521, 97, 143, 122, 117, 1407, 113, 1408, 58, 38, 9, 43, 38, 443, 43, 1976, 26, 111, 9, 282]]\n",
      "[['rt', 'glossphoenix', 'some', 'of', 'y', 'all', 'never', 'watched', 'collected', 'and', 'fucked', 'with', 'the', 'bratz', 'movie', 'and', 'it', 'show'], ['omg', 'can', 't', 'believe', 'i', 'm', 'doing', 'this', 'selling', 'my', 'dropbox', 'folder', 'w', '<number>', 'nude', 'amp', '<number>', 'video', 'amp', 'dming', 'a', 'live', 'nude', 'f']]\n"
     ]
    },
    {
     "data": {
      "text/plain": [
       "2125"
      ]
     },
     "execution_count": 29,
     "metadata": {},
     "output_type": "execute_result"
    }
   ],
   "source": [
    "x_new_val=all_val\n",
    "\n",
    "print(x_new_val[0:2])\n",
    "print (data_val[:2])\n",
    "len(all_val)\n"
   ]
  },
  {
   "cell_type": "code",
   "execution_count": 30,
   "metadata": {},
   "outputs": [
    {
     "name": "stdout",
     "output_type": "stream",
     "text": [
      "(2125, 76)\n"
     ]
    }
   ],
   "source": [
    "X_val_ig = sequence.pad_sequences(x_new_val,maxlen=max_input_lenght,padding='post',value=0)\n",
    "print (np.asarray(X_val_ig).shape)"
   ]
  },
  {
   "cell_type": "code",
   "execution_count": 31,
   "metadata": {},
   "outputs": [
    {
     "data": {
      "text/plain": [
       "array([0, 0, 1, 0, 1])"
      ]
     },
     "execution_count": 31,
     "metadata": {},
     "output_type": "execute_result"
    }
   ],
   "source": [
    "y_val_bin[:5]"
   ]
  },
  {
   "cell_type": "code",
   "execution_count": 32,
   "metadata": {},
   "outputs": [
    {
     "name": "stdout",
     "output_type": "stream",
     "text": [
      "[[1. 0.]\n",
      " [1. 0.]\n",
      " [0. 1.]\n",
      " [1. 0.]\n",
      " [0. 1.]\n",
      " [1. 0.]\n",
      " [1. 0.]\n",
      " [0. 1.]\n",
      " [1. 0.]\n",
      " [0. 1.]]\n"
     ]
    },
    {
     "data": {
      "text/plain": [
       "(2125, 2)"
      ]
     },
     "execution_count": 32,
     "metadata": {},
     "output_type": "execute_result"
    }
   ],
   "source": [
    "y_val_bic=to_categorical(y_val_bin,num_classes=2)\n",
    "print (y_val_bic[0:10])\n",
    "y_val_bic.shape"
   ]
  },
  {
   "cell_type": "code",
   "execution_count": null,
   "metadata": {},
   "outputs": [],
   "source": []
  },
  {
   "cell_type": "code",
   "execution_count": 33,
   "metadata": {},
   "outputs": [],
   "source": [
    "from sklearn.model_selection import KFold\n",
    "from sklearn.metrics import accuracy_score,f1_score, confusion_matrix\n",
    "from sklearn.preprocessing import normalize\n",
    "import time\n",
    "\n",
    "def plot_confusion_matrix(cm, target_names, title='Confusion matrix (f1-score)',cmap=None, normalize=True):\n",
    "    \n",
    "    import itertools\n",
    "    accuracy = np.trace(cm) / float(np.sum(cm))\n",
    "    misclass = 1 - accuracy\n",
    "    if cmap is None:\n",
    "        cmap = plt.get_cmap('Blues')\n",
    "\n",
    "    plt.figure(figsize=(8, 6))\n",
    "    plt.imshow(cm, interpolation='nearest', cmap=cmap)\n",
    "    plt.title(title)\n",
    "    plt.colorbar()\n",
    "\n",
    "    if target_names is not None:\n",
    "        tick_marks = np.arange(len(target_names))\n",
    "        plt.xticks(tick_marks, target_names, rotation=45)\n",
    "        plt.yticks(tick_marks, target_names)\n",
    "\n",
    "    if normalize:\n",
    "        cm = cm.astype('float') / cm.sum(axis=1)[:, np.newaxis]\n",
    "    thresh = cm.max() / 1.5 if normalize else cm.max() / 2\n",
    "    for i, j in itertools.product(range(cm.shape[0]), range(cm.shape[1])):\n",
    "        if normalize:\n",
    "            plt.text(j, i, \"{:0.4f}\".format(cm[i, j]),\n",
    "                     horizontalalignment=\"center\",\n",
    "                     color=\"white\" if cm[i, j] > thresh else \"black\")\n",
    "        else:\n",
    "            plt.text(j, i, \"{:,}\".format(cm[i, j]),\n",
    "                     horizontalalignment=\"center\",\n",
    "                     color=\"white\" if cm[i, j] > thresh else \"black\")\n",
    "\n",
    "\n",
    "    plt.tight_layout()\n",
    "    plt.ylabel('True label')\n",
    "    plt.xlabel('Predicted label\\naccuracy={:0.4f}; misclass={:0.4f}'.format(accuracy, misclass))\n",
    "    plt.show()"
   ]
  },
  {
   "cell_type": "markdown",
   "metadata": {},
   "source": [
    "### Modelo Conv\n"
   ]
  },
  {
   "cell_type": "code",
   "execution_count": 34,
   "metadata": {},
   "outputs": [],
   "source": [
    "from  keras.models import Sequential\n",
    "from keras.layers import Dense, Dropout, Activation, Flatten, BatchNormalization\n",
    "from keras.layers import Conv2D, MaxPooling2D\n",
    "from keras.layers import Embedding\n",
    "from keras.layers import Conv1D, MaxPooling1D, Input\n",
    "from keras.models import Model"
   ]
  },
  {
   "cell_type": "code",
   "execution_count": 35,
   "metadata": {},
   "outputs": [
    {
     "data": {
      "text/plain": [
       "<matplotlib.axes._subplots.AxesSubplot at 0x7f5767d5f6d8>"
      ]
     },
     "execution_count": 35,
     "metadata": {},
     "output_type": "execute_result"
    },
    {
     "data": {
      "image/png": "[encoded data removed]",
      "text/plain": [
       "<matplotlib.figure.Figure at 0x7f5767d5fa58>"
      ]
     },
     "metadata": {},
     "output_type": "display_data"
    }
   ],
   "source": [
    "sns.countplot(y_train_bi)"
   ]
  },
  {
   "cell_type": "code",
   "execution_count": 36,
   "metadata": {},
   "outputs": [],
   "source": [
    "from keras import backend as K\n",
    "\n",
    "def focal_loss(gamma=2., weights=1):   #weights np.asarray()\n",
    "    weights= K.variable(weights)\n",
    "    def focal_loss_fixed(y_true, y_pred):\n",
    "        y_true = K.clip(y_true, K.epsilon(),1)\n",
    "        y_pred = K.clip(y_pred,K.epsilon(),1)\n",
    "        return - K.sum(weights* K.pow(1. - y_pred, gamma)* y_true * K.log(y_pred), axis=-1) \n",
    "    return focal_loss_fixed"
   ]
  },
  {
   "cell_type": "code",
   "execution_count": 58,
   "metadata": {},
   "outputs": [
    {
     "name": "stdout",
     "output_type": "stream",
     "text": [
      "_________________________________________________________________\n",
      "Layer (type)                 Output Shape              Param #   \n",
      "=================================================================\n",
      "input_5 (InputLayer)         (None, 76)                0         \n",
      "_________________________________________________________________\n",
      "embedding_5 (Embedding)      (None, 76, 200)           3237800   \n",
      "_________________________________________________________________\n",
      "batch_normalization_17 (Batc (None, 76, 200)           800       \n",
      "_________________________________________________________________\n",
      "conv1d_9 (Conv1D)            (None, 76, 128)           128128    \n",
      "_________________________________________________________________\n",
      "max_pooling1d_9 (MaxPooling1 (None, 25, 128)           0         \n",
      "_________________________________________________________________\n",
      "batch_normalization_18 (Batc (None, 25, 128)           512       \n",
      "_________________________________________________________________\n",
      "dropout_9 (Dropout)          (None, 25, 128)           0         \n",
      "_________________________________________________________________\n",
      "conv1d_10 (Conv1D)           (None, 25, 64)            41024     \n",
      "_________________________________________________________________\n",
      "max_pooling1d_10 (MaxPooling (None, 8, 64)             0         \n",
      "_________________________________________________________________\n",
      "batch_normalization_19 (Batc (None, 8, 64)             256       \n",
      "_________________________________________________________________\n",
      "dropout_10 (Dropout)         (None, 8, 64)             0         \n",
      "_________________________________________________________________\n",
      "flatten_5 (Flatten)          (None, 512)               0         \n",
      "_________________________________________________________________\n",
      "dense_9 (Dense)              (None, 64)                32832     \n",
      "_________________________________________________________________\n",
      "batch_normalization_20 (Batc (None, 64)                256       \n",
      "_________________________________________________________________\n",
      "dense_10 (Dense)             (None, 1)                 65        \n",
      "=================================================================\n",
      "Total params: 3,441,673\n",
      "Trainable params: 202,961\n",
      "Non-trainable params: 3,238,712\n",
      "_________________________________________________________________\n"
     ]
    }
   ],
   "source": [
    "embedding_vector=200\n",
    "embedding_layer = Embedding(input_dim=len(word_index.keys())+1,output_dim=embedding_vector,weights=[embedding_matrix],\n",
    "                     input_length=max_input_lenght,trainable=False)\n",
    "\n",
    "sequence_input = Input(shape=(max_input_lenght,))\n",
    "embedded_sequences = embedding_layer(sequence_input)\n",
    "batch = BatchNormalization()(embedded_sequences)\n",
    "cov1= Conv1D(128, 5, activation='relu',padding='same')(batch)\n",
    "pool = MaxPooling1D(pool_size=3)(cov1)    \n",
    "batch = BatchNormalization()(pool)\n",
    "drop = Dropout(0.65)(batch)\n",
    "cov1= Conv1D(64, 5, activation='relu',padding='same')(drop)\n",
    "pool = MaxPooling1D(pool_size=3)(cov1)\n",
    "batch = BatchNormalization()(pool)\n",
    "drop = Dropout(0.65)(batch)\n",
    "flat = Flatten()(drop)\n",
    "preds = Dense(64, activation='relu')(flat)\n",
    "preds = BatchNormalization()(preds)\n",
    "preds = Dense(1, activation='sigmoid')(preds)\n",
    "model = Model(sequence_input, preds)\n",
    "#model.compile(loss=focal_loss(2,weights=class_weights),optimizer='adam',metrics=['acc'])\n",
    "model.compile(loss='binary_crossentropy',optimizer='adam',metrics=['acc'])\n",
    "model.summary()"
   ]
  },
  {
   "cell_type": "code",
   "execution_count": 38,
   "metadata": {},
   "outputs": [
    {
     "data": {
      "text/plain": [
       "(6374, 76)"
      ]
     },
     "execution_count": 38,
     "metadata": {},
     "output_type": "execute_result"
    }
   ],
   "source": [
    "X_train.shape"
   ]
  },
  {
   "cell_type": "code",
   "execution_count": 39,
   "metadata": {},
   "outputs": [
    {
     "data": {
      "text/plain": [
       "(6374,)"
      ]
     },
     "execution_count": 39,
     "metadata": {},
     "output_type": "execute_result"
    }
   ],
   "source": [
    "y_train_bi.shape"
   ]
  },
  {
   "cell_type": "code",
   "execution_count": 40,
   "metadata": {},
   "outputs": [
    {
     "data": {
      "text/plain": [
       "(2125, 76)"
      ]
     },
     "execution_count": 40,
     "metadata": {},
     "output_type": "execute_result"
    }
   ],
   "source": [
    "X_val_ig.shape"
   ]
  },
  {
   "cell_type": "code",
   "execution_count": 41,
   "metadata": {},
   "outputs": [
    {
     "data": {
      "text/plain": [
       "(2125, 2)"
      ]
     },
     "execution_count": 41,
     "metadata": {},
     "output_type": "execute_result"
    }
   ],
   "source": [
    "y_val_bic.shape"
   ]
  },
  {
   "cell_type": "code",
   "execution_count": 59,
   "metadata": {
    "scrolled": true
   },
   "outputs": [
    {
     "ename": "ValueError",
     "evalue": "Error when checking target: expected dense_10 to have shape (1,) but got array with shape (2,)",
     "output_type": "error",
     "traceback": [
      "\u001b[0;31m---------------------------------------------------------------------------\u001b[0m",
      "\u001b[0;31mValueError\u001b[0m                                Traceback (most recent call last)",
      "\u001b[0;32m<ipython-input-59-1244e7be8d28>\u001b[0m in \u001b[0;36m<module>\u001b[0;34m()\u001b[0m\n\u001b[0;32m----> 1\u001b[0;31m \u001b[0mhistory\u001b[0m \u001b[0;34m=\u001b[0m \u001b[0mmodel\u001b[0m\u001b[0;34m.\u001b[0m\u001b[0mfit\u001b[0m\u001b[0;34m(\u001b[0m\u001b[0mX_train\u001b[0m\u001b[0;34m,\u001b[0m \u001b[0my_train_bi\u001b[0m\u001b[0;34m,\u001b[0m\u001b[0mbatch_size\u001b[0m\u001b[0;34m=\u001b[0m\u001b[0;36m64\u001b[0m\u001b[0;34m,\u001b[0m\u001b[0mepochs\u001b[0m\u001b[0;34m=\u001b[0m\u001b[0;36m10\u001b[0m\u001b[0;34m,\u001b[0m\u001b[0mverbose\u001b[0m\u001b[0;34m=\u001b[0m\u001b[0;36m1\u001b[0m\u001b[0;34m,\u001b[0m\u001b[0mvalidation_data\u001b[0m\u001b[0;34m=\u001b[0m\u001b[0;34m(\u001b[0m\u001b[0mX_val_ig\u001b[0m\u001b[0;34m,\u001b[0m\u001b[0my_val_bic\u001b[0m\u001b[0;34m)\u001b[0m\u001b[0;34m,\u001b[0m\u001b[0mclass_weight\u001b[0m\u001b[0;34m=\u001b[0m\u001b[0mclass_weights\u001b[0m\u001b[0;34m)\u001b[0m\u001b[0;34m\u001b[0m\u001b[0m\n\u001b[0m",
      "\u001b[0;32m~/anaconda3/lib/python3.6/site-packages/keras/engine/training.py\u001b[0m in \u001b[0;36mfit\u001b[0;34m(self, x, y, batch_size, epochs, verbose, callbacks, validation_split, validation_data, shuffle, class_weight, sample_weight, initial_epoch, steps_per_epoch, validation_steps, **kwargs)\u001b[0m\n\u001b[1;32m   1648\u001b[0m                 \u001b[0mval_x\u001b[0m\u001b[0;34m,\u001b[0m \u001b[0mval_y\u001b[0m\u001b[0;34m,\u001b[0m\u001b[0;34m\u001b[0m\u001b[0m\n\u001b[1;32m   1649\u001b[0m                 \u001b[0msample_weight\u001b[0m\u001b[0;34m=\u001b[0m\u001b[0mval_sample_weight\u001b[0m\u001b[0;34m,\u001b[0m\u001b[0;34m\u001b[0m\u001b[0m\n\u001b[0;32m-> 1650\u001b[0;31m                 batch_size=batch_size)\n\u001b[0m\u001b[1;32m   1651\u001b[0m             \u001b[0;32mif\u001b[0m \u001b[0mself\u001b[0m\u001b[0;34m.\u001b[0m\u001b[0muses_learning_phase\u001b[0m \u001b[0;32mand\u001b[0m \u001b[0;32mnot\u001b[0m \u001b[0misinstance\u001b[0m\u001b[0;34m(\u001b[0m\u001b[0mK\u001b[0m\u001b[0;34m.\u001b[0m\u001b[0mlearning_phase\u001b[0m\u001b[0;34m(\u001b[0m\u001b[0;34m)\u001b[0m\u001b[0;34m,\u001b[0m \u001b[0mint\u001b[0m\u001b[0;34m)\u001b[0m\u001b[0;34m:\u001b[0m\u001b[0;34m\u001b[0m\u001b[0m\n\u001b[1;32m   1652\u001b[0m                 \u001b[0mval_ins\u001b[0m \u001b[0;34m=\u001b[0m \u001b[0mval_x\u001b[0m \u001b[0;34m+\u001b[0m \u001b[0mval_y\u001b[0m \u001b[0;34m+\u001b[0m \u001b[0mval_sample_weights\u001b[0m \u001b[0;34m+\u001b[0m \u001b[0;34m[\u001b[0m\u001b[0;36m0.\u001b[0m\u001b[0;34m]\u001b[0m\u001b[0;34m\u001b[0m\u001b[0m\n",
      "\u001b[0;32m~/anaconda3/lib/python3.6/site-packages/keras/engine/training.py\u001b[0m in \u001b[0;36m_standardize_user_data\u001b[0;34m(self, x, y, sample_weight, class_weight, check_array_lengths, batch_size)\u001b[0m\n\u001b[1;32m   1478\u001b[0m                                     \u001b[0moutput_shapes\u001b[0m\u001b[0;34m,\u001b[0m\u001b[0;34m\u001b[0m\u001b[0m\n\u001b[1;32m   1479\u001b[0m                                     \u001b[0mcheck_batch_axis\u001b[0m\u001b[0;34m=\u001b[0m\u001b[0;32mFalse\u001b[0m\u001b[0;34m,\u001b[0m\u001b[0;34m\u001b[0m\u001b[0m\n\u001b[0;32m-> 1480\u001b[0;31m                                     exception_prefix='target')\n\u001b[0m\u001b[1;32m   1481\u001b[0m         sample_weights = _standardize_sample_weights(sample_weight,\n\u001b[1;32m   1482\u001b[0m                                                      self._feed_output_names)\n",
      "\u001b[0;32m~/anaconda3/lib/python3.6/site-packages/keras/engine/training.py\u001b[0m in \u001b[0;36m_standardize_input_data\u001b[0;34m(data, names, shapes, check_batch_axis, exception_prefix)\u001b[0m\n\u001b[1;32m    121\u001b[0m                             \u001b[0;34m': expected '\u001b[0m \u001b[0;34m+\u001b[0m \u001b[0mnames\u001b[0m\u001b[0;34m[\u001b[0m\u001b[0mi\u001b[0m\u001b[0;34m]\u001b[0m \u001b[0;34m+\u001b[0m \u001b[0;34m' to have shape '\u001b[0m \u001b[0;34m+\u001b[0m\u001b[0;34m\u001b[0m\u001b[0m\n\u001b[1;32m    122\u001b[0m                             \u001b[0mstr\u001b[0m\u001b[0;34m(\u001b[0m\u001b[0mshape\u001b[0m\u001b[0;34m)\u001b[0m \u001b[0;34m+\u001b[0m \u001b[0;34m' but got array with shape '\u001b[0m \u001b[0;34m+\u001b[0m\u001b[0;34m\u001b[0m\u001b[0m\n\u001b[0;32m--> 123\u001b[0;31m                             str(data_shape))\n\u001b[0m\u001b[1;32m    124\u001b[0m     \u001b[0;32mreturn\u001b[0m \u001b[0mdata\u001b[0m\u001b[0;34m\u001b[0m\u001b[0m\n\u001b[1;32m    125\u001b[0m \u001b[0;34m\u001b[0m\u001b[0m\n",
      "\u001b[0;31mValueError\u001b[0m: Error when checking target: expected dense_10 to have shape (1,) but got array with shape (2,)"
     ]
    }
   ],
   "source": [
    "history = model.fit(X_train, y_train_bi,batch_size=64,epochs=10,verbose=1,validation_data=(X_val_ig,y_val_bin),class_weight=class_weights)"
   ]
  },
  {
   "cell_type": "code",
   "execution_count": 43,
   "metadata": {},
   "outputs": [
    {
     "data": {
      "text/plain": [
       "array([[1., 0.],\n",
       "       [1., 0.],\n",
       "       [0., 1.],\n",
       "       [1., 0.]])"
      ]
     },
     "execution_count": 43,
     "metadata": {},
     "output_type": "execute_result"
    }
   ],
   "source": [
    "y_val_bic[:4]"
   ]
  },
  {
   "cell_type": "code",
   "execution_count": 44,
   "metadata": {},
   "outputs": [
    {
     "name": "stdout",
     "output_type": "stream",
     "text": [
      "[[0.01088028]\n",
      " [0.04776569]\n",
      " [0.90129995]\n",
      " [0.00311063]\n",
      " [0.5014824 ]]\n",
      "[array([0.], dtype=float32), array([0.], dtype=float32), array([1.], dtype=float32), array([0.], dtype=float32), array([1.], dtype=float32)]\n",
      "Accuracy sobre validacion: 0.8903529411764706\n",
      "F1-score None sobre validación: [0.92577254 0.79027903]\n",
      "F1-score macro sobre validación: 0.8580257834639787\n",
      "Precision None sobre validación: [0.88274605 0.91649269]\n",
      "Recall None sobre validación: [0.97320831 0.69462025]\n"
     ]
    }
   ],
   "source": [
    "trainPredict = model.predict(X_val_ig, batch_size=64)\n",
    "print (trainPredict[:5])\n",
    "trainPredict=[np.round(pred) for pred in trainPredict]\n",
    "print (trainPredict[:5])\n",
    "acc_val= accuracy_score(y_val_bin, trainPredict)\n",
    "f1_val=f1_score(y_val_bin, trainPredict, average=None)  # labels=np.unique(trainPredict)\n",
    "f1_val_ma=f1_score(y_val_bin, trainPredict, average='macro')  # labels=np.unique(trainPredict)\n",
    "rec=recall_score(y_val_bin, trainPredict, average=None) \n",
    "pre=precision_score(y_val_bin, trainPredict, average=None) \n",
    "matriz_val=confusion_matrix(y_val_bin, trainPredict)\n",
    "\n",
    "print (\"Accuracy sobre validacion:\",acc_val)  \n",
    "print (\"F1-score None sobre validación:\",f1_val)\n",
    "print (\"F1-score macro sobre validación:\",f1_val_ma)\n",
    "print (\"Precision None sobre validación:\",pre)\n",
    "print (\"Recall None sobre validación:\",rec)"
   ]
  },
  {
   "cell_type": "code",
   "execution_count": 45,
   "metadata": {},
   "outputs": [
    {
     "data": {
      "image/png": "[encoded data removed]",
      "text/plain": [
       "<matplotlib.figure.Figure at 0x7f5767946908>"
      ]
     },
     "metadata": {},
     "output_type": "display_data"
    }
   ],
   "source": [
    "plot_confusion_matrix(normalize(matriz_val,axis=1,norm='l1'),[\"NonH\",\"H\"],\"Confusion Matrix Caso Binario\")"
   ]
  },
  {
   "cell_type": "markdown",
   "metadata": {},
   "source": [
    "#.91129547 0.88351254]\n",
    "#Recall None sobre validación: [0.9564635  0.780063\n",
    "(0.8835+0.7800)/2"
   ]
  },
  {
   "cell_type": "code",
   "execution_count": 66,
   "metadata": {},
   "outputs": [
    {
     "name": "stdout",
     "output_type": "stream",
     "text": [
      "_________________________________________________________________\n",
      "Layer (type)                 Output Shape              Param #   \n",
      "=================================================================\n",
      "input_8 (InputLayer)         (None, 76)                0         \n",
      "_________________________________________________________________\n",
      "embedding_8 (Embedding)      (None, 76, 200)           3237800   \n",
      "_________________________________________________________________\n",
      "batch_normalization_29 (Batc (None, 76, 200)           800       \n",
      "_________________________________________________________________\n",
      "conv1d_15 (Conv1D)           (None, 76, 128)           128128    \n",
      "_________________________________________________________________\n",
      "max_pooling1d_15 (MaxPooling (None, 25, 128)           0         \n",
      "_________________________________________________________________\n",
      "batch_normalization_30 (Batc (None, 25, 128)           512       \n",
      "_________________________________________________________________\n",
      "dropout_15 (Dropout)         (None, 25, 128)           0         \n",
      "_________________________________________________________________\n",
      "conv1d_16 (Conv1D)           (None, 25, 64)            41024     \n",
      "_________________________________________________________________\n",
      "max_pooling1d_16 (MaxPooling (None, 8, 64)             0         \n",
      "_________________________________________________________________\n",
      "batch_normalization_31 (Batc (None, 8, 64)             256       \n",
      "_________________________________________________________________\n",
      "dropout_16 (Dropout)         (None, 8, 64)             0         \n",
      "_________________________________________________________________\n",
      "flatten_8 (Flatten)          (None, 512)               0         \n",
      "_________________________________________________________________\n",
      "dense_15 (Dense)             (None, 64)                32832     \n",
      "_________________________________________________________________\n",
      "batch_normalization_32 (Batc (None, 64)                256       \n",
      "_________________________________________________________________\n",
      "dense_16 (Dense)             (None, 2)                 130       \n",
      "=================================================================\n",
      "Total params: 3,441,738\n",
      "Trainable params: 203,026\n",
      "Non-trainable params: 3,238,712\n",
      "_________________________________________________________________\n"
     ]
    }
   ],
   "source": [
    "# lo mismo con focal \n",
    "embedding_vector=200\n",
    "embedding_layer = Embedding(input_dim=len(word_index.keys())+1,output_dim=embedding_vector,weights=[embedding_matrix],\n",
    "                     input_length=max_input_lenght,trainable=False)\n",
    "\n",
    "sequence_input = Input(shape=(max_input_lenght,))\n",
    "embedded_sequences = embedding_layer(sequence_input)\n",
    "batch = BatchNormalization()(embedded_sequences)\n",
    "cov1= Conv1D(128, 5, activation='relu',padding='same')(batch)\n",
    "pool = MaxPooling1D(pool_size=3)(cov1)    \n",
    "batch = BatchNormalization()(pool)\n",
    "drop = Dropout(0.65)(batch)\n",
    "cov1= Conv1D(64, 5, activation='relu',padding='same')(drop)\n",
    "pool = MaxPooling1D(pool_size=3)(cov1)\n",
    "batch = BatchNormalization()(pool)\n",
    "drop = Dropout(0.65)(batch)\n",
    "flat = Flatten()(drop)\n",
    "preds = Dense(64, activation='relu')(flat)\n",
    "preds = BatchNormalization()(preds)\n",
    "preds = Dense(2, activation='softmax')(preds)\n",
    "model = Model(sequence_input, preds)\n",
    "model.compile(loss=focal_loss(2),optimizer='adam',metrics=['acc'])\n",
    "#model.compile(loss='binary_crossentropy',optimizer='adam',metrics=['acc'])\n",
    "model.summary()"
   ]
  },
  {
   "cell_type": "code",
   "execution_count": 67,
   "metadata": {},
   "outputs": [
    {
     "name": "stdout",
     "output_type": "stream",
     "text": [
      "Train on 6374 samples, validate on 2125 samples\n",
      "Epoch 1/10\n",
      "6374/6374 [==============================] - 22s 3ms/step - loss: 0.3156 - acc: 0.6567 - val_loss: 0.0982 - val_acc: 0.8607\n",
      "Epoch 2/10\n",
      "6374/6374 [==============================] - 21s 3ms/step - loss: 0.1616 - acc: 0.7628 - val_loss: 0.1089 - val_acc: 0.8405\n",
      "Epoch 3/10\n",
      "6374/6374 [==============================] - 20s 3ms/step - loss: 0.1245 - acc: 0.8031 - val_loss: 0.0908 - val_acc: 0.8579\n",
      "Epoch 4/10\n",
      "6374/6374 [==============================] - 20s 3ms/step - loss: 0.1099 - acc: 0.8306 - val_loss: 0.0757 - val_acc: 0.8936\n",
      "Epoch 5/10\n",
      "6374/6374 [==============================] - 20s 3ms/step - loss: 0.1060 - acc: 0.8372 - val_loss: 0.0784 - val_acc: 0.8824\n",
      "Epoch 6/10\n",
      "6374/6374 [==============================] - 20s 3ms/step - loss: 0.0984 - acc: 0.8486 - val_loss: 0.0811 - val_acc: 0.8762\n",
      "Epoch 7/10\n",
      "6374/6374 [==============================] - 20s 3ms/step - loss: 0.0930 - acc: 0.8577 - val_loss: 0.0723 - val_acc: 0.9021\n",
      "Epoch 8/10\n",
      "6374/6374 [==============================] - 20s 3ms/step - loss: 0.0901 - acc: 0.8643 - val_loss: 0.0727 - val_acc: 0.8969\n",
      "Epoch 9/10\n",
      "6374/6374 [==============================] - 20s 3ms/step - loss: 0.0859 - acc: 0.8748 - val_loss: 0.0757 - val_acc: 0.8932\n",
      "Epoch 10/10\n",
      "6374/6374 [==============================] - 19s 3ms/step - loss: 0.0831 - acc: 0.8784 - val_loss: 0.0703 - val_acc: 0.9040\n"
     ]
    }
   ],
   "source": [
    "history = model.fit(X_train, y_train_bic,batch_size=64,epochs=10,verbose=1,validation_data=(X_val_ig,y_val_bic),class_weight=class_weights)"
   ]
  },
  {
   "cell_type": "code",
   "execution_count": 68,
   "metadata": {},
   "outputs": [
    {
     "name": "stdout",
     "output_type": "stream",
     "text": [
      "[0 0 1 0 1]\n",
      "Accuracy sobre validacion: 0.904\n",
      "F1-score None sobre validación: [0.93333333 0.82857143]\n",
      "F1-score macro sobre validación: 0.8809523809523809\n",
      "Precision None sobre validación: [0.91129547 0.88351254]\n",
      "Recall None sobre validación: [0.9564635  0.78006329]\n"
     ]
    },
    {
     "data": {
      "image/png": "[encoded data removed]",
      "text/plain": [
       "<matplotlib.figure.Figure at 0x7f5725bfcac8>"
      ]
     },
     "metadata": {},
     "output_type": "display_data"
    }
   ],
   "source": [
    "trainPredict = model.predict(X_val_ig, batch_size=64).argmax(axis=-1)\n",
    "print (trainPredict[:5])\n",
    "acc_val= accuracy_score(y_val_bin, trainPredict)\n",
    "f1_val=f1_score(y_val_bin, trainPredict, average=None)  # labels=np.unique(trainPredict)\n",
    "f1_val_ma=f1_score(y_val_bin, trainPredict, average='macro')  # labels=np.unique(trainPredict)\n",
    "rec=recall_score(y_val_bin, trainPredict, average=None) \n",
    "pre=precision_score(y_val_bin, trainPredict, average=None) \n",
    "matriz_val=confusion_matrix(y_val_bin, trainPredict)\n",
    "\n",
    "print (\"Accuracy sobre validacion:\",acc_val)  \n",
    "print (\"F1-score None sobre validación:\",f1_val)\n",
    "print (\"F1-score macro sobre validación:\",f1_val_ma)\n",
    "print (\"Precision None sobre validación:\",pre)\n",
    "print (\"Recall None sobre validación:\",rec)\n",
    "\n",
    "plot_confusion_matrix(normalize(matriz_val,axis=1,norm='l1'),[\"NonH\",\"H\"],\"Confusion Matrix Caso Binario + Focal Loss\")"
   ]
  },
  {
   "cell_type": "code",
   "execution_count": 96,
   "metadata": {},
   "outputs": [
    {
     "name": "stdout",
     "output_type": "stream",
     "text": [
      "_________________________________________________________________\n",
      "Layer (type)                 Output Shape              Param #   \n",
      "=================================================================\n",
      "input_11 (InputLayer)        (None, 76)                0         \n",
      "_________________________________________________________________\n",
      "embedding_11 (Embedding)     (None, 76, 200)           3237800   \n",
      "_________________________________________________________________\n",
      "batch_normalization_41 (Batc (None, 76, 200)           800       \n",
      "_________________________________________________________________\n",
      "conv1d_21 (Conv1D)           (None, 76, 128)           128128    \n",
      "_________________________________________________________________\n",
      "max_pooling1d_21 (MaxPooling (None, 25, 128)           0         \n",
      "_________________________________________________________________\n",
      "batch_normalization_42 (Batc (None, 25, 128)           512       \n",
      "_________________________________________________________________\n",
      "dropout_23 (Dropout)         (None, 25, 128)           0         \n",
      "_________________________________________________________________\n",
      "conv1d_22 (Conv1D)           (None, 25, 64)            41024     \n",
      "_________________________________________________________________\n",
      "max_pooling1d_22 (MaxPooling (None, 8, 64)             0         \n",
      "_________________________________________________________________\n",
      "batch_normalization_43 (Batc (None, 8, 64)             256       \n",
      "_________________________________________________________________\n",
      "dropout_24 (Dropout)         (None, 8, 64)             0         \n",
      "_________________________________________________________________\n",
      "flatten_11 (Flatten)         (None, 512)               0         \n",
      "_________________________________________________________________\n",
      "dense_21 (Dense)             (None, 128)               65664     \n",
      "_________________________________________________________________\n",
      "batch_normalization_44 (Batc (None, 128)               512       \n",
      "_________________________________________________________________\n",
      "dropout_25 (Dropout)         (None, 128)               0         \n",
      "_________________________________________________________________\n",
      "dense_22 (Dense)             (None, 2)                 258       \n",
      "=================================================================\n",
      "Total params: 3,474,954\n",
      "Trainable params: 236,114\n",
      "Non-trainable params: 3,238,840\n",
      "_________________________________________________________________\n"
     ]
    }
   ],
   "source": [
    "embedding_vector=200\n",
    "embedding_layer = Embedding(input_dim=len(word_index.keys())+1,output_dim=embedding_vector,weights=[embedding_matrix],\n",
    "                     input_length=max_input_lenght,trainable=False)\n",
    "\n",
    "sequence_input = Input(shape=(max_input_lenght,))\n",
    "embedded_sequences = embedding_layer(sequence_input)\n",
    "batch = BatchNormalization()(embedded_sequences)\n",
    "cov1= Conv1D(128, 5, activation='relu',padding='same')(batch)\n",
    "pool = MaxPooling1D(pool_size=3)(cov1)    \n",
    "\n",
    "batch = BatchNormalization()(pool)\n",
    "drop = Dropout(0.65)(batch)\n",
    "cov1= Conv1D(64, 5, activation='relu',padding='same')(drop)\n",
    "pool = MaxPooling1D(pool_size=3)(cov1)\n",
    "batch = BatchNormalization()(pool)\n",
    "drop = Dropout(0.65)(batch)\n",
    "flat = Flatten()(drop)\n",
    "preds = Dense(128, activation='relu')(flat)\n",
    "preds = BatchNormalization()(preds)\n",
    "preds= Dropout(0.3)(preds)\n",
    "preds = Dense(2, activation='softmax')(preds)\n",
    "model2 = Model(sequence_input, preds)\n",
    "model2.compile(loss=focal_loss(2, weights=class_weights),optimizer='adam',metrics=['acc'])\n",
    "model2.summary()"
   ]
  },
  {
   "cell_type": "code",
   "execution_count": 97,
   "metadata": {},
   "outputs": [
    {
     "name": "stdout",
     "output_type": "stream",
     "text": [
      "Train on 6374 samples, validate on 2125 samples\n",
      "Epoch 1/10\n",
      "6374/6374 [==============================] - 21s 3ms/step - loss: 0.4412 - acc: 0.6249 - val_loss: 0.1362 - val_acc: 0.8405\n",
      "Epoch 2/10\n",
      "6374/6374 [==============================] - 20s 3ms/step - loss: 0.2086 - acc: 0.7407 - val_loss: 0.0929 - val_acc: 0.8828\n",
      "Epoch 3/10\n",
      "6374/6374 [==============================] - 20s 3ms/step - loss: 0.1414 - acc: 0.7885 - val_loss: 0.0926 - val_acc: 0.8744\n",
      "Epoch 4/10\n",
      "6374/6374 [==============================] - 20s 3ms/step - loss: 0.1223 - acc: 0.8114 - val_loss: 0.0858 - val_acc: 0.8776\n",
      "Epoch 5/10\n",
      "6374/6374 [==============================] - 22s 3ms/step - loss: 0.1078 - acc: 0.8342 - val_loss: 0.0777 - val_acc: 0.8960\n",
      "Epoch 6/10\n",
      "6374/6374 [==============================] - 20s 3ms/step - loss: 0.0984 - acc: 0.8480 - val_loss: 0.0820 - val_acc: 0.8866\n",
      "Epoch 7/10\n",
      "6374/6374 [==============================] - 19s 3ms/step - loss: 0.0930 - acc: 0.8593 - val_loss: 0.0808 - val_acc: 0.8885\n",
      "Epoch 8/10\n",
      "6374/6374 [==============================] - 19s 3ms/step - loss: 0.0923 - acc: 0.8619 - val_loss: 0.0771 - val_acc: 0.8998\n",
      "Epoch 9/10\n",
      "6374/6374 [==============================] - 20s 3ms/step - loss: 0.0874 - acc: 0.8696 - val_loss: 0.0883 - val_acc: 0.8885\n",
      "Epoch 10/10\n",
      "6374/6374 [==============================] - 20s 3ms/step - loss: 0.0851 - acc: 0.8737 - val_loss: 0.0908 - val_acc: 0.8932\n"
     ]
    }
   ],
   "source": [
    "history = model2.fit(X_train, y_train_bic,batch_size=64,epochs=10,verbose=1,validation_data=(X_val_ig,y_val_bic),class_weight=class_weights)"
   ]
  },
  {
   "cell_type": "code",
   "execution_count": 98,
   "metadata": {},
   "outputs": [
    {
     "name": "stdout",
     "output_type": "stream",
     "text": [
      "[0 0 1 0 1]\n",
      "Accuracy sobre validacion: 0.8931764705882353\n",
      "F1-score None sobre validación: [0.9272669  0.79893711]\n",
      "F1-score macro sobre validación: 0.8631020070615099\n",
      "Precision None sobre validación: [0.88882064 0.90744467]\n",
      "Recall None sobre validación: [0.96918955 0.71360759]\n"
     ]
    },
    {
     "data": {
      "image/png": "[encoded data removed]",
      "text/plain": [
       "<matplotlib.figure.Figure at 0x7f570c9ef710>"
      ]
     },
     "metadata": {},
     "output_type": "display_data"
    }
   ],
   "source": [
    "trainPredict = model2.predict(X_val_ig, batch_size=64).argmax(axis=-1)\n",
    "print (trainPredict[:5])\n",
    "acc_val= accuracy_score(y_val_bin, trainPredict)\n",
    "f1_val=f1_score(y_val_bin, trainPredict, average=None)  # labels=np.unique(trainPredict)\n",
    "f1_val_ma=f1_score(y_val_bin, trainPredict, average='macro')  # labels=np.unique(trainPredict)\n",
    "rec=recall_score(y_val_bin, trainPredict, average=None) \n",
    "pre=precision_score(y_val_bin, trainPredict, average=None) \n",
    "matriz_val=confusion_matrix(y_val_bin, trainPredict)\n",
    "\n",
    "print (\"Accuracy sobre validacion:\",acc_val)  \n",
    "print (\"F1-score None sobre validación:\",f1_val)\n",
    "print (\"F1-score macro sobre validación:\",f1_val_ma)\n",
    "print (\"Precision None sobre validación:\",pre)\n",
    "print (\"Recall None sobre validación:\",rec)\n",
    "\n",
    "plot_confusion_matrix(normalize(matriz_val,axis=1,norm='l1'),[\"NonH\",\"H\"],\"Confusion Matrix Caso Binario + Focal Loss\")"
   ]
  },
  {
   "cell_type": "code",
   "execution_count": null,
   "metadata": {},
   "outputs": [],
   "source": []
  },
  {
   "cell_type": "code",
   "execution_count": null,
   "metadata": {},
   "outputs": [],
   "source": []
  },
  {
   "cell_type": "markdown",
   "metadata": {},
   "source": [
    "Mejor modelo para la fase uno (caso bibnario) corresponde a la evaluación en focal loss con 10 epochs"
   ]
  },
  {
   "cell_type": "markdown",
   "metadata": {},
   "source": [
    "### Caso multiclass"
   ]
  },
  {
   "cell_type": "code",
   "execution_count": 80,
   "metadata": {},
   "outputs": [
    {
     "data": {
      "text/plain": [
       "2713"
      ]
     },
     "execution_count": 80,
     "metadata": {},
     "output_type": "execute_result"
    }
   ],
   "source": [
    "unnamed_har=np.where(df_train['harassment']== 1)[0]\n",
    "len(unnamed_har)"
   ]
  },
  {
   "cell_type": "code",
   "execution_count": 88,
   "metadata": {},
   "outputs": [
    {
     "data": {
      "text/plain": [
       "632"
      ]
     },
     "execution_count": 88,
     "metadata": {},
     "output_type": "execute_result"
    }
   ],
   "source": [
    "unnamed_har_val=np.where(df_val['harassment']== 1)[0]\n",
    "len(unnamed_har_val)"
   ]
  },
  {
   "cell_type": "code",
   "execution_count": 84,
   "metadata": {},
   "outputs": [
    {
     "data": {
      "text/plain": [
       "(2713, 6)"
      ]
     },
     "execution_count": 84,
     "metadata": {},
     "output_type": "execute_result"
    }
   ],
   "source": [
    "df_train.values[unnamed_har].shape"
   ]
  },
  {
   "cell_type": "code",
   "execution_count": 87,
   "metadata": {},
   "outputs": [
    {
     "data": {
      "text/html": [
       "<div>\n",
       "<style scoped>\n",
       "    .dataframe tbody tr th:only-of-type {\n",
       "        vertical-align: middle;\n",
       "    }\n",
       "\n",
       "    .dataframe tbody tr th {\n",
       "        vertical-align: top;\n",
       "    }\n",
       "\n",
       "    .dataframe thead th {\n",
       "        text-align: right;\n",
       "    }\n",
       "</style>\n",
       "<table border=\"1\" class=\"dataframe\">\n",
       "  <thead>\n",
       "    <tr style=\"text-align: right;\">\n",
       "      <th></th>\n",
       "      <th>unnamed_har</th>\n",
       "      <th>tweet</th>\n",
       "      <th>harassment</th>\n",
       "      <th>IndirectH</th>\n",
       "      <th>PhysicalH</th>\n",
       "      <th>SexualH</th>\n",
       "    </tr>\n",
       "  </thead>\n",
       "  <tbody>\n",
       "    <tr>\n",
       "      <th>0</th>\n",
       "      <td>0</td>\n",
       "      <td>pics mexican school girl naked melanie safka f...</td>\n",
       "      <td>1</td>\n",
       "      <td>0</td>\n",
       "      <td>0</td>\n",
       "      <td>1</td>\n",
       "    </tr>\n",
       "    <tr>\n",
       "      <th>1</th>\n",
       "      <td>3</td>\n",
       "      <td>girl dirty quarterback latino pokemon young h...</td>\n",
       "      <td>1</td>\n",
       "      <td>0</td>\n",
       "      <td>0</td>\n",
       "      <td>1</td>\n",
       "    </tr>\n",
       "    <tr>\n",
       "      <th>2</th>\n",
       "      <td>4</td>\n",
       "      <td>miliondollameat sexting n ngirl daddy n nme l...</td>\n",
       "      <td>1</td>\n",
       "      <td>0</td>\n",
       "      <td>0</td>\n",
       "      <td>1</td>\n",
       "    </tr>\n",
       "    <tr>\n",
       "      <th>3</th>\n",
       "      <td>6</td>\n",
       "      <td>museum slut If you know somewhere we can do i...</td>\n",
       "      <td>1</td>\n",
       "      <td>0</td>\n",
       "      <td>0</td>\n",
       "      <td>1</td>\n",
       "    </tr>\n",
       "    <tr>\n",
       "      <th>4</th>\n",
       "      <td>7</td>\n",
       "      <td>RT sp00kybitchhhh I have spots open Sissy Slut...</td>\n",
       "      <td>1</td>\n",
       "      <td>0</td>\n",
       "      <td>0</td>\n",
       "      <td>1</td>\n",
       "    </tr>\n",
       "  </tbody>\n",
       "</table>\n",
       "</div>"
      ],
      "text/plain": [
       "  unnamed_har                                              tweet harassment  \\\n",
       "0           0  pics mexican school girl naked melanie safka f...          1   \n",
       "1           3   girl dirty quarterback latino pokemon young h...          1   \n",
       "2           4   miliondollameat sexting n ngirl daddy n nme l...          1   \n",
       "3           6   museum slut If you know somewhere we can do i...          1   \n",
       "4           7  RT sp00kybitchhhh I have spots open Sissy Slut...          1   \n",
       "\n",
       "  IndirectH PhysicalH SexualH  \n",
       "0         0         0       1  \n",
       "1         0         0       1  \n",
       "2         0         0       1  \n",
       "3         0         0       1  \n",
       "4         0         0       1  "
      ]
     },
     "execution_count": 87,
     "metadata": {},
     "output_type": "execute_result"
    }
   ],
   "source": [
    "df_train_f2=pd.DataFrame(df_train.values[unnamed_har], columns=['unnamed_har', 'tweet','harassment','IndirectH','PhysicalH','SexualH'])\n",
    "df_train_f2.head()"
   ]
  },
  {
   "cell_type": "code",
   "execution_count": 90,
   "metadata": {},
   "outputs": [
    {
     "data": {
      "text/html": [
       "<div>\n",
       "<style scoped>\n",
       "    .dataframe tbody tr th:only-of-type {\n",
       "        vertical-align: middle;\n",
       "    }\n",
       "\n",
       "    .dataframe tbody tr th {\n",
       "        vertical-align: top;\n",
       "    }\n",
       "\n",
       "    .dataframe thead th {\n",
       "        text-align: right;\n",
       "    }\n",
       "</style>\n",
       "<table border=\"1\" class=\"dataframe\">\n",
       "  <thead>\n",
       "    <tr style=\"text-align: right;\">\n",
       "      <th></th>\n",
       "      <th>Unnamed: 0</th>\n",
       "      <th>tweet_content</th>\n",
       "      <th>harassment</th>\n",
       "      <th>IndirectH</th>\n",
       "      <th>PhysicalH</th>\n",
       "      <th>SexualH</th>\n",
       "    </tr>\n",
       "  </thead>\n",
       "  <tbody>\n",
       "    <tr>\n",
       "      <th>0</th>\n",
       "      <td>6374</td>\n",
       "      <td>RT GLOSSPHOENIX some of y all never watched co...</td>\n",
       "      <td>0</td>\n",
       "      <td>0</td>\n",
       "      <td>0</td>\n",
       "      <td>0</td>\n",
       "    </tr>\n",
       "    <tr>\n",
       "      <th>1</th>\n",
       "      <td>6375</td>\n",
       "      <td>OMG CAN T BELIEVE I M DOING THIS Selling my Dr...</td>\n",
       "      <td>0</td>\n",
       "      <td>0</td>\n",
       "      <td>0</td>\n",
       "      <td>0</td>\n",
       "    </tr>\n",
       "    <tr>\n",
       "      <th>2</th>\n",
       "      <td>6376</td>\n",
       "      <td>asa akira ava lauren beach sex free porn video...</td>\n",
       "      <td>1</td>\n",
       "      <td>0</td>\n",
       "      <td>0</td>\n",
       "      <td>1</td>\n",
       "    </tr>\n",
       "    <tr>\n",
       "      <th>3</th>\n",
       "      <td>6377</td>\n",
       "      <td>Anyone sassy smart mouth cuuuuteeee old favor...</td>\n",
       "      <td>0</td>\n",
       "      <td>0</td>\n",
       "      <td>0</td>\n",
       "      <td>0</td>\n",
       "    </tr>\n",
       "    <tr>\n",
       "      <th>4</th>\n",
       "      <td>6378</td>\n",
       "      <td>This is why you re scared of Karma you got to ...</td>\n",
       "      <td>1</td>\n",
       "      <td>0</td>\n",
       "      <td>0</td>\n",
       "      <td>1</td>\n",
       "    </tr>\n",
       "  </tbody>\n",
       "</table>\n",
       "</div>"
      ],
      "text/plain": [
       "   Unnamed: 0                                      tweet_content  harassment  \\\n",
       "0        6374  RT GLOSSPHOENIX some of y all never watched co...           0   \n",
       "1        6375  OMG CAN T BELIEVE I M DOING THIS Selling my Dr...           0   \n",
       "2        6376  asa akira ava lauren beach sex free porn video...           1   \n",
       "3        6377   Anyone sassy smart mouth cuuuuteeee old favor...           0   \n",
       "4        6378  This is why you re scared of Karma you got to ...           1   \n",
       "\n",
       "   IndirectH  PhysicalH  SexualH  \n",
       "0          0          0        0  \n",
       "1          0          0        0  \n",
       "2          0          0        1  \n",
       "3          0          0        0  \n",
       "4          0          0        1  "
      ]
     },
     "execution_count": 90,
     "metadata": {},
     "output_type": "execute_result"
    }
   ],
   "source": [
    "df_val.head()"
   ]
  },
  {
   "cell_type": "code",
   "execution_count": 89,
   "metadata": {},
   "outputs": [
    {
     "data": {
      "text/html": [
       "<div>\n",
       "<style scoped>\n",
       "    .dataframe tbody tr th:only-of-type {\n",
       "        vertical-align: middle;\n",
       "    }\n",
       "\n",
       "    .dataframe tbody tr th {\n",
       "        vertical-align: top;\n",
       "    }\n",
       "\n",
       "    .dataframe thead th {\n",
       "        text-align: right;\n",
       "    }\n",
       "</style>\n",
       "<table border=\"1\" class=\"dataframe\">\n",
       "  <thead>\n",
       "    <tr style=\"text-align: right;\">\n",
       "      <th></th>\n",
       "      <th>unnamed_har</th>\n",
       "      <th>tweet</th>\n",
       "      <th>harassment</th>\n",
       "      <th>IndirectH</th>\n",
       "      <th>PhysicalH</th>\n",
       "      <th>SexualH</th>\n",
       "    </tr>\n",
       "  </thead>\n",
       "  <tbody>\n",
       "    <tr>\n",
       "      <th>0</th>\n",
       "      <td>6376</td>\n",
       "      <td>asa akira ava lauren beach sex free porn video...</td>\n",
       "      <td>1</td>\n",
       "      <td>0</td>\n",
       "      <td>0</td>\n",
       "      <td>1</td>\n",
       "    </tr>\n",
       "    <tr>\n",
       "      <th>1</th>\n",
       "      <td>6378</td>\n",
       "      <td>This is why you re scared of Karma you got to ...</td>\n",
       "      <td>1</td>\n",
       "      <td>0</td>\n",
       "      <td>0</td>\n",
       "      <td>1</td>\n",
       "    </tr>\n",
       "    <tr>\n",
       "      <th>2</th>\n",
       "      <td>6381</td>\n",
       "      <td>tit mouth office lesbians elegant creampie ea...</td>\n",
       "      <td>1</td>\n",
       "      <td>0</td>\n",
       "      <td>0</td>\n",
       "      <td>1</td>\n",
       "    </tr>\n",
       "    <tr>\n",
       "      <th>3</th>\n",
       "      <td>6383</td>\n",
       "      <td>But heard homeless woman twelve x89 she x89 s...</td>\n",
       "      <td>1</td>\n",
       "      <td>0</td>\n",
       "      <td>0</td>\n",
       "      <td>1</td>\n",
       "    </tr>\n",
       "    <tr>\n",
       "      <th>4</th>\n",
       "      <td>6384</td>\n",
       "      <td>love you bby RT and Like for more single girl...</td>\n",
       "      <td>1</td>\n",
       "      <td>0</td>\n",
       "      <td>0</td>\n",
       "      <td>1</td>\n",
       "    </tr>\n",
       "  </tbody>\n",
       "</table>\n",
       "</div>"
      ],
      "text/plain": [
       "  unnamed_har                                              tweet harassment  \\\n",
       "0        6376  asa akira ava lauren beach sex free porn video...          1   \n",
       "1        6378  This is why you re scared of Karma you got to ...          1   \n",
       "2        6381   tit mouth office lesbians elegant creampie ea...          1   \n",
       "3        6383   But heard homeless woman twelve x89 she x89 s...          1   \n",
       "4        6384   love you bby RT and Like for more single girl...          1   \n",
       "\n",
       "  IndirectH PhysicalH SexualH  \n",
       "0         0         0       1  \n",
       "1         0         0       1  \n",
       "2         0         0       1  \n",
       "3         0         0       1  \n",
       "4         0         0       1  "
      ]
     },
     "execution_count": 89,
     "metadata": {},
     "output_type": "execute_result"
    }
   ],
   "source": [
    "df_val_f2=pd.DataFrame(df_val.values[unnamed_har_val], columns=['unnamed_har', 'tweet','harassment','IndirectH','PhysicalH','SexualH'])\n",
    "df_val_f2.head()"
   ]
  },
  {
   "cell_type": "code",
   "execution_count": 91,
   "metadata": {},
   "outputs": [
    {
     "name": "stdout",
     "output_type": "stream",
     "text": [
      "[['pic', 'mexican', 'school', 'girl', 'naked', 'melanie', 'safka', 'fake', 'nude', 'photo', 'hardcore', 'slut', 'movie', 'alicia', 'moore', 'porn', 'star', 'toon', 'love'], ['girl', 'dirty', 'quarterback', 'latino', 'pokemon', 'young', 'handjob', 'kissing', 'gangbang', 'w', 'x89', 't', 'co', 'wrm4xo00vj'], ['miliondollameat', 'sexting', 'n', 'ngirl', 'daddy', 'n', 'nme', 'listen', 'bitch', 'gonna', 'watch', 'these', 'what'], ['museum', 'slut', 'if', 'you', 'know', 'somewhere', 'we', 'can', 'do', 'it', 'then', 'i', 'am', 'game'], ['rt', 'sp00kybitchhhh', 'i', 'have', 'spot', 'open', 'sissy', 'slut', 'intox', 'bitch', 'human', 'atm', 'amazon', 'boy', 'do', 'you', 'have', 'what', 'it', 'take', 'can', 'you', 'live', 'up', 'to', 'my']]\n"
     ]
    }
   ],
   "source": [
    "data_train_f2=[]\n",
    "for tw in df_train_f2['tweet']:\n",
    "    data_train_f2.append(cleaner(tw))\n",
    "print (data_train_f2[:5])\n"
   ]
  },
  {
   "cell_type": "code",
   "execution_count": 92,
   "metadata": {},
   "outputs": [
    {
     "data": {
      "text/plain": [
       "7615"
      ]
     },
     "execution_count": 92,
     "metadata": {},
     "output_type": "execute_result"
    }
   ],
   "source": [
    "word_index_f2=dict()\n",
    "j=1\n",
    "for frase in data_train_f2:\n",
    "    for term in frase:\n",
    "        if term not in word_index_f2.keys():\n",
    "            word_index_f2[term]=j\n",
    "            j+=1\n",
    "    \n",
    "len(word_index_f2.keys())"
   ]
  },
  {
   "cell_type": "code",
   "execution_count": 93,
   "metadata": {},
   "outputs": [],
   "source": [
    "embedding_vector=200\n",
    "embedding_matrix_f2 = np.zeros((len(word_index_f2.keys())+1, embedding_vector))   #puede probar otra inicialización\n",
    "\n",
    "for word, i in word_index_f2.items():\n",
    "    embedding_vector = embeddings_index.get(word)\n",
    "    if embedding_vector is not None:\n",
    "        embedding_matrix_f2[i] = embedding_vector\n"
   ]
  },
  {
   "cell_type": "code",
   "execution_count": 106,
   "metadata": {
    "collapsed": true
   },
   "outputs": [
    {
     "data": {
      "text/plain": [
       "array([[0., 0., 1.],\n",
       "       [0., 0., 1.],\n",
       "       [0., 0., 1.],\n",
       "       [0., 0., 1.],\n",
       "       [0., 0., 1.],\n",
       "       [0., 0., 1.],\n",
       "       [0., 0., 1.],\n",
       "       [0., 0., 1.],\n",
       "       [0., 0., 1.],\n",
       "       [0., 0., 1.],\n",
       "       [0., 0., 1.],\n",
       "       [0., 0., 1.],\n",
       "       [0., 0., 1.],\n",
       "       [0., 0., 1.],\n",
       "       [0., 0., 1.],\n",
       "       [0., 0., 1.],\n",
       "       [0., 0., 1.],\n",
       "       [0., 0., 1.],\n",
       "       [0., 0., 1.],\n",
       "       [0., 0., 1.]], dtype=float32)"
      ]
     },
     "execution_count": 106,
     "metadata": {},
     "output_type": "execute_result"
    }
   ],
   "source": [
    "y_train_f2=np.asarray(np.asarray(df_train_f2.values)[:,-3:],dtype='float32')\n",
    "y_train_f2[:20]"
   ]
  },
  {
   "cell_type": "code",
   "execution_count": 110,
   "metadata": {},
   "outputs": [
    {
     "data": {
      "text/plain": [
       "(2713, 3)"
      ]
     },
     "execution_count": 110,
     "metadata": {},
     "output_type": "execute_result"
    }
   ],
   "source": [
    "y_train_mu=[] #123\n",
    "for array in y_train_f2:\n",
    "    y_train_mu.append(np.argmax(array))\n",
    "y_train_mul=to_categorical(y_train_mu,num_classes=3)\n",
    "#print (y_train_mul[:10])\n",
    "y_train_mul.shape#one hot"
   ]
  },
  {
   "cell_type": "code",
   "execution_count": 111,
   "metadata": {},
   "outputs": [
    {
     "name": "stdout",
     "output_type": "stream",
     "text": [
      "[16.44242424 11.89912281  0.35024529]\n"
     ]
    }
   ],
   "source": [
    "class_weights_f2 = class_weight.compute_class_weight('balanced', np.unique(y_train_mu), y_train_mu)\n",
    "print (class_weights_f2)"
   ]
  },
  {
   "cell_type": "code",
   "execution_count": 124,
   "metadata": {},
   "outputs": [
    {
     "name": "stdout",
     "output_type": "stream",
     "text": [
      "[(0, 55), (1, 76), (2, 2582)]\n"
     ]
    }
   ],
   "source": [
    "c = Counter(y_train_mu)\n",
    "c = sorted(c.items())\n",
    "print (c)\n",
    "clases=['Indirect','Physical','Sexual']\n",
    "class_num = [i[0] for i in c]\n",
    "class_names = [clases[i[0]-1] for i in c]\n",
    "freq = [i[1] for i in c]\n",
    "#plt.bar(y_train_mu)"
   ]
  },
  {
   "cell_type": "code",
   "execution_count": 125,
   "metadata": {},
   "outputs": [
    {
     "data": {
      "image/png": "[encoded data removed]",
      "text/plain": [
       "<matplotlib.figure.Figure at 0x7f5708778c88>"
      ]
     },
     "metadata": {},
     "output_type": "display_data"
    }
   ],
   "source": [
    "f, ax = plt.subplots(figsize=(8,5))\n",
    "plt.bar(class_num, freq)\n",
    "plt.title(\"# ataques por clase de acoso\")\n",
    "plt.xlabel(\"Tipo de acoso\")\n",
    "plt.ylabel(\"Frequencia\")\n",
    "ax.set_xticks(range(0, 3))\n",
    "ax.set_xticklabels(clases)\n",
    "\n",
    "plt.show()"
   ]
  },
  {
   "cell_type": "code",
   "execution_count": 128,
   "metadata": {},
   "outputs": [
    {
     "name": "stdout",
     "output_type": "stream",
     "text": [
      "[[1, 2, 3, 4, 5, 6, 7, 8, 9, 10, 11, 12, 13, 14, 15, 16, 17, 18, 19], [4, 20, 21, 22, 23, 24, 25, 26, 27, 28, 29, 30, 31, 32]]\n",
      "['pics mexican school girl naked melanie safka fake nude photos hardcore slut movies alicia moore porn star toon love '\n",
      " ' girl dirty quarterback latino pokemon young handjob kissing gangbang w x89 t co Wrm4xo00vJ ']\n"
     ]
    }
   ],
   "source": [
    "from keras.preprocessing import sequence\n",
    "\n",
    "x_new_train = [[word_index_f2[word] for word in cleaner(text)] for text in df_train_f2[\"tweet\"].values]\n",
    "print(x_new_train[0:2])\n",
    "\n",
    "print (df_train_f2[\"tweet\"].values[:2])\n",
    "#print (df_train_f2[\"tweet\"].values[1])"
   ]
  },
  {
   "cell_type": "code",
   "execution_count": 129,
   "metadata": {},
   "outputs": [
    {
     "data": {
      "text/plain": [
       "<matplotlib.axes._subplots.AxesSubplot at 0x7f5708686208>"
      ]
     },
     "execution_count": 129,
     "metadata": {},
     "output_type": "execute_result"
    },
    {
     "data": {
      "image/png": "[encoded data removed]",
      "text/plain": [
       "<matplotlib.figure.Figure at 0x7f570868b518>"
      ]
     },
     "metadata": {},
     "output_type": "display_data"
    }
   ],
   "source": [
    "sns.boxplot(list(map(len,x_new_train)))"
   ]
  },
  {
   "cell_type": "code",
   "execution_count": 131,
   "metadata": {},
   "outputs": [],
   "source": [
    "max_input_lenght = max(list(map(len,x_new_train))) #modificar este valor en base a su experimentación\n",
    "X_train_f2 = sequence.pad_sequences(x_new_train,maxlen=max_input_lenght,padding='post',value=0)"
   ]
  },
  {
   "cell_type": "code",
   "execution_count": 133,
   "metadata": {},
   "outputs": [
    {
     "data": {
      "text/plain": [
       "(2713, 32)"
      ]
     },
     "execution_count": 133,
     "metadata": {},
     "output_type": "execute_result"
    }
   ],
   "source": [
    "X_train_f2.shape"
   ]
  },
  {
   "cell_type": "code",
   "execution_count": 134,
   "metadata": {},
   "outputs": [],
   "source": [
    "from sklearn.model_selection import KFold\n",
    "from sklearn.metrics import accuracy_score,f1_score, confusion_matrix\n",
    "from sklearn.preprocessing import normalize\n",
    "import time\n",
    "\n",
    "def plot_confusion_matrix(cm, target_names, title='Confusion matrix (f1-score)',cmap=None, normalize=True):\n",
    "    \n",
    "    import itertools\n",
    "    accuracy = np.trace(cm) / float(np.sum(cm))\n",
    "    misclass = 1 - accuracy\n",
    "    if cmap is None:\n",
    "        cmap = plt.get_cmap('Blues')\n",
    "\n",
    "    plt.figure(figsize=(8, 6))\n",
    "    plt.imshow(cm, interpolation='nearest', cmap=cmap)\n",
    "    plt.title(title)\n",
    "    plt.colorbar()\n",
    "\n",
    "    if target_names is not None:\n",
    "        tick_marks = np.arange(len(target_names))\n",
    "        plt.xticks(tick_marks, target_names, rotation=45)\n",
    "        plt.yticks(tick_marks, target_names)\n",
    "\n",
    "    if normalize:\n",
    "        cm = cm.astype('float') / cm.sum(axis=1)[:, np.newaxis]\n",
    "    thresh = cm.max() / 1.5 if normalize else cm.max() / 2\n",
    "    for i, j in itertools.product(range(cm.shape[0]), range(cm.shape[1])):\n",
    "        if normalize:\n",
    "            plt.text(j, i, \"{:0.4f}\".format(cm[i, j]),\n",
    "                     horizontalalignment=\"center\",\n",
    "                     color=\"white\" if cm[i, j] > thresh else \"black\")\n",
    "        else:\n",
    "            plt.text(j, i, \"{:,}\".format(cm[i, j]),\n",
    "                     horizontalalignment=\"center\",\n",
    "                     color=\"white\" if cm[i, j] > thresh else \"black\")\n",
    "\n",
    "\n",
    "    plt.tight_layout()\n",
    "    plt.ylabel('True label')\n",
    "    plt.xlabel('Predicted label\\naccuracy={:0.4f}; misclass={:0.4f}'.format(accuracy, misclass))\n",
    "    plt.show()"
   ]
  },
  {
   "cell_type": "code",
   "execution_count": 136,
   "metadata": {},
   "outputs": [
    {
     "name": "stdout",
     "output_type": "stream",
     "text": [
      "2713\n"
     ]
    }
   ],
   "source": [
    "list_posts=[cleaner(text) for text in df_train_f2[\"tweet\"].values]  #train\n",
    "print (len(list_posts))\n",
    "\n",
    "Vec_train=[]\n",
    "tweets_c_a=list_posts\n",
    "vocab_train_f2=[]\n",
    "vocab=list(embeddings_index.keys())\n",
    "for post in list_posts:\n",
    "    posteo=[]\n",
    "    for term in post:   #para todos los terminos de un tweet \n",
    "        vector=embeddings_index.get(term)\n",
    "        if vector is None:       \n",
    "            posteo.append(np.zeros(200))\n",
    "        else:\n",
    "            posteo.append(np.asarray(vector))\n",
    "            vocab_train_f2.append(term)\n",
    "    Vec_train.append(np.asarray(posteo))"
   ]
  },
  {
   "cell_type": "code",
   "execution_count": 137,
   "metadata": {},
   "outputs": [
    {
     "name": "stdout",
     "output_type": "stream",
     "text": [
      "632\n"
     ]
    }
   ],
   "source": [
    "list_posts_val=[cleaner(text) for text in df_val_f2[\"tweet\"].values]  #train\n",
    "print (len(list_posts_val))\n",
    "\n",
    "Vec_val_ig=[]\n",
    "vocab=list(embeddings_index.keys())\n",
    "for post in list_posts_val:\n",
    "    temp=[]\n",
    "    for term in post:   #para todos los terminos de un tweet \n",
    "        if term in vocab_train_f2:\n",
    "            vector=embeddings_index.get(term)\n",
    "            if vector is None:       \n",
    "                temp.append(np.zeros(200))\n",
    "            else:\n",
    "                temp.append(np.asarray(vector))\n",
    "    Vec_val_ig.append(temp)"
   ]
  },
  {
   "cell_type": "code",
   "execution_count": 139,
   "metadata": {},
   "outputs": [],
   "source": [
    "word_index_f2_val=dict()\n",
    "j=1\n",
    "for frase in list_posts_val:\n",
    "    for term in frase:\n",
    "        if term not in word_index_f2_val.keys():\n",
    "            word_index_f2_val[term]=j\n",
    "            j+=1\n",
    "            \n",
    "all_val_dif=[]\n",
    "for text in list_posts_val:\n",
    "    temp=[]\n",
    "    for word in text:\n",
    "        try:\n",
    "            temp.append(word_index_f2_val[word])\n",
    "        except:\n",
    "            continue\n",
    "    all_val_dif.append(temp)\n",
    "\n",
    "all_val=[]\n",
    "for text in list_posts_val:\n",
    "    temp=[]\n",
    "    for word in text:\n",
    "        try:\n",
    "            temp.append(word_index_f2[word])\n",
    "        except:\n",
    "            continue\n",
    "    all_val.append(temp)\n"
   ]
  },
  {
   "cell_type": "code",
   "execution_count": 144,
   "metadata": {},
   "outputs": [
    {
     "name": "stdout",
     "output_type": "stream",
     "text": [
      "[[326, 877, 3106, 319, 674, 16, 254, 1709, 469, 16, 211, 87, 1254, 467, 319, 903, 469, 23], [282, 202, 852, 47, 151, 2037, 255, 2400, 47, 596, 72, 48, 53, 79, 41, 157, 159, 40, 44, 47, 52, 72, 2307, 960, 113, 1217]]\n",
      "[['asa', 'akira', 'ava', 'lauren', 'beach', 'sex', 'free', 'porn', 'video', 'french', 'anal', 'ftm', 'porn', 'fuck', 'me', 'hard', 'mature', 'sex', 'milf', 'anal', 'pokemon', 'hent'], ['this', 'is', 'why', 'you', 're', 'scared', 'of', 'karma', 'you', 'got', 'to', 'know', 'it', 's', 'gonna', 'be', 'a', 'bitch', 'what', 'you', 'do', 'to', 'our', 'baby', 'will', 'happen']]\n"
     ]
    }
   ],
   "source": [
    "x_new_val=all_val#.copy()\n",
    "print(x_new_val[0:2])\n",
    "print (list_posts_val[:2])"
   ]
  },
  {
   "cell_type": "code",
   "execution_count": 145,
   "metadata": {},
   "outputs": [
    {
     "name": "stdout",
     "output_type": "stream",
     "text": [
      "(632, 32)\n"
     ]
    }
   ],
   "source": [
    "X_val_ig = sequence.pad_sequences(x_new_val,maxlen=max_input_lenght,padding='post',value=0)\n",
    "print (np.asarray(X_val_ig).shape)"
   ]
  },
  {
   "cell_type": "code",
   "execution_count": 146,
   "metadata": {},
   "outputs": [
    {
     "data": {
      "text/plain": [
       "(632, 3)"
      ]
     },
     "execution_count": 146,
     "metadata": {},
     "output_type": "execute_result"
    }
   ],
   "source": [
    "y_val_f2=np.asarray(np.asarray(df_val_f2.values)[:,-3:],dtype='float32')\n",
    "y_val_mu=[] #123\n",
    "for array in y_val_f2:\n",
    "    y_val_mu.append(np.argmax(array))\n",
    "y_val_mul=to_categorical(y_val_mu,num_classes=3)\n",
    "y_val_mul.shape#one hot"
   ]
  },
  {
   "cell_type": "code",
   "execution_count": 161,
   "metadata": {},
   "outputs": [
    {
     "name": "stdout",
     "output_type": "stream",
     "text": [
      "[(0, 71), (1, 36), (2, 525)]\n"
     ]
    },
    {
     "data": {
      "image/png": "[encoded data removed]",
      "text/plain": [
       "<matplotlib.figure.Figure at 0x7f57082ea8d0>"
      ]
     },
     "metadata": {},
     "output_type": "display_data"
    }
   ],
   "source": [
    "c = Counter(y_val_mu)\n",
    "c = sorted(c.items())\n",
    "print (c)\n",
    "clases=['Indirect','Physical','Sexual']\n",
    "class_num = [i[0] for i in c]\n",
    "class_names = [clases[i[0]-1] for i in c]\n",
    "freq = [i[1] for i in c]\n",
    "#plt.bar(y_train_mu)\n",
    "\n",
    "f, ax = plt.subplots(figsize=(8,5))\n",
    "plt.bar(class_num, freq)\n",
    "plt.title(\"# ataques por clase de acoso VAL SET\")\n",
    "plt.xlabel(\"Tipo de acoso\")\n",
    "plt.ylabel(\"Frequencia\")\n",
    "ax.set_xticks(range(0, 3))\n",
    "ax.set_xticklabels(clases)\n",
    "\n",
    "plt.show()"
   ]
  },
  {
   "cell_type": "code",
   "execution_count": 150,
   "metadata": {},
   "outputs": [
    {
     "data": {
      "text/plain": [
       "<matplotlib.axes._subplots.AxesSubplot at 0x7f5707ef4780>"
      ]
     },
     "execution_count": 150,
     "metadata": {},
     "output_type": "execute_result"
    },
    {
     "data": {
      "image/png": "[encoded data removed]",
      "text/plain": [
       "<matplotlib.figure.Figure at 0x7f5707ef4630>"
      ]
     },
     "metadata": {},
     "output_type": "display_data"
    }
   ],
   "source": [
    "sns.countplot(y_train_f2.argmax(axis=1))"
   ]
  },
  {
   "cell_type": "code",
   "execution_count": 151,
   "metadata": {},
   "outputs": [
    {
     "data": {
      "text/plain": [
       "<matplotlib.axes._subplots.AxesSubplot at 0x7f5707e1c518>"
      ]
     },
     "execution_count": 151,
     "metadata": {},
     "output_type": "execute_result"
    },
    {
     "data": {
      "image/png": "[encoded data removed]",
      "text/plain": [
       "<matplotlib.figure.Figure at 0x7f5707e1ae48>"
      ]
     },
     "metadata": {},
     "output_type": "display_data"
    }
   ],
   "source": [
    "sns.countplot(y_val_f2.argmax(axis=1))"
   ]
  },
  {
   "cell_type": "markdown",
   "metadata": {},
   "source": [
    "### Conv 1"
   ]
  },
  {
   "cell_type": "code",
   "execution_count": 152,
   "metadata": {
    "scrolled": true
   },
   "outputs": [
    {
     "name": "stdout",
     "output_type": "stream",
     "text": [
      "Train on 2713 samples, validate on 632 samples\n",
      "Epoch 1/20\n",
      "2713/2713 [==============================] - 5s 2ms/step - loss: 1.1037 - acc: 0.2919 - val_loss: 1.2060 - val_acc: 0.1582\n",
      "Epoch 2/20\n",
      "2713/2713 [==============================] - 4s 1ms/step - loss: 0.8245 - acc: 0.3358 - val_loss: 1.1105 - val_acc: 0.2326\n",
      "Epoch 3/20\n",
      "2713/2713 [==============================] - 4s 1ms/step - loss: 0.7191 - acc: 0.3664 - val_loss: 1.1331 - val_acc: 0.2674\n",
      "Epoch 4/20\n",
      "2713/2713 [==============================] - 4s 1ms/step - loss: 0.6581 - acc: 0.3922 - val_loss: 1.3787 - val_acc: 0.2911\n",
      "Epoch 5/20\n",
      "2713/2713 [==============================] - 4s 1ms/step - loss: 0.6097 - acc: 0.4342 - val_loss: 1.2215 - val_acc: 0.3513\n",
      "Epoch 6/20\n",
      "2713/2713 [==============================] - 4s 1ms/step - loss: 0.5592 - acc: 0.4316 - val_loss: 1.2675 - val_acc: 0.3956\n",
      "Epoch 7/20\n",
      "2713/2713 [==============================] - 4s 1ms/step - loss: 0.5501 - acc: 0.4254 - val_loss: 1.2337 - val_acc: 0.4810\n",
      "Epoch 8/20\n",
      "2713/2713 [==============================] - 4s 1ms/step - loss: 0.4787 - acc: 0.4630 - val_loss: 1.2603 - val_acc: 0.5443\n",
      "Epoch 9/20\n",
      "2713/2713 [==============================] - 4s 1ms/step - loss: 0.3771 - acc: 0.4888 - val_loss: 1.3893 - val_acc: 0.4921\n",
      "Epoch 10/20\n",
      "2713/2713 [==============================] - 4s 1ms/step - loss: 0.4720 - acc: 0.4703 - val_loss: 1.3020 - val_acc: 0.6028\n",
      "Epoch 11/20\n",
      "2713/2713 [==============================] - 4s 1ms/step - loss: 0.3254 - acc: 0.5024 - val_loss: 1.2950 - val_acc: 0.6266\n",
      "Epoch 12/20\n",
      "2713/2713 [==============================] - 4s 1ms/step - loss: 0.3017 - acc: 0.5393 - val_loss: 1.4057 - val_acc: 0.7009\n",
      "Epoch 13/20\n",
      "2713/2713 [==============================] - 4s 1ms/step - loss: 0.3535 - acc: 0.5728 - val_loss: 1.4139 - val_acc: 0.7152\n",
      "Epoch 14/20\n",
      "2713/2713 [==============================] - 4s 1ms/step - loss: 0.2827 - acc: 0.5492 - val_loss: 1.4942 - val_acc: 0.7294\n",
      "Epoch 15/20\n",
      "2713/2713 [==============================] - 4s 1ms/step - loss: 0.2668 - acc: 0.5547 - val_loss: 1.5698 - val_acc: 0.7563\n",
      "Epoch 16/20\n",
      "2713/2713 [==============================] - 4s 1ms/step - loss: 0.2433 - acc: 0.5931 - val_loss: 1.7220 - val_acc: 0.7848\n",
      "Epoch 17/20\n",
      "2713/2713 [==============================] - 4s 1ms/step - loss: 0.2618 - acc: 0.6244 - val_loss: 1.8089 - val_acc: 0.8038\n",
      "Epoch 18/20\n",
      "2713/2713 [==============================] - 4s 1ms/step - loss: 0.1966 - acc: 0.6465 - val_loss: 1.9667 - val_acc: 0.8180\n",
      "Epoch 19/20\n",
      "2713/2713 [==============================] - 4s 1ms/step - loss: 0.1797 - acc: 0.6613 - val_loss: 2.0976 - val_acc: 0.8259\n",
      "Epoch 20/20\n",
      "2713/2713 [==============================] - 4s 1ms/step - loss: 0.1969 - acc: 0.6760 - val_loss: 2.3843 - val_acc: 0.8465\n"
     ]
    }
   ],
   "source": [
    "embedding_vector=200\n",
    "embedding_layer = Embedding(input_dim=len(word_index_f2.keys())+1,output_dim=embedding_vector,weights=[embedding_matrix_f2],\n",
    "                     input_length=max_input_lenght,trainable=False)\n",
    "\n",
    "sequence_input = Input(shape=(max_input_lenght,))\n",
    "embedded_sequences = embedding_layer(sequence_input)\n",
    "batch = BatchNormalization()(embedded_sequences)\n",
    "cov1= Conv1D(128, 5, activation='relu',padding='same')(batch)\n",
    "pool = MaxPooling1D(pool_size=3)(cov1)    \n",
    "batch = BatchNormalization()(pool)\n",
    "drop = Dropout(0.65)(batch)\n",
    "cov1= Conv1D(64, 5, activation='relu',padding='same')(drop)\n",
    "pool = MaxPooling1D(pool_size=3)(cov1)\n",
    "batch = BatchNormalization()(pool)\n",
    "drop = Dropout(0.65)(batch)\n",
    "flat = Flatten()(drop)\n",
    "preds = Dense(100, activation='relu')(flat)\n",
    "preds = BatchNormalization()(preds)\n",
    "preds = Dense(3, activation='softmax')(preds)\n",
    "model = Model(sequence_input, preds)\n",
    "model.compile(loss=focal_loss(2,weights=class_weights_f2),optimizer='adam',metrics=['acc'])\n",
    "history = model.fit(X_train_f2, y_train_mul,batch_size=64,epochs=20,verbose=1,validation_data=(X_val_ig,y_val_mul),class_weight=class_weights_f2)   \n",
    "\n"
   ]
  },
  {
   "cell_type": "code",
   "execution_count": 153,
   "metadata": {},
   "outputs": [
    {
     "name": "stdout",
     "output_type": "stream",
     "text": [
      "[2 2 2 2 2]\n",
      "Accuracy sobre validacion: 0.8465189873417721\n",
      "F1-score None sobre validación: [0.41818182 0.         0.91592129]\n",
      "F1-score macro sobre validación: 0.4447010353987098\n",
      "Precision None sobre validación: [0.58974359 0.         0.86340641]\n",
      "Recall None sobre validación: [0.32394366 0.         0.9752381 ]\n"
     ]
    },
    {
     "data": {
      "image/png": "[encoded data removed]",
      "text/plain": [
       "<matplotlib.figure.Figure at 0x7f5707b15b38>"
      ]
     },
     "metadata": {},
     "output_type": "display_data"
    }
   ],
   "source": [
    "trainPredict = model.predict(X_val_ig, batch_size=64).argmax(axis=-1)\n",
    "print (trainPredict[:5])\n",
    "acc_val= accuracy_score(y_val_mu, trainPredict)\n",
    "f1_val=f1_score(y_val_mu, trainPredict, average=None)  # labels=np.unique(trainPredict)\n",
    "f1_val_ma=f1_score(y_val_mu, trainPredict, average='macro')  # labels=np.unique(trainPredict)\n",
    "rec=recall_score(y_val_mu, trainPredict, average=None) \n",
    "pre=precision_score(y_val_mu, trainPredict, average=None) \n",
    "matriz_val=confusion_matrix(y_val_mu, trainPredict)\n",
    "\n",
    "print (\"Accuracy sobre validacion:\",acc_val)  \n",
    "print (\"F1-score None sobre validación:\",f1_val)\n",
    "print (\"F1-score macro sobre validación:\",f1_val_ma)\n",
    "print (\"Precision None sobre validación:\",pre)\n",
    "print (\"Recall None sobre validación:\",rec)\n",
    "\n",
    "plot_confusion_matrix(normalize(matriz_val,axis=1,norm='l1'),['Indirect','Physical','Sexual'],\"Confusion Matrix Caso Multiclass + Focal Loss\")"
   ]
  },
  {
   "cell_type": "code",
   "execution_count": 172,
   "metadata": {},
   "outputs": [],
   "source": [
    "embedding_vector=200\n",
    "embedding_layer = Embedding(input_dim=len(word_index_f2.keys())+1,output_dim=embedding_vector,weights=[embedding_matrix_f2],\n",
    "                     input_length=max_input_lenght,trainable=False)\n",
    "\n",
    "sequence_input = Input(shape=(max_input_lenght,))\n",
    "embedded_sequences = embedding_layer(sequence_input)\n",
    "\n",
    "batch = BatchNormalization()(embedded_sequences)\n",
    "cov1= Conv1D(128, 5, activation='relu',padding='same')(batch)\n",
    "pool = MaxPooling1D(pool_size=3)(cov1)    \n",
    "batch = BatchNormalization()(pool)\n",
    "drop = Dropout(0.65)(batch)\n",
    "cov1= Conv1D(64, 5, activation='relu',padding='same')(drop)\n",
    "pool = MaxPooling1D(pool_size=3)(cov1)\n",
    "batch = BatchNormalization()(pool)\n",
    "drop = Dropout(0.65)(batch)\n",
    "flat = Flatten()(drop)\n",
    "preds = Dense(128, activation='relu')(flat)\n",
    "preds = BatchNormalization()(preds)\n",
    "preds= Dropout(0.3)(preds)\n",
    "preds = Dense(3, activation='softmax')(preds)\n",
    "model2 = Model(sequence_input, preds)\n",
    "model2.compile(loss=focal_loss(2,weights=class_weights_f2),optimizer='adam',metrics=['acc'])"
   ]
  },
  {
   "cell_type": "code",
   "execution_count": 173,
   "metadata": {
    "scrolled": true
   },
   "outputs": [
    {
     "name": "stdout",
     "output_type": "stream",
     "text": [
      "Train on 2713 samples, validate on 632 samples\n",
      "Epoch 1/20\n",
      "2713/2713 [==============================] - 7s 3ms/step - loss: 1.3753 - acc: 0.3509 - val_loss: 1.1816 - val_acc: 0.1899\n",
      "Epoch 2/20\n",
      "2713/2713 [==============================] - 4s 1ms/step - loss: 0.9664 - acc: 0.3524 - val_loss: 1.0859 - val_acc: 0.1915\n",
      "Epoch 3/20\n",
      "2713/2713 [==============================] - 4s 1ms/step - loss: 0.9278 - acc: 0.3730 - val_loss: 1.0124 - val_acc: 0.2104\n",
      "Epoch 4/20\n",
      "2713/2713 [==============================] - 4s 1ms/step - loss: 0.8122 - acc: 0.3985 - val_loss: 1.0180 - val_acc: 0.2405\n",
      "Epoch 5/20\n",
      "2713/2713 [==============================] - 4s 1ms/step - loss: 0.6574 - acc: 0.4202 - val_loss: 0.9689 - val_acc: 0.2816\n",
      "Epoch 6/20\n",
      "2713/2713 [==============================] - 4s 1ms/step - loss: 0.7564 - acc: 0.4419 - val_loss: 0.9328 - val_acc: 0.3054\n",
      "Epoch 7/20\n",
      "2713/2713 [==============================] - 4s 1ms/step - loss: 0.7087 - acc: 0.4305 - val_loss: 0.9894 - val_acc: 0.4177\n",
      "Epoch 8/20\n",
      "2713/2713 [==============================] - 4s 1ms/step - loss: 0.6312 - acc: 0.4349 - val_loss: 1.0496 - val_acc: 0.4589\n",
      "Epoch 9/20\n",
      "2713/2713 [==============================] - 4s 1ms/step - loss: 0.5547 - acc: 0.4445 - val_loss: 0.9871 - val_acc: 0.5032\n",
      "Epoch 10/20\n",
      "2713/2713 [==============================] - 4s 1ms/step - loss: 0.6361 - acc: 0.4383 - val_loss: 0.9291 - val_acc: 0.4763\n",
      "Epoch 11/20\n",
      "2713/2713 [==============================] - 4s 1ms/step - loss: 0.5186 - acc: 0.4504 - val_loss: 1.1010 - val_acc: 0.6092\n",
      "Epoch 12/20\n",
      "2713/2713 [==============================] - 4s 1ms/step - loss: 0.5196 - acc: 0.4700 - val_loss: 0.9365 - val_acc: 0.5443\n",
      "Epoch 13/20\n",
      "2713/2713 [==============================] - 4s 1ms/step - loss: 0.4763 - acc: 0.4666 - val_loss: 1.2420 - val_acc: 0.5965\n",
      "Epoch 14/20\n",
      "2713/2713 [==============================] - 4s 1ms/step - loss: 0.4418 - acc: 0.4795 - val_loss: 1.1902 - val_acc: 0.6108\n",
      "Epoch 15/20\n",
      "2713/2713 [==============================] - 4s 1ms/step - loss: 0.3969 - acc: 0.4818 - val_loss: 1.2128 - val_acc: 0.6930\n",
      "Epoch 16/20\n",
      "2713/2713 [==============================] - 4s 1ms/step - loss: 0.3664 - acc: 0.5197 - val_loss: 1.2556 - val_acc: 0.6930\n",
      "Epoch 17/20\n",
      "2713/2713 [==============================] - 4s 1ms/step - loss: 0.3326 - acc: 0.5404 - val_loss: 1.2701 - val_acc: 0.7532\n",
      "Epoch 18/20\n",
      "2713/2713 [==============================] - 4s 1ms/step - loss: 0.2944 - acc: 0.5422 - val_loss: 1.3451 - val_acc: 0.7674\n",
      "Epoch 19/20\n",
      "2713/2713 [==============================] - 4s 1ms/step - loss: 0.3550 - acc: 0.5680 - val_loss: 1.4592 - val_acc: 0.8022\n",
      "Epoch 20/20\n",
      "2713/2713 [==============================] - 4s 1ms/step - loss: 0.3307 - acc: 0.5713 - val_loss: 1.3529 - val_acc: 0.7785\n"
     ]
    }
   ],
   "source": [
    "history = model2.fit(X_train_f2, y_train_mul,batch_size=64,epochs=20,verbose=1,validation_data=(X_val_ig,y_val_mul),class_weight=class_weights_f2)   "
   ]
  },
  {
   "cell_type": "code",
   "execution_count": 174,
   "metadata": {},
   "outputs": [
    {
     "name": "stdout",
     "output_type": "stream",
     "text": [
      "[2 1 2 2 2]\n",
      "Accuracy sobre validacion: 0.7784810126582279\n",
      "F1-score None sobre validación: [0.40223464 0.14285714 0.87852284]\n",
      "F1-score macro sobre validación: 0.47453820581172074\n",
      "Precision None sobre validación: [0.33333333 0.2        0.8968254 ]\n",
      "Recall None sobre validación: [0.50704225 0.11111111 0.86095238]\n"
     ]
    },
    {
     "data": {
      "image/png": "[encoded data removed]",
      "text/plain": [
       "<matplotlib.figure.Figure at 0x7f5700cb7390>"
      ]
     },
     "metadata": {},
     "output_type": "display_data"
    }
   ],
   "source": [
    "trainPredict = model2.predict(X_val_ig, batch_size=64).argmax(axis=-1)\n",
    "print (trainPredict[:5])\n",
    "acc_val= accuracy_score(y_val_mu, trainPredict)\n",
    "f1_val=f1_score(y_val_mu, trainPredict, average=None)  # labels=np.unique(trainPredict)\n",
    "f1_val_ma=f1_score(y_val_mu, trainPredict, average='macro')  # labels=np.unique(trainPredict)\n",
    "rec=recall_score(y_val_mu, trainPredict, average=None) \n",
    "pre=precision_score(y_val_mu, trainPredict, average=None) \n",
    "matriz_val=confusion_matrix(y_val_mu, trainPredict)\n",
    "\n",
    "print (\"Accuracy sobre validacion:\",acc_val)  \n",
    "print (\"F1-score None sobre validación:\",f1_val)\n",
    "print (\"F1-score macro sobre validación:\",f1_val_ma)\n",
    "print (\"Precision None sobre validación:\",pre)\n",
    "print (\"Recall None sobre validación:\",rec)\n",
    "\n",
    "plot_confusion_matrix(normalize(matriz_val,axis=1,norm='l1'),['Indirect','Physical','Sexual'],\"Confusion Matrix Caso Multiclass + Focal Loss\")"
   ]
  },
  {
   "cell_type": "markdown",
   "metadata": {},
   "source": [
    "### Utilizando recurrentes"
   ]
  },
  {
   "cell_type": "code",
   "execution_count": null,
   "metadata": {},
   "outputs": [],
   "source": []
  }
 ],
 "metadata": {
  "kernelspec": {
   "display_name": "Python 3",
   "language": "python",
   "name": "python3"
  },
  "language_info": {
   "codemirror_mode": {
    "name": "ipython",
    "version": 3
   },
   "file_extension": ".py",
   "mimetype": "text/x-python",
   "name": "python",
   "nbconvert_exporter": "python",
   "pygments_lexer": "ipython3",
   "version": "3.6.4"
  }
 },
 "nbformat": 4,
 "nbformat_minor": 2
}
