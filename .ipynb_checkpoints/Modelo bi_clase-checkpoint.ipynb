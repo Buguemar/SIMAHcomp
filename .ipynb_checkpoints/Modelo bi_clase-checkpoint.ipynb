{
 "cells": [
  {
   "cell_type": "code",
   "execution_count": 1,
   "metadata": {},
   "outputs": [
    {
     "name": "stderr",
     "output_type": "stream",
     "text": [
      "Using TensorFlow backend.\n"
     ]
    }
   ],
   "source": [
    "import sys\n",
    "import warnings\n",
    "#from torchtext import data\n",
    "\n",
    "if not sys.warnoptions:\n",
    "    warnings.simplefilter(\"ignore\")\n",
    "    \n",
    "import numpy as np\n",
    "import torch\n",
    "import torch.nn as nn\n",
    "import torch.nn.functional as F\n",
    "import math, copy, time\n",
    "from torch.autograd import Variable\n",
    "import matplotlib.pyplot as plt\n",
    "import seaborn\n",
    "seaborn.set_context(context=\"talk\")\n",
    "%matplotlib inline\n",
    "\n",
    "from keras import backend as K\n",
    "import keras\n",
    "import os, re, sys\n",
    "import pandas as pd\n",
    "from keras.utils import to_categorical\n",
    "import ast\n",
    "from sklearn.utils import class_weight\n",
    "from keras.preprocessing import sequence\n",
    "from keras.models import load_model\n",
    "import torch.nn.functional as F\n",
    "from sklearn.metrics import accuracy_score, f1_score, precision_score, recall_score\n",
    "\n",
    "from nltk.corpus import stopwords\n",
    "from bs4 import BeautifulSoup\n",
    "from nltk import WordNetLemmatizer\n",
    "import itertools\n",
    "from collections import Counter\n",
    "from os import listdir\n",
    "from os.path import isfile, join\n",
    "import  json\n"
   ]
  },
  {
   "cell_type": "markdown",
   "metadata": {},
   "source": [
    "## Generación de data Train/Val/test"
   ]
  },
  {
   "cell_type": "code",
   "execution_count": 2,
   "metadata": {},
   "outputs": [],
   "source": [
    "stoplist = stopwords.words('english')\n",
    "lemmatizer=WordNetLemmatizer()\n",
    "\n",
    "emoji_pattern = re.compile(\"[\"\n",
    "        u\"\\U0001F600-\\U0001F64F\"  # emoticons\n",
    "        u\"\\U0001F300-\\U0001F5FF\"  # symbols & pictographs\n",
    "        u\"\\U0001F680-\\U0001F6FF\"  # transport & map symbols\n",
    "        u\"\\U0001F1E0-\\U0001F1FF\"  # flags (iOS)\n",
    "                           \"]+\", flags=re.UNICODE)\n",
    "\n",
    "def cleaner(post):       \n",
    "    s= re.sub(r\"http\\S+\", \" <url> \", post)   ##########elimina http    \n",
    "    s= re.sub(r'#\\w+ ?', \" <hashtag> \", s) ########3\n",
    "    s= re.sub(r'@\\w+ ?', \" <user> \", s)##############    \n",
    "    s= s.lower()\n",
    "    s = re.sub(r\"-\", \" - \", s)\n",
    "    s = re.sub(r\"\\(\", \" \", s)\n",
    "    s = re.sub(r\"\\)\", \" \", s)\n",
    "    s = re.sub(r\"\\?\", \" ? \", s)    \n",
    "    s = re.sub(r\"\\/\", \" \", s)\n",
    "    s = re.sub(r\"' \", \" ' \", s)\n",
    "    s = re.sub(r\" '\", \" ' \", s)\n",
    "    s = re.sub(r\"\\!\", \" ! \", s)\n",
    "    s=re.sub(\"[\\.]+\", \" . \", s)\n",
    "    s=re.sub(\"[\\,]+\", \" , \", s)\n",
    "    s=re.sub(\"[\\;]+\", \" ; \", s)\n",
    "    s=re.sub(\"[\\:]+\", \" : \", s)\n",
    "    s=re.sub('[\\\"]+', ' \" ', s)\n",
    "    s=re.sub(r'\\b[0-9]\\b', \" <number> \",  s)\n",
    "    s=re.sub(r'\\b[0-9][0-9]\\b', \" <number> \",  s)\n",
    "    s=re.sub(r'\\b[0-9][0-9][0-9]\\b', \" <number> \",  s)\n",
    "    s=re.sub(r'\\b[0-9][0-9][0-9][0-9]\\b', \" <number> \",  s)\n",
    "    s=emoji_pattern.sub(r'', s)\n",
    "    s= list(s.split())\n",
    "    s=[lemmatizer.lemmatize(token) for token in s]\n",
    "        \n",
    "    return s"
   ]
  },
  {
   "cell_type": "code",
   "execution_count": 3,
   "metadata": {},
   "outputs": [
    {
     "data": {
      "text/html": [
       "<div>\n",
       "<style scoped>\n",
       "    .dataframe tbody tr th:only-of-type {\n",
       "        vertical-align: middle;\n",
       "    }\n",
       "\n",
       "    .dataframe tbody tr th {\n",
       "        vertical-align: top;\n",
       "    }\n",
       "\n",
       "    .dataframe thead th {\n",
       "        text-align: right;\n",
       "    }\n",
       "</style>\n",
       "<table border=\"1\" class=\"dataframe\">\n",
       "  <thead>\n",
       "    <tr style=\"text-align: right;\">\n",
       "      <th></th>\n",
       "      <th>Unnamed: 0</th>\n",
       "      <th>tweet_content</th>\n",
       "      <th>harassment</th>\n",
       "      <th>IndirectH</th>\n",
       "      <th>PhysicalH</th>\n",
       "      <th>SexualH</th>\n",
       "    </tr>\n",
       "  </thead>\n",
       "  <tbody>\n",
       "    <tr>\n",
       "      <th>0</th>\n",
       "      <td>0</td>\n",
       "      <td>pics mexican school girl naked melanie safka f...</td>\n",
       "      <td>1</td>\n",
       "      <td>0</td>\n",
       "      <td>0</td>\n",
       "      <td>1</td>\n",
       "    </tr>\n",
       "    <tr>\n",
       "      <th>1</th>\n",
       "      <td>1</td>\n",
       "      <td>RT shereiqns Having curly hair is a gotdamn ch...</td>\n",
       "      <td>0</td>\n",
       "      <td>0</td>\n",
       "      <td>0</td>\n",
       "      <td>0</td>\n",
       "    </tr>\n",
       "    <tr>\n",
       "      <th>2</th>\n",
       "      <td>2</td>\n",
       "      <td>BreakingNews 7 Unexplained Prisoners Deaths M...</td>\n",
       "      <td>0</td>\n",
       "      <td>0</td>\n",
       "      <td>0</td>\n",
       "      <td>0</td>\n",
       "    </tr>\n",
       "    <tr>\n",
       "      <th>3</th>\n",
       "      <td>3</td>\n",
       "      <td>girl dirty quarterback latino pokemon young h...</td>\n",
       "      <td>1</td>\n",
       "      <td>0</td>\n",
       "      <td>0</td>\n",
       "      <td>1</td>\n",
       "    </tr>\n",
       "    <tr>\n",
       "      <th>4</th>\n",
       "      <td>4</td>\n",
       "      <td>miliondollameat sexting n ngirl daddy n nme l...</td>\n",
       "      <td>1</td>\n",
       "      <td>0</td>\n",
       "      <td>0</td>\n",
       "      <td>1</td>\n",
       "    </tr>\n",
       "  </tbody>\n",
       "</table>\n",
       "</div>"
      ],
      "text/plain": [
       "   Unnamed: 0                                      tweet_content  harassment  \\\n",
       "0           0  pics mexican school girl naked melanie safka f...           1   \n",
       "1           1  RT shereiqns Having curly hair is a gotdamn ch...           0   \n",
       "2           2   BreakingNews 7 Unexplained Prisoners Deaths M...           0   \n",
       "3           3   girl dirty quarterback latino pokemon young h...           1   \n",
       "4           4   miliondollameat sexting n ngirl daddy n nme l...           1   \n",
       "\n",
       "   IndirectH  PhysicalH  SexualH  \n",
       "0          0          0        1  \n",
       "1          0          0        0  \n",
       "2          0          0        0  \n",
       "3          0          0        1  \n",
       "4          0          0        1  "
      ]
     },
     "execution_count": 3,
     "metadata": {},
     "output_type": "execute_result"
    }
   ],
   "source": [
    "df_train=pd.read_csv(\"Train_data_compeition.csv\")\n",
    "df_val=pd.read_csv(\"Validation_data_competition.csv\")\n",
    "df_test=pd.read_csv(\"testset-competition.csv\")\n",
    "df_train.head()"
   ]
  },
  {
   "cell_type": "code",
   "execution_count": 4,
   "metadata": {},
   "outputs": [
    {
     "data": {
      "text/html": [
       "<div>\n",
       "<style scoped>\n",
       "    .dataframe tbody tr th:only-of-type {\n",
       "        vertical-align: middle;\n",
       "    }\n",
       "\n",
       "    .dataframe tbody tr th {\n",
       "        vertical-align: top;\n",
       "    }\n",
       "\n",
       "    .dataframe thead th {\n",
       "        text-align: right;\n",
       "    }\n",
       "</style>\n",
       "<table border=\"1\" class=\"dataframe\">\n",
       "  <thead>\n",
       "    <tr style=\"text-align: right;\">\n",
       "      <th></th>\n",
       "      <th>Unnamed: 0</th>\n",
       "      <th>harassment</th>\n",
       "      <th>IndirectH</th>\n",
       "      <th>PhysicalH</th>\n",
       "      <th>SexualH</th>\n",
       "    </tr>\n",
       "  </thead>\n",
       "  <tbody>\n",
       "    <tr>\n",
       "      <th>count</th>\n",
       "      <td>6374.00000</td>\n",
       "      <td>6374.000000</td>\n",
       "      <td>6374.000000</td>\n",
       "      <td>6374.000000</td>\n",
       "      <td>6374.000000</td>\n",
       "    </tr>\n",
       "    <tr>\n",
       "      <th>mean</th>\n",
       "      <td>3186.50000</td>\n",
       "      <td>0.425635</td>\n",
       "      <td>0.008629</td>\n",
       "      <td>0.011923</td>\n",
       "      <td>0.405083</td>\n",
       "    </tr>\n",
       "    <tr>\n",
       "      <th>std</th>\n",
       "      <td>1840.15964</td>\n",
       "      <td>0.494478</td>\n",
       "      <td>0.092497</td>\n",
       "      <td>0.108550</td>\n",
       "      <td>0.490947</td>\n",
       "    </tr>\n",
       "    <tr>\n",
       "      <th>min</th>\n",
       "      <td>0.00000</td>\n",
       "      <td>0.000000</td>\n",
       "      <td>0.000000</td>\n",
       "      <td>0.000000</td>\n",
       "      <td>0.000000</td>\n",
       "    </tr>\n",
       "    <tr>\n",
       "      <th>25%</th>\n",
       "      <td>1593.25000</td>\n",
       "      <td>0.000000</td>\n",
       "      <td>0.000000</td>\n",
       "      <td>0.000000</td>\n",
       "      <td>0.000000</td>\n",
       "    </tr>\n",
       "    <tr>\n",
       "      <th>50%</th>\n",
       "      <td>3186.50000</td>\n",
       "      <td>0.000000</td>\n",
       "      <td>0.000000</td>\n",
       "      <td>0.000000</td>\n",
       "      <td>0.000000</td>\n",
       "    </tr>\n",
       "    <tr>\n",
       "      <th>75%</th>\n",
       "      <td>4779.75000</td>\n",
       "      <td>1.000000</td>\n",
       "      <td>0.000000</td>\n",
       "      <td>0.000000</td>\n",
       "      <td>1.000000</td>\n",
       "    </tr>\n",
       "    <tr>\n",
       "      <th>max</th>\n",
       "      <td>6373.00000</td>\n",
       "      <td>1.000000</td>\n",
       "      <td>1.000000</td>\n",
       "      <td>1.000000</td>\n",
       "      <td>1.000000</td>\n",
       "    </tr>\n",
       "  </tbody>\n",
       "</table>\n",
       "</div>"
      ],
      "text/plain": [
       "       Unnamed: 0   harassment    IndirectH    PhysicalH      SexualH\n",
       "count  6374.00000  6374.000000  6374.000000  6374.000000  6374.000000\n",
       "mean   3186.50000     0.425635     0.008629     0.011923     0.405083\n",
       "std    1840.15964     0.494478     0.092497     0.108550     0.490947\n",
       "min       0.00000     0.000000     0.000000     0.000000     0.000000\n",
       "25%    1593.25000     0.000000     0.000000     0.000000     0.000000\n",
       "50%    3186.50000     0.000000     0.000000     0.000000     0.000000\n",
       "75%    4779.75000     1.000000     0.000000     0.000000     1.000000\n",
       "max    6373.00000     1.000000     1.000000     1.000000     1.000000"
      ]
     },
     "execution_count": 4,
     "metadata": {},
     "output_type": "execute_result"
    }
   ],
   "source": [
    "df_train.describe()"
   ]
  },
  {
   "cell_type": "code",
   "execution_count": 5,
   "metadata": {},
   "outputs": [
    {
     "name": "stdout",
     "output_type": "stream",
     "text": [
      "conteo de tweets clase Harassment Counter({0: 3661, 1: 2713})\n",
      "conteo de tweets clase IndirectH Counter({0: 6319, 1: 55})\n",
      "conteo de tweets clase PhysicalH Counter({0: 6298, 1: 76})\n",
      "conteo de tweets clase SexualH Counter({0: 3792, 1: 2582})\n"
     ]
    }
   ],
   "source": [
    "from collections import Counter\n",
    "print (\"conteo de tweets clase Harassment\",Counter(df_train['harassment']))\n",
    "print (\"conteo de tweets clase IndirectH\",Counter(df_train['IndirectH']))\n",
    "print (\"conteo de tweets clase PhysicalH\",Counter(df_train['PhysicalH']))\n",
    "print (\"conteo de tweets clase SexualH\",Counter(df_train['SexualH']))"
   ]
  },
  {
   "cell_type": "code",
   "execution_count": 6,
   "metadata": {},
   "outputs": [
    {
     "data": {
      "text/plain": [
       "array([1, 0, 0, 1, 1, 0, 1, 1, 0, 0, 0, 1, 0, 1, 1, 0, 0, 1, 0, 0])"
      ]
     },
     "execution_count": 6,
     "metadata": {},
     "output_type": "execute_result"
    }
   ],
   "source": [
    "y_train_bi=df_train['harassment'].values\n",
    "y_train_bi[:20]\n",
    "#labels_mul= 0:non-harassment, 1:harassment, 2:IndirectH, 3:PhysicalH, 4:SexualH\n"
   ]
  },
  {
   "cell_type": "code",
   "execution_count": 7,
   "metadata": {},
   "outputs": [
    {
     "data": {
      "text/plain": [
       "numpy.ndarray"
      ]
     },
     "execution_count": 7,
     "metadata": {},
     "output_type": "execute_result"
    }
   ],
   "source": [
    "type(y_train_bi)"
   ]
  },
  {
   "cell_type": "code",
   "execution_count": 8,
   "metadata": {},
   "outputs": [
    {
     "name": "stdout",
     "output_type": "stream",
     "text": [
      "[[0. 1.]\n",
      " [1. 0.]\n",
      " [1. 0.]\n",
      " [0. 1.]\n",
      " [0. 1.]\n",
      " [1. 0.]\n",
      " [0. 1.]\n",
      " [0. 1.]\n",
      " [1. 0.]\n",
      " [1. 0.]]\n"
     ]
    },
    {
     "data": {
      "text/plain": [
       "(6374, 2)"
      ]
     },
     "execution_count": 8,
     "metadata": {},
     "output_type": "execute_result"
    }
   ],
   "source": [
    "y_train_bic=to_categorical(y_train_bi,num_classes=2)\n",
    "print (y_train_bic[0:10])\n",
    "y_train_bic.shape"
   ]
  },
  {
   "cell_type": "code",
   "execution_count": 9,
   "metadata": {},
   "outputs": [
    {
     "data": {
      "text/plain": [
       "array([[0., 0., 0., 0., 1.],\n",
       "       [1., 0., 0., 0., 0.],\n",
       "       [1., 0., 0., 0., 0.],\n",
       "       ...,\n",
       "       [0., 0., 0., 0., 1.],\n",
       "       [1., 0., 0., 0., 0.],\n",
       "       [0., 0., 0., 0., 1.]])"
      ]
     },
     "execution_count": 9,
     "metadata": {},
     "output_type": "execute_result"
    }
   ],
   "source": [
    "ys=df_train.values[:,2:]\n",
    "\n",
    "y_train_mul=np.zeros((df_train.shape[0],5))\n",
    "i=0\n",
    "for label in ys:\n",
    "    if np.sum(label)==0:\n",
    "        y_train_mul[i][0]=1\n",
    "    else: \n",
    "        y_train_mul[i]=np.concatenate([[0,0],label[1:]])\n",
    "    i+=1\n",
    "y_train_mul"
   ]
  },
  {
   "cell_type": "code",
   "execution_count": 10,
   "metadata": {
    "scrolled": true
   },
   "outputs": [
    {
     "data": {
      "text/plain": [
       "array([[0., 0., 0., 0., 1.],\n",
       "       [1., 0., 0., 0., 0.],\n",
       "       [1., 0., 0., 0., 0.],\n",
       "       [0., 0., 0., 0., 1.],\n",
       "       [0., 0., 0., 0., 1.],\n",
       "       [1., 0., 0., 0., 0.],\n",
       "       [0., 0., 0., 0., 1.],\n",
       "       [0., 0., 0., 0., 1.],\n",
       "       [1., 0., 0., 0., 0.],\n",
       "       [1., 0., 0., 0., 0.],\n",
       "       [1., 0., 0., 0., 0.],\n",
       "       [0., 0., 0., 0., 1.],\n",
       "       [1., 0., 0., 0., 0.],\n",
       "       [0., 0., 0., 0., 1.],\n",
       "       [0., 0., 0., 0., 1.],\n",
       "       [1., 0., 0., 0., 0.],\n",
       "       [1., 0., 0., 0., 0.],\n",
       "       [0., 0., 0., 0., 1.],\n",
       "       [1., 0., 0., 0., 0.],\n",
       "       [1., 0., 0., 0., 0.]])"
      ]
     },
     "execution_count": 10,
     "metadata": {},
     "output_type": "execute_result"
    }
   ],
   "source": [
    "y_train_mul[:20]"
   ]
  },
  {
   "cell_type": "code",
   "execution_count": 11,
   "metadata": {},
   "outputs": [
    {
     "name": "stdout",
     "output_type": "stream",
     "text": [
      "[['pic', 'mexican', 'school', 'girl', 'naked', 'melanie', 'safka', 'fake', 'nude', 'photo', 'hardcore', 'slut', 'movie', 'alicia', 'moore', 'porn', 'star', 'toon', 'love'], ['rt', 'shereiqns', 'having', 'curly', 'hair', 'is', 'a', 'gotdamn', 'chore', 'do', 'not', 'let', 'the', 'internet', 'fool', 'you', 'ok'], ['breakingnews', '<number>', 'unexplained', 'prisoner', 'death', 'murder', 'amp', '<number>', 'attempted', 'suicide', 'samswey', 'shacking', 'sifill', 'ldf'], ['girl', 'dirty', 'quarterback', 'latino', 'pokemon', 'young', 'handjob', 'kissing', 'gangbang', 'w', 'x89', 't', 'co', 'wrm4xo00vj'], ['miliondollameat', 'sexting', 'n', 'ngirl', 'daddy', 'n', 'nme', 'listen', 'bitch', 'gonna', 'watch', 'these', 'what']]\n"
     ]
    }
   ],
   "source": [
    "data_train=[]\n",
    "for tw in df_train['tweet_content']:\n",
    "    data_train.append(cleaner(tw))\n",
    "print (data_train[:5])"
   ]
  },
  {
   "cell_type": "code",
   "execution_count": 13,
   "metadata": {},
   "outputs": [
    {
     "name": "stdout",
     "output_type": "stream",
     "text": [
      "Se encontraron 1193514 terminos con sus vectores de embedding.\n"
     ]
    }
   ],
   "source": [
    "embeddings_index = {}\n",
    "f = open(os.path.join(\"../glove.twitter.27B.200d.txt\"))#'glove.twitter.27B.100d.txt'))\n",
    "for line in f:\n",
    "    values = line.split()\n",
    "    word = values[0]\n",
    "    coefs = np.asarray(values[1:], dtype='float32')\n",
    "    embeddings_index[word] = coefs\n",
    "f.close()\n",
    "\n",
    "print('Se encontraron %s terminos con sus vectores de embedding.' % len(embeddings_index))"
   ]
  },
  {
   "cell_type": "code",
   "execution_count": 14,
   "metadata": {},
   "outputs": [
    {
     "data": {
      "text/plain": [
       "16188"
      ]
     },
     "execution_count": 14,
     "metadata": {},
     "output_type": "execute_result"
    }
   ],
   "source": [
    "word_index=dict()\n",
    "j=1\n",
    "for frase in data_train:\n",
    "    for term in frase:\n",
    "        if term not in word_index.keys():\n",
    "            word_index[term]=j\n",
    "            j+=1\n",
    "    \n",
    "len(word_index.keys())"
   ]
  },
  {
   "cell_type": "code",
   "execution_count": 15,
   "metadata": {},
   "outputs": [],
   "source": [
    "embedding_vector=200\n",
    "embedding_matrix = np.zeros((len(word_index.keys())+1, embedding_vector))   #puede probar otra inicialización\n",
    "\n",
    "for word, i in word_index.items():\n",
    "    embedding_vector = embeddings_index.get(word)\n",
    "    if embedding_vector is not None:\n",
    "        embedding_matrix[i] = embedding_vector\n",
    "\n"
   ]
  },
  {
   "cell_type": "code",
   "execution_count": 16,
   "metadata": {},
   "outputs": [
    {
     "data": {
      "text/plain": [
       "Counter({0: 3661, 1: 2713})"
      ]
     },
     "execution_count": 16,
     "metadata": {},
     "output_type": "execute_result"
    }
   ],
   "source": [
    "Counter(y_train_bi)"
   ]
  },
  {
   "cell_type": "code",
   "execution_count": 17,
   "metadata": {},
   "outputs": [
    {
     "name": "stdout",
     "output_type": "stream",
     "text": [
      "[0.87052718 1.17471434]\n"
     ]
    }
   ],
   "source": [
    "from sklearn.utils import class_weight\n",
    "\n",
    "class_weights = class_weight.compute_class_weight('balanced', np.unique(y_train_bi), y_train_bi)#{0: 3.,   1: 6.,   2: 5.,  3: 3.}\n",
    "print (class_weights)"
   ]
  },
  {
   "cell_type": "code",
   "execution_count": 18,
   "metadata": {},
   "outputs": [
    {
     "name": "stdout",
     "output_type": "stream",
     "text": [
      "[[1, 2, 3, 4, 5, 6, 7, 8, 9, 10, 11, 12, 13, 14, 15, 16, 17, 18, 19], [20, 21, 22, 23, 24, 25, 26, 27, 28, 29, 30, 31, 32, 33, 34, 35, 36]]\n",
      "['pic', 'mexican', 'school', 'girl', 'naked', 'melanie', 'safka', 'fake', 'nude', 'photo', 'hardcore', 'slut', 'movie', 'alicia', 'moore', 'porn', 'star', 'toon', 'love']\n",
      "['rt', 'shereiqns', 'having', 'curly', 'hair', 'is', 'a', 'gotdamn', 'chore', 'do', 'not', 'let', 'the', 'internet', 'fool', 'you', 'ok']\n"
     ]
    }
   ],
   "source": [
    "from keras.preprocessing import sequence\n",
    "\n",
    "x_new_train = [[word_index[word] for word in text] for text in data_train]\n",
    "print(x_new_train[0:2])\n",
    "\n",
    "print (data_train[0])\n",
    "print (data_train[1])"
   ]
  },
  {
   "cell_type": "code",
   "execution_count": 19,
   "metadata": {},
   "outputs": [
    {
     "data": {
      "text/plain": [
       "<matplotlib.axes._subplots.AxesSubplot at 0x7f37f3396438>"
      ]
     },
     "execution_count": 19,
     "metadata": {},
     "output_type": "execute_result"
    },
    {
     "data": {
      "image/png": "[encoded data removed]",
      "text/plain": [
       "<Figure size 432x288 with 1 Axes>"
      ]
     },
     "metadata": {},
     "output_type": "display_data"
    }
   ],
   "source": [
    "import seaborn as sns\n",
    "sns.boxplot(list(map(len,x_new_train)))"
   ]
  },
  {
   "cell_type": "code",
   "execution_count": 20,
   "metadata": {},
   "outputs": [
    {
     "name": "stdout",
     "output_type": "stream",
     "text": [
      "76\n"
     ]
    },
    {
     "data": {
      "text/plain": [
       "(6374, 76)"
      ]
     },
     "execution_count": 20,
     "metadata": {},
     "output_type": "execute_result"
    }
   ],
   "source": [
    "max_input_lenght = max(list(map(len,x_new_train))) #modificar este valor en base a su experimentación\n",
    "X_train = sequence.pad_sequences(x_new_train,maxlen=max_input_lenght,padding='post',value=0)\n",
    "print (max_input_lenght) \n",
    "X_train.shape"
   ]
  },
  {
   "cell_type": "markdown",
   "metadata": {},
   "source": [
    "#### Carga data Validación"
   ]
  },
  {
   "cell_type": "code",
   "execution_count": 21,
   "metadata": {},
   "outputs": [
    {
     "name": "stdout",
     "output_type": "stream",
     "text": [
      "conteo de tweets clase Harassment Counter({0: 1493, 1: 632})\n",
      "conteo de tweets clase IndirectH Counter({0: 2054, 1: 71})\n",
      "conteo de tweets clase PhysicalH Counter({0: 2089, 1: 36})\n",
      "conteo de tweets clase SexualH Counter({0: 1600, 1: 525})\n"
     ]
    },
    {
     "data": {
      "text/plain": [
       "array([0, 0, 1, 0, 1, 0, 0, 1, 0, 1, 1, 1, 1, 0, 0, 0, 0, 0, 1, 1])"
      ]
     },
     "execution_count": 21,
     "metadata": {},
     "output_type": "execute_result"
    }
   ],
   "source": [
    "print (\"conteo de tweets clase Harassment\",Counter(df_val['harassment']))\n",
    "print (\"conteo de tweets clase IndirectH\",Counter(df_val['IndirectH']))\n",
    "print (\"conteo de tweets clase PhysicalH\",Counter(df_val['PhysicalH']))\n",
    "print (\"conteo de tweets clase SexualH\",Counter(df_val['SexualH']))\n",
    "y_val_bin=df_val['harassment'].values\n",
    "y_val_bin[:20]"
   ]
  },
  {
   "cell_type": "code",
   "execution_count": 22,
   "metadata": {},
   "outputs": [
    {
     "data": {
      "text/plain": [
       "array([[1., 0., 0., 0., 0.],\n",
       "       [1., 0., 0., 0., 0.],\n",
       "       [0., 0., 0., 0., 1.],\n",
       "       ...,\n",
       "       [1., 0., 0., 0., 0.],\n",
       "       [1., 0., 0., 0., 0.],\n",
       "       [1., 0., 0., 0., 0.]])"
      ]
     },
     "execution_count": 22,
     "metadata": {},
     "output_type": "execute_result"
    }
   ],
   "source": [
    "ys_v=df_val.values[:,2:]\n",
    "\n",
    "y_val_mul=np.zeros((df_val.shape[0],5))\n",
    "i=0\n",
    "for label in ys_v:\n",
    "    if np.sum(label)==0:\n",
    "        y_val_mul[i][0]=1\n",
    "    else: \n",
    "        y_val_mul[i]=np.concatenate([[0,0],label[1:]])\n",
    "    i+=1\n",
    "y_val_mul"
   ]
  },
  {
   "cell_type": "code",
   "execution_count": 23,
   "metadata": {},
   "outputs": [
    {
     "name": "stdout",
     "output_type": "stream",
     "text": [
      "[['rt', 'glossphoenix', 'some', 'of', 'y', 'all', 'never', 'watched', 'collected', 'and', 'fucked', 'with', 'the', 'bratz', 'movie', 'and', 'it', 'show'], ['omg', 'can', 't', 'believe', 'i', 'm', 'doing', 'this', 'selling', 'my', 'dropbox', 'folder', 'w', '<number>', 'nude', 'amp', '<number>', 'video', 'amp', 'dming', 'a', 'live', 'nude', 'f'], ['asa', 'akira', 'ava', 'lauren', 'beach', 'sex', 'free', 'porn', 'video', 'french', 'anal', 'ftm', 'porn', 'fuck', 'me', 'hard', 'mature', 'sex', 'milf', 'anal', 'pokemon', 'hent'], ['anyone', 'sassy', 'smart', 'mouth', 'cuuuuteeee', 'old', 'favorite', 'word', 'x89', 'x89', 'amp', 'x89', 'boo', 'x89', 'x9d', 'y', 'x89', 'all', 'sh', 'x89', 't', 'co', 'aqxguisj2x'], ['this', 'is', 'why', 'you', 're', 'scared', 'of', 'karma', 'you', 'got', 'to', 'know', 'it', 's', 'gonna', 'be', 'a', 'bitch', 'what', 'you', 'do', 'to', 'our', 'baby', 'will', 'happen']]\n"
     ]
    }
   ],
   "source": [
    "data_val=[]\n",
    "for tw in df_val['tweet_content']:\n",
    "    data_val.append(cleaner(tw))\n",
    "print (data_val[:5])"
   ]
  },
  {
   "cell_type": "code",
   "execution_count": 24,
   "metadata": {},
   "outputs": [
    {
     "data": {
      "text/plain": [
       "Counter({0: 1493, 1: 632})"
      ]
     },
     "execution_count": 24,
     "metadata": {},
     "output_type": "execute_result"
    }
   ],
   "source": [
    "Counter(y_val_bin)"
   ]
  },
  {
   "cell_type": "code",
   "execution_count": 25,
   "metadata": {},
   "outputs": [],
   "source": [
    "Vec_train=[]\n",
    "tweets_c_a=data_train\n",
    "vocab_train=[]\n",
    "vocab=list(embeddings_index.keys())\n",
    "for post in tweets_c_a:\n",
    "    posteo=[]\n",
    "    for term in post:   #para todos los terminos de un tweet \n",
    "        vector=embeddings_index.get(term)\n",
    "        if vector is None:       \n",
    "            posteo.append(np.zeros(200))\n",
    "        else:\n",
    "            posteo.append(np.asarray(vector))\n",
    "            vocab_train.append(term)\n",
    "    Vec_train.append(np.asarray(posteo))"
   ]
  },
  {
   "cell_type": "code",
   "execution_count": 26,
   "metadata": {},
   "outputs": [],
   "source": [
    "Vec_val_ig=[]\n",
    "tweets_l_vali=data_val\n",
    "vocab=list(embeddings_index.keys())\n",
    "for post in tweets_l_vali:\n",
    "    temp=[]\n",
    "    for term in post:  \n",
    "        if term in vocab_train:\n",
    "            vector=embeddings_index.get(term)\n",
    "            if vector is None:       \n",
    "                temp.append(np.zeros(200))\n",
    "            else:\n",
    "                temp.append(np.asarray(vector))\n",
    "    Vec_val_ig.append(temp)"
   ]
  },
  {
   "cell_type": "code",
   "execution_count": 27,
   "metadata": {},
   "outputs": [
    {
     "data": {
      "text/plain": [
       "(2125, 6)"
      ]
     },
     "execution_count": 27,
     "metadata": {},
     "output_type": "execute_result"
    }
   ],
   "source": [
    "df_val.shape"
   ]
  },
  {
   "cell_type": "code",
   "execution_count": 28,
   "metadata": {},
   "outputs": [
    {
     "data": {
      "text/plain": [
       "(2125,)"
      ]
     },
     "execution_count": 28,
     "metadata": {},
     "output_type": "execute_result"
    }
   ],
   "source": [
    "np.asarray(Vec_val_ig).shape"
   ]
  },
  {
   "cell_type": "code",
   "execution_count": 29,
   "metadata": {},
   "outputs": [],
   "source": [
    "all_val=[]\n",
    "for text in data_val:\n",
    "    temp=[]\n",
    "    for word in text:\n",
    "        try:\n",
    "            temp.append(word_index[word])\n",
    "        except:\n",
    "            continue\n",
    "    all_val.append(temp)"
   ]
  },
  {
   "cell_type": "code",
   "execution_count": 30,
   "metadata": {},
   "outputs": [
    {
     "name": "stdout",
     "output_type": "stream",
     "text": [
      "[[20, 1526, 422, 438, 393, 664, 159, 12417, 142, 367, 318, 32, 13, 142, 95, 192], [3413, 94, 60, 521, 97, 143, 122, 117, 1407, 113, 1408, 58, 38, 9, 43, 38, 443, 43, 1976, 26, 111, 9, 282]]\n",
      "[['rt', 'glossphoenix', 'some', 'of', 'y', 'all', 'never', 'watched', 'collected', 'and', 'fucked', 'with', 'the', 'bratz', 'movie', 'and', 'it', 'show'], ['omg', 'can', 't', 'believe', 'i', 'm', 'doing', 'this', 'selling', 'my', 'dropbox', 'folder', 'w', '<number>', 'nude', 'amp', '<number>', 'video', 'amp', 'dming', 'a', 'live', 'nude', 'f']]\n"
     ]
    },
    {
     "data": {
      "text/plain": [
       "2125"
      ]
     },
     "execution_count": 30,
     "metadata": {},
     "output_type": "execute_result"
    }
   ],
   "source": [
    "x_new_val=all_val\n",
    "\n",
    "print(x_new_val[0:2])\n",
    "print (data_val[:2])\n",
    "len(all_val)\n"
   ]
  },
  {
   "cell_type": "code",
   "execution_count": 31,
   "metadata": {},
   "outputs": [
    {
     "name": "stdout",
     "output_type": "stream",
     "text": [
      "(2125, 76)\n"
     ]
    }
   ],
   "source": [
    "X_val_ig = sequence.pad_sequences(x_new_val,maxlen=max_input_lenght,padding='post',value=0)\n",
    "print (np.asarray(X_val_ig).shape)"
   ]
  },
  {
   "cell_type": "code",
   "execution_count": 32,
   "metadata": {},
   "outputs": [
    {
     "data": {
      "text/plain": [
       "array([0, 0, 1, 0, 1])"
      ]
     },
     "execution_count": 32,
     "metadata": {},
     "output_type": "execute_result"
    }
   ],
   "source": [
    "y_val_bin[:5]"
   ]
  },
  {
   "cell_type": "code",
   "execution_count": 33,
   "metadata": {},
   "outputs": [
    {
     "name": "stdout",
     "output_type": "stream",
     "text": [
      "[[1. 0.]\n",
      " [1. 0.]\n",
      " [0. 1.]\n",
      " [1. 0.]\n",
      " [0. 1.]\n",
      " [1. 0.]\n",
      " [1. 0.]\n",
      " [0. 1.]\n",
      " [1. 0.]\n",
      " [0. 1.]]\n"
     ]
    },
    {
     "data": {
      "text/plain": [
       "(2125, 2)"
      ]
     },
     "execution_count": 33,
     "metadata": {},
     "output_type": "execute_result"
    }
   ],
   "source": [
    "y_val_bic=to_categorical(y_val_bin,num_classes=2)\n",
    "print (y_val_bic[0:10])\n",
    "y_val_bic.shape"
   ]
  },
  {
   "cell_type": "code",
   "execution_count": null,
   "metadata": {},
   "outputs": [],
   "source": []
  },
  {
   "cell_type": "code",
   "execution_count": 34,
   "metadata": {},
   "outputs": [],
   "source": [
    "from sklearn.model_selection import KFold\n",
    "from sklearn.metrics import accuracy_score,f1_score, confusion_matrix\n",
    "from sklearn.preprocessing import normalize\n",
    "import time\n",
    "\n",
    "def plot_confusion_matrix(cm, target_names, title='Confusion matrix (f1-score)',cmap=None, normalize=True):\n",
    "    \n",
    "    import itertools\n",
    "    accuracy = np.trace(cm) / float(np.sum(cm))\n",
    "    misclass = 1 - accuracy\n",
    "    if cmap is None:\n",
    "        cmap = plt.get_cmap('Blues')\n",
    "\n",
    "    plt.figure(figsize=(8, 6))\n",
    "    plt.imshow(cm, interpolation='nearest', cmap=cmap)\n",
    "    plt.title(title)\n",
    "    plt.colorbar()\n",
    "\n",
    "    if target_names is not None:\n",
    "        tick_marks = np.arange(len(target_names))\n",
    "        plt.xticks(tick_marks, target_names, rotation=45)\n",
    "        plt.yticks(tick_marks, target_names)\n",
    "\n",
    "    if normalize:\n",
    "        cm = cm.astype('float') / cm.sum(axis=1)[:, np.newaxis]\n",
    "    thresh = cm.max() / 1.5 if normalize else cm.max() / 2\n",
    "    for i, j in itertools.product(range(cm.shape[0]), range(cm.shape[1])):\n",
    "        if normalize:\n",
    "            plt.text(j, i, \"{:0.4f}\".format(cm[i, j]),\n",
    "                     horizontalalignment=\"center\",\n",
    "                     color=\"white\" if cm[i, j] > thresh else \"black\")\n",
    "        else:\n",
    "            plt.text(j, i, \"{:,}\".format(cm[i, j]),\n",
    "                     horizontalalignment=\"center\",\n",
    "                     color=\"white\" if cm[i, j] > thresh else \"black\")\n",
    "\n",
    "\n",
    "    plt.tight_layout()\n",
    "    plt.ylabel('True label')\n",
    "    plt.xlabel('Predicted label\\naccuracy={:0.4f}; misclass={:0.4f}'.format(accuracy, misclass))\n",
    "    plt.show()"
   ]
  },
  {
   "cell_type": "markdown",
   "metadata": {},
   "source": [
    "### Modelo Conv\n"
   ]
  },
  {
   "cell_type": "code",
   "execution_count": 35,
   "metadata": {},
   "outputs": [],
   "source": [
    "from  keras.models import Sequential\n",
    "from keras.layers import Dense, Dropout, Activation, Flatten, BatchNormalization\n",
    "from keras.layers import Conv2D, MaxPooling2D\n",
    "from keras.layers import Embedding\n",
    "from keras.layers import Conv1D, MaxPooling1D, Input\n",
    "from keras.models import Model"
   ]
  },
  {
   "cell_type": "code",
   "execution_count": 36,
   "metadata": {},
   "outputs": [
    {
     "data": {
      "text/plain": [
       "<matplotlib.axes._subplots.AxesSubplot at 0x7f37ef291d30>"
      ]
     },
     "execution_count": 36,
     "metadata": {},
     "output_type": "execute_result"
    },
    {
     "data": {
      "image/png": "[encoded data removed]",
      "text/plain": [
       "<Figure size 432x288 with 1 Axes>"
      ]
     },
     "metadata": {},
     "output_type": "display_data"
    }
   ],
   "source": [
    "sns.countplot(y_train_bi)"
   ]
  },
  {
   "cell_type": "code",
   "execution_count": 47,
   "metadata": {},
   "outputs": [],
   "source": [
    "from keras import backend as K\n",
    "\n",
    "def focal_loss(gamma=2., weights=1):   #weights np.asarray()\n",
    "    weights= K.variable(weights)\n",
    "    def focal_loss_fixed(y_true, y_pred):\n",
    "        y_true = K.clip(y_true, K.epsilon(),1)\n",
    "        y_pred = K.clip(y_pred,K.epsilon(),1)\n",
    "        print (weights* K.pow(1. - y_pred, gamma)* y_true * K.log(y_pred))\n",
    "        return - K.sum(weights* K.pow(1. - y_pred, gamma)* y_true * K.log(y_pred), axis=-1) \n",
    "    return focal_loss_fixed"
   ]
  },
  {
   "cell_type": "code",
   "execution_count": 38,
   "metadata": {},
   "outputs": [
    {
     "name": "stdout",
     "output_type": "stream",
     "text": [
      "Model: \"model_1\"\n",
      "_________________________________________________________________\n",
      "Layer (type)                 Output Shape              Param #   \n",
      "=================================================================\n",
      "input_1 (InputLayer)         (None, 76)                0         \n",
      "_________________________________________________________________\n",
      "embedding_1 (Embedding)      (None, 76, 200)           3237800   \n",
      "_________________________________________________________________\n",
      "batch_normalization_1 (Batch (None, 76, 200)           800       \n",
      "_________________________________________________________________\n",
      "conv1d_1 (Conv1D)            (None, 76, 128)           128128    \n",
      "_________________________________________________________________\n",
      "max_pooling1d_1 (MaxPooling1 (None, 25, 128)           0         \n",
      "_________________________________________________________________\n",
      "batch_normalization_2 (Batch (None, 25, 128)           512       \n",
      "_________________________________________________________________\n",
      "dropout_1 (Dropout)          (None, 25, 128)           0         \n",
      "_________________________________________________________________\n",
      "conv1d_2 (Conv1D)            (None, 25, 64)            41024     \n",
      "_________________________________________________________________\n",
      "max_pooling1d_2 (MaxPooling1 (None, 8, 64)             0         \n",
      "_________________________________________________________________\n",
      "batch_normalization_3 (Batch (None, 8, 64)             256       \n",
      "_________________________________________________________________\n",
      "dropout_2 (Dropout)          (None, 8, 64)             0         \n",
      "_________________________________________________________________\n",
      "flatten_1 (Flatten)          (None, 512)               0         \n",
      "_________________________________________________________________\n",
      "dense_1 (Dense)              (None, 64)                32832     \n",
      "_________________________________________________________________\n",
      "batch_normalization_4 (Batch (None, 64)                256       \n",
      "_________________________________________________________________\n",
      "dense_2 (Dense)              (None, 1)                 65        \n",
      "=================================================================\n",
      "Total params: 3,441,673\n",
      "Trainable params: 202,961\n",
      "Non-trainable params: 3,238,712\n",
      "_________________________________________________________________\n"
     ]
    }
   ],
   "source": [
    "embedding_vector=200\n",
    "embedding_layer = Embedding(input_dim=len(word_index.keys())+1,output_dim=embedding_vector,weights=[embedding_matrix],\n",
    "                     input_length=max_input_lenght,trainable=False)\n",
    "\n",
    "sequence_input = Input(shape=(max_input_lenght,))\n",
    "embedded_sequences = embedding_layer(sequence_input)\n",
    "batch = BatchNormalization()(embedded_sequences)\n",
    "cov1= Conv1D(128, 5, activation='relu',padding='same')(batch)\n",
    "pool = MaxPooling1D(pool_size=3)(cov1)    \n",
    "batch = BatchNormalization()(pool)\n",
    "drop = Dropout(0.65)(batch)\n",
    "cov1= Conv1D(64, 5, activation='relu',padding='same')(drop)\n",
    "pool = MaxPooling1D(pool_size=3)(cov1)\n",
    "batch = BatchNormalization()(pool)\n",
    "drop = Dropout(0.65)(batch)\n",
    "flat = Flatten()(drop)\n",
    "preds = Dense(64, activation='relu')(flat)\n",
    "preds = BatchNormalization()(preds)\n",
    "preds = Dense(1, activation='sigmoid')(preds)\n",
    "model = Model(sequence_input, preds)\n",
    "#model.compile(loss=focal_loss(2,weights=class_weights),optimizer='adam',metrics=['acc'])\n",
    "model.compile(loss='binary_crossentropy',optimizer='adam',metrics=['acc'])\n",
    "model.summary()"
   ]
  },
  {
   "cell_type": "code",
   "execution_count": 39,
   "metadata": {},
   "outputs": [
    {
     "data": {
      "text/plain": [
       "(6374, 76)"
      ]
     },
     "execution_count": 39,
     "metadata": {},
     "output_type": "execute_result"
    }
   ],
   "source": [
    "X_train.shape"
   ]
  },
  {
   "cell_type": "code",
   "execution_count": 40,
   "metadata": {},
   "outputs": [
    {
     "data": {
      "text/plain": [
       "(6374,)"
      ]
     },
     "execution_count": 40,
     "metadata": {},
     "output_type": "execute_result"
    }
   ],
   "source": [
    "y_train_bi.shape"
   ]
  },
  {
   "cell_type": "code",
   "execution_count": 41,
   "metadata": {},
   "outputs": [
    {
     "data": {
      "text/plain": [
       "(2125, 76)"
      ]
     },
     "execution_count": 41,
     "metadata": {},
     "output_type": "execute_result"
    }
   ],
   "source": [
    "X_val_ig.shape"
   ]
  },
  {
   "cell_type": "code",
   "execution_count": 42,
   "metadata": {},
   "outputs": [
    {
     "data": {
      "text/plain": [
       "(2125, 2)"
      ]
     },
     "execution_count": 42,
     "metadata": {},
     "output_type": "execute_result"
    }
   ],
   "source": [
    "y_val_bic.shape"
   ]
  },
  {
   "cell_type": "code",
   "execution_count": 43,
   "metadata": {},
   "outputs": [
    {
     "name": "stdout",
     "output_type": "stream",
     "text": [
      "Train on 6374 samples, validate on 2125 samples\n",
      "Epoch 1/10\n",
      "6374/6374 [==============================] - 21s 3ms/step - loss: 0.5700 - acc: 0.7228 - val_loss: 0.3449 - val_acc: 0.8546\n",
      "Epoch 2/10\n",
      "6374/6374 [==============================] - 18s 3ms/step - loss: 0.3945 - acc: 0.8368 - val_loss: 0.2920 - val_acc: 0.8875\n",
      "Epoch 3/10\n",
      "6374/6374 [==============================] - 18s 3ms/step - loss: 0.3534 - acc: 0.8582 - val_loss: 0.3090 - val_acc: 0.8875\n",
      "Epoch 4/10\n",
      "6374/6374 [==============================] - 18s 3ms/step - loss: 0.3277 - acc: 0.8718 - val_loss: 0.3002 - val_acc: 0.8875\n",
      "Epoch 5/10\n",
      "6374/6374 [==============================] - 18s 3ms/step - loss: 0.3045 - acc: 0.8823 - val_loss: 0.2981 - val_acc: 0.8936\n",
      "Epoch 6/10\n",
      "6374/6374 [==============================] - 18s 3ms/step - loss: 0.2876 - acc: 0.8888 - val_loss: 0.2861 - val_acc: 0.8979\n",
      "Epoch 7/10\n",
      "6374/6374 [==============================] - 18s 3ms/step - loss: 0.2804 - acc: 0.8911 - val_loss: 0.2965 - val_acc: 0.8998\n",
      "Epoch 8/10\n",
      "6374/6374 [==============================] - 18s 3ms/step - loss: 0.2654 - acc: 0.8979 - val_loss: 0.3217 - val_acc: 0.8922\n",
      "Epoch 9/10\n",
      "6374/6374 [==============================] - 18s 3ms/step - loss: 0.2566 - acc: 0.9018 - val_loss: 0.3920 - val_acc: 0.8824\n",
      "Epoch 10/10\n",
      "6374/6374 [==============================] - 18s 3ms/step - loss: 0.2377 - acc: 0.9088 - val_loss: 0.3390 - val_acc: 0.8913\n"
     ]
    }
   ],
   "source": [
    "history = model.fit(X_train, y_train_bi,batch_size=64,epochs=10,verbose=1,validation_data=(X_val_ig,y_val_bin),class_weight=class_weights)"
   ]
  },
  {
   "cell_type": "code",
   "execution_count": 44,
   "metadata": {},
   "outputs": [
    {
     "data": {
      "text/plain": [
       "array([[1., 0.],\n",
       "       [1., 0.],\n",
       "       [0., 1.],\n",
       "       [1., 0.]], dtype=float32)"
      ]
     },
     "execution_count": 44,
     "metadata": {},
     "output_type": "execute_result"
    }
   ],
   "source": [
    "y_val_bic[:4]"
   ]
  },
  {
   "cell_type": "code",
   "execution_count": 45,
   "metadata": {},
   "outputs": [
    {
     "name": "stdout",
     "output_type": "stream",
     "text": [
      "[[0.01564277]\n",
      " [0.06592464]\n",
      " [0.9514555 ]\n",
      " [0.00165833]\n",
      " [0.14922312]]\n",
      "[array([0.], dtype=float32), array([0.], dtype=float32), array([1.], dtype=float32), array([0.], dtype=float32), array([0.], dtype=float32)]\n",
      "Accuracy sobre validacion: 0.8912941176470588\n",
      "F1-score None sobre validación: [0.92626875 0.79319606]\n",
      "F1-score macro sobre validación: 0.8597324064361216\n",
      "Precision None sobre validación: [0.8847561  0.91340206]\n",
      "Recall None sobre validación: [0.97186872 0.70094937]\n"
     ]
    }
   ],
   "source": [
    "trainPredict = model.predict(X_val_ig, batch_size=64)\n",
    "print (trainPredict[:5])\n",
    "trainPredict=[np.round(pred) for pred in trainPredict]\n",
    "print (trainPredict[:5])\n",
    "acc_val= accuracy_score(y_val_bin, trainPredict)\n",
    "f1_val=f1_score(y_val_bin, trainPredict, average=None)  # labels=np.unique(trainPredict)\n",
    "f1_val_ma=f1_score(y_val_bin, trainPredict, average='macro')  # labels=np.unique(trainPredict)\n",
    "rec=recall_score(y_val_bin, trainPredict, average=None) \n",
    "pre=precision_score(y_val_bin, trainPredict, average=None) \n",
    "matriz_val=confusion_matrix(y_val_bin, trainPredict)\n",
    "\n",
    "print (\"Accuracy sobre validacion:\",acc_val)  \n",
    "print (\"F1-score None sobre validación:\",f1_val)\n",
    "print (\"F1-score macro sobre validación:\",f1_val_ma)\n",
    "print (\"Precision None sobre validación:\",pre)\n",
    "print (\"Recall None sobre validación:\",rec)"
   ]
  },
  {
   "cell_type": "code",
   "execution_count": 46,
   "metadata": {},
   "outputs": [
    {
     "data": {
      "image/png": "[encoded data removed]",
      "text/plain": [
       "<Figure size 576x432 with 2 Axes>"
      ]
     },
     "metadata": {},
     "output_type": "display_data"
    }
   ],
   "source": [
    "plot_confusion_matrix(normalize(matriz_val,axis=1,norm='l1'),[\"NonH\",\"H\"],\"Confusion Matrix Caso Binario\")"
   ]
  },
  {
   "cell_type": "code",
   "execution_count": 48,
   "metadata": {},
   "outputs": [
    {
     "name": "stdout",
     "output_type": "stream",
     "text": [
      "Tensor(\"loss_1/dense_4_loss/mul_2:0\", shape=(?, ?), dtype=float32)\n",
      "Model: \"model_2\"\n",
      "_________________________________________________________________\n",
      "Layer (type)                 Output Shape              Param #   \n",
      "=================================================================\n",
      "input_2 (InputLayer)         (None, 76)                0         \n",
      "_________________________________________________________________\n",
      "embedding_2 (Embedding)      (None, 76, 200)           3237800   \n",
      "_________________________________________________________________\n",
      "batch_normalization_5 (Batch (None, 76, 200)           800       \n",
      "_________________________________________________________________\n",
      "conv1d_3 (Conv1D)            (None, 76, 128)           128128    \n",
      "_________________________________________________________________\n",
      "max_pooling1d_3 (MaxPooling1 (None, 25, 128)           0         \n",
      "_________________________________________________________________\n",
      "batch_normalization_6 (Batch (None, 25, 128)           512       \n",
      "_________________________________________________________________\n",
      "dropout_3 (Dropout)          (None, 25, 128)           0         \n",
      "_________________________________________________________________\n",
      "conv1d_4 (Conv1D)            (None, 25, 64)            41024     \n",
      "_________________________________________________________________\n",
      "max_pooling1d_4 (MaxPooling1 (None, 8, 64)             0         \n",
      "_________________________________________________________________\n",
      "batch_normalization_7 (Batch (None, 8, 64)             256       \n",
      "_________________________________________________________________\n",
      "dropout_4 (Dropout)          (None, 8, 64)             0         \n",
      "_________________________________________________________________\n",
      "flatten_2 (Flatten)          (None, 512)               0         \n",
      "_________________________________________________________________\n",
      "dense_3 (Dense)              (None, 64)                32832     \n",
      "_________________________________________________________________\n",
      "batch_normalization_8 (Batch (None, 64)                256       \n",
      "_________________________________________________________________\n",
      "dense_4 (Dense)              (None, 1)                 65        \n",
      "=================================================================\n",
      "Total params: 3,441,673\n",
      "Trainable params: 202,961\n",
      "Non-trainable params: 3,238,712\n",
      "_________________________________________________________________\n"
     ]
    }
   ],
   "source": [
    "# lo mismo con focal \n",
    "embedding_vector=200\n",
    "embedding_layer = Embedding(input_dim=len(word_index.keys())+1,output_dim=embedding_vector,weights=[embedding_matrix],\n",
    "                     input_length=max_input_lenght,trainable=False)\n",
    "\n",
    "sequence_input = Input(shape=(max_input_lenght,))\n",
    "embedded_sequences = embedding_layer(sequence_input)\n",
    "batch = BatchNormalization()(embedded_sequences)\n",
    "cov1= Conv1D(128, 5, activation='relu',padding='same')(batch)\n",
    "pool = MaxPooling1D(pool_size=3)(cov1)    \n",
    "batch = BatchNormalization()(pool)\n",
    "drop = Dropout(0.65)(batch)\n",
    "cov1= Conv1D(64, 5, activation='relu',padding='same')(drop)\n",
    "pool = MaxPooling1D(pool_size=3)(cov1)\n",
    "batch = BatchNormalization()(pool)\n",
    "drop = Dropout(0.65)(batch)\n",
    "flat = Flatten()(drop)\n",
    "preds = Dense(64, activation='relu')(flat)\n",
    "preds = BatchNormalization()(preds)\n",
    "preds = Dense(1, activation='sigmoid')(preds)\n",
    "model_focal = Model(sequence_input, preds)\n",
    "model_focal.compile(loss=focal_loss(2),optimizer='adam',metrics=['acc'])\n",
    "#model.compile(loss='binary_crossentropy',optimizer='adam',metrics=['acc'])\n",
    "model_focal.summary()"
   ]
  },
  {
   "cell_type": "code",
   "execution_count": 49,
   "metadata": {},
   "outputs": [
    {
     "name": "stdout",
     "output_type": "stream",
     "text": [
      "Train on 6374 samples, validate on 2125 samples\n",
      "Epoch 1/3\n",
      "6374/6374 [==============================] - 22s 3ms/step - loss: 0.0740 - acc: 0.5648 - val_loss: 0.0062 - val_acc: 0.3793\n",
      "Epoch 2/3\n",
      "6374/6374 [==============================] - 18s 3ms/step - loss: 0.0173 - acc: 0.5643 - val_loss: 0.0020 - val_acc: 0.3544\n",
      "Epoch 3/3\n",
      "6374/6374 [==============================] - 18s 3ms/step - loss: 0.0072 - acc: 0.5209 - val_loss: 0.0015 - val_acc: 0.3139\n"
     ]
    }
   ],
   "source": [
    "history_focal = model_focal.fit(X_train, y_train_bi,batch_size=64,epochs=3,verbose=1,validation_data=(X_val_ig,y_val_bin),class_weight=class_weights)"
   ]
  },
  {
   "cell_type": "code",
   "execution_count": null,
   "metadata": {},
   "outputs": [],
   "source": [
    "trainPredict = model.predict(X_val_ig, batch_size=64)\n",
    "print (trainPredict[:5])\n",
    "trainPredict=[np.round(pred) for pred in trainPredict]\n",
    "print (trainPredict[:5])\n",
    "acc_val= accuracy_score(y_val_bin, trainPredict)\n",
    "f1_val=f1_score(y_val_bin, trainPredict, average=None)  # labels=np.unique(trainPredict)\n",
    "f1_val_ma=f1_score(y_val_bin, trainPredict, average='macro')  # labels=np.unique(trainPredict)\n",
    "rec=recall_score(y_val_bin, trainPredict, average=None) \n",
    "pre=precision_score(y_val_bin, trainPredict, average=None) \n",
    "matriz_val=confusion_matrix(y_val_bin, trainPredict)\n",
    "\n",
    "print (\"Accuracy sobre validacion:\",acc_val)  \n",
    "print (\"F1-score None sobre validación:\",f1_val)\n",
    "print (\"F1-score macro sobre validación:\",f1_val_ma)\n",
    "print (\"Precision None sobre validación:\",pre)\n",
    "print (\"Recall None sobre validación:\",rec)\n",
    "\n",
    "plot_confusion_matrix(normalize(matriz_val,axis=1,norm='l1'),[\"NonH\",\"H\"],\"Confusion Matrix Caso Binario + Focal Loss\")"
   ]
  }
 ],
 "metadata": {
  "kernelspec": {
   "display_name": "Python 3",
   "language": "python",
   "name": "python3"
  },
  "language_info": {
   "codemirror_mode": {
    "name": "ipython",
    "version": 3
   },
   "file_extension": ".py",
   "mimetype": "text/x-python",
   "name": "python",
   "nbconvert_exporter": "python",
   "pygments_lexer": "ipython3",
   "version": "3.5.5"
  }
 },
 "nbformat": 4,
 "nbformat_minor": 2
}
